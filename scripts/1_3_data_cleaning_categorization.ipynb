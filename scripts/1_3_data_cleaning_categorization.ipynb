{
 "cells": [
  {
   "cell_type": "markdown",
   "metadata": {},
   "source": [
    "# ING Lion's Den 2024\n"
   ]
  },
  {
   "cell_type": "markdown",
   "metadata": {},
   "source": [
    "## Team: RiskBusters"
   ]
  },
  {
   "cell_type": "markdown",
   "metadata": {},
   "source": [
    " Michał Bryzik, Michał Niegierewicz, Kacper Gruca, Jan Ślusarek"
   ]
  },
  {
   "cell_type": "markdown",
   "metadata": {},
   "source": [
    "Plan dzialania: (Jbc to kazdy podaje tu swoje propozycje, jak sie kto z czym np. niezgadza niech napisze w nawiasie)\n",
    "\n",
    "1. Wczytac dane i szybko je opisac liczebnosc nulle itd. \n",
    "2. Ja bym tutaj posortowal zmienne w macierzy tzn. kolumna 1-16 numeryczne a od 17-do konca binarne\n",
    "3. Wlasciwe czyszczenie danych, elminacja, aproksymacja, asocjacja itd.\n",
    "4. Statystyki opisowe, wykresy (rozklady, heatmapy, boxploty itd. )\n",
    "5. Transformacja danych MinMax, standaryzacja itd. (ogolnie manipulacja tak zeby w razie czego logit byl jak najbardziej dojebany)\n",
    "6. Trenowanie Logita\n",
    "7. Wybor najlepszego i sprawdzenie z zalozeniami "
   ]
  },
  {
   "cell_type": "code",
   "execution_count": 952,
   "metadata": {},
   "outputs": [],
   "source": [
    "# Import necessary libraries\n",
    "import pandas as pd\n",
    "import numpy as np\n",
    "import matplotlib.pyplot as plt\n",
    "import seaborn as sns\n",
    "from sklearn.impute import KNNImputer"
   ]
  },
  {
   "cell_type": "code",
   "execution_count": 953,
   "metadata": {},
   "outputs": [
    {
     "data": {
      "text/html": [
       "<div>\n",
       "<style scoped>\n",
       "    .dataframe tbody tr th:only-of-type {\n",
       "        vertical-align: middle;\n",
       "    }\n",
       "\n",
       "    .dataframe tbody tr th {\n",
       "        vertical-align: top;\n",
       "    }\n",
       "\n",
       "    .dataframe thead th {\n",
       "        text-align: right;\n",
       "    }\n",
       "</style>\n",
       "<table border=\"1\" class=\"dataframe\">\n",
       "  <thead>\n",
       "    <tr style=\"text-align: right;\">\n",
       "      <th></th>\n",
       "      <th>customer_id</th>\n",
       "      <th>application_date</th>\n",
       "      <th>target</th>\n",
       "      <th>Application_status</th>\n",
       "      <th>Var1</th>\n",
       "      <th>Var2</th>\n",
       "      <th>Var3</th>\n",
       "      <th>Var4</th>\n",
       "      <th>Var5</th>\n",
       "      <th>Var6</th>\n",
       "      <th>...</th>\n",
       "      <th>Var22</th>\n",
       "      <th>Var23</th>\n",
       "      <th>Var24</th>\n",
       "      <th>Var25</th>\n",
       "      <th>Var26</th>\n",
       "      <th>Var27</th>\n",
       "      <th>Var28</th>\n",
       "      <th>Var29</th>\n",
       "      <th>Var30</th>\n",
       "      <th>_r_</th>\n",
       "    </tr>\n",
       "    <tr>\n",
       "      <th>ID</th>\n",
       "      <th></th>\n",
       "      <th></th>\n",
       "      <th></th>\n",
       "      <th></th>\n",
       "      <th></th>\n",
       "      <th></th>\n",
       "      <th></th>\n",
       "      <th></th>\n",
       "      <th></th>\n",
       "      <th></th>\n",
       "      <th></th>\n",
       "      <th></th>\n",
       "      <th></th>\n",
       "      <th></th>\n",
       "      <th></th>\n",
       "      <th></th>\n",
       "      <th></th>\n",
       "      <th></th>\n",
       "      <th></th>\n",
       "      <th></th>\n",
       "      <th></th>\n",
       "    </tr>\n",
       "  </thead>\n",
       "  <tbody>\n",
       "    <tr>\n",
       "      <th>36034977</th>\n",
       "      <td>32653719</td>\n",
       "      <td>03Feb2010 0:00:00</td>\n",
       "      <td>0.0</td>\n",
       "      <td>Approved</td>\n",
       "      <td>1</td>\n",
       "      <td>3.0</td>\n",
       "      <td>1.0</td>\n",
       "      <td>4800</td>\n",
       "      <td>15</td>\n",
       "      <td>1</td>\n",
       "      <td>...</td>\n",
       "      <td>8</td>\n",
       "      <td>8</td>\n",
       "      <td>0</td>\n",
       "      <td>4977.87</td>\n",
       "      <td>14880.28</td>\n",
       "      <td>0</td>\n",
       "      <td>0</td>\n",
       "      <td>70</td>\n",
       "      <td>3899</td>\n",
       "      <td>0.485674</td>\n",
       "    </tr>\n",
       "    <tr>\n",
       "      <th>36034978</th>\n",
       "      <td>32832365</td>\n",
       "      <td>04Feb2010 0:00:00</td>\n",
       "      <td>0.0</td>\n",
       "      <td>Approved</td>\n",
       "      <td>2</td>\n",
       "      <td>2.0</td>\n",
       "      <td>1.0</td>\n",
       "      <td>6800</td>\n",
       "      <td>18</td>\n",
       "      <td>6</td>\n",
       "      <td>...</td>\n",
       "      <td>1</td>\n",
       "      <td>1</td>\n",
       "      <td>29400</td>\n",
       "      <td>7922.90</td>\n",
       "      <td>6534.84</td>\n",
       "      <td>0</td>\n",
       "      <td>0</td>\n",
       "      <td>0</td>\n",
       "      <td>3899</td>\n",
       "      <td>0.267045</td>\n",
       "    </tr>\n",
       "    <tr>\n",
       "      <th>36034979</th>\n",
       "      <td>32544742</td>\n",
       "      <td>07Feb2010 0:00:00</td>\n",
       "      <td>0.0</td>\n",
       "      <td>Approved</td>\n",
       "      <td>1</td>\n",
       "      <td>3.0</td>\n",
       "      <td>1.0</td>\n",
       "      <td>4600</td>\n",
       "      <td>18</td>\n",
       "      <td>1</td>\n",
       "      <td>...</td>\n",
       "      <td>0</td>\n",
       "      <td>0</td>\n",
       "      <td>0</td>\n",
       "      <td>3174.15</td>\n",
       "      <td>16974.69</td>\n",
       "      <td>0</td>\n",
       "      <td>0</td>\n",
       "      <td>0</td>\n",
       "      <td>3899</td>\n",
       "      <td>0.793579</td>\n",
       "    </tr>\n",
       "    <tr>\n",
       "      <th>36034980</th>\n",
       "      <td>32395830</td>\n",
       "      <td>09Feb2010 0:00:00</td>\n",
       "      <td>NaN</td>\n",
       "      <td>Rejected</td>\n",
       "      <td>2</td>\n",
       "      <td>2.0</td>\n",
       "      <td>2.0</td>\n",
       "      <td>7900</td>\n",
       "      <td>48</td>\n",
       "      <td>1</td>\n",
       "      <td>...</td>\n",
       "      <td>2</td>\n",
       "      <td>2</td>\n",
       "      <td>0</td>\n",
       "      <td>4972.82</td>\n",
       "      <td>3484.36</td>\n",
       "      <td>0</td>\n",
       "      <td>0</td>\n",
       "      <td>10</td>\n",
       "      <td>3899</td>\n",
       "      <td>0.533040</td>\n",
       "    </tr>\n",
       "    <tr>\n",
       "      <th>36034981</th>\n",
       "      <td>32592943</td>\n",
       "      <td>13Feb2010 0:00:00</td>\n",
       "      <td>0.0</td>\n",
       "      <td>Approved</td>\n",
       "      <td>2</td>\n",
       "      <td>1.0</td>\n",
       "      <td>1.0</td>\n",
       "      <td>9900</td>\n",
       "      <td>63</td>\n",
       "      <td>3</td>\n",
       "      <td>...</td>\n",
       "      <td>3</td>\n",
       "      <td>3</td>\n",
       "      <td>0</td>\n",
       "      <td>2278.22</td>\n",
       "      <td>9630.53</td>\n",
       "      <td>0</td>\n",
       "      <td>0</td>\n",
       "      <td>10</td>\n",
       "      <td>3899</td>\n",
       "      <td>0.781269</td>\n",
       "    </tr>\n",
       "  </tbody>\n",
       "</table>\n",
       "<p>5 rows × 35 columns</p>\n",
       "</div>"
      ],
      "text/plain": [
       "          customer_id   application_date  target Application_status  Var1  \\\n",
       "ID                                                                          \n",
       "36034977     32653719  03Feb2010 0:00:00     0.0           Approved     1   \n",
       "36034978     32832365  04Feb2010 0:00:00     0.0           Approved     2   \n",
       "36034979     32544742  07Feb2010 0:00:00     0.0           Approved     1   \n",
       "36034980     32395830  09Feb2010 0:00:00     NaN           Rejected     2   \n",
       "36034981     32592943  13Feb2010 0:00:00     0.0           Approved     2   \n",
       "\n",
       "          Var2  Var3  Var4  Var5  Var6  ...  Var22  Var23  Var24    Var25  \\\n",
       "ID                                      ...                                 \n",
       "36034977   3.0   1.0  4800    15     1  ...      8      8      0  4977.87   \n",
       "36034978   2.0   1.0  6800    18     6  ...      1      1  29400  7922.90   \n",
       "36034979   3.0   1.0  4600    18     1  ...      0      0      0  3174.15   \n",
       "36034980   2.0   2.0  7900    48     1  ...      2      2      0  4972.82   \n",
       "36034981   1.0   1.0  9900    63     3  ...      3      3      0  2278.22   \n",
       "\n",
       "             Var26  Var27 Var28  Var29  Var30       _r_  \n",
       "ID                                                       \n",
       "36034977  14880.28      0     0     70   3899  0.485674  \n",
       "36034978   6534.84      0     0      0   3899  0.267045  \n",
       "36034979  16974.69      0     0      0   3899  0.793579  \n",
       "36034980   3484.36      0     0     10   3899  0.533040  \n",
       "36034981   9630.53      0     0     10   3899  0.781269  \n",
       "\n",
       "[5 rows x 35 columns]"
      ]
     },
     "execution_count": 953,
     "metadata": {},
     "output_type": "execute_result"
    }
   ],
   "source": [
    "data=pd.read_csv('../data/input/development_sample.csv') \n",
    "data.head() "
   ]
  },
  {
   "cell_type": "code",
   "execution_count": 954,
   "metadata": {},
   "outputs": [
    {
     "data": {
      "text/plain": [
       "(5000, 35)"
      ]
     },
     "execution_count": 954,
     "metadata": {},
     "output_type": "execute_result"
    }
   ],
   "source": [
    "data.shape "
   ]
  },
  {
   "cell_type": "code",
   "execution_count": 955,
   "metadata": {},
   "outputs": [
    {
     "data": {
      "text/plain": [
       "customer_id              0\n",
       "application_date         0\n",
       "target                1353\n",
       "Application_status       0\n",
       "Var1                     0\n",
       "Var2                   139\n",
       "Var3                   139\n",
       "Var4                     0\n",
       "Var5                     0\n",
       "Var6                     0\n",
       "Var7                     0\n",
       "Var8                  2905\n",
       "Var9                     0\n",
       "Var10                 3719\n",
       "Var11                    0\n",
       "Var12                 3719\n",
       "Var13                    0\n",
       "Var14                    0\n",
       "Var15                    0\n",
       "Var16                    0\n",
       "Var17                    0\n",
       "Var18                 3721\n",
       "Var19                 2905\n",
       "Var20                    0\n",
       "Var21                    0\n",
       "Var22                    0\n",
       "Var23                    0\n",
       "Var24                    0\n",
       "Var25                 1023\n",
       "Var26                 1961\n",
       "Var27                    0\n",
       "Var28                    0\n",
       "Var29                    0\n",
       "Var30                    0\n",
       "_r_                      0\n",
       "dtype: int64"
      ]
     },
     "execution_count": 955,
     "metadata": {},
     "output_type": "execute_result"
    }
   ],
   "source": [
    "data.isnull().sum() "
   ]
  },
  {
   "cell_type": "code",
   "execution_count": 956,
   "metadata": {},
   "outputs": [
    {
     "name": "stdout",
     "output_type": "stream",
     "text": [
      "<class 'pandas.core.frame.DataFrame'>\n",
      "Int64Index: 5000 entries, 36034977 to 36039976\n",
      "Data columns (total 35 columns):\n",
      " #   Column              Non-Null Count  Dtype  \n",
      "---  ------              --------------  -----  \n",
      " 0   customer_id         5000 non-null   int64  \n",
      " 1   application_date    5000 non-null   object \n",
      " 2   target              3647 non-null   float64\n",
      " 3   Application_status  5000 non-null   object \n",
      " 4   Var1                5000 non-null   int64  \n",
      " 5   Var2                4861 non-null   float64\n",
      " 6   Var3                4861 non-null   float64\n",
      " 7   Var4                5000 non-null   int64  \n",
      " 8   Var5                5000 non-null   int64  \n",
      " 9   Var6                5000 non-null   int64  \n",
      " 10  Var7                5000 non-null   float64\n",
      " 11  Var8                2095 non-null   float64\n",
      " 12  Var9                5000 non-null   int64  \n",
      " 13  Var10               1281 non-null   float64\n",
      " 14  Var11               5000 non-null   int64  \n",
      " 15  Var12               1281 non-null   float64\n",
      " 16  Var13               5000 non-null   object \n",
      " 17  Var14               5000 non-null   int64  \n",
      " 18  Var15               5000 non-null   int64  \n",
      " 19  Var16               5000 non-null   int64  \n",
      " 20  Var17               5000 non-null   float64\n",
      " 21  Var18               1279 non-null   float64\n",
      " 22  Var19               2095 non-null   float64\n",
      " 23  Var20               5000 non-null   int64  \n",
      " 24  Var21               5000 non-null   int64  \n",
      " 25  Var22               5000 non-null   int64  \n",
      " 26  Var23               5000 non-null   int64  \n",
      " 27  Var24               5000 non-null   int64  \n",
      " 28  Var25               3977 non-null   float64\n",
      " 29  Var26               3039 non-null   float64\n",
      " 30  Var27               5000 non-null   int64  \n",
      " 31  Var28               5000 non-null   int64  \n",
      " 32  Var29               5000 non-null   int64  \n",
      " 33  Var30               5000 non-null   int64  \n",
      " 34  _r_                 5000 non-null   float64\n",
      "dtypes: float64(13), int64(19), object(3)\n",
      "memory usage: 1.4+ MB\n"
     ]
    }
   ],
   "source": [
    "data.info()  "
   ]
  },
  {
   "cell_type": "markdown",
   "metadata": {},
   "source": [
    "## Clean dataset"
   ]
  },
  {
   "cell_type": "markdown",
   "metadata": {},
   "source": [
    "### Define columns by datetypes and sort df\n",
    "\n",
    "We define the target type of the column basing on the description file and exploring data"
   ]
  },
  {
   "cell_type": "code",
   "execution_count": 957,
   "metadata": {},
   "outputs": [],
   "source": [
    "# Define columns\n",
    "date_columns = ['application_date', 'Var13'] \n",
    "numeric_columns = ['ID', 'customer_id', '_r_', 'Var9', 'Var10']  \n",
    "categorical_columns = []\n",
    "binary_columns = ['target', 'Application_status'] "
   ]
  },
  {
   "cell_type": "code",
   "execution_count": 958,
   "metadata": {},
   "outputs": [],
   "source": [
    "# Checking the data type for the rest of columns \n",
    "for column in data.columns:\n",
    "    if column in date_columns + numeric_columns + binary_columns:\n",
    "        continue  \n",
    "    elif column in ['Var1', 'Var4', 'Var5', 'Var6', 'Var7', 'Var8', 'Var15', 'Var16', 'Var17', 'Var20', 'Var21', 'Var22', 'Var23', 'Var24', 'Var25', 'Var26', 'Var29', 'Var30']:\n",
    "        numeric_columns.append(column)\n",
    "    elif column in ['Var2', 'Var3', 'Var11', 'Var12', 'Var14']:\n",
    "        categorical_columns.append(column)\n",
    "    elif column in ['Var18', 'Var19', 'Var27', 'Var28']:\n",
    "        binary_columns.append(column)"
   ]
  },
  {
   "cell_type": "code",
   "execution_count": 959,
   "metadata": {},
   "outputs": [
    {
     "name": "stdout",
     "output_type": "stream",
     "text": [
      "['application_date', 'Var13']\n",
      "['ID', 'customer_id', '_r_', 'Var9', 'Var10', 'Var1', 'Var4', 'Var5', 'Var6', 'Var7', 'Var8', 'Var15', 'Var16', 'Var17', 'Var20', 'Var21', 'Var22', 'Var23', 'Var24', 'Var25', 'Var26', 'Var29', 'Var30']\n",
      "['Var2', 'Var3', 'Var11', 'Var12', 'Var14']\n",
      "['target', 'Application_status', 'Var18', 'Var19', 'Var27', 'Var28']\n"
     ]
    }
   ],
   "source": [
    "print(date_columns)\n",
    "print(numeric_columns)\n",
    "print(categorical_columns)\n",
    "print(binary_columns)"
   ]
  },
  {
   "cell_type": "code",
   "execution_count": 960,
   "metadata": {},
   "outputs": [],
   "source": [
    "# Make a copy of main data, from this moment we will work on this dataset\n",
    "df = data.copy()"
   ]
  },
  {
   "cell_type": "code",
   "execution_count": 961,
   "metadata": {},
   "outputs": [
    {
     "ename": "KeyError",
     "evalue": "\"['ID'] not in index\"",
     "output_type": "error",
     "traceback": [
      "\u001b[0;31m---------------------------------------------------------------------------\u001b[0m",
      "\u001b[0;31mKeyError\u001b[0m                                  Traceback (most recent call last)",
      "Cell \u001b[0;32mIn[961], line 5\u001b[0m\n\u001b[1;32m      2\u001b[0m sorted_columns \u001b[38;5;241m=\u001b[39m date_columns \u001b[38;5;241m+\u001b[39m numeric_columns \u001b[38;5;241m+\u001b[39m categorical_columns \u001b[38;5;241m+\u001b[39m binary_columns\n\u001b[1;32m      4\u001b[0m \u001b[38;5;66;03m# Choose of the sorted value by defined categories\u001b[39;00m\n\u001b[0;32m----> 5\u001b[0m df \u001b[38;5;241m=\u001b[39m \u001b[43mdata\u001b[49m\u001b[43m[\u001b[49m\u001b[43msorted_columns\u001b[49m\u001b[43m]\u001b[49m\n",
      "File \u001b[0;32m/Library/Frameworks/Python.framework/Versions/3.11/lib/python3.11/site-packages/pandas/core/frame.py:3813\u001b[0m, in \u001b[0;36mDataFrame.__getitem__\u001b[0;34m(self, key)\u001b[0m\n\u001b[1;32m   3811\u001b[0m     \u001b[38;5;28;01mif\u001b[39;00m is_iterator(key):\n\u001b[1;32m   3812\u001b[0m         key \u001b[38;5;241m=\u001b[39m \u001b[38;5;28mlist\u001b[39m(key)\n\u001b[0;32m-> 3813\u001b[0m     indexer \u001b[38;5;241m=\u001b[39m \u001b[38;5;28;43mself\u001b[39;49m\u001b[38;5;241;43m.\u001b[39;49m\u001b[43mcolumns\u001b[49m\u001b[38;5;241;43m.\u001b[39;49m\u001b[43m_get_indexer_strict\u001b[49m\u001b[43m(\u001b[49m\u001b[43mkey\u001b[49m\u001b[43m,\u001b[49m\u001b[43m \u001b[49m\u001b[38;5;124;43m\"\u001b[39;49m\u001b[38;5;124;43mcolumns\u001b[39;49m\u001b[38;5;124;43m\"\u001b[39;49m\u001b[43m)\u001b[49m[\u001b[38;5;241m1\u001b[39m]\n\u001b[1;32m   3815\u001b[0m \u001b[38;5;66;03m# take() does not accept boolean indexers\u001b[39;00m\n\u001b[1;32m   3816\u001b[0m \u001b[38;5;28;01mif\u001b[39;00m \u001b[38;5;28mgetattr\u001b[39m(indexer, \u001b[38;5;124m\"\u001b[39m\u001b[38;5;124mdtype\u001b[39m\u001b[38;5;124m\"\u001b[39m, \u001b[38;5;28;01mNone\u001b[39;00m) \u001b[38;5;241m==\u001b[39m \u001b[38;5;28mbool\u001b[39m:\n",
      "File \u001b[0;32m/Library/Frameworks/Python.framework/Versions/3.11/lib/python3.11/site-packages/pandas/core/indexes/base.py:6070\u001b[0m, in \u001b[0;36mIndex._get_indexer_strict\u001b[0;34m(self, key, axis_name)\u001b[0m\n\u001b[1;32m   6067\u001b[0m \u001b[38;5;28;01melse\u001b[39;00m:\n\u001b[1;32m   6068\u001b[0m     keyarr, indexer, new_indexer \u001b[38;5;241m=\u001b[39m \u001b[38;5;28mself\u001b[39m\u001b[38;5;241m.\u001b[39m_reindex_non_unique(keyarr)\n\u001b[0;32m-> 6070\u001b[0m \u001b[38;5;28;43mself\u001b[39;49m\u001b[38;5;241;43m.\u001b[39;49m\u001b[43m_raise_if_missing\u001b[49m\u001b[43m(\u001b[49m\u001b[43mkeyarr\u001b[49m\u001b[43m,\u001b[49m\u001b[43m \u001b[49m\u001b[43mindexer\u001b[49m\u001b[43m,\u001b[49m\u001b[43m \u001b[49m\u001b[43maxis_name\u001b[49m\u001b[43m)\u001b[49m\n\u001b[1;32m   6072\u001b[0m keyarr \u001b[38;5;241m=\u001b[39m \u001b[38;5;28mself\u001b[39m\u001b[38;5;241m.\u001b[39mtake(indexer)\n\u001b[1;32m   6073\u001b[0m \u001b[38;5;28;01mif\u001b[39;00m \u001b[38;5;28misinstance\u001b[39m(key, Index):\n\u001b[1;32m   6074\u001b[0m     \u001b[38;5;66;03m# GH 42790 - Preserve name from an Index\u001b[39;00m\n",
      "File \u001b[0;32m/Library/Frameworks/Python.framework/Versions/3.11/lib/python3.11/site-packages/pandas/core/indexes/base.py:6133\u001b[0m, in \u001b[0;36mIndex._raise_if_missing\u001b[0;34m(self, key, indexer, axis_name)\u001b[0m\n\u001b[1;32m   6130\u001b[0m     \u001b[38;5;28;01mraise\u001b[39;00m \u001b[38;5;167;01mKeyError\u001b[39;00m(\u001b[38;5;124mf\u001b[39m\u001b[38;5;124m\"\u001b[39m\u001b[38;5;124mNone of [\u001b[39m\u001b[38;5;132;01m{\u001b[39;00mkey\u001b[38;5;132;01m}\u001b[39;00m\u001b[38;5;124m] are in the [\u001b[39m\u001b[38;5;132;01m{\u001b[39;00maxis_name\u001b[38;5;132;01m}\u001b[39;00m\u001b[38;5;124m]\u001b[39m\u001b[38;5;124m\"\u001b[39m)\n\u001b[1;32m   6132\u001b[0m not_found \u001b[38;5;241m=\u001b[39m \u001b[38;5;28mlist\u001b[39m(ensure_index(key)[missing_mask\u001b[38;5;241m.\u001b[39mnonzero()[\u001b[38;5;241m0\u001b[39m]]\u001b[38;5;241m.\u001b[39munique())\n\u001b[0;32m-> 6133\u001b[0m \u001b[38;5;28;01mraise\u001b[39;00m \u001b[38;5;167;01mKeyError\u001b[39;00m(\u001b[38;5;124mf\u001b[39m\u001b[38;5;124m\"\u001b[39m\u001b[38;5;132;01m{\u001b[39;00mnot_found\u001b[38;5;132;01m}\u001b[39;00m\u001b[38;5;124m not in index\u001b[39m\u001b[38;5;124m\"\u001b[39m)\n",
      "\u001b[0;31mKeyError\u001b[0m: \"['ID'] not in index\""
     ]
    }
   ],
   "source": [
    "# Assumed sequence for columns sorting \n",
    "sorted_columns = date_columns + numeric_columns + categorical_columns + binary_columns\n",
    "\n",
    "# Choose of the sorted value by defined categories\n",
    "df = data[sorted_columns]"
   ]
  },
  {
   "cell_type": "code",
   "execution_count": 950,
   "metadata": {},
   "outputs": [
    {
     "data": {
      "text/html": [
       "<div>\n",
       "<style scoped>\n",
       "    .dataframe tbody tr th:only-of-type {\n",
       "        vertical-align: middle;\n",
       "    }\n",
       "\n",
       "    .dataframe tbody tr th {\n",
       "        vertical-align: top;\n",
       "    }\n",
       "\n",
       "    .dataframe thead th {\n",
       "        text-align: right;\n",
       "    }\n",
       "</style>\n",
       "<table border=\"1\" class=\"dataframe\">\n",
       "  <thead>\n",
       "    <tr style=\"text-align: right;\">\n",
       "      <th></th>\n",
       "      <th>customer_id</th>\n",
       "      <th>application_date</th>\n",
       "      <th>target</th>\n",
       "      <th>Application_status</th>\n",
       "      <th>Var1</th>\n",
       "      <th>Var2</th>\n",
       "      <th>Var3</th>\n",
       "      <th>Var4</th>\n",
       "      <th>Var5</th>\n",
       "      <th>Var6</th>\n",
       "      <th>...</th>\n",
       "      <th>Var22</th>\n",
       "      <th>Var23</th>\n",
       "      <th>Var24</th>\n",
       "      <th>Var25</th>\n",
       "      <th>Var26</th>\n",
       "      <th>Var27</th>\n",
       "      <th>Var28</th>\n",
       "      <th>Var29</th>\n",
       "      <th>Var30</th>\n",
       "      <th>_r_</th>\n",
       "    </tr>\n",
       "    <tr>\n",
       "      <th>ID</th>\n",
       "      <th></th>\n",
       "      <th></th>\n",
       "      <th></th>\n",
       "      <th></th>\n",
       "      <th></th>\n",
       "      <th></th>\n",
       "      <th></th>\n",
       "      <th></th>\n",
       "      <th></th>\n",
       "      <th></th>\n",
       "      <th></th>\n",
       "      <th></th>\n",
       "      <th></th>\n",
       "      <th></th>\n",
       "      <th></th>\n",
       "      <th></th>\n",
       "      <th></th>\n",
       "      <th></th>\n",
       "      <th></th>\n",
       "      <th></th>\n",
       "      <th></th>\n",
       "    </tr>\n",
       "  </thead>\n",
       "  <tbody>\n",
       "    <tr>\n",
       "      <th>36034977</th>\n",
       "      <td>32653719</td>\n",
       "      <td>03Feb2010 0:00:00</td>\n",
       "      <td>0.0</td>\n",
       "      <td>Approved</td>\n",
       "      <td>1</td>\n",
       "      <td>3.0</td>\n",
       "      <td>1.0</td>\n",
       "      <td>4800</td>\n",
       "      <td>15</td>\n",
       "      <td>1</td>\n",
       "      <td>...</td>\n",
       "      <td>8</td>\n",
       "      <td>8</td>\n",
       "      <td>0</td>\n",
       "      <td>4977.87</td>\n",
       "      <td>14880.28</td>\n",
       "      <td>0</td>\n",
       "      <td>0</td>\n",
       "      <td>70</td>\n",
       "      <td>3899</td>\n",
       "      <td>0.485674</td>\n",
       "    </tr>\n",
       "    <tr>\n",
       "      <th>36034978</th>\n",
       "      <td>32832365</td>\n",
       "      <td>04Feb2010 0:00:00</td>\n",
       "      <td>0.0</td>\n",
       "      <td>Approved</td>\n",
       "      <td>2</td>\n",
       "      <td>2.0</td>\n",
       "      <td>1.0</td>\n",
       "      <td>6800</td>\n",
       "      <td>18</td>\n",
       "      <td>6</td>\n",
       "      <td>...</td>\n",
       "      <td>1</td>\n",
       "      <td>1</td>\n",
       "      <td>29400</td>\n",
       "      <td>7922.90</td>\n",
       "      <td>6534.84</td>\n",
       "      <td>0</td>\n",
       "      <td>0</td>\n",
       "      <td>0</td>\n",
       "      <td>3899</td>\n",
       "      <td>0.267045</td>\n",
       "    </tr>\n",
       "    <tr>\n",
       "      <th>36034979</th>\n",
       "      <td>32544742</td>\n",
       "      <td>07Feb2010 0:00:00</td>\n",
       "      <td>0.0</td>\n",
       "      <td>Approved</td>\n",
       "      <td>1</td>\n",
       "      <td>3.0</td>\n",
       "      <td>1.0</td>\n",
       "      <td>4600</td>\n",
       "      <td>18</td>\n",
       "      <td>1</td>\n",
       "      <td>...</td>\n",
       "      <td>0</td>\n",
       "      <td>0</td>\n",
       "      <td>0</td>\n",
       "      <td>3174.15</td>\n",
       "      <td>16974.69</td>\n",
       "      <td>0</td>\n",
       "      <td>0</td>\n",
       "      <td>0</td>\n",
       "      <td>3899</td>\n",
       "      <td>0.793579</td>\n",
       "    </tr>\n",
       "    <tr>\n",
       "      <th>36034980</th>\n",
       "      <td>32395830</td>\n",
       "      <td>09Feb2010 0:00:00</td>\n",
       "      <td>NaN</td>\n",
       "      <td>Rejected</td>\n",
       "      <td>2</td>\n",
       "      <td>2.0</td>\n",
       "      <td>2.0</td>\n",
       "      <td>7900</td>\n",
       "      <td>48</td>\n",
       "      <td>1</td>\n",
       "      <td>...</td>\n",
       "      <td>2</td>\n",
       "      <td>2</td>\n",
       "      <td>0</td>\n",
       "      <td>4972.82</td>\n",
       "      <td>3484.36</td>\n",
       "      <td>0</td>\n",
       "      <td>0</td>\n",
       "      <td>10</td>\n",
       "      <td>3899</td>\n",
       "      <td>0.533040</td>\n",
       "    </tr>\n",
       "    <tr>\n",
       "      <th>36034981</th>\n",
       "      <td>32592943</td>\n",
       "      <td>13Feb2010 0:00:00</td>\n",
       "      <td>0.0</td>\n",
       "      <td>Approved</td>\n",
       "      <td>2</td>\n",
       "      <td>1.0</td>\n",
       "      <td>1.0</td>\n",
       "      <td>9900</td>\n",
       "      <td>63</td>\n",
       "      <td>3</td>\n",
       "      <td>...</td>\n",
       "      <td>3</td>\n",
       "      <td>3</td>\n",
       "      <td>0</td>\n",
       "      <td>2278.22</td>\n",
       "      <td>9630.53</td>\n",
       "      <td>0</td>\n",
       "      <td>0</td>\n",
       "      <td>10</td>\n",
       "      <td>3899</td>\n",
       "      <td>0.781269</td>\n",
       "    </tr>\n",
       "  </tbody>\n",
       "</table>\n",
       "<p>5 rows × 35 columns</p>\n",
       "</div>"
      ],
      "text/plain": [
       "          customer_id   application_date  target Application_status  Var1  \\\n",
       "ID                                                                          \n",
       "36034977     32653719  03Feb2010 0:00:00     0.0           Approved     1   \n",
       "36034978     32832365  04Feb2010 0:00:00     0.0           Approved     2   \n",
       "36034979     32544742  07Feb2010 0:00:00     0.0           Approved     1   \n",
       "36034980     32395830  09Feb2010 0:00:00     NaN           Rejected     2   \n",
       "36034981     32592943  13Feb2010 0:00:00     0.0           Approved     2   \n",
       "\n",
       "          Var2  Var3  Var4  Var5  Var6  ...  Var22  Var23  Var24    Var25  \\\n",
       "ID                                      ...                                 \n",
       "36034977   3.0   1.0  4800    15     1  ...      8      8      0  4977.87   \n",
       "36034978   2.0   1.0  6800    18     6  ...      1      1  29400  7922.90   \n",
       "36034979   3.0   1.0  4600    18     1  ...      0      0      0  3174.15   \n",
       "36034980   2.0   2.0  7900    48     1  ...      2      2      0  4972.82   \n",
       "36034981   1.0   1.0  9900    63     3  ...      3      3      0  2278.22   \n",
       "\n",
       "             Var26  Var27 Var28  Var29  Var30       _r_  \n",
       "ID                                                       \n",
       "36034977  14880.28      0     0     70   3899  0.485674  \n",
       "36034978   6534.84      0     0      0   3899  0.267045  \n",
       "36034979  16974.69      0     0      0   3899  0.793579  \n",
       "36034980   3484.36      0     0     10   3899  0.533040  \n",
       "36034981   9630.53      0     0     10   3899  0.781269  \n",
       "\n",
       "[5 rows x 35 columns]"
      ]
     },
     "execution_count": 950,
     "metadata": {},
     "output_type": "execute_result"
    }
   ],
   "source": [
    "df.head()\n",
    "# Some of the records for Var14 are Nulls, it requires analysis"
   ]
  },
  {
   "cell_type": "markdown",
   "metadata": {},
   "source": [
    "### Handle date variables"
   ]
  },
  {
   "cell_type": "code",
   "execution_count": 859,
   "metadata": {},
   "outputs": [
    {
     "data": {
      "text/plain": [
       "['application_date', 'Var13']"
      ]
     },
     "execution_count": 859,
     "metadata": {},
     "output_type": "execute_result"
    }
   ],
   "source": [
    "# Print date columns\n",
    "date_columns"
   ]
  },
  {
   "cell_type": "markdown",
   "metadata": {},
   "source": [
    "#### Change the type of columns"
   ]
  },
  {
   "cell_type": "code",
   "execution_count": 860,
   "metadata": {},
   "outputs": [],
   "source": [
    "# Change date columns to datetime type\n",
    "df['application_date'] = pd.to_datetime(df['application_date'], errors='coerce')\n",
    "df['Var13'] = pd.to_datetime(df['Var13'], format='%d%b%Y', errors='coerce')         # Var13 - irregular date format"
   ]
  },
  {
   "cell_type": "code",
   "execution_count": 861,
   "metadata": {},
   "outputs": [
    {
     "name": "stdout",
     "output_type": "stream",
     "text": [
      "784\n",
      "0\n"
     ]
    }
   ],
   "source": [
    "# Check naN values after transformation\n",
    "print(df['Var13'].isnull().sum(0))\n",
    "print(df['application_date'].isnull().sum(0))"
   ]
  },
  {
   "cell_type": "markdown",
   "metadata": {},
   "source": [
    "After transformation some records for Var13 are empty, we need to analyze it"
   ]
  },
  {
   "cell_type": "code",
   "execution_count": 862,
   "metadata": {},
   "outputs": [
    {
     "data": {
      "text/html": [
       "<div>\n",
       "<style scoped>\n",
       "    .dataframe tbody tr th:only-of-type {\n",
       "        vertical-align: middle;\n",
       "    }\n",
       "\n",
       "    .dataframe tbody tr th {\n",
       "        vertical-align: top;\n",
       "    }\n",
       "\n",
       "    .dataframe thead th {\n",
       "        text-align: right;\n",
       "    }\n",
       "</style>\n",
       "<table border=\"1\" class=\"dataframe\">\n",
       "  <thead>\n",
       "    <tr style=\"text-align: right;\">\n",
       "      <th></th>\n",
       "      <th>application_date</th>\n",
       "      <th>Var13</th>\n",
       "      <th>ID</th>\n",
       "      <th>customer_id</th>\n",
       "      <th>_r_</th>\n",
       "      <th>Var9</th>\n",
       "      <th>Var10</th>\n",
       "      <th>Var1</th>\n",
       "      <th>Var4</th>\n",
       "      <th>Var5</th>\n",
       "      <th>...</th>\n",
       "      <th>Var3</th>\n",
       "      <th>Var11</th>\n",
       "      <th>Var12</th>\n",
       "      <th>Var14</th>\n",
       "      <th>target</th>\n",
       "      <th>Application_status</th>\n",
       "      <th>Var18</th>\n",
       "      <th>Var19</th>\n",
       "      <th>Var27</th>\n",
       "      <th>Var28</th>\n",
       "    </tr>\n",
       "  </thead>\n",
       "  <tbody>\n",
       "    <tr>\n",
       "      <th>0</th>\n",
       "      <td>2010-02-01</td>\n",
       "      <td>2004-11-26</td>\n",
       "      <td>11034977</td>\n",
       "      <td>32537148</td>\n",
       "      <td>0.267045</td>\n",
       "      <td>5640</td>\n",
       "      <td>NaN</td>\n",
       "      <td>1</td>\n",
       "      <td>7800</td>\n",
       "      <td>99</td>\n",
       "      <td>...</td>\n",
       "      <td>1</td>\n",
       "      <td>5</td>\n",
       "      <td>NaN</td>\n",
       "      <td>2</td>\n",
       "      <td>0.0</td>\n",
       "      <td>Approved</td>\n",
       "      <td>1.0</td>\n",
       "      <td>NaN</td>\n",
       "      <td>0</td>\n",
       "      <td>0</td>\n",
       "    </tr>\n",
       "    <tr>\n",
       "      <th>1</th>\n",
       "      <td>2010-02-01</td>\n",
       "      <td>1996-09-16</td>\n",
       "      <td>11034978</td>\n",
       "      <td>32761663</td>\n",
       "      <td>0.533040</td>\n",
       "      <td>3000</td>\n",
       "      <td>NaN</td>\n",
       "      <td>1</td>\n",
       "      <td>11100</td>\n",
       "      <td>78</td>\n",
       "      <td>...</td>\n",
       "      <td>2</td>\n",
       "      <td>2</td>\n",
       "      <td>NaN</td>\n",
       "      <td>4</td>\n",
       "      <td>0.0</td>\n",
       "      <td>Approved</td>\n",
       "      <td>NaN</td>\n",
       "      <td>1.0</td>\n",
       "      <td>0</td>\n",
       "      <td>0</td>\n",
       "    </tr>\n",
       "    <tr>\n",
       "      <th>2</th>\n",
       "      <td>2010-02-01</td>\n",
       "      <td>1989-05-06</td>\n",
       "      <td>11034979</td>\n",
       "      <td>32701063</td>\n",
       "      <td>0.861555</td>\n",
       "      <td>6240</td>\n",
       "      <td>4300.0</td>\n",
       "      <td>2</td>\n",
       "      <td>2400</td>\n",
       "      <td>15</td>\n",
       "      <td>...</td>\n",
       "      <td>1</td>\n",
       "      <td>5</td>\n",
       "      <td>5.0</td>\n",
       "      <td>1</td>\n",
       "      <td>0.0</td>\n",
       "      <td>Approved</td>\n",
       "      <td>NaN</td>\n",
       "      <td>NaN</td>\n",
       "      <td>0</td>\n",
       "      <td>0</td>\n",
       "    </tr>\n",
       "    <tr>\n",
       "      <th>3</th>\n",
       "      <td>2010-02-01</td>\n",
       "      <td>1987-12-06</td>\n",
       "      <td>11034980</td>\n",
       "      <td>32386786</td>\n",
       "      <td>0.506451</td>\n",
       "      <td>4560</td>\n",
       "      <td>2500.0</td>\n",
       "      <td>3</td>\n",
       "      <td>11800</td>\n",
       "      <td>30</td>\n",
       "      <td>...</td>\n",
       "      <td>2</td>\n",
       "      <td>6</td>\n",
       "      <td>5.0</td>\n",
       "      <td>1</td>\n",
       "      <td>0.0</td>\n",
       "      <td>Approved</td>\n",
       "      <td>NaN</td>\n",
       "      <td>0.0</td>\n",
       "      <td>0</td>\n",
       "      <td>0</td>\n",
       "    </tr>\n",
       "    <tr>\n",
       "      <th>4</th>\n",
       "      <td>2010-02-02</td>\n",
       "      <td>1989-05-18</td>\n",
       "      <td>11034981</td>\n",
       "      <td>32692110</td>\n",
       "      <td>0.210913</td>\n",
       "      <td>5160</td>\n",
       "      <td>NaN</td>\n",
       "      <td>1</td>\n",
       "      <td>10200</td>\n",
       "      <td>72</td>\n",
       "      <td>...</td>\n",
       "      <td>1</td>\n",
       "      <td>5</td>\n",
       "      <td>NaN</td>\n",
       "      <td>0</td>\n",
       "      <td>NaN</td>\n",
       "      <td>Rejected</td>\n",
       "      <td>1.0</td>\n",
       "      <td>NaN</td>\n",
       "      <td>0</td>\n",
       "      <td>0</td>\n",
       "    </tr>\n",
       "  </tbody>\n",
       "</table>\n",
       "<p>5 rows × 36 columns</p>\n",
       "</div>"
      ],
      "text/plain": [
       "  application_date      Var13        ID  customer_id       _r_  Var9   Var10  \\\n",
       "0       2010-02-01 2004-11-26  11034977     32537148  0.267045  5640     NaN   \n",
       "1       2010-02-01 1996-09-16  11034978     32761663  0.533040  3000     NaN   \n",
       "2       2010-02-01 1989-05-06  11034979     32701063  0.861555  6240  4300.0   \n",
       "3       2010-02-01 1987-12-06  11034980     32386786  0.506451  4560  2500.0   \n",
       "4       2010-02-02 1989-05-18  11034981     32692110  0.210913  5160     NaN   \n",
       "\n",
       "   Var1   Var4  Var5  ...  Var3  Var11  Var12  Var14  target  \\\n",
       "0     1   7800    99  ...     1      5    NaN      2     0.0   \n",
       "1     1  11100    78  ...     2      2    NaN      4     0.0   \n",
       "2     2   2400    15  ...     1      5    5.0      1     0.0   \n",
       "3     3  11800    30  ...     2      6    5.0      1     0.0   \n",
       "4     1  10200    72  ...     1      5    NaN      0     NaN   \n",
       "\n",
       "   Application_status  Var18  Var19  Var27  Var28  \n",
       "0            Approved    1.0    NaN      0      0  \n",
       "1            Approved    NaN    1.0      0      0  \n",
       "2            Approved    NaN    NaN      0      0  \n",
       "3            Approved    NaN    0.0      0      0  \n",
       "4            Rejected    1.0    NaN      0      0  \n",
       "\n",
       "[5 rows x 36 columns]"
      ]
     },
     "execution_count": 862,
     "metadata": {},
     "output_type": "execute_result"
    }
   ],
   "source": [
    "df.head()"
   ]
  },
  {
   "cell_type": "markdown",
   "metadata": {},
   "source": [
    "#### Analyze Var13"
   ]
  },
  {
   "cell_type": "code",
   "execution_count": 863,
   "metadata": {},
   "outputs": [
    {
     "data": {
      "text/plain": [
       "5        31Dec9999\n",
       "56       31Dec9999\n",
       "67       31Dec9999\n",
       "86       31Dec9999\n",
       "95       31Dec9999\n",
       "           ...    \n",
       "49510    31Dec9999\n",
       "49537    31Dec9999\n",
       "49617    31Dec9999\n",
       "49635    31Dec9999\n",
       "49765    31Dec9999\n",
       "Name: Var13, Length: 784, dtype: object"
      ]
     },
     "execution_count": 863,
     "metadata": {},
     "output_type": "execute_result"
    }
   ],
   "source": [
    "# Check indexes where conversion caused 'NaT' values\n",
    "nan_indices = df['Var13'].isna()\n",
    "\n",
    "# Compare original values of 'Var13' which after conversion became 'NaT'\n",
    "original_values_with_nan = data.loc[nan_indices, 'Var13']\n",
    "\n",
    "original_values_with_nan"
   ]
  },
  {
   "cell_type": "code",
   "execution_count": 864,
   "metadata": {},
   "outputs": [
    {
     "data": {
      "text/plain": [
       "array(['31Dec9999'], dtype=object)"
      ]
     },
     "execution_count": 864,
     "metadata": {},
     "output_type": "execute_result"
    }
   ],
   "source": [
    "# Check unique values of 'Var13' which after conversion became 'NaT'\n",
    "original_values_with_nan.unique()"
   ]
  },
  {
   "cell_type": "markdown",
   "metadata": {},
   "source": [
    "Summarizing we have 784 cases in Var13 with value '31Dec9999'\n",
    "\n",
    "We treat them as data error and for this moment leave with NAs"
   ]
  },
  {
   "cell_type": "markdown",
   "metadata": {},
   "source": [
    "#### Create working_months column\n",
    "\n",
    "Var13 = employment date\n",
    "\n",
    "working_moths = Var13 - application_date\n",
    "\n",
    "\n",
    "We would like to calculate the number of working months before applying for credit, which will indicate the employee's duration at the given position from employment to loan application.\n",
    "\n",
    "NAs from Var13 are replaced with 0\n",
    "\n",
    "We also want to have this column first"
   ]
  },
  {
   "cell_type": "code",
   "execution_count": 865,
   "metadata": {},
   "outputs": [],
   "source": [
    "# Create a new colum working_months\n",
    "df['working_months'] = ((df['application_date'] - df['Var13']) / np.timedelta64(1, 'M')).fillna(0).astype(int)"
   ]
  },
  {
   "cell_type": "code",
   "execution_count": 866,
   "metadata": {},
   "outputs": [],
   "source": [
    "# Delete columns 'Var13' and 'application_date'\n",
    "df.drop(['Var13'], axis=1, inplace=True)\n",
    "df.drop(['application_date'], axis=1, inplace=True)"
   ]
  },
  {
   "cell_type": "code",
   "execution_count": 867,
   "metadata": {},
   "outputs": [
    {
     "data": {
      "text/html": [
       "<div>\n",
       "<style scoped>\n",
       "    .dataframe tbody tr th:only-of-type {\n",
       "        vertical-align: middle;\n",
       "    }\n",
       "\n",
       "    .dataframe tbody tr th {\n",
       "        vertical-align: top;\n",
       "    }\n",
       "\n",
       "    .dataframe thead th {\n",
       "        text-align: right;\n",
       "    }\n",
       "</style>\n",
       "<table border=\"1\" class=\"dataframe\">\n",
       "  <thead>\n",
       "    <tr style=\"text-align: right;\">\n",
       "      <th></th>\n",
       "      <th>ID</th>\n",
       "      <th>customer_id</th>\n",
       "      <th>_r_</th>\n",
       "      <th>Var9</th>\n",
       "      <th>Var10</th>\n",
       "      <th>Var1</th>\n",
       "      <th>Var4</th>\n",
       "      <th>Var5</th>\n",
       "      <th>Var6</th>\n",
       "      <th>Var7</th>\n",
       "      <th>...</th>\n",
       "      <th>Var11</th>\n",
       "      <th>Var12</th>\n",
       "      <th>Var14</th>\n",
       "      <th>target</th>\n",
       "      <th>Application_status</th>\n",
       "      <th>Var18</th>\n",
       "      <th>Var19</th>\n",
       "      <th>Var27</th>\n",
       "      <th>Var28</th>\n",
       "      <th>working_months</th>\n",
       "    </tr>\n",
       "  </thead>\n",
       "  <tbody>\n",
       "    <tr>\n",
       "      <th>0</th>\n",
       "      <td>11034977</td>\n",
       "      <td>32537148</td>\n",
       "      <td>0.267045</td>\n",
       "      <td>5640</td>\n",
       "      <td>NaN</td>\n",
       "      <td>1</td>\n",
       "      <td>7800</td>\n",
       "      <td>99</td>\n",
       "      <td>1</td>\n",
       "      <td>108.73</td>\n",
       "      <td>...</td>\n",
       "      <td>5</td>\n",
       "      <td>NaN</td>\n",
       "      <td>2</td>\n",
       "      <td>0.0</td>\n",
       "      <td>Approved</td>\n",
       "      <td>1.0</td>\n",
       "      <td>NaN</td>\n",
       "      <td>0</td>\n",
       "      <td>0</td>\n",
       "      <td>62</td>\n",
       "    </tr>\n",
       "    <tr>\n",
       "      <th>1</th>\n",
       "      <td>11034978</td>\n",
       "      <td>32761663</td>\n",
       "      <td>0.533040</td>\n",
       "      <td>3000</td>\n",
       "      <td>NaN</td>\n",
       "      <td>1</td>\n",
       "      <td>11100</td>\n",
       "      <td>78</td>\n",
       "      <td>1</td>\n",
       "      <td>195.99</td>\n",
       "      <td>...</td>\n",
       "      <td>2</td>\n",
       "      <td>NaN</td>\n",
       "      <td>4</td>\n",
       "      <td>0.0</td>\n",
       "      <td>Approved</td>\n",
       "      <td>NaN</td>\n",
       "      <td>1.0</td>\n",
       "      <td>0</td>\n",
       "      <td>0</td>\n",
       "      <td>160</td>\n",
       "    </tr>\n",
       "    <tr>\n",
       "      <th>2</th>\n",
       "      <td>11034979</td>\n",
       "      <td>32701063</td>\n",
       "      <td>0.861555</td>\n",
       "      <td>6240</td>\n",
       "      <td>4300.0</td>\n",
       "      <td>2</td>\n",
       "      <td>2400</td>\n",
       "      <td>15</td>\n",
       "      <td>1</td>\n",
       "      <td>248.34</td>\n",
       "      <td>...</td>\n",
       "      <td>5</td>\n",
       "      <td>5.0</td>\n",
       "      <td>1</td>\n",
       "      <td>0.0</td>\n",
       "      <td>Approved</td>\n",
       "      <td>NaN</td>\n",
       "      <td>NaN</td>\n",
       "      <td>0</td>\n",
       "      <td>0</td>\n",
       "      <td>248</td>\n",
       "    </tr>\n",
       "    <tr>\n",
       "      <th>3</th>\n",
       "      <td>11034980</td>\n",
       "      <td>32386786</td>\n",
       "      <td>0.506451</td>\n",
       "      <td>4560</td>\n",
       "      <td>2500.0</td>\n",
       "      <td>3</td>\n",
       "      <td>11800</td>\n",
       "      <td>30</td>\n",
       "      <td>6</td>\n",
       "      <td>3538.68</td>\n",
       "      <td>...</td>\n",
       "      <td>6</td>\n",
       "      <td>5.0</td>\n",
       "      <td>1</td>\n",
       "      <td>0.0</td>\n",
       "      <td>Approved</td>\n",
       "      <td>NaN</td>\n",
       "      <td>0.0</td>\n",
       "      <td>0</td>\n",
       "      <td>0</td>\n",
       "      <td>265</td>\n",
       "    </tr>\n",
       "    <tr>\n",
       "      <th>4</th>\n",
       "      <td>11034981</td>\n",
       "      <td>32692110</td>\n",
       "      <td>0.210913</td>\n",
       "      <td>5160</td>\n",
       "      <td>NaN</td>\n",
       "      <td>1</td>\n",
       "      <td>10200</td>\n",
       "      <td>72</td>\n",
       "      <td>3</td>\n",
       "      <td>580.26</td>\n",
       "      <td>...</td>\n",
       "      <td>5</td>\n",
       "      <td>NaN</td>\n",
       "      <td>0</td>\n",
       "      <td>NaN</td>\n",
       "      <td>Rejected</td>\n",
       "      <td>1.0</td>\n",
       "      <td>NaN</td>\n",
       "      <td>0</td>\n",
       "      <td>0</td>\n",
       "      <td>248</td>\n",
       "    </tr>\n",
       "  </tbody>\n",
       "</table>\n",
       "<p>5 rows × 35 columns</p>\n",
       "</div>"
      ],
      "text/plain": [
       "         ID  customer_id       _r_  Var9   Var10  Var1   Var4  Var5  Var6  \\\n",
       "0  11034977     32537148  0.267045  5640     NaN     1   7800    99     1   \n",
       "1  11034978     32761663  0.533040  3000     NaN     1  11100    78     1   \n",
       "2  11034979     32701063  0.861555  6240  4300.0     2   2400    15     1   \n",
       "3  11034980     32386786  0.506451  4560  2500.0     3  11800    30     6   \n",
       "4  11034981     32692110  0.210913  5160     NaN     1  10200    72     3   \n",
       "\n",
       "      Var7  ...  Var11  Var12  Var14  target  Application_status  Var18  \\\n",
       "0   108.73  ...      5    NaN      2     0.0            Approved    1.0   \n",
       "1   195.99  ...      2    NaN      4     0.0            Approved    NaN   \n",
       "2   248.34  ...      5    5.0      1     0.0            Approved    NaN   \n",
       "3  3538.68  ...      6    5.0      1     0.0            Approved    NaN   \n",
       "4   580.26  ...      5    NaN      0     NaN            Rejected    1.0   \n",
       "\n",
       "   Var19  Var27  Var28  working_months  \n",
       "0    NaN      0      0              62  \n",
       "1    1.0      0      0             160  \n",
       "2    NaN      0      0             248  \n",
       "3    0.0      0      0             265  \n",
       "4    NaN      0      0             248  \n",
       "\n",
       "[5 rows x 35 columns]"
      ]
     },
     "execution_count": 867,
     "metadata": {},
     "output_type": "execute_result"
    }
   ],
   "source": [
    "df.head()"
   ]
  },
  {
   "cell_type": "markdown",
   "metadata": {},
   "source": [
    "Move 'working_months' to the first column"
   ]
  },
  {
   "cell_type": "code",
   "execution_count": 868,
   "metadata": {},
   "outputs": [],
   "source": [
    "# Create a list of columns without 'working_months'\n",
    "df_sorted_columns = df.columns.tolist()\n",
    "df_sorted_columns.remove('working_months')\n",
    "# Add 'working_months' to the first position\n",
    "df_sorted_columns.insert(0, 'working_months')\n",
    "# Reindex columns\n",
    "df = df[df_sorted_columns]"
   ]
  },
  {
   "cell_type": "code",
   "execution_count": 869,
   "metadata": {},
   "outputs": [],
   "source": [
    "# Update the list of date and numeric columns\n",
    "date_columns = []\n",
    "numeric_columns = numeric_columns + ['working_months']"
   ]
  },
  {
   "cell_type": "code",
   "execution_count": 870,
   "metadata": {},
   "outputs": [
    {
     "data": {
      "text/html": [
       "<div>\n",
       "<style scoped>\n",
       "    .dataframe tbody tr th:only-of-type {\n",
       "        vertical-align: middle;\n",
       "    }\n",
       "\n",
       "    .dataframe tbody tr th {\n",
       "        vertical-align: top;\n",
       "    }\n",
       "\n",
       "    .dataframe thead th {\n",
       "        text-align: right;\n",
       "    }\n",
       "</style>\n",
       "<table border=\"1\" class=\"dataframe\">\n",
       "  <thead>\n",
       "    <tr style=\"text-align: right;\">\n",
       "      <th></th>\n",
       "      <th>working_months</th>\n",
       "      <th>ID</th>\n",
       "      <th>customer_id</th>\n",
       "      <th>_r_</th>\n",
       "      <th>Var9</th>\n",
       "      <th>Var10</th>\n",
       "      <th>Var1</th>\n",
       "      <th>Var4</th>\n",
       "      <th>Var5</th>\n",
       "      <th>Var6</th>\n",
       "      <th>...</th>\n",
       "      <th>Var3</th>\n",
       "      <th>Var11</th>\n",
       "      <th>Var12</th>\n",
       "      <th>Var14</th>\n",
       "      <th>target</th>\n",
       "      <th>Application_status</th>\n",
       "      <th>Var18</th>\n",
       "      <th>Var19</th>\n",
       "      <th>Var27</th>\n",
       "      <th>Var28</th>\n",
       "    </tr>\n",
       "  </thead>\n",
       "  <tbody>\n",
       "    <tr>\n",
       "      <th>0</th>\n",
       "      <td>62</td>\n",
       "      <td>11034977</td>\n",
       "      <td>32537148</td>\n",
       "      <td>0.267045</td>\n",
       "      <td>5640</td>\n",
       "      <td>NaN</td>\n",
       "      <td>1</td>\n",
       "      <td>7800</td>\n",
       "      <td>99</td>\n",
       "      <td>1</td>\n",
       "      <td>...</td>\n",
       "      <td>1</td>\n",
       "      <td>5</td>\n",
       "      <td>NaN</td>\n",
       "      <td>2</td>\n",
       "      <td>0.0</td>\n",
       "      <td>Approved</td>\n",
       "      <td>1.0</td>\n",
       "      <td>NaN</td>\n",
       "      <td>0</td>\n",
       "      <td>0</td>\n",
       "    </tr>\n",
       "    <tr>\n",
       "      <th>1</th>\n",
       "      <td>160</td>\n",
       "      <td>11034978</td>\n",
       "      <td>32761663</td>\n",
       "      <td>0.533040</td>\n",
       "      <td>3000</td>\n",
       "      <td>NaN</td>\n",
       "      <td>1</td>\n",
       "      <td>11100</td>\n",
       "      <td>78</td>\n",
       "      <td>1</td>\n",
       "      <td>...</td>\n",
       "      <td>2</td>\n",
       "      <td>2</td>\n",
       "      <td>NaN</td>\n",
       "      <td>4</td>\n",
       "      <td>0.0</td>\n",
       "      <td>Approved</td>\n",
       "      <td>NaN</td>\n",
       "      <td>1.0</td>\n",
       "      <td>0</td>\n",
       "      <td>0</td>\n",
       "    </tr>\n",
       "    <tr>\n",
       "      <th>2</th>\n",
       "      <td>248</td>\n",
       "      <td>11034979</td>\n",
       "      <td>32701063</td>\n",
       "      <td>0.861555</td>\n",
       "      <td>6240</td>\n",
       "      <td>4300.0</td>\n",
       "      <td>2</td>\n",
       "      <td>2400</td>\n",
       "      <td>15</td>\n",
       "      <td>1</td>\n",
       "      <td>...</td>\n",
       "      <td>1</td>\n",
       "      <td>5</td>\n",
       "      <td>5.0</td>\n",
       "      <td>1</td>\n",
       "      <td>0.0</td>\n",
       "      <td>Approved</td>\n",
       "      <td>NaN</td>\n",
       "      <td>NaN</td>\n",
       "      <td>0</td>\n",
       "      <td>0</td>\n",
       "    </tr>\n",
       "    <tr>\n",
       "      <th>3</th>\n",
       "      <td>265</td>\n",
       "      <td>11034980</td>\n",
       "      <td>32386786</td>\n",
       "      <td>0.506451</td>\n",
       "      <td>4560</td>\n",
       "      <td>2500.0</td>\n",
       "      <td>3</td>\n",
       "      <td>11800</td>\n",
       "      <td>30</td>\n",
       "      <td>6</td>\n",
       "      <td>...</td>\n",
       "      <td>2</td>\n",
       "      <td>6</td>\n",
       "      <td>5.0</td>\n",
       "      <td>1</td>\n",
       "      <td>0.0</td>\n",
       "      <td>Approved</td>\n",
       "      <td>NaN</td>\n",
       "      <td>0.0</td>\n",
       "      <td>0</td>\n",
       "      <td>0</td>\n",
       "    </tr>\n",
       "    <tr>\n",
       "      <th>4</th>\n",
       "      <td>248</td>\n",
       "      <td>11034981</td>\n",
       "      <td>32692110</td>\n",
       "      <td>0.210913</td>\n",
       "      <td>5160</td>\n",
       "      <td>NaN</td>\n",
       "      <td>1</td>\n",
       "      <td>10200</td>\n",
       "      <td>72</td>\n",
       "      <td>3</td>\n",
       "      <td>...</td>\n",
       "      <td>1</td>\n",
       "      <td>5</td>\n",
       "      <td>NaN</td>\n",
       "      <td>0</td>\n",
       "      <td>NaN</td>\n",
       "      <td>Rejected</td>\n",
       "      <td>1.0</td>\n",
       "      <td>NaN</td>\n",
       "      <td>0</td>\n",
       "      <td>0</td>\n",
       "    </tr>\n",
       "  </tbody>\n",
       "</table>\n",
       "<p>5 rows × 35 columns</p>\n",
       "</div>"
      ],
      "text/plain": [
       "   working_months        ID  customer_id       _r_  Var9   Var10  Var1   Var4  \\\n",
       "0              62  11034977     32537148  0.267045  5640     NaN     1   7800   \n",
       "1             160  11034978     32761663  0.533040  3000     NaN     1  11100   \n",
       "2             248  11034979     32701063  0.861555  6240  4300.0     2   2400   \n",
       "3             265  11034980     32386786  0.506451  4560  2500.0     3  11800   \n",
       "4             248  11034981     32692110  0.210913  5160     NaN     1  10200   \n",
       "\n",
       "   Var5  Var6  ...  Var3  Var11  Var12  Var14  target  Application_status  \\\n",
       "0    99     1  ...     1      5    NaN      2     0.0            Approved   \n",
       "1    78     1  ...     2      2    NaN      4     0.0            Approved   \n",
       "2    15     1  ...     1      5    5.0      1     0.0            Approved   \n",
       "3    30     6  ...     2      6    5.0      1     0.0            Approved   \n",
       "4    72     3  ...     1      5    NaN      0     NaN            Rejected   \n",
       "\n",
       "   Var18  Var19  Var27  Var28  \n",
       "0    1.0    NaN      0      0  \n",
       "1    NaN    1.0      0      0  \n",
       "2    NaN    NaN      0      0  \n",
       "3    NaN    0.0      0      0  \n",
       "4    1.0    NaN      0      0  \n",
       "\n",
       "[5 rows x 35 columns]"
      ]
     },
     "execution_count": 870,
     "metadata": {},
     "output_type": "execute_result"
    }
   ],
   "source": [
    "df.head()"
   ]
  },
  {
   "cell_type": "markdown",
   "metadata": {},
   "source": [
    "### Handle binary variables\n",
    "\n",
    "Convert the 'Application_status' column to binary variables to facilitate analysis. Applications marked as 'Approved' are changed to 1, and those marked as 'Rejected' are changed to 0. This conversion simplifies the analysis process, allowing for straightforward interpretation of application outcomes"
   ]
  },
  {
   "cell_type": "code",
   "execution_count": 871,
   "metadata": {},
   "outputs": [
    {
     "name": "stdout",
     "output_type": "stream",
     "text": [
      "Unique values for column 'target': [ 0. nan  1.]\n",
      "Unique values for column 'Application_status': ['Approved' 'Rejected']\n",
      "Unique values for column 'Var18': [ 1. nan  0.]\n",
      "Unique values for column 'Var19': [nan  1.  0.]\n",
      "Unique values for column 'Var27': [0 1]\n",
      "Unique values for column 'Var28': [0 1]\n"
     ]
    }
   ],
   "source": [
    "# Check unique values for binary columns\n",
    "for column in binary_columns:\n",
    "    print(f\"Unique values for column '{column}': {df[column].unique()}\")"
   ]
  },
  {
   "cell_type": "markdown",
   "metadata": {},
   "source": [
    "As we can observe column \"Application_status\" needs to be modified"
   ]
  },
  {
   "cell_type": "code",
   "execution_count": 872,
   "metadata": {},
   "outputs": [],
   "source": [
    "# Change value \"Approved\" to 1 and \"Rejected\" to 0 in column 'Application_status'\n",
    "df['Application_status'] = df['Application_status'].replace({'Approved': 1, 'Rejected': 0})"
   ]
  },
  {
   "cell_type": "code",
   "execution_count": 873,
   "metadata": {},
   "outputs": [
    {
     "data": {
      "text/plain": [
       "1    36718\n",
       "0    13282\n",
       "Name: Application_status, dtype: int64"
      ]
     },
     "execution_count": 873,
     "metadata": {},
     "output_type": "execute_result"
    }
   ],
   "source": [
    "# Check and count unique values for 'Application_status' to ensure that transformation was successful\n",
    "df['Application_status'].value_counts(dropna=False)"
   ]
  },
  {
   "cell_type": "markdown",
   "metadata": {},
   "source": [
    "Check the rest of binary columns"
   ]
  },
  {
   "cell_type": "code",
   "execution_count": 874,
   "metadata": {},
   "outputs": [
    {
     "data": {
      "text/plain": [
       "target                13282\n",
       "Application_status        0\n",
       "Var18                 37416\n",
       "Var19                 29173\n",
       "Var27                     0\n",
       "Var28                     0\n",
       "dtype: int64"
      ]
     },
     "execution_count": 874,
     "metadata": {},
     "output_type": "execute_result"
    }
   ],
   "source": [
    "df[binary_columns].isna().sum()"
   ]
  },
  {
   "cell_type": "code",
   "execution_count": 875,
   "metadata": {},
   "outputs": [
    {
     "name": "stdout",
     "output_type": "stream",
     "text": [
      "<class 'pandas.core.frame.DataFrame'>\n",
      "RangeIndex: 50000 entries, 0 to 49999\n",
      "Data columns (total 6 columns):\n",
      " #   Column              Non-Null Count  Dtype  \n",
      "---  ------              --------------  -----  \n",
      " 0   target              36718 non-null  float64\n",
      " 1   Application_status  50000 non-null  int64  \n",
      " 2   Var18               12584 non-null  float64\n",
      " 3   Var19               20827 non-null  float64\n",
      " 4   Var27               50000 non-null  int64  \n",
      " 5   Var28               50000 non-null  int64  \n",
      "dtypes: float64(3), int64(3)\n",
      "memory usage: 2.3 MB\n"
     ]
    }
   ],
   "source": [
    "df[binary_columns].info()"
   ]
  },
  {
   "cell_type": "markdown",
   "metadata": {},
   "source": [
    "We can observe that we have some nulls in binary variables, but we will handle them later."
   ]
  },
  {
   "cell_type": "markdown",
   "metadata": {},
   "source": [
    "### Handle categorical variables"
   ]
  },
  {
   "cell_type": "markdown",
   "metadata": {},
   "source": [
    "We have 5 categorical columns:\n",
    "\n",
    "* Var2 - Loan purpose\n",
    "* Var3 - Distribution channel\n",
    "* Var11 - profession of main applicant\n",
    "* Var12 - profession of second applicant\n",
    "* Var14 - marital status of main applicant\n",
    "\n",
    "All of them are treated as simple categorical variables(non-ordered)"
   ]
  },
  {
   "cell_type": "code",
   "execution_count": 876,
   "metadata": {},
   "outputs": [
    {
     "name": "stdout",
     "output_type": "stream",
     "text": [
      "Unique values for column 'Var2': [ 2.  1.  3. nan]\n",
      "Unique values for column 'Var3': ['1' '2' nan 'Direct' '3' 'Online']\n",
      "Unique values for column 'Var11': [5 2 6 4 3 1 7]\n",
      "Unique values for column 'Var12': [nan  5.  2.  4.  6.  7.  3.  1.]\n",
      "Unique values for column 'Var14': [2 4 1 0 3]\n"
     ]
    }
   ],
   "source": [
    "# Check unique values for binary columns\n",
    "for column in categorical_columns:\n",
    "    print(f\"Unique values for column '{column}': {df[column].unique()}\")"
   ]
  },
  {
   "cell_type": "markdown",
   "metadata": {},
   "source": [
    "According to the variables_description.xlsx file the variable Var2 should have the following values:\n",
    "\n",
    "* 1 Direct\n",
    "* 2 Broker\n",
    "* 3 Online\n",
    "\n",
    "In the dataset this variable has 5 unique values printed above. First of all we should transform 'Direct' to 1 and 'Online' to 3"
   ]
  },
  {
   "cell_type": "code",
   "execution_count": 877,
   "metadata": {},
   "outputs": [
    {
     "data": {
      "text/plain": [
       "1         24043\n",
       "2         16130\n",
       "3          8054\n",
       "NaN        1403\n",
       "Direct      325\n",
       "Online       45\n",
       "Name: Var3, dtype: int64"
      ]
     },
     "execution_count": 877,
     "metadata": {},
     "output_type": "execute_result"
    }
   ],
   "source": [
    "# Check the number of observations in Var3 for each category\n",
    "df['Var3'].value_counts(dropna=False)"
   ]
  },
  {
   "cell_type": "code",
   "execution_count": 878,
   "metadata": {},
   "outputs": [],
   "source": [
    "# Change the value \"Direct\" to 1 and \"Online\" to 3 in column \"Var3\"\n",
    "df['Var3'] = df['Var3'].replace({'Direct': 1, 'Online': 3})\n",
    "\n",
    "# Change the data type of column \"Var3\" to float (we still have NaN values)\n",
    "df['Var3'] = df['Var3'].astype(float)"
   ]
  },
  {
   "cell_type": "markdown",
   "metadata": {},
   "source": [
    "Check the unique values after transformation"
   ]
  },
  {
   "cell_type": "code",
   "execution_count": 879,
   "metadata": {},
   "outputs": [
    {
     "data": {
      "text/plain": [
       "1.0    24368\n",
       "2.0    16130\n",
       "3.0     8099\n",
       "NaN     1403\n",
       "Name: Var3, dtype: int64"
      ]
     },
     "execution_count": 879,
     "metadata": {},
     "output_type": "execute_result"
    }
   ],
   "source": [
    "# Check again the number of observations in Var3 for each category\n",
    "df['Var3'].value_counts(dropna=False)"
   ]
  },
  {
   "cell_type": "markdown",
   "metadata": {},
   "source": [
    "It looks that the transformation was successfull"
   ]
  },
  {
   "cell_type": "code",
   "execution_count": 880,
   "metadata": {},
   "outputs": [
    {
     "data": {
      "text/plain": [
       "Var2      1403\n",
       "Var3      1403\n",
       "Var11        0\n",
       "Var12    37538\n",
       "Var14        0\n",
       "dtype: int64"
      ]
     },
     "execution_count": 880,
     "metadata": {},
     "output_type": "execute_result"
    }
   ],
   "source": [
    "# Count NA values for categorical columns\n",
    "df[categorical_columns].isna().sum()"
   ]
  },
  {
   "cell_type": "markdown",
   "metadata": {},
   "source": [
    "All categorical variables are ready for the further processing (filling NA values and one hot encoding)."
   ]
  },
  {
   "cell_type": "markdown",
   "metadata": {},
   "source": [
    "### Handle NaN in target variable\n",
    "\n",
    "As we can observe below we have 13282 NaN values in our target variable.\n",
    "\n",
    "We found out that all of them are for \"Application status\" == rejected (1).\n",
    "\n",
    "We analyze the approach to fill target variable of all rejected application to 1 (default). However this way would bring in a high conlusion that all of rejected people would default in the future and it would impact negatively on our model. Additionally we assume that we want to model the approved applications only.\n",
    "\n",
    "After a long discussion we decided to delete all of rows with Application_status == 0."
   ]
  },
  {
   "cell_type": "code",
   "execution_count": 881,
   "metadata": {},
   "outputs": [
    {
     "data": {
      "text/plain": [
       "13282"
      ]
     },
     "execution_count": 881,
     "metadata": {},
     "output_type": "execute_result"
    }
   ],
   "source": [
    "# Check the number of NAa for target variable\n",
    "df['target'].isna().sum()"
   ]
  },
  {
   "cell_type": "code",
   "execution_count": 882,
   "metadata": {},
   "outputs": [
    {
     "data": {
      "text/plain": [
       "13282"
      ]
     },
     "execution_count": 882,
     "metadata": {},
     "output_type": "execute_result"
    }
   ],
   "source": [
    "df.loc[df[\"Application_status\"] == 0, \"target\"].isna().sum()"
   ]
  },
  {
   "cell_type": "code",
   "execution_count": 883,
   "metadata": {},
   "outputs": [],
   "source": [
    "# Drop rows where 'Application_status' == 0\n",
    "df = df[df['Application_status'] != 0]"
   ]
  },
  {
   "cell_type": "markdown",
   "metadata": {},
   "source": [
    "Now as we know that there are only rows with application_status == 0 we can delete this column from df"
   ]
  },
  {
   "cell_type": "code",
   "execution_count": 884,
   "metadata": {},
   "outputs": [],
   "source": [
    "# Drop column 'Application_status'\n",
    "df.drop(['Application_status'], axis=1, inplace=True)"
   ]
  },
  {
   "cell_type": "code",
   "execution_count": 885,
   "metadata": {},
   "outputs": [],
   "source": [
    "# Delete \"application_stauts\" from binary_columns\n",
    "binary_columns.remove('Application_status')"
   ]
  },
  {
   "cell_type": "markdown",
   "metadata": {},
   "source": [
    "### Handle numeric data"
   ]
  },
  {
   "cell_type": "code",
   "execution_count": 886,
   "metadata": {},
   "outputs": [
    {
     "data": {
      "text/plain": [
       "ID                    0\n",
       "customer_id           0\n",
       "_r_                   0\n",
       "Var9                  0\n",
       "Var10             28043\n",
       "Var1                  0\n",
       "Var4                  0\n",
       "Var5                  0\n",
       "Var6                  0\n",
       "Var7                  0\n",
       "Var8              20538\n",
       "Var15                 0\n",
       "Var16                 0\n",
       "Var17                32\n",
       "Var20                 0\n",
       "Var21                 0\n",
       "Var22                 0\n",
       "Var23                 0\n",
       "Var24                 0\n",
       "Var25              7401\n",
       "Var26             14649\n",
       "Var29                 0\n",
       "Var30                 0\n",
       "working_months        0\n",
       "dtype: int64"
      ]
     },
     "execution_count": 886,
     "metadata": {},
     "output_type": "execute_result"
    }
   ],
   "source": [
    "df[numeric_columns].isna().sum()"
   ]
  },
  {
   "cell_type": "markdown",
   "metadata": {},
   "source": [
    "#### Dependence of numeric variables with categorical variables"
   ]
  },
  {
   "cell_type": "markdown",
   "metadata": {},
   "source": [
    "Var10 and Var8 are strictly related to Var1 and Var2 respectively, so we wanted to check the NAs in dependent variables.\n",
    "However Var1 related to Var10 does not have any missings we moved to Var8 and Var2.\n",
    "\n",
    "We wanted to check if there are any NA observations of Var2 (Loan purpose) having Var8 (Value of goods(car)) set to some value. If yes we assume that the value is entered correctly and we are missing Var2 for some unknown reason.\n",
    "\n",
    "We decided to fill these rows with value 1 (meaning Car Loan).\n",
    "\n",
    "As we can observe below we have 1018 NAs before filling the data."
   ]
  },
  {
   "cell_type": "code",
   "execution_count": 887,
   "metadata": {},
   "outputs": [
    {
     "data": {
      "text/plain": [
       "1.0    15744\n",
       "3.0    10641\n",
       "2.0     9315\n",
       "NaN     1018\n",
       "Name: Var2, dtype: int64"
      ]
     },
     "execution_count": 887,
     "metadata": {},
     "output_type": "execute_result"
    }
   ],
   "source": [
    "# Count values inside Var8 group by value\n",
    "df['Var2'].value_counts(dropna=False)"
   ]
  },
  {
   "cell_type": "code",
   "execution_count": 888,
   "metadata": {},
   "outputs": [],
   "source": [
    "# Put value 1 to the column Var2 if Var8 is not NaN\n",
    "df.loc[~df['Var8'].isna(), 'Var2'] = 1"
   ]
  },
  {
   "cell_type": "markdown",
   "metadata": {},
   "source": [
    "After transformation the number of NaN in Var8 dropped by almost half"
   ]
  },
  {
   "cell_type": "code",
   "execution_count": 889,
   "metadata": {},
   "outputs": [
    {
     "data": {
      "text/plain": [
       "1.0    16180\n",
       "3.0    10641\n",
       "2.0     9315\n",
       "NaN      582\n",
       "Name: Var2, dtype: int64"
      ]
     },
     "execution_count": 889,
     "metadata": {},
     "output_type": "execute_result"
    }
   ],
   "source": [
    "# count values inside Var8 group by value\n",
    "df['Var2'].value_counts(dropna=False)"
   ]
  },
  {
   "cell_type": "markdown",
   "metadata": {},
   "source": [
    "#### Analyze Var9 and Var10\n",
    "\n",
    "We have 28043 null values in Var10 (income of second applicant). We would like to check how many of these NAs is because of the fact that there is just one applicant.\n",
    "\n",
    "As we can see below all of NAs are inside this group. We decided to sum these columns into one and name it \"income\"."
   ]
  },
  {
   "cell_type": "code",
   "execution_count": 890,
   "metadata": {},
   "outputs": [
    {
     "data": {
      "text/plain": [
       "28043"
      ]
     },
     "execution_count": 890,
     "metadata": {},
     "output_type": "execute_result"
    }
   ],
   "source": [
    "# Count the number of nulls where Var1 = 1\n",
    "df.loc[df[\"Var1\"] == 1, \"Var10\"].isna().sum()"
   ]
  },
  {
   "cell_type": "code",
   "execution_count": 891,
   "metadata": {},
   "outputs": [],
   "source": [
    "# Create a new colum income\n",
    "df[\"income\"] = df[\"Var9\"] + df[\"Var10\"].fillna(0).astype(int) # Var9 was as integer, Var10 was as float, but we do not have NAs"
   ]
  },
  {
   "cell_type": "code",
   "execution_count": 892,
   "metadata": {},
   "outputs": [],
   "source": [
    "# Drop columns Var9 and Var10\n",
    "df.drop([\"Var9\", \"Var10\"], axis=1, inplace=True)"
   ]
  },
  {
   "cell_type": "code",
   "execution_count": 893,
   "metadata": {},
   "outputs": [],
   "source": [
    "# update the list of numeric columns\n",
    "numeric_columns.remove(\"Var9\")\n",
    "numeric_columns.remove(\"Var10\")\n",
    "numeric_columns.append(\"income\")"
   ]
  },
  {
   "cell_type": "markdown",
   "metadata": {},
   "source": [
    "Check again the number of null values"
   ]
  },
  {
   "cell_type": "code",
   "execution_count": 894,
   "metadata": {},
   "outputs": [
    {
     "data": {
      "text/plain": [
       "ID                    0\n",
       "customer_id           0\n",
       "_r_                   0\n",
       "Var1                  0\n",
       "Var4                  0\n",
       "Var5                  0\n",
       "Var6                  0\n",
       "Var7                  0\n",
       "Var8              20538\n",
       "Var15                 0\n",
       "Var16                 0\n",
       "Var17                32\n",
       "Var20                 0\n",
       "Var21                 0\n",
       "Var22                 0\n",
       "Var23                 0\n",
       "Var24                 0\n",
       "Var25              7401\n",
       "Var26             14649\n",
       "Var29                 0\n",
       "Var30                 0\n",
       "working_months        0\n",
       "income                0\n",
       "dtype: int64"
      ]
     },
     "execution_count": 894,
     "metadata": {},
     "output_type": "execute_result"
    }
   ],
   "source": [
    "df[numeric_columns].isna().sum()"
   ]
  },
  {
   "cell_type": "markdown",
   "metadata": {},
   "source": [
    "# Zmiana - kategoryczne ciągłe\n",
    "\n",
    "Var8, Var25, Var26 - ciągła którą zamieniamy na kategoryczną + osobna kategoria na NA\n",
    "\n",
    "[TODO]"
   ]
  },
  {
   "cell_type": "markdown",
   "metadata": {},
   "source": [
    "We still have a few variables with nulls:\n",
    "\n",
    "* Var8 - Value of the goods (car) \n",
    "* Var17 - Spendings estimation - the number of NAs is low, there is a sense in filling this, we decided to use KNN to fill these variables.\n",
    "* Var25 - Amount on current account \n",
    "* Var26 - Amount on savings account\n",
    "\n",
    "When it comes to Var25 and Var26 we decidec to fill NAa with 0. NAs means probably that the client does not have account in our bank and we cannot reach that value or does not have any money on either current or saving account. In both cases there is an element of uncertainty which we decided to minimize.\n",
    "\n",
    "Because of this our model should be more conservative and penalize clients about whom we are not sure."
   ]
  },
  {
   "cell_type": "code",
   "execution_count": 895,
   "metadata": {},
   "outputs": [
    {
     "data": {
      "text/plain": [
       "55.93"
      ]
     },
     "execution_count": 895,
     "metadata": {},
     "output_type": "execute_result"
    }
   ],
   "source": [
    "# Check the percentage number of NAs in Var8 related to whole df\n",
    "round(df['Var8'].isna().sum() / df.shape[0] * 100, 2)"
   ]
  },
  {
   "cell_type": "code",
   "execution_count": 896,
   "metadata": {},
   "outputs": [
    {
     "data": {
      "text/plain": [
       "ID                    0\n",
       "customer_id           0\n",
       "_r_                   0\n",
       "Var1                  0\n",
       "Var4                  0\n",
       "Var5                  0\n",
       "Var6                  0\n",
       "Var7                  0\n",
       "Var8              20538\n",
       "Var15                 0\n",
       "Var16                 0\n",
       "Var17                32\n",
       "Var20                 0\n",
       "Var21                 0\n",
       "Var22                 0\n",
       "Var23                 0\n",
       "Var24                 0\n",
       "Var25              7401\n",
       "Var26             14649\n",
       "Var29                 0\n",
       "Var30                 0\n",
       "working_months        0\n",
       "income                0\n",
       "dtype: int64"
      ]
     },
     "execution_count": 896,
     "metadata": {},
     "output_type": "execute_result"
    }
   ],
   "source": [
    "df[numeric_columns].isna().sum()"
   ]
  },
  {
   "cell_type": "markdown",
   "metadata": {},
   "source": [
    "### Handle remaining NULL values"
   ]
  },
  {
   "cell_type": "code",
   "execution_count": 897,
   "metadata": {},
   "outputs": [
    {
     "data": {
      "text/plain": [
       "working_months        0\n",
       "ID                    0\n",
       "customer_id           0\n",
       "_r_                   0\n",
       "Var1                  0\n",
       "Var4                  0\n",
       "Var5                  0\n",
       "Var6                  0\n",
       "Var7                  0\n",
       "Var8              20538\n",
       "Var15                 0\n",
       "Var16                 0\n",
       "Var17                32\n",
       "Var20                 0\n",
       "Var21                 0\n",
       "Var22                 0\n",
       "Var23                 0\n",
       "Var24                 0\n",
       "Var25              7401\n",
       "Var26             14649\n",
       "Var29                 0\n",
       "Var30                 0\n",
       "Var2                582\n",
       "Var3               1018\n",
       "Var11                 0\n",
       "Var12             28043\n",
       "Var14                 0\n",
       "target                0\n",
       "Var18             27125\n",
       "Var19             20538\n",
       "Var27                 0\n",
       "Var28                 0\n",
       "income                0\n",
       "dtype: int64"
      ]
     },
     "execution_count": 897,
     "metadata": {},
     "output_type": "execute_result"
    }
   ],
   "source": [
    "df.isnull().sum()"
   ]
  },
  {
   "cell_type": "markdown",
   "metadata": {},
   "source": [
    "* Var17 - spedning estimation - as we wrote before, we will fill with KNN\n",
    "* Var2 - loan purpose [categorical] - drop NA rows\n",
    "* Var3 - Distribution channel [categorical] - drop NA rows\n",
    "* Var12 - profession of second applicant [categorical] - add new category\n",
    "* Var18 - Property ownership for property renovation\n",
    "* Var19 - Clasification of the vehicle (Car, Motorbike)\n",
    "\n",
    "When it comes to the Var18 and Var19 we analyze combining them with Var2 (loan purpose) and have 1 categorical variable with values:\n",
    "\n",
    "1. Car loan motorbike\n",
    "2. Car loan car\n",
    "3. House renovation your property\n",
    "4. House renovation not your property\n",
    "5. Short cash\n",
    "\n",
    "We finally decided not to use this approach, however we provide you with the short analysis why.\n",
    "\n",
    "Var18, Var19 - dodać kolejną kategorię"
   ]
  },
  {
   "cell_type": "markdown",
   "metadata": {},
   "source": [
    "#### Var12"
   ]
  },
  {
   "cell_type": "markdown",
   "metadata": {},
   "source": [
    "Check if all NAs in Var12 (profession of second applicant)are if Var1 == 1, so if there is just one applicant.\n",
    "\n",
    "The number of NAs in this category is the same as the number of NAs when Var1 == 1, so we fill it with a new category."
   ]
  },
  {
   "cell_type": "code",
   "execution_count": 898,
   "metadata": {},
   "outputs": [
    {
     "data": {
      "text/plain": [
       "28043"
      ]
     },
     "execution_count": 898,
     "metadata": {},
     "output_type": "execute_result"
    }
   ],
   "source": [
    "df.loc[df[\"Var1\"] == 1, \"Var12\"].isna().sum()"
   ]
  },
  {
   "cell_type": "markdown",
   "metadata": {},
   "source": [
    "Fill NA in Var12 (profession of second applicant) with new category: 8 - just one applicant"
   ]
  },
  {
   "cell_type": "code",
   "execution_count": 899,
   "metadata": {},
   "outputs": [],
   "source": [
    "df[\"Var12\"] = df[\"Var12\"].fillna(8)"
   ]
  },
  {
   "cell_type": "markdown",
   "metadata": {},
   "source": [
    "#### Var18 and Var19 - check\n",
    "\n",
    "Check if we can combine Var2 with Var18 and Var19 and having one categorical variable instead of one vategorical and 2 binary with huge amount of nulls. The new variable would consists of 5 values:\n",
    "\n",
    "1. Car loan motorbike\n",
    "2. Car loan car\n",
    "3. House renovation your property\n",
    "4. House renovation not your property\n",
    "5. Short cash\n",
    "\n",
    "First of all we need to check the values - if combining them would reduce the nulls to 0 and nulls are related only to the variable specificity or we really have some missing data.\n",
    "\n",
    "Var2 == 1 is related to Var 19 and Var2 == 2 is related to Var 18."
   ]
  },
  {
   "cell_type": "code",
   "execution_count": 900,
   "metadata": {},
   "outputs": [
    {
     "data": {
      "text/plain": [
       "36718"
      ]
     },
     "execution_count": 900,
     "metadata": {},
     "output_type": "execute_result"
    }
   ],
   "source": [
    "df.shape[0]"
   ]
  },
  {
   "cell_type": "code",
   "execution_count": 901,
   "metadata": {},
   "outputs": [
    {
     "name": "stdout",
     "output_type": "stream",
     "text": [
      "9315\n",
      "16180\n",
      "10641\n",
      "36136\n"
     ]
    }
   ],
   "source": [
    "# Check if the number of \"conditional\" values is the same as the number of rows in df\n",
    "\n",
    "# Count rows where Var2 == 1 and Var19 is not NaN\n",
    "var2_19 = df[(df['Var2'] == 1) & (~df['Var19'].isna())].shape[0]\n",
    "\n",
    "# Count rows where Var2 == 2 and Var 18 is not NaN\n",
    "var2_18 = df[(df['Var2'] == 2) & (~df['Var18'].isna())].shape[0]\n",
    "\n",
    "# Count rows where Var2 == 3\n",
    "var2_3 = df.loc[df[\"Var2\"] == 3].shape[0]\n",
    "\n",
    "# Calculate of sum\n",
    "sum = var2_19 + var2_18 + var2_3\n",
    "\n",
    "print(var2_18)\n",
    "print(var2_19)\n",
    "print(var2_3)\n",
    "print(sum)"
   ]
  },
  {
   "cell_type": "markdown",
   "metadata": {},
   "source": [
    "The number of rows in df is 36718 while the \"conditional\" sum is 36136, meaning that there would be a new category or we would need to add original values from Var2 and the number of categories would increase.\n",
    "\n",
    "Lets try to create this categorical column and see the distribution."
   ]
  },
  {
   "cell_type": "code",
   "execution_count": 902,
   "metadata": {},
   "outputs": [],
   "source": [
    "# Add new column loan_desc\n",
    "df['loan_desc'] = 0\n",
    "\n",
    "# Check conditions\n",
    "df.loc[(df['Var2'] == 1) & (df['Var19'] == 1), 'loan_desc'] = 1\n",
    "df.loc[(df['Var2'] == 1) & (df['Var19'] == 0), 'loan_desc'] = 2\n",
    "df.loc[(df['Var2'] == 2) & (df['Var18'] == 1), 'loan_desc'] = 3\n",
    "df.loc[(df['Var2'] == 2) & (df['Var18'] == 0), 'loan_desc'] = 4\n",
    "df.loc[df['Var2'] == 3, 'loan_desc'] = 5"
   ]
  },
  {
   "cell_type": "code",
   "execution_count": 903,
   "metadata": {},
   "outputs": [
    {
     "data": {
      "text/plain": [
       "1    11823\n",
       "5    10641\n",
       "3     7840\n",
       "2     4357\n",
       "4     1475\n",
       "0      582\n",
       "Name: loan_desc, dtype: int64"
      ]
     },
     "execution_count": 903,
     "metadata": {},
     "output_type": "execute_result"
    }
   ],
   "source": [
    "df['loan_desc'].value_counts(dropna=False)"
   ]
  },
  {
   "cell_type": "markdown",
   "metadata": {},
   "source": [
    "As we can observe above introducing new variables diveded the df into smaller, not very numerous groups. Vast majority of data are concentrated around 1, 5 and 3 group so probably (there was no precise description of variable Var18 and Var19) for:\n",
    "\n",
    " * Car loan for car\n",
    " * House renovation for client's property\n",
    " * Short cash\n",
    "\n",
    "These new two groups (2, 4) and additional 0 constitute a small percentage of all df.\n",
    "\n",
    "Summarizing we decide to go with variable Var2 and delete Var18 and Var19."
   ]
  },
  {
   "cell_type": "code",
   "execution_count": 904,
   "metadata": {},
   "outputs": [
    {
     "data": {
      "text/plain": [
       "(36718, 34)"
      ]
     },
     "execution_count": 904,
     "metadata": {},
     "output_type": "execute_result"
    }
   ],
   "source": [
    "df.shape"
   ]
  },
  {
   "cell_type": "markdown",
   "metadata": {},
   "source": [
    "#### Drop Var18 i Var19"
   ]
  },
  {
   "cell_type": "code",
   "execution_count": 905,
   "metadata": {},
   "outputs": [],
   "source": [
    "# Drop Var18 and Var19 columns\n",
    "df.drop('Var18', axis=1, inplace=True)\n",
    "df.drop('Var19', axis=1, inplace=True)"
   ]
  },
  {
   "cell_type": "code",
   "execution_count": 906,
   "metadata": {},
   "outputs": [],
   "source": [
    "# Update the list of binary columns\n",
    "binary_columns.remove('Var18')\n",
    "binary_columns.remove('Var19')"
   ]
  },
  {
   "cell_type": "markdown",
   "metadata": {},
   "source": [
    "#### Var2 and Var3 - drop NAs"
   ]
  },
  {
   "cell_type": "code",
   "execution_count": 907,
   "metadata": {},
   "outputs": [],
   "source": [
    "# Drop NA rows fof Var2\n",
    "df = df[~df['Var2'].isna()]\n",
    "df = df[~df['Var3'].isna()]"
   ]
  },
  {
   "cell_type": "code",
   "execution_count": 908,
   "metadata": {},
   "outputs": [
    {
     "data": {
      "text/plain": [
       "1.0    18354\n",
       "2.0    12066\n",
       "3.0     5280\n",
       "Name: Var3, dtype: int64"
      ]
     },
     "execution_count": 908,
     "metadata": {},
     "output_type": "execute_result"
    }
   ],
   "source": [
    "# sum number of observations for each category in Var3\n",
    "df['Var3'].value_counts(dropna=False)"
   ]
  },
  {
   "cell_type": "code",
   "execution_count": 909,
   "metadata": {},
   "outputs": [
    {
     "data": {
      "text/plain": [
       "working_months        0\n",
       "ID                    0\n",
       "customer_id           0\n",
       "_r_                   0\n",
       "Var1                  0\n",
       "Var4                  0\n",
       "Var5                  0\n",
       "Var6                  0\n",
       "Var7                  0\n",
       "Var8              19956\n",
       "Var15                 0\n",
       "Var16                 0\n",
       "Var17                31\n",
       "Var20                 0\n",
       "Var21                 0\n",
       "Var22                 0\n",
       "Var23                 0\n",
       "Var24                 0\n",
       "Var25              7172\n",
       "Var26             14201\n",
       "Var29                 0\n",
       "Var30                 0\n",
       "Var2                  0\n",
       "Var3                  0\n",
       "Var11                 0\n",
       "Var12                 0\n",
       "Var14                 0\n",
       "target                0\n",
       "Var27                 0\n",
       "Var28                 0\n",
       "income                0\n",
       "loan_desc             0\n",
       "dtype: int64"
      ]
     },
     "execution_count": 909,
     "metadata": {},
     "output_type": "execute_result"
    }
   ],
   "source": [
    "df.isna().sum()"
   ]
  },
  {
   "cell_type": "markdown",
   "metadata": {},
   "source": [
    "Summarizing we still have 31 NAs in Var17 which will be filled using KNN"
   ]
  },
  {
   "cell_type": "markdown",
   "metadata": {},
   "source": [
    "### Handling numeric/categorical NAs\n",
    "\n",
    "Var8, Var25, Var26 - ciągła którą zamieniamy na kategoryczną + osobna kategoria na NA"
   ]
  },
  {
   "cell_type": "markdown",
   "metadata": {},
   "source": [
    "#### Var8"
   ]
  },
  {
   "cell_type": "code",
   "execution_count": 910,
   "metadata": {},
   "outputs": [],
   "source": [
    "def quantile_cut_and_merge(df, column_name):\n",
    "    # Filter out NaN values from the specified column\n",
    "    df_filtered = df.dropna(subset=[column_name])\n",
    "    \n",
    "    # Perform quantile cut on filtered DataFrame\n",
    "    df_filtered[column_name + '_q'] = pd.qcut(df_filtered[column_name], 10, labels=False, duplicates='drop')\n",
    "    \n",
    "    # Merge the results back into the original DataFrame\n",
    "    df = df.merge(df_filtered[['ID', column_name + '_q']], how='left', on='ID')\n",
    "    \n",
    "    # Fill NaN values in the new quantile column with 10\n",
    "    df[column_name + '_q'] = df[column_name + '_q'].fillna(10)\n",
    "    \n",
    "    # Drop the original column\n",
    "    df.drop(column_name, axis=1, inplace=True)\n",
    "    \n",
    "    return df"
   ]
  },
  {
   "cell_type": "code",
   "execution_count": 911,
   "metadata": {},
   "outputs": [
    {
     "name": "stderr",
     "output_type": "stream",
     "text": [
      "/var/folders/rh/w6cl6rd95vj2g4s03scz_4fc0000gn/T/ipykernel_56015/3854490666.py:6: SettingWithCopyWarning: \n",
      "A value is trying to be set on a copy of a slice from a DataFrame.\n",
      "Try using .loc[row_indexer,col_indexer] = value instead\n",
      "\n",
      "See the caveats in the documentation: https://pandas.pydata.org/pandas-docs/stable/user_guide/indexing.html#returning-a-view-versus-a-copy\n",
      "  df_filtered[column_name + '_q'] = pd.qcut(df_filtered[column_name], 10, labels=False, duplicates='drop')\n",
      "/var/folders/rh/w6cl6rd95vj2g4s03scz_4fc0000gn/T/ipykernel_56015/3854490666.py:6: SettingWithCopyWarning: \n",
      "A value is trying to be set on a copy of a slice from a DataFrame.\n",
      "Try using .loc[row_indexer,col_indexer] = value instead\n",
      "\n",
      "See the caveats in the documentation: https://pandas.pydata.org/pandas-docs/stable/user_guide/indexing.html#returning-a-view-versus-a-copy\n",
      "  df_filtered[column_name + '_q'] = pd.qcut(df_filtered[column_name], 10, labels=False, duplicates='drop')\n",
      "/var/folders/rh/w6cl6rd95vj2g4s03scz_4fc0000gn/T/ipykernel_56015/3854490666.py:6: SettingWithCopyWarning: \n",
      "A value is trying to be set on a copy of a slice from a DataFrame.\n",
      "Try using .loc[row_indexer,col_indexer] = value instead\n",
      "\n",
      "See the caveats in the documentation: https://pandas.pydata.org/pandas-docs/stable/user_guide/indexing.html#returning-a-view-versus-a-copy\n",
      "  df_filtered[column_name + '_q'] = pd.qcut(df_filtered[column_name], 10, labels=False, duplicates='drop')\n"
     ]
    }
   ],
   "source": [
    "for col in ['Var8', 'Var25', 'Var26']:\n",
    "    df = quantile_cut_and_merge(df, col)"
   ]
  },
  {
   "cell_type": "markdown",
   "metadata": {},
   "source": [
    "#### Handle categorical variables without NAs"
   ]
  },
  {
   "cell_type": "code",
   "execution_count": 912,
   "metadata": {},
   "outputs": [],
   "source": [
    "# Continuous columns to be changed to categorical\n",
    "columns = ['working_months', 'Var4', 'Var5', 'Var7', 'income', 'Var24', 'Var29', 'Var30']\n",
    "\n",
    "for col in columns:\n",
    "    # Perform quantile cut on filtered DataFrame\n",
    "    df[col] = pd.qcut(df[col], 10, labels=False, duplicates='drop')"
   ]
  },
  {
   "cell_type": "markdown",
   "metadata": {},
   "source": [
    "#### _r_ - drop"
   ]
  },
  {
   "cell_type": "code",
   "execution_count": 913,
   "metadata": {},
   "outputs": [],
   "source": [
    "# Drop _r_ column\n",
    "df.drop('_r_', axis=1, inplace=True)"
   ]
  },
  {
   "cell_type": "code",
   "execution_count": 914,
   "metadata": {},
   "outputs": [
    {
     "data": {
      "text/html": [
       "<div>\n",
       "<style scoped>\n",
       "    .dataframe tbody tr th:only-of-type {\n",
       "        vertical-align: middle;\n",
       "    }\n",
       "\n",
       "    .dataframe tbody tr th {\n",
       "        vertical-align: top;\n",
       "    }\n",
       "\n",
       "    .dataframe thead th {\n",
       "        text-align: right;\n",
       "    }\n",
       "</style>\n",
       "<table border=\"1\" class=\"dataframe\">\n",
       "  <thead>\n",
       "    <tr style=\"text-align: right;\">\n",
       "      <th></th>\n",
       "      <th>working_months</th>\n",
       "      <th>ID</th>\n",
       "      <th>customer_id</th>\n",
       "      <th>Var1</th>\n",
       "      <th>Var4</th>\n",
       "      <th>Var5</th>\n",
       "      <th>Var6</th>\n",
       "      <th>Var7</th>\n",
       "      <th>Var15</th>\n",
       "      <th>Var16</th>\n",
       "      <th>...</th>\n",
       "      <th>Var12</th>\n",
       "      <th>Var14</th>\n",
       "      <th>target</th>\n",
       "      <th>Var27</th>\n",
       "      <th>Var28</th>\n",
       "      <th>income</th>\n",
       "      <th>loan_desc</th>\n",
       "      <th>Var8_q</th>\n",
       "      <th>Var25_q</th>\n",
       "      <th>Var26_q</th>\n",
       "    </tr>\n",
       "  </thead>\n",
       "  <tbody>\n",
       "    <tr>\n",
       "      <th>0</th>\n",
       "      <td>2</td>\n",
       "      <td>11034977</td>\n",
       "      <td>32537148</td>\n",
       "      <td>1</td>\n",
       "      <td>2</td>\n",
       "      <td>9</td>\n",
       "      <td>1</td>\n",
       "      <td>0</td>\n",
       "      <td>0</td>\n",
       "      <td>0</td>\n",
       "      <td>...</td>\n",
       "      <td>8.0</td>\n",
       "      <td>2</td>\n",
       "      <td>0.0</td>\n",
       "      <td>0</td>\n",
       "      <td>0</td>\n",
       "      <td>1</td>\n",
       "      <td>3</td>\n",
       "      <td>10.0</td>\n",
       "      <td>3.0</td>\n",
       "      <td>0.0</td>\n",
       "    </tr>\n",
       "    <tr>\n",
       "      <th>1</th>\n",
       "      <td>5</td>\n",
       "      <td>11034978</td>\n",
       "      <td>32761663</td>\n",
       "      <td>1</td>\n",
       "      <td>3</td>\n",
       "      <td>9</td>\n",
       "      <td>1</td>\n",
       "      <td>0</td>\n",
       "      <td>4</td>\n",
       "      <td>4</td>\n",
       "      <td>...</td>\n",
       "      <td>8.0</td>\n",
       "      <td>4</td>\n",
       "      <td>0.0</td>\n",
       "      <td>0</td>\n",
       "      <td>0</td>\n",
       "      <td>0</td>\n",
       "      <td>1</td>\n",
       "      <td>0.0</td>\n",
       "      <td>3.0</td>\n",
       "      <td>1.0</td>\n",
       "    </tr>\n",
       "    <tr>\n",
       "      <th>2</th>\n",
       "      <td>9</td>\n",
       "      <td>11034979</td>\n",
       "      <td>32701063</td>\n",
       "      <td>2</td>\n",
       "      <td>0</td>\n",
       "      <td>2</td>\n",
       "      <td>1</td>\n",
       "      <td>0</td>\n",
       "      <td>0</td>\n",
       "      <td>0</td>\n",
       "      <td>...</td>\n",
       "      <td>5.0</td>\n",
       "      <td>1</td>\n",
       "      <td>0.0</td>\n",
       "      <td>0</td>\n",
       "      <td>0</td>\n",
       "      <td>5</td>\n",
       "      <td>5</td>\n",
       "      <td>10.0</td>\n",
       "      <td>3.0</td>\n",
       "      <td>0.0</td>\n",
       "    </tr>\n",
       "    <tr>\n",
       "      <th>3</th>\n",
       "      <td>9</td>\n",
       "      <td>11034980</td>\n",
       "      <td>32386786</td>\n",
       "      <td>3</td>\n",
       "      <td>3</td>\n",
       "      <td>5</td>\n",
       "      <td>6</td>\n",
       "      <td>9</td>\n",
       "      <td>0</td>\n",
       "      <td>0</td>\n",
       "      <td>...</td>\n",
       "      <td>5.0</td>\n",
       "      <td>1</td>\n",
       "      <td>0.0</td>\n",
       "      <td>0</td>\n",
       "      <td>0</td>\n",
       "      <td>2</td>\n",
       "      <td>2</td>\n",
       "      <td>0.0</td>\n",
       "      <td>1.0</td>\n",
       "      <td>4.0</td>\n",
       "    </tr>\n",
       "    <tr>\n",
       "      <th>4</th>\n",
       "      <td>0</td>\n",
       "      <td>11034982</td>\n",
       "      <td>32861919</td>\n",
       "      <td>1</td>\n",
       "      <td>2</td>\n",
       "      <td>6</td>\n",
       "      <td>1</td>\n",
       "      <td>0</td>\n",
       "      <td>1</td>\n",
       "      <td>1</td>\n",
       "      <td>...</td>\n",
       "      <td>8.0</td>\n",
       "      <td>0</td>\n",
       "      <td>0.0</td>\n",
       "      <td>0</td>\n",
       "      <td>0</td>\n",
       "      <td>0</td>\n",
       "      <td>4</td>\n",
       "      <td>10.0</td>\n",
       "      <td>0.0</td>\n",
       "      <td>10.0</td>\n",
       "    </tr>\n",
       "    <tr>\n",
       "      <th>...</th>\n",
       "      <td>...</td>\n",
       "      <td>...</td>\n",
       "      <td>...</td>\n",
       "      <td>...</td>\n",
       "      <td>...</td>\n",
       "      <td>...</td>\n",
       "      <td>...</td>\n",
       "      <td>...</td>\n",
       "      <td>...</td>\n",
       "      <td>...</td>\n",
       "      <td>...</td>\n",
       "      <td>...</td>\n",
       "      <td>...</td>\n",
       "      <td>...</td>\n",
       "      <td>...</td>\n",
       "      <td>...</td>\n",
       "      <td>...</td>\n",
       "      <td>...</td>\n",
       "      <td>...</td>\n",
       "      <td>...</td>\n",
       "      <td>...</td>\n",
       "    </tr>\n",
       "    <tr>\n",
       "      <th>35695</th>\n",
       "      <td>7</td>\n",
       "      <td>11084969</td>\n",
       "      <td>32845249</td>\n",
       "      <td>1</td>\n",
       "      <td>1</td>\n",
       "      <td>0</td>\n",
       "      <td>6</td>\n",
       "      <td>9</td>\n",
       "      <td>0</td>\n",
       "      <td>0</td>\n",
       "      <td>...</td>\n",
       "      <td>8.0</td>\n",
       "      <td>0</td>\n",
       "      <td>0.0</td>\n",
       "      <td>0</td>\n",
       "      <td>0</td>\n",
       "      <td>8</td>\n",
       "      <td>5</td>\n",
       "      <td>10.0</td>\n",
       "      <td>10.0</td>\n",
       "      <td>10.0</td>\n",
       "    </tr>\n",
       "    <tr>\n",
       "      <th>35696</th>\n",
       "      <td>8</td>\n",
       "      <td>11084970</td>\n",
       "      <td>32623752</td>\n",
       "      <td>1</td>\n",
       "      <td>7</td>\n",
       "      <td>2</td>\n",
       "      <td>3</td>\n",
       "      <td>9</td>\n",
       "      <td>1</td>\n",
       "      <td>1</td>\n",
       "      <td>...</td>\n",
       "      <td>8.0</td>\n",
       "      <td>1</td>\n",
       "      <td>0.0</td>\n",
       "      <td>0</td>\n",
       "      <td>0</td>\n",
       "      <td>8</td>\n",
       "      <td>3</td>\n",
       "      <td>10.0</td>\n",
       "      <td>5.0</td>\n",
       "      <td>9.0</td>\n",
       "    </tr>\n",
       "    <tr>\n",
       "      <th>35697</th>\n",
       "      <td>5</td>\n",
       "      <td>11084972</td>\n",
       "      <td>32554904</td>\n",
       "      <td>2</td>\n",
       "      <td>9</td>\n",
       "      <td>9</td>\n",
       "      <td>1</td>\n",
       "      <td>2</td>\n",
       "      <td>0</td>\n",
       "      <td>1</td>\n",
       "      <td>...</td>\n",
       "      <td>5.0</td>\n",
       "      <td>0</td>\n",
       "      <td>1.0</td>\n",
       "      <td>0</td>\n",
       "      <td>0</td>\n",
       "      <td>8</td>\n",
       "      <td>2</td>\n",
       "      <td>8.0</td>\n",
       "      <td>10.0</td>\n",
       "      <td>10.0</td>\n",
       "    </tr>\n",
       "    <tr>\n",
       "      <th>35698</th>\n",
       "      <td>6</td>\n",
       "      <td>11084974</td>\n",
       "      <td>32433438</td>\n",
       "      <td>1</td>\n",
       "      <td>9</td>\n",
       "      <td>2</td>\n",
       "      <td>1</td>\n",
       "      <td>9</td>\n",
       "      <td>0</td>\n",
       "      <td>0</td>\n",
       "      <td>...</td>\n",
       "      <td>8.0</td>\n",
       "      <td>0</td>\n",
       "      <td>0.0</td>\n",
       "      <td>0</td>\n",
       "      <td>0</td>\n",
       "      <td>9</td>\n",
       "      <td>1</td>\n",
       "      <td>9.0</td>\n",
       "      <td>5.0</td>\n",
       "      <td>9.0</td>\n",
       "    </tr>\n",
       "    <tr>\n",
       "      <th>35699</th>\n",
       "      <td>7</td>\n",
       "      <td>11084976</td>\n",
       "      <td>32834539</td>\n",
       "      <td>1</td>\n",
       "      <td>2</td>\n",
       "      <td>0</td>\n",
       "      <td>1</td>\n",
       "      <td>6</td>\n",
       "      <td>0</td>\n",
       "      <td>0</td>\n",
       "      <td>...</td>\n",
       "      <td>8.0</td>\n",
       "      <td>4</td>\n",
       "      <td>0.0</td>\n",
       "      <td>0</td>\n",
       "      <td>0</td>\n",
       "      <td>6</td>\n",
       "      <td>5</td>\n",
       "      <td>10.0</td>\n",
       "      <td>10.0</td>\n",
       "      <td>10.0</td>\n",
       "    </tr>\n",
       "  </tbody>\n",
       "</table>\n",
       "<p>35700 rows × 31 columns</p>\n",
       "</div>"
      ],
      "text/plain": [
       "       working_months        ID  customer_id  Var1  Var4  Var5  Var6  Var7  \\\n",
       "0                   2  11034977     32537148     1     2     9     1     0   \n",
       "1                   5  11034978     32761663     1     3     9     1     0   \n",
       "2                   9  11034979     32701063     2     0     2     1     0   \n",
       "3                   9  11034980     32386786     3     3     5     6     9   \n",
       "4                   0  11034982     32861919     1     2     6     1     0   \n",
       "...               ...       ...          ...   ...   ...   ...   ...   ...   \n",
       "35695               7  11084969     32845249     1     1     0     6     9   \n",
       "35696               8  11084970     32623752     1     7     2     3     9   \n",
       "35697               5  11084972     32554904     2     9     9     1     2   \n",
       "35698               6  11084974     32433438     1     9     2     1     9   \n",
       "35699               7  11084976     32834539     1     2     0     1     6   \n",
       "\n",
       "       Var15  Var16  ...  Var12  Var14  target  Var27  Var28  income  \\\n",
       "0          0      0  ...    8.0      2     0.0      0      0       1   \n",
       "1          4      4  ...    8.0      4     0.0      0      0       0   \n",
       "2          0      0  ...    5.0      1     0.0      0      0       5   \n",
       "3          0      0  ...    5.0      1     0.0      0      0       2   \n",
       "4          1      1  ...    8.0      0     0.0      0      0       0   \n",
       "...      ...    ...  ...    ...    ...     ...    ...    ...     ...   \n",
       "35695      0      0  ...    8.0      0     0.0      0      0       8   \n",
       "35696      1      1  ...    8.0      1     0.0      0      0       8   \n",
       "35697      0      1  ...    5.0      0     1.0      0      0       8   \n",
       "35698      0      0  ...    8.0      0     0.0      0      0       9   \n",
       "35699      0      0  ...    8.0      4     0.0      0      0       6   \n",
       "\n",
       "       loan_desc  Var8_q  Var25_q  Var26_q  \n",
       "0              3    10.0      3.0      0.0  \n",
       "1              1     0.0      3.0      1.0  \n",
       "2              5    10.0      3.0      0.0  \n",
       "3              2     0.0      1.0      4.0  \n",
       "4              4    10.0      0.0     10.0  \n",
       "...          ...     ...      ...      ...  \n",
       "35695          5    10.0     10.0     10.0  \n",
       "35696          3    10.0      5.0      9.0  \n",
       "35697          2     8.0     10.0     10.0  \n",
       "35698          1     9.0      5.0      9.0  \n",
       "35699          5    10.0     10.0     10.0  \n",
       "\n",
       "[35700 rows x 31 columns]"
      ]
     },
     "execution_count": 914,
     "metadata": {},
     "output_type": "execute_result"
    }
   ],
   "source": [
    "df"
   ]
  },
  {
   "cell_type": "markdown",
   "metadata": {},
   "source": [
    "#### Zmienne problematyczne:\n",
    "\n",
    "* Var20\n",
    "* Var21\n",
    "* Var22\n",
    "* Var30"
   ]
  },
  {
   "cell_type": "markdown",
   "metadata": {},
   "source": [
    "#### Var20"
   ]
  },
  {
   "cell_type": "code",
   "execution_count": 915,
   "metadata": {},
   "outputs": [
    {
     "data": {
      "text/plain": [
       "0     23044\n",
       "1      8430\n",
       "2      2699\n",
       "3       887\n",
       "4       358\n",
       "5       143\n",
       "6        70\n",
       "7        34\n",
       "8        16\n",
       "9        10\n",
       "11        3\n",
       "10        3\n",
       "13        2\n",
       "15        1\n",
       "Name: Var20, dtype: int64"
      ]
     },
     "execution_count": 915,
     "metadata": {},
     "output_type": "execute_result"
    }
   ],
   "source": [
    "df['Var20'].value_counts(dropna=False)"
   ]
  },
  {
   "cell_type": "code",
   "execution_count": 916,
   "metadata": {},
   "outputs": [],
   "source": [
    "# create a new column Var20_1 filled basing on Var20\n",
    "def process_var(var, df):\n",
    "    df[var + '_1'] = 0\n",
    "    df.loc[df[var].isin([1, 2]), var + '_1'] = 1\n",
    "    df.loc[df[var].isin([3, 4, 5]), var + '_1'] = 2\n",
    "    df.loc[df[var] > 5, var + '_1'] = 3\n",
    "    return df"
   ]
  },
  {
   "cell_type": "code",
   "execution_count": 917,
   "metadata": {},
   "outputs": [],
   "source": [
    "df = process_var('Var20', df)"
   ]
  },
  {
   "cell_type": "code",
   "execution_count": 918,
   "metadata": {},
   "outputs": [
    {
     "data": {
      "text/plain": [
       "0    23044\n",
       "1    11129\n",
       "2     1388\n",
       "3      139\n",
       "Name: Var20_1, dtype: int64"
      ]
     },
     "execution_count": 918,
     "metadata": {},
     "output_type": "execute_result"
    }
   ],
   "source": [
    "df['Var20_1'].value_counts(dropna=False)"
   ]
  },
  {
   "cell_type": "code",
   "execution_count": 919,
   "metadata": {},
   "outputs": [],
   "source": [
    "df.drop('Var20', axis=1, inplace=True)"
   ]
  },
  {
   "cell_type": "markdown",
   "metadata": {},
   "source": [
    "#### Var 21"
   ]
  },
  {
   "cell_type": "code",
   "execution_count": 920,
   "metadata": {},
   "outputs": [
    {
     "data": {
      "text/plain": [
       "0     16659\n",
       "1     10280\n",
       "2      4856\n",
       "3      2099\n",
       "4       931\n",
       "5       449\n",
       "6       212\n",
       "7        91\n",
       "8        47\n",
       "9        39\n",
       "10       15\n",
       "11        6\n",
       "12        6\n",
       "13        4\n",
       "14        3\n",
       "16        1\n",
       "18        1\n",
       "15        1\n",
       "Name: Var21, dtype: int64"
      ]
     },
     "execution_count": 920,
     "metadata": {},
     "output_type": "execute_result"
    }
   ],
   "source": [
    "df['Var21'].value_counts(dropna=False)"
   ]
  },
  {
   "cell_type": "code",
   "execution_count": 921,
   "metadata": {},
   "outputs": [],
   "source": [
    "df = process_var('Var21', df)"
   ]
  },
  {
   "cell_type": "code",
   "execution_count": 922,
   "metadata": {},
   "outputs": [
    {
     "data": {
      "text/plain": [
       "0    16659\n",
       "1    15136\n",
       "2     3479\n",
       "3      426\n",
       "Name: Var21_1, dtype: int64"
      ]
     },
     "execution_count": 922,
     "metadata": {},
     "output_type": "execute_result"
    }
   ],
   "source": [
    "df['Var21_1'].value_counts(dropna=False)"
   ]
  },
  {
   "cell_type": "code",
   "execution_count": 923,
   "metadata": {},
   "outputs": [],
   "source": [
    "df.drop('Var21', axis=1, inplace=True)"
   ]
  },
  {
   "cell_type": "markdown",
   "metadata": {},
   "source": [
    "#### Var22"
   ]
  },
  {
   "cell_type": "code",
   "execution_count": 924,
   "metadata": {},
   "outputs": [
    {
     "data": {
      "text/plain": [
       "0     12936\n",
       "1     10490\n",
       "2      5960\n",
       "3      3098\n",
       "4      1586\n",
       "5       781\n",
       "6       406\n",
       "7       190\n",
       "8       101\n",
       "9        66\n",
       "10       31\n",
       "11       21\n",
       "12       14\n",
       "13        8\n",
       "14        6\n",
       "16        3\n",
       "15        2\n",
       "18        1\n",
       "Name: Var22, dtype: int64"
      ]
     },
     "execution_count": 924,
     "metadata": {},
     "output_type": "execute_result"
    }
   ],
   "source": [
    "df['Var22'].value_counts(dropna=False)"
   ]
  },
  {
   "cell_type": "code",
   "execution_count": 925,
   "metadata": {},
   "outputs": [],
   "source": [
    "df = process_var('Var22', df)"
   ]
  },
  {
   "cell_type": "code",
   "execution_count": 926,
   "metadata": {},
   "outputs": [
    {
     "data": {
      "text/plain": [
       "1    16450\n",
       "0    12936\n",
       "2     5465\n",
       "3      849\n",
       "Name: Var22_1, dtype: int64"
      ]
     },
     "execution_count": 926,
     "metadata": {},
     "output_type": "execute_result"
    }
   ],
   "source": [
    "df['Var22_1'].value_counts(dropna=False)"
   ]
  },
  {
   "cell_type": "code",
   "execution_count": 927,
   "metadata": {},
   "outputs": [],
   "source": [
    "df.drop('Var22', axis=1, inplace=True)"
   ]
  },
  {
   "cell_type": "markdown",
   "metadata": {},
   "source": [
    "#### Var30\n",
    "\n",
    "Leave as is"
   ]
  },
  {
   "cell_type": "code",
   "execution_count": 928,
   "metadata": {},
   "outputs": [
    {
     "data": {
      "text/plain": [
       "6    7834\n",
       "1    5910\n",
       "0    4081\n",
       "7    4020\n",
       "4    3616\n",
       "5    3508\n",
       "3    3421\n",
       "2    3310\n",
       "Name: Var30, dtype: int64"
      ]
     },
     "execution_count": 928,
     "metadata": {},
     "output_type": "execute_result"
    }
   ],
   "source": [
    "df['Var30'].value_counts(dropna=False)"
   ]
  },
  {
   "cell_type": "code",
   "execution_count": 929,
   "metadata": {},
   "outputs": [
    {
     "data": {
      "text/plain": [
       "working_months     0\n",
       "ID                 0\n",
       "customer_id        0\n",
       "Var1               0\n",
       "Var4               0\n",
       "Var5               0\n",
       "Var6               0\n",
       "Var7               0\n",
       "Var15              0\n",
       "Var16              0\n",
       "Var17             31\n",
       "Var23              0\n",
       "Var24              0\n",
       "Var29              0\n",
       "Var30              0\n",
       "Var2               0\n",
       "Var3               0\n",
       "Var11              0\n",
       "Var12              0\n",
       "Var14              0\n",
       "target             0\n",
       "Var27              0\n",
       "Var28              0\n",
       "income             0\n",
       "loan_desc          0\n",
       "Var8_q             0\n",
       "Var25_q            0\n",
       "Var26_q            0\n",
       "Var20_1            0\n",
       "Var21_1            0\n",
       "Var22_1            0\n",
       "dtype: int64"
      ]
     },
     "execution_count": 929,
     "metadata": {},
     "output_type": "execute_result"
    }
   ],
   "source": [
    "df.isna().sum()"
   ]
  },
  {
   "cell_type": "markdown",
   "metadata": {},
   "source": [
    "### Filling NAs with KNN"
   ]
  },
  {
   "cell_type": "code",
   "execution_count": 930,
   "metadata": {},
   "outputs": [
    {
     "name": "stdout",
     "output_type": "stream",
     "text": [
      "<class 'pandas.core.frame.DataFrame'>\n",
      "Int64Index: 35700 entries, 0 to 35699\n",
      "Data columns (total 31 columns):\n",
      " #   Column          Non-Null Count  Dtype  \n",
      "---  ------          --------------  -----  \n",
      " 0   working_months  35700 non-null  int64  \n",
      " 1   ID              35700 non-null  int64  \n",
      " 2   customer_id     35700 non-null  int64  \n",
      " 3   Var1            35700 non-null  int64  \n",
      " 4   Var4            35700 non-null  int64  \n",
      " 5   Var5            35700 non-null  int64  \n",
      " 6   Var6            35700 non-null  int64  \n",
      " 7   Var7            35700 non-null  int64  \n",
      " 8   Var15           35700 non-null  int64  \n",
      " 9   Var16           35700 non-null  int64  \n",
      " 10  Var17           35669 non-null  float64\n",
      " 11  Var23           35700 non-null  int64  \n",
      " 12  Var24           35700 non-null  int64  \n",
      " 13  Var29           35700 non-null  int64  \n",
      " 14  Var30           35700 non-null  int64  \n",
      " 15  Var2            35700 non-null  float64\n",
      " 16  Var3            35700 non-null  float64\n",
      " 17  Var11           35700 non-null  int64  \n",
      " 18  Var12           35700 non-null  float64\n",
      " 19  Var14           35700 non-null  int64  \n",
      " 20  target          35700 non-null  float64\n",
      " 21  Var27           35700 non-null  int64  \n",
      " 22  Var28           35700 non-null  int64  \n",
      " 23  income          35700 non-null  int64  \n",
      " 24  loan_desc       35700 non-null  int64  \n",
      " 25  Var8_q          35700 non-null  float64\n",
      " 26  Var25_q         35700 non-null  float64\n",
      " 27  Var26_q         35700 non-null  float64\n",
      " 28  Var20_1         35700 non-null  int64  \n",
      " 29  Var21_1         35700 non-null  int64  \n",
      " 30  Var22_1         35700 non-null  int64  \n",
      "dtypes: float64(8), int64(23)\n",
      "memory usage: 8.7 MB\n"
     ]
    }
   ],
   "source": [
    "df.info()"
   ]
  },
  {
   "cell_type": "code",
   "execution_count": 931,
   "metadata": {},
   "outputs": [],
   "source": [
    "# change working_months to int32\n",
    "df['working_months'] = df['working_months'].astype('int32')"
   ]
  },
  {
   "cell_type": "code",
   "execution_count": 932,
   "metadata": {},
   "outputs": [
    {
     "name": "stdout",
     "output_type": "stream",
     "text": [
      "<class 'pandas.core.frame.DataFrame'>\n",
      "Int64Index: 35700 entries, 0 to 35699\n",
      "Data columns (total 31 columns):\n",
      " #   Column          Non-Null Count  Dtype  \n",
      "---  ------          --------------  -----  \n",
      " 0   working_months  35700 non-null  float64\n",
      " 1   ID              35700 non-null  int64  \n",
      " 2   customer_id     35700 non-null  int64  \n",
      " 3   Var1            35700 non-null  int64  \n",
      " 4   Var4            35700 non-null  int64  \n",
      " 5   Var5            35700 non-null  int64  \n",
      " 6   Var6            35700 non-null  int64  \n",
      " 7   Var7            35700 non-null  int64  \n",
      " 8   Var15           35700 non-null  int64  \n",
      " 9   Var16           35700 non-null  int64  \n",
      " 10  Var17           35700 non-null  float64\n",
      " 11  Var23           35700 non-null  int64  \n",
      " 12  Var24           35700 non-null  int64  \n",
      " 13  Var29           35700 non-null  int64  \n",
      " 14  Var30           35700 non-null  int64  \n",
      " 15  Var2            35700 non-null  float64\n",
      " 16  Var3            35700 non-null  float64\n",
      " 17  Var11           35700 non-null  int64  \n",
      " 18  Var12           35700 non-null  float64\n",
      " 19  Var14           35700 non-null  int64  \n",
      " 20  target          35700 non-null  float64\n",
      " 21  Var27           35700 non-null  int64  \n",
      " 22  Var28           35700 non-null  int64  \n",
      " 23  income          35700 non-null  int64  \n",
      " 24  loan_desc       35700 non-null  int64  \n",
      " 25  Var8_q          35700 non-null  float64\n",
      " 26  Var25_q         35700 non-null  float64\n",
      " 27  Var26_q         35700 non-null  float64\n",
      " 28  Var20_1         35700 non-null  int64  \n",
      " 29  Var21_1         35700 non-null  int64  \n",
      " 30  Var22_1         35700 non-null  int64  \n",
      "dtypes: float64(9), int64(22)\n",
      "memory usage: 8.7 MB\n"
     ]
    }
   ],
   "source": [
    "# Set the seed for reproducibility\n",
    "np.random.seed(123456)\n",
    "\n",
    "# Save the original data types of the DataFrame. This is crucial for restoring the DataFrame's data types\n",
    "# after imputation since KNNImputer will convert the imputed data to float64 by default.\n",
    "original_dtypes = df.dtypes\n",
    "\n",
    "# Initialize the KNNImputer. The default setting uses 5 nearest neighbors to impute missing values,\n",
    "# which is a balance between accuracy and computational efficiency.\n",
    "knn_imputer = KNNImputer()\n",
    "\n",
    "# Replace 0s with NaNs in the 'working_months' column if necessary. This step is preparatory for imputation,\n",
    "# ensuring that 0s, which may signify missing or unrecorded data, are correctly treated as missing values.\n",
    "df['working_months'] = df['working_months'].replace(0, np.nan)\n",
    "\n",
    "# Select only numerical columns from the DataFrame for imputation. KNNImputer works with numerical data,\n",
    "# so identifying these columns is a prerequisite for the imputation process.\n",
    "numerical_cols = df.select_dtypes(include=['int64', 'float64', 'int32']).columns\n",
    "\n",
    "# Perform the imputation using KNN. This process fills in missing values based on the mean of the\n",
    "# nearest neighbors found in the multidimensional space, providing a reasonable estimate for missing data.\n",
    "imputed_data = knn_imputer.fit_transform(df[numerical_cols])\n",
    "\n",
    "# Convert the imputed array back into a DataFrame, preserving the original index. This step ensures that\n",
    "# the imputed data retains the structure and index of the original DataFrame for consistency and ease of analysis.\n",
    "imputed_df = pd.DataFrame(imputed_data, columns=numerical_cols, index=df.index)\n",
    "\n",
    "# Restore the original data types. After imputation, it's important to convert the data back to its\n",
    "# original types for accurate analysis and consistency with the rest of the dataset.\n",
    "for col in numerical_cols:\n",
    "    if original_dtypes[col].kind in 'iu':  # Check if the data type is integer\n",
    "        imputed_df[col] = imputed_df[col].round().astype(original_dtypes[col])\n",
    "    else:  # For floating-point types, retain as is\n",
    "        imputed_df[col] = imputed_df[col].astype(original_dtypes[col])\n",
    "\n",
    "# Update the original 'sorted_data_encoded' DataFrame with the imputed data. This final step integrates\n",
    "# the imputed numerical data back into the main DataFrame, completing the imputation process.\n",
    "df.update(imputed_df)\n",
    "\n",
    "# Display the DataFrame information to check the results of the imputation and data type restoration.\n",
    "# This overview allows for a quick verification that the dataset is now complete with imputed values\n",
    "# and that all columns are of their appropriate data types.\n",
    "df.info()"
   ]
  },
  {
   "cell_type": "markdown",
   "metadata": {},
   "source": [
    "### Change Var 17 to categorical"
   ]
  },
  {
   "cell_type": "code",
   "execution_count": 933,
   "metadata": {},
   "outputs": [
    {
     "data": {
      "text/html": [
       "<div>\n",
       "<style scoped>\n",
       "    .dataframe tbody tr th:only-of-type {\n",
       "        vertical-align: middle;\n",
       "    }\n",
       "\n",
       "    .dataframe tbody tr th {\n",
       "        vertical-align: top;\n",
       "    }\n",
       "\n",
       "    .dataframe thead th {\n",
       "        text-align: right;\n",
       "    }\n",
       "</style>\n",
       "<table border=\"1\" class=\"dataframe\">\n",
       "  <thead>\n",
       "    <tr style=\"text-align: right;\">\n",
       "      <th></th>\n",
       "      <th>working_months</th>\n",
       "      <th>ID</th>\n",
       "      <th>customer_id</th>\n",
       "      <th>Var1</th>\n",
       "      <th>Var4</th>\n",
       "      <th>Var5</th>\n",
       "      <th>Var6</th>\n",
       "      <th>Var7</th>\n",
       "      <th>Var15</th>\n",
       "      <th>Var16</th>\n",
       "      <th>...</th>\n",
       "      <th>Var27</th>\n",
       "      <th>Var28</th>\n",
       "      <th>income</th>\n",
       "      <th>loan_desc</th>\n",
       "      <th>Var8_q</th>\n",
       "      <th>Var25_q</th>\n",
       "      <th>Var26_q</th>\n",
       "      <th>Var20_1</th>\n",
       "      <th>Var21_1</th>\n",
       "      <th>Var22_1</th>\n",
       "    </tr>\n",
       "  </thead>\n",
       "  <tbody>\n",
       "    <tr>\n",
       "      <th>0</th>\n",
       "      <td>2.0</td>\n",
       "      <td>11034977</td>\n",
       "      <td>32537148</td>\n",
       "      <td>1</td>\n",
       "      <td>2</td>\n",
       "      <td>9</td>\n",
       "      <td>1</td>\n",
       "      <td>0</td>\n",
       "      <td>0</td>\n",
       "      <td>0</td>\n",
       "      <td>...</td>\n",
       "      <td>0</td>\n",
       "      <td>0</td>\n",
       "      <td>1</td>\n",
       "      <td>3</td>\n",
       "      <td>10.0</td>\n",
       "      <td>3.0</td>\n",
       "      <td>0.0</td>\n",
       "      <td>1</td>\n",
       "      <td>1</td>\n",
       "      <td>1</td>\n",
       "    </tr>\n",
       "    <tr>\n",
       "      <th>1</th>\n",
       "      <td>5.0</td>\n",
       "      <td>11034978</td>\n",
       "      <td>32761663</td>\n",
       "      <td>1</td>\n",
       "      <td>3</td>\n",
       "      <td>9</td>\n",
       "      <td>1</td>\n",
       "      <td>0</td>\n",
       "      <td>4</td>\n",
       "      <td>4</td>\n",
       "      <td>...</td>\n",
       "      <td>0</td>\n",
       "      <td>0</td>\n",
       "      <td>0</td>\n",
       "      <td>1</td>\n",
       "      <td>0.0</td>\n",
       "      <td>3.0</td>\n",
       "      <td>1.0</td>\n",
       "      <td>0</td>\n",
       "      <td>0</td>\n",
       "      <td>0</td>\n",
       "    </tr>\n",
       "    <tr>\n",
       "      <th>2</th>\n",
       "      <td>9.0</td>\n",
       "      <td>11034979</td>\n",
       "      <td>32701063</td>\n",
       "      <td>2</td>\n",
       "      <td>0</td>\n",
       "      <td>2</td>\n",
       "      <td>1</td>\n",
       "      <td>0</td>\n",
       "      <td>0</td>\n",
       "      <td>0</td>\n",
       "      <td>...</td>\n",
       "      <td>0</td>\n",
       "      <td>0</td>\n",
       "      <td>5</td>\n",
       "      <td>5</td>\n",
       "      <td>10.0</td>\n",
       "      <td>3.0</td>\n",
       "      <td>0.0</td>\n",
       "      <td>1</td>\n",
       "      <td>1</td>\n",
       "      <td>1</td>\n",
       "    </tr>\n",
       "    <tr>\n",
       "      <th>3</th>\n",
       "      <td>9.0</td>\n",
       "      <td>11034980</td>\n",
       "      <td>32386786</td>\n",
       "      <td>3</td>\n",
       "      <td>3</td>\n",
       "      <td>5</td>\n",
       "      <td>6</td>\n",
       "      <td>9</td>\n",
       "      <td>0</td>\n",
       "      <td>0</td>\n",
       "      <td>...</td>\n",
       "      <td>0</td>\n",
       "      <td>0</td>\n",
       "      <td>2</td>\n",
       "      <td>2</td>\n",
       "      <td>0.0</td>\n",
       "      <td>1.0</td>\n",
       "      <td>4.0</td>\n",
       "      <td>0</td>\n",
       "      <td>0</td>\n",
       "      <td>0</td>\n",
       "    </tr>\n",
       "    <tr>\n",
       "      <th>4</th>\n",
       "      <td>6.0</td>\n",
       "      <td>11034982</td>\n",
       "      <td>32861919</td>\n",
       "      <td>1</td>\n",
       "      <td>2</td>\n",
       "      <td>6</td>\n",
       "      <td>1</td>\n",
       "      <td>0</td>\n",
       "      <td>1</td>\n",
       "      <td>1</td>\n",
       "      <td>...</td>\n",
       "      <td>0</td>\n",
       "      <td>0</td>\n",
       "      <td>0</td>\n",
       "      <td>4</td>\n",
       "      <td>10.0</td>\n",
       "      <td>0.0</td>\n",
       "      <td>10.0</td>\n",
       "      <td>0</td>\n",
       "      <td>1</td>\n",
       "      <td>1</td>\n",
       "    </tr>\n",
       "    <tr>\n",
       "      <th>...</th>\n",
       "      <td>...</td>\n",
       "      <td>...</td>\n",
       "      <td>...</td>\n",
       "      <td>...</td>\n",
       "      <td>...</td>\n",
       "      <td>...</td>\n",
       "      <td>...</td>\n",
       "      <td>...</td>\n",
       "      <td>...</td>\n",
       "      <td>...</td>\n",
       "      <td>...</td>\n",
       "      <td>...</td>\n",
       "      <td>...</td>\n",
       "      <td>...</td>\n",
       "      <td>...</td>\n",
       "      <td>...</td>\n",
       "      <td>...</td>\n",
       "      <td>...</td>\n",
       "      <td>...</td>\n",
       "      <td>...</td>\n",
       "      <td>...</td>\n",
       "    </tr>\n",
       "    <tr>\n",
       "      <th>35695</th>\n",
       "      <td>7.0</td>\n",
       "      <td>11084969</td>\n",
       "      <td>32845249</td>\n",
       "      <td>1</td>\n",
       "      <td>1</td>\n",
       "      <td>0</td>\n",
       "      <td>6</td>\n",
       "      <td>9</td>\n",
       "      <td>0</td>\n",
       "      <td>0</td>\n",
       "      <td>...</td>\n",
       "      <td>0</td>\n",
       "      <td>0</td>\n",
       "      <td>8</td>\n",
       "      <td>5</td>\n",
       "      <td>10.0</td>\n",
       "      <td>10.0</td>\n",
       "      <td>10.0</td>\n",
       "      <td>1</td>\n",
       "      <td>2</td>\n",
       "      <td>2</td>\n",
       "    </tr>\n",
       "    <tr>\n",
       "      <th>35696</th>\n",
       "      <td>8.0</td>\n",
       "      <td>11084970</td>\n",
       "      <td>32623752</td>\n",
       "      <td>1</td>\n",
       "      <td>7</td>\n",
       "      <td>2</td>\n",
       "      <td>3</td>\n",
       "      <td>9</td>\n",
       "      <td>1</td>\n",
       "      <td>1</td>\n",
       "      <td>...</td>\n",
       "      <td>0</td>\n",
       "      <td>0</td>\n",
       "      <td>8</td>\n",
       "      <td>3</td>\n",
       "      <td>10.0</td>\n",
       "      <td>5.0</td>\n",
       "      <td>9.0</td>\n",
       "      <td>0</td>\n",
       "      <td>0</td>\n",
       "      <td>0</td>\n",
       "    </tr>\n",
       "    <tr>\n",
       "      <th>35697</th>\n",
       "      <td>5.0</td>\n",
       "      <td>11084972</td>\n",
       "      <td>32554904</td>\n",
       "      <td>2</td>\n",
       "      <td>9</td>\n",
       "      <td>9</td>\n",
       "      <td>1</td>\n",
       "      <td>2</td>\n",
       "      <td>0</td>\n",
       "      <td>1</td>\n",
       "      <td>...</td>\n",
       "      <td>0</td>\n",
       "      <td>0</td>\n",
       "      <td>8</td>\n",
       "      <td>2</td>\n",
       "      <td>8.0</td>\n",
       "      <td>10.0</td>\n",
       "      <td>10.0</td>\n",
       "      <td>1</td>\n",
       "      <td>1</td>\n",
       "      <td>1</td>\n",
       "    </tr>\n",
       "    <tr>\n",
       "      <th>35698</th>\n",
       "      <td>6.0</td>\n",
       "      <td>11084974</td>\n",
       "      <td>32433438</td>\n",
       "      <td>1</td>\n",
       "      <td>9</td>\n",
       "      <td>2</td>\n",
       "      <td>1</td>\n",
       "      <td>9</td>\n",
       "      <td>0</td>\n",
       "      <td>0</td>\n",
       "      <td>...</td>\n",
       "      <td>0</td>\n",
       "      <td>0</td>\n",
       "      <td>9</td>\n",
       "      <td>1</td>\n",
       "      <td>9.0</td>\n",
       "      <td>5.0</td>\n",
       "      <td>9.0</td>\n",
       "      <td>0</td>\n",
       "      <td>0</td>\n",
       "      <td>0</td>\n",
       "    </tr>\n",
       "    <tr>\n",
       "      <th>35699</th>\n",
       "      <td>7.0</td>\n",
       "      <td>11084976</td>\n",
       "      <td>32834539</td>\n",
       "      <td>1</td>\n",
       "      <td>2</td>\n",
       "      <td>0</td>\n",
       "      <td>1</td>\n",
       "      <td>6</td>\n",
       "      <td>0</td>\n",
       "      <td>0</td>\n",
       "      <td>...</td>\n",
       "      <td>0</td>\n",
       "      <td>0</td>\n",
       "      <td>6</td>\n",
       "      <td>5</td>\n",
       "      <td>10.0</td>\n",
       "      <td>10.0</td>\n",
       "      <td>10.0</td>\n",
       "      <td>0</td>\n",
       "      <td>0</td>\n",
       "      <td>0</td>\n",
       "    </tr>\n",
       "  </tbody>\n",
       "</table>\n",
       "<p>35700 rows × 31 columns</p>\n",
       "</div>"
      ],
      "text/plain": [
       "       working_months        ID  customer_id  Var1  Var4  Var5  Var6  Var7  \\\n",
       "0                 2.0  11034977     32537148     1     2     9     1     0   \n",
       "1                 5.0  11034978     32761663     1     3     9     1     0   \n",
       "2                 9.0  11034979     32701063     2     0     2     1     0   \n",
       "3                 9.0  11034980     32386786     3     3     5     6     9   \n",
       "4                 6.0  11034982     32861919     1     2     6     1     0   \n",
       "...               ...       ...          ...   ...   ...   ...   ...   ...   \n",
       "35695             7.0  11084969     32845249     1     1     0     6     9   \n",
       "35696             8.0  11084970     32623752     1     7     2     3     9   \n",
       "35697             5.0  11084972     32554904     2     9     9     1     2   \n",
       "35698             6.0  11084974     32433438     1     9     2     1     9   \n",
       "35699             7.0  11084976     32834539     1     2     0     1     6   \n",
       "\n",
       "       Var15  Var16  ...  Var27  Var28  income  loan_desc  Var8_q  Var25_q  \\\n",
       "0          0      0  ...      0      0       1          3    10.0      3.0   \n",
       "1          4      4  ...      0      0       0          1     0.0      3.0   \n",
       "2          0      0  ...      0      0       5          5    10.0      3.0   \n",
       "3          0      0  ...      0      0       2          2     0.0      1.0   \n",
       "4          1      1  ...      0      0       0          4    10.0      0.0   \n",
       "...      ...    ...  ...    ...    ...     ...        ...     ...      ...   \n",
       "35695      0      0  ...      0      0       8          5    10.0     10.0   \n",
       "35696      1      1  ...      0      0       8          3    10.0      5.0   \n",
       "35697      0      1  ...      0      0       8          2     8.0     10.0   \n",
       "35698      0      0  ...      0      0       9          1     9.0      5.0   \n",
       "35699      0      0  ...      0      0       6          5    10.0     10.0   \n",
       "\n",
       "       Var26_q  Var20_1  Var21_1  Var22_1  \n",
       "0          0.0        1        1        1  \n",
       "1          1.0        0        0        0  \n",
       "2          0.0        1        1        1  \n",
       "3          4.0        0        0        0  \n",
       "4         10.0        0        1        1  \n",
       "...        ...      ...      ...      ...  \n",
       "35695     10.0        1        2        2  \n",
       "35696      9.0        0        0        0  \n",
       "35697     10.0        1        1        1  \n",
       "35698      9.0        0        0        0  \n",
       "35699     10.0        0        0        0  \n",
       "\n",
       "[35700 rows x 31 columns]"
      ]
     },
     "execution_count": 933,
     "metadata": {},
     "output_type": "execute_result"
    }
   ],
   "source": [
    "df"
   ]
  },
  {
   "cell_type": "code",
   "execution_count": 934,
   "metadata": {},
   "outputs": [],
   "source": [
    "col = 'Var17'\n",
    "df['Var17_1'] = pd.qcut(df[col], 10, labels=False, duplicates='drop')"
   ]
  },
  {
   "cell_type": "code",
   "execution_count": 935,
   "metadata": {},
   "outputs": [
    {
     "data": {
      "text/plain": [
       "3    3570\n",
       "0    3570\n",
       "5    3570\n",
       "1    3570\n",
       "2    3570\n",
       "4    3570\n",
       "6    3570\n",
       "7    3570\n",
       "9    3570\n",
       "8    3570\n",
       "Name: Var17_1, dtype: int64"
      ]
     },
     "execution_count": 935,
     "metadata": {},
     "output_type": "execute_result"
    }
   ],
   "source": [
    "df['Var17_1'].value_counts(dropna=False)"
   ]
  },
  {
   "cell_type": "code",
   "execution_count": 936,
   "metadata": {},
   "outputs": [],
   "source": [
    "df.drop('Var17', axis=1, inplace=True)"
   ]
  },
  {
   "cell_type": "markdown",
   "metadata": {},
   "source": [
    "### Final check of df"
   ]
  },
  {
   "cell_type": "code",
   "execution_count": 937,
   "metadata": {},
   "outputs": [
    {
     "data": {
      "text/html": [
       "<div>\n",
       "<style scoped>\n",
       "    .dataframe tbody tr th:only-of-type {\n",
       "        vertical-align: middle;\n",
       "    }\n",
       "\n",
       "    .dataframe tbody tr th {\n",
       "        vertical-align: top;\n",
       "    }\n",
       "\n",
       "    .dataframe thead th {\n",
       "        text-align: right;\n",
       "    }\n",
       "</style>\n",
       "<table border=\"1\" class=\"dataframe\">\n",
       "  <thead>\n",
       "    <tr style=\"text-align: right;\">\n",
       "      <th></th>\n",
       "      <th>working_months</th>\n",
       "      <th>ID</th>\n",
       "      <th>customer_id</th>\n",
       "      <th>Var1</th>\n",
       "      <th>Var4</th>\n",
       "      <th>Var5</th>\n",
       "      <th>Var6</th>\n",
       "      <th>Var7</th>\n",
       "      <th>Var15</th>\n",
       "      <th>Var16</th>\n",
       "      <th>...</th>\n",
       "      <th>Var28</th>\n",
       "      <th>income</th>\n",
       "      <th>loan_desc</th>\n",
       "      <th>Var8_q</th>\n",
       "      <th>Var25_q</th>\n",
       "      <th>Var26_q</th>\n",
       "      <th>Var20_1</th>\n",
       "      <th>Var21_1</th>\n",
       "      <th>Var22_1</th>\n",
       "      <th>Var17_1</th>\n",
       "    </tr>\n",
       "  </thead>\n",
       "  <tbody>\n",
       "    <tr>\n",
       "      <th>0</th>\n",
       "      <td>2.0</td>\n",
       "      <td>11034977</td>\n",
       "      <td>32537148</td>\n",
       "      <td>1</td>\n",
       "      <td>2</td>\n",
       "      <td>9</td>\n",
       "      <td>1</td>\n",
       "      <td>0</td>\n",
       "      <td>0</td>\n",
       "      <td>0</td>\n",
       "      <td>...</td>\n",
       "      <td>0</td>\n",
       "      <td>1</td>\n",
       "      <td>3</td>\n",
       "      <td>10.0</td>\n",
       "      <td>3.0</td>\n",
       "      <td>0.0</td>\n",
       "      <td>1</td>\n",
       "      <td>1</td>\n",
       "      <td>1</td>\n",
       "      <td>3</td>\n",
       "    </tr>\n",
       "    <tr>\n",
       "      <th>1</th>\n",
       "      <td>5.0</td>\n",
       "      <td>11034978</td>\n",
       "      <td>32761663</td>\n",
       "      <td>1</td>\n",
       "      <td>3</td>\n",
       "      <td>9</td>\n",
       "      <td>1</td>\n",
       "      <td>0</td>\n",
       "      <td>4</td>\n",
       "      <td>4</td>\n",
       "      <td>...</td>\n",
       "      <td>0</td>\n",
       "      <td>0</td>\n",
       "      <td>1</td>\n",
       "      <td>0.0</td>\n",
       "      <td>3.0</td>\n",
       "      <td>1.0</td>\n",
       "      <td>0</td>\n",
       "      <td>0</td>\n",
       "      <td>0</td>\n",
       "      <td>0</td>\n",
       "    </tr>\n",
       "    <tr>\n",
       "      <th>2</th>\n",
       "      <td>9.0</td>\n",
       "      <td>11034979</td>\n",
       "      <td>32701063</td>\n",
       "      <td>2</td>\n",
       "      <td>0</td>\n",
       "      <td>2</td>\n",
       "      <td>1</td>\n",
       "      <td>0</td>\n",
       "      <td>0</td>\n",
       "      <td>0</td>\n",
       "      <td>...</td>\n",
       "      <td>0</td>\n",
       "      <td>5</td>\n",
       "      <td>5</td>\n",
       "      <td>10.0</td>\n",
       "      <td>3.0</td>\n",
       "      <td>0.0</td>\n",
       "      <td>1</td>\n",
       "      <td>1</td>\n",
       "      <td>1</td>\n",
       "      <td>5</td>\n",
       "    </tr>\n",
       "    <tr>\n",
       "      <th>3</th>\n",
       "      <td>9.0</td>\n",
       "      <td>11034980</td>\n",
       "      <td>32386786</td>\n",
       "      <td>3</td>\n",
       "      <td>3</td>\n",
       "      <td>5</td>\n",
       "      <td>6</td>\n",
       "      <td>9</td>\n",
       "      <td>0</td>\n",
       "      <td>0</td>\n",
       "      <td>...</td>\n",
       "      <td>0</td>\n",
       "      <td>2</td>\n",
       "      <td>2</td>\n",
       "      <td>0.0</td>\n",
       "      <td>1.0</td>\n",
       "      <td>4.0</td>\n",
       "      <td>0</td>\n",
       "      <td>0</td>\n",
       "      <td>0</td>\n",
       "      <td>1</td>\n",
       "    </tr>\n",
       "    <tr>\n",
       "      <th>4</th>\n",
       "      <td>6.0</td>\n",
       "      <td>11034982</td>\n",
       "      <td>32861919</td>\n",
       "      <td>1</td>\n",
       "      <td>2</td>\n",
       "      <td>6</td>\n",
       "      <td>1</td>\n",
       "      <td>0</td>\n",
       "      <td>1</td>\n",
       "      <td>1</td>\n",
       "      <td>...</td>\n",
       "      <td>0</td>\n",
       "      <td>0</td>\n",
       "      <td>4</td>\n",
       "      <td>10.0</td>\n",
       "      <td>0.0</td>\n",
       "      <td>10.0</td>\n",
       "      <td>0</td>\n",
       "      <td>1</td>\n",
       "      <td>1</td>\n",
       "      <td>0</td>\n",
       "    </tr>\n",
       "  </tbody>\n",
       "</table>\n",
       "<p>5 rows × 31 columns</p>\n",
       "</div>"
      ],
      "text/plain": [
       "   working_months        ID  customer_id  Var1  Var4  Var5  Var6  Var7  Var15  \\\n",
       "0             2.0  11034977     32537148     1     2     9     1     0      0   \n",
       "1             5.0  11034978     32761663     1     3     9     1     0      4   \n",
       "2             9.0  11034979     32701063     2     0     2     1     0      0   \n",
       "3             9.0  11034980     32386786     3     3     5     6     9      0   \n",
       "4             6.0  11034982     32861919     1     2     6     1     0      1   \n",
       "\n",
       "   Var16  ...  Var28  income  loan_desc  Var8_q  Var25_q  Var26_q  Var20_1  \\\n",
       "0      0  ...      0       1          3    10.0      3.0      0.0        1   \n",
       "1      4  ...      0       0          1     0.0      3.0      1.0        0   \n",
       "2      0  ...      0       5          5    10.0      3.0      0.0        1   \n",
       "3      0  ...      0       2          2     0.0      1.0      4.0        0   \n",
       "4      1  ...      0       0          4    10.0      0.0     10.0        0   \n",
       "\n",
       "   Var21_1  Var22_1  Var17_1  \n",
       "0        1        1        3  \n",
       "1        0        0        0  \n",
       "2        1        1        5  \n",
       "3        0        0        1  \n",
       "4        1        1        0  \n",
       "\n",
       "[5 rows x 31 columns]"
      ]
     },
     "execution_count": 937,
     "metadata": {},
     "output_type": "execute_result"
    }
   ],
   "source": [
    "df.head()"
   ]
  },
  {
   "cell_type": "code",
   "execution_count": 938,
   "metadata": {},
   "outputs": [
    {
     "data": {
      "text/plain": [
       "working_months    0\n",
       "ID                0\n",
       "customer_id       0\n",
       "Var1              0\n",
       "Var4              0\n",
       "Var5              0\n",
       "Var6              0\n",
       "Var7              0\n",
       "Var15             0\n",
       "Var16             0\n",
       "Var23             0\n",
       "Var24             0\n",
       "Var29             0\n",
       "Var30             0\n",
       "Var2              0\n",
       "Var3              0\n",
       "Var11             0\n",
       "Var12             0\n",
       "Var14             0\n",
       "target            0\n",
       "Var27             0\n",
       "Var28             0\n",
       "income            0\n",
       "loan_desc         0\n",
       "Var8_q            0\n",
       "Var25_q           0\n",
       "Var26_q           0\n",
       "Var20_1           0\n",
       "Var21_1           0\n",
       "Var22_1           0\n",
       "Var17_1           0\n",
       "dtype: int64"
      ]
     },
     "execution_count": 938,
     "metadata": {},
     "output_type": "execute_result"
    }
   ],
   "source": [
    "df.isna().sum()"
   ]
  },
  {
   "cell_type": "code",
   "execution_count": 939,
   "metadata": {},
   "outputs": [
    {
     "name": "stdout",
     "output_type": "stream",
     "text": [
      "<class 'pandas.core.frame.DataFrame'>\n",
      "Int64Index: 35700 entries, 0 to 35699\n",
      "Data columns (total 31 columns):\n",
      " #   Column          Non-Null Count  Dtype  \n",
      "---  ------          --------------  -----  \n",
      " 0   working_months  35700 non-null  float64\n",
      " 1   ID              35700 non-null  int64  \n",
      " 2   customer_id     35700 non-null  int64  \n",
      " 3   Var1            35700 non-null  int64  \n",
      " 4   Var4            35700 non-null  int64  \n",
      " 5   Var5            35700 non-null  int64  \n",
      " 6   Var6            35700 non-null  int64  \n",
      " 7   Var7            35700 non-null  int64  \n",
      " 8   Var15           35700 non-null  int64  \n",
      " 9   Var16           35700 non-null  int64  \n",
      " 10  Var23           35700 non-null  int64  \n",
      " 11  Var24           35700 non-null  int64  \n",
      " 12  Var29           35700 non-null  int64  \n",
      " 13  Var30           35700 non-null  int64  \n",
      " 14  Var2            35700 non-null  float64\n",
      " 15  Var3            35700 non-null  float64\n",
      " 16  Var11           35700 non-null  int64  \n",
      " 17  Var12           35700 non-null  float64\n",
      " 18  Var14           35700 non-null  int64  \n",
      " 19  target          35700 non-null  float64\n",
      " 20  Var27           35700 non-null  int64  \n",
      " 21  Var28           35700 non-null  int64  \n",
      " 22  income          35700 non-null  int64  \n",
      " 23  loan_desc       35700 non-null  int64  \n",
      " 24  Var8_q          35700 non-null  float64\n",
      " 25  Var25_q         35700 non-null  float64\n",
      " 26  Var26_q         35700 non-null  float64\n",
      " 27  Var20_1         35700 non-null  int64  \n",
      " 28  Var21_1         35700 non-null  int64  \n",
      " 29  Var22_1         35700 non-null  int64  \n",
      " 30  Var17_1         35700 non-null  int64  \n",
      "dtypes: float64(8), int64(23)\n",
      "memory usage: 8.7 MB\n"
     ]
    }
   ],
   "source": [
    "df.info()"
   ]
  },
  {
   "cell_type": "markdown",
   "metadata": {},
   "source": [
    "#### Write df as csv"
   ]
  },
  {
   "cell_type": "code",
   "execution_count": 940,
   "metadata": {},
   "outputs": [],
   "source": [
    "df.to_csv('../data/output/development_sample_cleaned_categorical.csv', index = False)  # Save the cleaned data to a new CSV file"
   ]
  }
 ],
 "metadata": {
  "kernelspec": {
   "display_name": "Python 3",
   "language": "python",
   "name": "python3"
  },
  "language_info": {
   "codemirror_mode": {
    "name": "ipython",
    "version": 3
   },
   "file_extension": ".py",
   "mimetype": "text/x-python",
   "name": "python",
   "nbconvert_exporter": "python",
   "pygments_lexer": "ipython3",
   "version": "3.11.2"
  }
 },
 "nbformat": 4,
 "nbformat_minor": 2
}
