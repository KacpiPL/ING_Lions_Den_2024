{
 "cells": [
  {
   "cell_type": "markdown",
   "metadata": {},
   "source": [
    "# ING Lion's Den 2024\n"
   ]
  },
  {
   "cell_type": "markdown",
   "metadata": {},
   "source": [
    "## Team: RiskBusters"
   ]
  },
  {
   "cell_type": "markdown",
   "metadata": {},
   "source": [
    " Michał Bryzik, Michał Niegierewicz, Kacper Gruca, Jan Ślusarek"
   ]
  },
  {
   "cell_type": "markdown",
   "metadata": {},
   "source": [
    "Plan dzialania: (Jbc to kazdy podaje tu swoje propozycje, jak sie kto z czym np. niezgadza niech napisze w nawiasie)\n",
    "\n",
    "1. Wczytac dane i szybko je opisac liczebnosc nulle itd. \n",
    "2. Ja bym tutaj posortowal zmienne w macierzy tzn. kolumna 1-16 numeryczne a od 17-do konca binarne\n",
    "3. Wlasciwe czyszczenie danych, elminacja, aproksymacja, asocjacja itd.\n",
    "4. Statystyki opisowe, wykresy (rozklady, heatmapy, boxploty itd. )\n",
    "5. Transformacja danych MinMax, standaryzacja itd. (ogolnie manipulacja tak zeby w razie czego logit byl jak najbardziej dojebany)\n",
    "6. Trenowanie Logita\n",
    "7. Wybor najlepszego i sprawdzenie z zalozeniami "
   ]
  },
  {
   "cell_type": "code",
   "execution_count": 299,
   "metadata": {},
   "outputs": [],
   "source": [
    "# Import necessary libraries\n",
    "import pandas as pd\n",
    "import numpy as np\n",
    "import matplotlib.pyplot as plt\n",
    "import seaborn as sns\n",
    "from sklearn.impute import KNNImputer\n",
    "from datetime import date"
   ]
  },
  {
   "cell_type": "code",
   "execution_count": 300,
   "metadata": {},
   "outputs": [
    {
     "data": {
      "text/html": [
       "<div>\n",
       "<style scoped>\n",
       "    .dataframe tbody tr th:only-of-type {\n",
       "        vertical-align: middle;\n",
       "    }\n",
       "\n",
       "    .dataframe tbody tr th {\n",
       "        vertical-align: top;\n",
       "    }\n",
       "\n",
       "    .dataframe thead th {\n",
       "        text-align: right;\n",
       "    }\n",
       "</style>\n",
       "<table border=\"1\" class=\"dataframe\">\n",
       "  <thead>\n",
       "    <tr style=\"text-align: right;\">\n",
       "      <th></th>\n",
       "      <th>ID</th>\n",
       "      <th>customer_id</th>\n",
       "      <th>application_date</th>\n",
       "      <th>target</th>\n",
       "      <th>Application_status</th>\n",
       "      <th>Var1</th>\n",
       "      <th>Var2</th>\n",
       "      <th>Var3</th>\n",
       "      <th>Var4</th>\n",
       "      <th>Var5</th>\n",
       "      <th>...</th>\n",
       "      <th>Var22</th>\n",
       "      <th>Var23</th>\n",
       "      <th>Var24</th>\n",
       "      <th>Var25</th>\n",
       "      <th>Var26</th>\n",
       "      <th>Var27</th>\n",
       "      <th>Var28</th>\n",
       "      <th>Var29</th>\n",
       "      <th>Var30</th>\n",
       "      <th>_r_</th>\n",
       "    </tr>\n",
       "  </thead>\n",
       "  <tbody>\n",
       "    <tr>\n",
       "      <th>0</th>\n",
       "      <td>11034977</td>\n",
       "      <td>32537148</td>\n",
       "      <td>01Feb2010 0:00:00</td>\n",
       "      <td>0.0</td>\n",
       "      <td>Approved</td>\n",
       "      <td>1</td>\n",
       "      <td>2.0</td>\n",
       "      <td>1</td>\n",
       "      <td>7800</td>\n",
       "      <td>99</td>\n",
       "      <td>...</td>\n",
       "      <td>1</td>\n",
       "      <td>1</td>\n",
       "      <td>0</td>\n",
       "      <td>6768.42</td>\n",
       "      <td>0.00</td>\n",
       "      <td>0</td>\n",
       "      <td>0</td>\n",
       "      <td>0</td>\n",
       "      <td>3899</td>\n",
       "      <td>0.267045</td>\n",
       "    </tr>\n",
       "    <tr>\n",
       "      <th>1</th>\n",
       "      <td>11034978</td>\n",
       "      <td>32761663</td>\n",
       "      <td>01Feb2010 0:00:00</td>\n",
       "      <td>0.0</td>\n",
       "      <td>Approved</td>\n",
       "      <td>1</td>\n",
       "      <td>1.0</td>\n",
       "      <td>2</td>\n",
       "      <td>11100</td>\n",
       "      <td>78</td>\n",
       "      <td>...</td>\n",
       "      <td>0</td>\n",
       "      <td>0</td>\n",
       "      <td>15000</td>\n",
       "      <td>5937.66</td>\n",
       "      <td>3870.60</td>\n",
       "      <td>0</td>\n",
       "      <td>0</td>\n",
       "      <td>0</td>\n",
       "      <td>3899</td>\n",
       "      <td>0.533040</td>\n",
       "    </tr>\n",
       "    <tr>\n",
       "      <th>2</th>\n",
       "      <td>11034979</td>\n",
       "      <td>32701063</td>\n",
       "      <td>01Feb2010 0:00:00</td>\n",
       "      <td>0.0</td>\n",
       "      <td>Approved</td>\n",
       "      <td>2</td>\n",
       "      <td>3.0</td>\n",
       "      <td>1</td>\n",
       "      <td>2400</td>\n",
       "      <td>15</td>\n",
       "      <td>...</td>\n",
       "      <td>2</td>\n",
       "      <td>2</td>\n",
       "      <td>0</td>\n",
       "      <td>5647.77</td>\n",
       "      <td>1463.08</td>\n",
       "      <td>0</td>\n",
       "      <td>0</td>\n",
       "      <td>10</td>\n",
       "      <td>3899</td>\n",
       "      <td>0.861555</td>\n",
       "    </tr>\n",
       "    <tr>\n",
       "      <th>3</th>\n",
       "      <td>11034980</td>\n",
       "      <td>32386786</td>\n",
       "      <td>01Feb2010 0:00:00</td>\n",
       "      <td>0.0</td>\n",
       "      <td>Approved</td>\n",
       "      <td>3</td>\n",
       "      <td>1.0</td>\n",
       "      <td>2</td>\n",
       "      <td>11800</td>\n",
       "      <td>30</td>\n",
       "      <td>...</td>\n",
       "      <td>0</td>\n",
       "      <td>0</td>\n",
       "      <td>0</td>\n",
       "      <td>3594.90</td>\n",
       "      <td>21563.78</td>\n",
       "      <td>0</td>\n",
       "      <td>0</td>\n",
       "      <td>10</td>\n",
       "      <td>3899</td>\n",
       "      <td>0.506451</td>\n",
       "    </tr>\n",
       "    <tr>\n",
       "      <th>4</th>\n",
       "      <td>11034981</td>\n",
       "      <td>32692110</td>\n",
       "      <td>02Feb2010 0:00:00</td>\n",
       "      <td>NaN</td>\n",
       "      <td>Rejected</td>\n",
       "      <td>1</td>\n",
       "      <td>2.0</td>\n",
       "      <td>1</td>\n",
       "      <td>10200</td>\n",
       "      <td>72</td>\n",
       "      <td>...</td>\n",
       "      <td>2</td>\n",
       "      <td>2</td>\n",
       "      <td>0</td>\n",
       "      <td>9908.45</td>\n",
       "      <td>0.00</td>\n",
       "      <td>0</td>\n",
       "      <td>0</td>\n",
       "      <td>20</td>\n",
       "      <td>3899</td>\n",
       "      <td>0.210913</td>\n",
       "    </tr>\n",
       "  </tbody>\n",
       "</table>\n",
       "<p>5 rows × 36 columns</p>\n",
       "</div>"
      ],
      "text/plain": [
       "         ID  customer_id   application_date  target Application_status  Var1  \\\n",
       "0  11034977     32537148  01Feb2010 0:00:00     0.0           Approved     1   \n",
       "1  11034978     32761663  01Feb2010 0:00:00     0.0           Approved     1   \n",
       "2  11034979     32701063  01Feb2010 0:00:00     0.0           Approved     2   \n",
       "3  11034980     32386786  01Feb2010 0:00:00     0.0           Approved     3   \n",
       "4  11034981     32692110  02Feb2010 0:00:00     NaN           Rejected     1   \n",
       "\n",
       "   Var2 Var3   Var4  Var5  ...  Var22  Var23  Var24    Var25     Var26  Var27  \\\n",
       "0   2.0    1   7800    99  ...      1      1      0  6768.42      0.00      0   \n",
       "1   1.0    2  11100    78  ...      0      0  15000  5937.66   3870.60      0   \n",
       "2   3.0    1   2400    15  ...      2      2      0  5647.77   1463.08      0   \n",
       "3   1.0    2  11800    30  ...      0      0      0  3594.90  21563.78      0   \n",
       "4   2.0    1  10200    72  ...      2      2      0  9908.45      0.00      0   \n",
       "\n",
       "   Var28 Var29  Var30       _r_  \n",
       "0      0     0   3899  0.267045  \n",
       "1      0     0   3899  0.533040  \n",
       "2      0    10   3899  0.861555  \n",
       "3      0    10   3899  0.506451  \n",
       "4      0    20   3899  0.210913  \n",
       "\n",
       "[5 rows x 36 columns]"
      ]
     },
     "execution_count": 300,
     "metadata": {},
     "output_type": "execute_result"
    }
   ],
   "source": [
    "data=pd.read_csv('../data/input/development_sample.csv') \n",
    "data.head() "
   ]
  },
  {
   "cell_type": "code",
   "execution_count": 301,
   "metadata": {},
   "outputs": [
    {
     "data": {
      "text/plain": [
       "(50000, 36)"
      ]
     },
     "execution_count": 301,
     "metadata": {},
     "output_type": "execute_result"
    }
   ],
   "source": [
    "data.shape "
   ]
  },
  {
   "cell_type": "code",
   "execution_count": 302,
   "metadata": {},
   "outputs": [
    {
     "data": {
      "text/plain": [
       "ID                        0\n",
       "customer_id               0\n",
       "application_date          0\n",
       "target                13282\n",
       "Application_status        0\n",
       "Var1                      0\n",
       "Var2                   1403\n",
       "Var3                   1403\n",
       "Var4                      0\n",
       "Var5                      0\n",
       "Var6                      0\n",
       "Var7                      0\n",
       "Var8                  29173\n",
       "Var9                      0\n",
       "Var10                 37538\n",
       "Var11                     0\n",
       "Var12                 37538\n",
       "Var13                     0\n",
       "Var14                     0\n",
       "Var15                     0\n",
       "Var16                     0\n",
       "Var17                    40\n",
       "Var18                 37416\n",
       "Var19                 29173\n",
       "Var20                     0\n",
       "Var21                     0\n",
       "Var22                     0\n",
       "Var23                     0\n",
       "Var24                     0\n",
       "Var25                 10088\n",
       "Var26                 19883\n",
       "Var27                     0\n",
       "Var28                     0\n",
       "Var29                     0\n",
       "Var30                     0\n",
       "_r_                       0\n",
       "dtype: int64"
      ]
     },
     "execution_count": 302,
     "metadata": {},
     "output_type": "execute_result"
    }
   ],
   "source": [
    "data.isnull().sum() "
   ]
  },
  {
   "cell_type": "code",
   "execution_count": 303,
   "metadata": {},
   "outputs": [
    {
     "name": "stdout",
     "output_type": "stream",
     "text": [
      "<class 'pandas.core.frame.DataFrame'>\n",
      "RangeIndex: 50000 entries, 0 to 49999\n",
      "Data columns (total 36 columns):\n",
      " #   Column              Non-Null Count  Dtype  \n",
      "---  ------              --------------  -----  \n",
      " 0   ID                  50000 non-null  int64  \n",
      " 1   customer_id         50000 non-null  int64  \n",
      " 2   application_date    50000 non-null  object \n",
      " 3   target              36718 non-null  float64\n",
      " 4   Application_status  50000 non-null  object \n",
      " 5   Var1                50000 non-null  int64  \n",
      " 6   Var2                48597 non-null  float64\n",
      " 7   Var3                48597 non-null  object \n",
      " 8   Var4                50000 non-null  int64  \n",
      " 9   Var5                50000 non-null  int64  \n",
      " 10  Var6                50000 non-null  int64  \n",
      " 11  Var7                50000 non-null  float64\n",
      " 12  Var8                20827 non-null  float64\n",
      " 13  Var9                50000 non-null  int64  \n",
      " 14  Var10               12462 non-null  float64\n",
      " 15  Var11               50000 non-null  int64  \n",
      " 16  Var12               12462 non-null  float64\n",
      " 17  Var13               50000 non-null  object \n",
      " 18  Var14               50000 non-null  int64  \n",
      " 19  Var15               50000 non-null  int64  \n",
      " 20  Var16               50000 non-null  int64  \n",
      " 21  Var17               49960 non-null  float64\n",
      " 22  Var18               12584 non-null  float64\n",
      " 23  Var19               20827 non-null  float64\n",
      " 24  Var20               50000 non-null  int64  \n",
      " 25  Var21               50000 non-null  int64  \n",
      " 26  Var22               50000 non-null  int64  \n",
      " 27  Var23               50000 non-null  int64  \n",
      " 28  Var24               50000 non-null  int64  \n",
      " 29  Var25               39912 non-null  float64\n",
      " 30  Var26               30117 non-null  float64\n",
      " 31  Var27               50000 non-null  int64  \n",
      " 32  Var28               50000 non-null  int64  \n",
      " 33  Var29               50000 non-null  int64  \n",
      " 34  Var30               50000 non-null  int64  \n",
      " 35  _r_                 50000 non-null  float64\n",
      "dtypes: float64(12), int64(20), object(4)\n",
      "memory usage: 13.7+ MB\n"
     ]
    }
   ],
   "source": [
    "data.info()  "
   ]
  },
  {
   "cell_type": "markdown",
   "metadata": {},
   "source": [
    "## Clean dataset"
   ]
  },
  {
   "cell_type": "markdown",
   "metadata": {},
   "source": [
    "### Define columns by datetypes and sort df\n",
    "\n",
    "We define the target type of the column basing on the description file and exploring data"
   ]
  },
  {
   "cell_type": "code",
   "execution_count": 304,
   "metadata": {},
   "outputs": [],
   "source": [
    "# Define columns\n",
    "date_columns = ['application_date', 'Var13'] \n",
    "numeric_columns = ['ID', 'customer_id', '_r_', 'Var9', 'Var10']  \n",
    "categorical_columns = []\n",
    "binary_columns = ['target', 'Application_status'] "
   ]
  },
  {
   "cell_type": "code",
   "execution_count": 305,
   "metadata": {},
   "outputs": [],
   "source": [
    "# Checking the data type for the rest of columns \n",
    "for column in data.columns:\n",
    "    if column in date_columns + numeric_columns + binary_columns:\n",
    "        continue  \n",
    "    elif column in ['Var1', 'Var4', 'Var5', 'Var6', 'Var7', 'Var8', 'Var15', 'Var16', 'Var17', 'Var20', 'Var21', 'Var22', 'Var23', 'Var24', 'Var25', 'Var26', 'Var29', 'Var30']:\n",
    "        numeric_columns.append(column)\n",
    "    elif column in ['Var2', 'Var3', 'Var11', 'Var12', 'Var14']:\n",
    "        categorical_columns.append(column)\n",
    "    elif column in ['Var18', 'Var19', 'Var27', 'Var28']:\n",
    "        binary_columns.append(column)"
   ]
  },
  {
   "cell_type": "code",
   "execution_count": 306,
   "metadata": {},
   "outputs": [
    {
     "name": "stdout",
     "output_type": "stream",
     "text": [
      "['application_date', 'Var13']\n",
      "['ID', 'customer_id', '_r_', 'Var9', 'Var10', 'Var1', 'Var4', 'Var5', 'Var6', 'Var7', 'Var8', 'Var15', 'Var16', 'Var17', 'Var20', 'Var21', 'Var22', 'Var23', 'Var24', 'Var25', 'Var26', 'Var29', 'Var30']\n",
      "['Var2', 'Var3', 'Var11', 'Var12', 'Var14']\n",
      "['target', 'Application_status', 'Var18', 'Var19', 'Var27', 'Var28']\n"
     ]
    }
   ],
   "source": [
    "print(date_columns)\n",
    "print(numeric_columns)\n",
    "print(categorical_columns)\n",
    "print(binary_columns)"
   ]
  },
  {
   "cell_type": "code",
   "execution_count": 307,
   "metadata": {},
   "outputs": [],
   "source": [
    "# Make a copy of main data, from this moment we will work on this dataset\n",
    "df = data.copy()"
   ]
  },
  {
   "cell_type": "code",
   "execution_count": 308,
   "metadata": {},
   "outputs": [],
   "source": [
    "# Assumed sequence for columns sorting \n",
    "sorted_columns = date_columns + numeric_columns + categorical_columns + binary_columns\n",
    "\n",
    "# Choose of the sorted value by defined categories\n",
    "df = data[sorted_columns]"
   ]
  },
  {
   "cell_type": "code",
   "execution_count": 309,
   "metadata": {},
   "outputs": [
    {
     "data": {
      "text/html": [
       "<div>\n",
       "<style scoped>\n",
       "    .dataframe tbody tr th:only-of-type {\n",
       "        vertical-align: middle;\n",
       "    }\n",
       "\n",
       "    .dataframe tbody tr th {\n",
       "        vertical-align: top;\n",
       "    }\n",
       "\n",
       "    .dataframe thead th {\n",
       "        text-align: right;\n",
       "    }\n",
       "</style>\n",
       "<table border=\"1\" class=\"dataframe\">\n",
       "  <thead>\n",
       "    <tr style=\"text-align: right;\">\n",
       "      <th></th>\n",
       "      <th>application_date</th>\n",
       "      <th>Var13</th>\n",
       "      <th>ID</th>\n",
       "      <th>customer_id</th>\n",
       "      <th>_r_</th>\n",
       "      <th>Var9</th>\n",
       "      <th>Var10</th>\n",
       "      <th>Var1</th>\n",
       "      <th>Var4</th>\n",
       "      <th>Var5</th>\n",
       "      <th>...</th>\n",
       "      <th>Var3</th>\n",
       "      <th>Var11</th>\n",
       "      <th>Var12</th>\n",
       "      <th>Var14</th>\n",
       "      <th>target</th>\n",
       "      <th>Application_status</th>\n",
       "      <th>Var18</th>\n",
       "      <th>Var19</th>\n",
       "      <th>Var27</th>\n",
       "      <th>Var28</th>\n",
       "    </tr>\n",
       "  </thead>\n",
       "  <tbody>\n",
       "    <tr>\n",
       "      <th>0</th>\n",
       "      <td>01Feb2010 0:00:00</td>\n",
       "      <td>26Nov2004</td>\n",
       "      <td>11034977</td>\n",
       "      <td>32537148</td>\n",
       "      <td>0.267045</td>\n",
       "      <td>5640</td>\n",
       "      <td>NaN</td>\n",
       "      <td>1</td>\n",
       "      <td>7800</td>\n",
       "      <td>99</td>\n",
       "      <td>...</td>\n",
       "      <td>1</td>\n",
       "      <td>5</td>\n",
       "      <td>NaN</td>\n",
       "      <td>2</td>\n",
       "      <td>0.0</td>\n",
       "      <td>Approved</td>\n",
       "      <td>1.0</td>\n",
       "      <td>NaN</td>\n",
       "      <td>0</td>\n",
       "      <td>0</td>\n",
       "    </tr>\n",
       "    <tr>\n",
       "      <th>1</th>\n",
       "      <td>01Feb2010 0:00:00</td>\n",
       "      <td>16Sep1996</td>\n",
       "      <td>11034978</td>\n",
       "      <td>32761663</td>\n",
       "      <td>0.533040</td>\n",
       "      <td>3000</td>\n",
       "      <td>NaN</td>\n",
       "      <td>1</td>\n",
       "      <td>11100</td>\n",
       "      <td>78</td>\n",
       "      <td>...</td>\n",
       "      <td>2</td>\n",
       "      <td>2</td>\n",
       "      <td>NaN</td>\n",
       "      <td>4</td>\n",
       "      <td>0.0</td>\n",
       "      <td>Approved</td>\n",
       "      <td>NaN</td>\n",
       "      <td>1.0</td>\n",
       "      <td>0</td>\n",
       "      <td>0</td>\n",
       "    </tr>\n",
       "    <tr>\n",
       "      <th>2</th>\n",
       "      <td>01Feb2010 0:00:00</td>\n",
       "      <td>06May1989</td>\n",
       "      <td>11034979</td>\n",
       "      <td>32701063</td>\n",
       "      <td>0.861555</td>\n",
       "      <td>6240</td>\n",
       "      <td>4300.0</td>\n",
       "      <td>2</td>\n",
       "      <td>2400</td>\n",
       "      <td>15</td>\n",
       "      <td>...</td>\n",
       "      <td>1</td>\n",
       "      <td>5</td>\n",
       "      <td>5.0</td>\n",
       "      <td>1</td>\n",
       "      <td>0.0</td>\n",
       "      <td>Approved</td>\n",
       "      <td>NaN</td>\n",
       "      <td>NaN</td>\n",
       "      <td>0</td>\n",
       "      <td>0</td>\n",
       "    </tr>\n",
       "    <tr>\n",
       "      <th>3</th>\n",
       "      <td>01Feb2010 0:00:00</td>\n",
       "      <td>06Dec1987</td>\n",
       "      <td>11034980</td>\n",
       "      <td>32386786</td>\n",
       "      <td>0.506451</td>\n",
       "      <td>4560</td>\n",
       "      <td>2500.0</td>\n",
       "      <td>3</td>\n",
       "      <td>11800</td>\n",
       "      <td>30</td>\n",
       "      <td>...</td>\n",
       "      <td>2</td>\n",
       "      <td>6</td>\n",
       "      <td>5.0</td>\n",
       "      <td>1</td>\n",
       "      <td>0.0</td>\n",
       "      <td>Approved</td>\n",
       "      <td>NaN</td>\n",
       "      <td>0.0</td>\n",
       "      <td>0</td>\n",
       "      <td>0</td>\n",
       "    </tr>\n",
       "    <tr>\n",
       "      <th>4</th>\n",
       "      <td>02Feb2010 0:00:00</td>\n",
       "      <td>18May1989</td>\n",
       "      <td>11034981</td>\n",
       "      <td>32692110</td>\n",
       "      <td>0.210913</td>\n",
       "      <td>5160</td>\n",
       "      <td>NaN</td>\n",
       "      <td>1</td>\n",
       "      <td>10200</td>\n",
       "      <td>72</td>\n",
       "      <td>...</td>\n",
       "      <td>1</td>\n",
       "      <td>5</td>\n",
       "      <td>NaN</td>\n",
       "      <td>0</td>\n",
       "      <td>NaN</td>\n",
       "      <td>Rejected</td>\n",
       "      <td>1.0</td>\n",
       "      <td>NaN</td>\n",
       "      <td>0</td>\n",
       "      <td>0</td>\n",
       "    </tr>\n",
       "  </tbody>\n",
       "</table>\n",
       "<p>5 rows × 36 columns</p>\n",
       "</div>"
      ],
      "text/plain": [
       "    application_date      Var13        ID  customer_id       _r_  Var9  \\\n",
       "0  01Feb2010 0:00:00  26Nov2004  11034977     32537148  0.267045  5640   \n",
       "1  01Feb2010 0:00:00  16Sep1996  11034978     32761663  0.533040  3000   \n",
       "2  01Feb2010 0:00:00  06May1989  11034979     32701063  0.861555  6240   \n",
       "3  01Feb2010 0:00:00  06Dec1987  11034980     32386786  0.506451  4560   \n",
       "4  02Feb2010 0:00:00  18May1989  11034981     32692110  0.210913  5160   \n",
       "\n",
       "    Var10  Var1   Var4  Var5  ...  Var3  Var11  Var12  Var14  target  \\\n",
       "0     NaN     1   7800    99  ...     1      5    NaN      2     0.0   \n",
       "1     NaN     1  11100    78  ...     2      2    NaN      4     0.0   \n",
       "2  4300.0     2   2400    15  ...     1      5    5.0      1     0.0   \n",
       "3  2500.0     3  11800    30  ...     2      6    5.0      1     0.0   \n",
       "4     NaN     1  10200    72  ...     1      5    NaN      0     NaN   \n",
       "\n",
       "   Application_status  Var18  Var19  Var27  Var28  \n",
       "0            Approved    1.0    NaN      0      0  \n",
       "1            Approved    NaN    1.0      0      0  \n",
       "2            Approved    NaN    NaN      0      0  \n",
       "3            Approved    NaN    0.0      0      0  \n",
       "4            Rejected    1.0    NaN      0      0  \n",
       "\n",
       "[5 rows x 36 columns]"
      ]
     },
     "execution_count": 309,
     "metadata": {},
     "output_type": "execute_result"
    }
   ],
   "source": [
    "df.head()\n",
    "# Some of the records for Var14 are Nulls, it requires analysis"
   ]
  },
  {
   "cell_type": "markdown",
   "metadata": {},
   "source": [
    "### Handle date variables"
   ]
  },
  {
   "cell_type": "code",
   "execution_count": 310,
   "metadata": {},
   "outputs": [
    {
     "data": {
      "text/plain": [
       "['application_date', 'Var13']"
      ]
     },
     "execution_count": 310,
     "metadata": {},
     "output_type": "execute_result"
    }
   ],
   "source": [
    "# Print date columns\n",
    "date_columns"
   ]
  },
  {
   "cell_type": "markdown",
   "metadata": {},
   "source": [
    "#### Change the type of columns"
   ]
  },
  {
   "cell_type": "code",
   "execution_count": 311,
   "metadata": {},
   "outputs": [],
   "source": [
    "# Change date columns to datetime type\n",
    "df['application_date'] = pd.to_datetime(df['application_date'], errors='coerce')\n",
    "df['Var13'] = pd.to_datetime(df['Var13'], format='%d%b%Y', errors='coerce')         # Var13 - irregular date format"
   ]
  },
  {
   "cell_type": "code",
   "execution_count": 312,
   "metadata": {},
   "outputs": [
    {
     "name": "stdout",
     "output_type": "stream",
     "text": [
      "784\n",
      "0\n"
     ]
    }
   ],
   "source": [
    "# Check naN values after transformation\n",
    "print(df['Var13'].isnull().sum(0))\n",
    "print(df['application_date'].isnull().sum(0))"
   ]
  },
  {
   "cell_type": "markdown",
   "metadata": {},
   "source": [
    "After transformation some records for Var13 are empty, we need to analyze it"
   ]
  },
  {
   "cell_type": "code",
   "execution_count": 313,
   "metadata": {},
   "outputs": [
    {
     "data": {
      "text/html": [
       "<div>\n",
       "<style scoped>\n",
       "    .dataframe tbody tr th:only-of-type {\n",
       "        vertical-align: middle;\n",
       "    }\n",
       "\n",
       "    .dataframe tbody tr th {\n",
       "        vertical-align: top;\n",
       "    }\n",
       "\n",
       "    .dataframe thead th {\n",
       "        text-align: right;\n",
       "    }\n",
       "</style>\n",
       "<table border=\"1\" class=\"dataframe\">\n",
       "  <thead>\n",
       "    <tr style=\"text-align: right;\">\n",
       "      <th></th>\n",
       "      <th>application_date</th>\n",
       "      <th>Var13</th>\n",
       "      <th>ID</th>\n",
       "      <th>customer_id</th>\n",
       "      <th>_r_</th>\n",
       "      <th>Var9</th>\n",
       "      <th>Var10</th>\n",
       "      <th>Var1</th>\n",
       "      <th>Var4</th>\n",
       "      <th>Var5</th>\n",
       "      <th>...</th>\n",
       "      <th>Var3</th>\n",
       "      <th>Var11</th>\n",
       "      <th>Var12</th>\n",
       "      <th>Var14</th>\n",
       "      <th>target</th>\n",
       "      <th>Application_status</th>\n",
       "      <th>Var18</th>\n",
       "      <th>Var19</th>\n",
       "      <th>Var27</th>\n",
       "      <th>Var28</th>\n",
       "    </tr>\n",
       "  </thead>\n",
       "  <tbody>\n",
       "    <tr>\n",
       "      <th>0</th>\n",
       "      <td>2010-02-01</td>\n",
       "      <td>2004-11-26</td>\n",
       "      <td>11034977</td>\n",
       "      <td>32537148</td>\n",
       "      <td>0.267045</td>\n",
       "      <td>5640</td>\n",
       "      <td>NaN</td>\n",
       "      <td>1</td>\n",
       "      <td>7800</td>\n",
       "      <td>99</td>\n",
       "      <td>...</td>\n",
       "      <td>1</td>\n",
       "      <td>5</td>\n",
       "      <td>NaN</td>\n",
       "      <td>2</td>\n",
       "      <td>0.0</td>\n",
       "      <td>Approved</td>\n",
       "      <td>1.0</td>\n",
       "      <td>NaN</td>\n",
       "      <td>0</td>\n",
       "      <td>0</td>\n",
       "    </tr>\n",
       "    <tr>\n",
       "      <th>1</th>\n",
       "      <td>2010-02-01</td>\n",
       "      <td>1996-09-16</td>\n",
       "      <td>11034978</td>\n",
       "      <td>32761663</td>\n",
       "      <td>0.533040</td>\n",
       "      <td>3000</td>\n",
       "      <td>NaN</td>\n",
       "      <td>1</td>\n",
       "      <td>11100</td>\n",
       "      <td>78</td>\n",
       "      <td>...</td>\n",
       "      <td>2</td>\n",
       "      <td>2</td>\n",
       "      <td>NaN</td>\n",
       "      <td>4</td>\n",
       "      <td>0.0</td>\n",
       "      <td>Approved</td>\n",
       "      <td>NaN</td>\n",
       "      <td>1.0</td>\n",
       "      <td>0</td>\n",
       "      <td>0</td>\n",
       "    </tr>\n",
       "    <tr>\n",
       "      <th>2</th>\n",
       "      <td>2010-02-01</td>\n",
       "      <td>1989-05-06</td>\n",
       "      <td>11034979</td>\n",
       "      <td>32701063</td>\n",
       "      <td>0.861555</td>\n",
       "      <td>6240</td>\n",
       "      <td>4300.0</td>\n",
       "      <td>2</td>\n",
       "      <td>2400</td>\n",
       "      <td>15</td>\n",
       "      <td>...</td>\n",
       "      <td>1</td>\n",
       "      <td>5</td>\n",
       "      <td>5.0</td>\n",
       "      <td>1</td>\n",
       "      <td>0.0</td>\n",
       "      <td>Approved</td>\n",
       "      <td>NaN</td>\n",
       "      <td>NaN</td>\n",
       "      <td>0</td>\n",
       "      <td>0</td>\n",
       "    </tr>\n",
       "    <tr>\n",
       "      <th>3</th>\n",
       "      <td>2010-02-01</td>\n",
       "      <td>1987-12-06</td>\n",
       "      <td>11034980</td>\n",
       "      <td>32386786</td>\n",
       "      <td>0.506451</td>\n",
       "      <td>4560</td>\n",
       "      <td>2500.0</td>\n",
       "      <td>3</td>\n",
       "      <td>11800</td>\n",
       "      <td>30</td>\n",
       "      <td>...</td>\n",
       "      <td>2</td>\n",
       "      <td>6</td>\n",
       "      <td>5.0</td>\n",
       "      <td>1</td>\n",
       "      <td>0.0</td>\n",
       "      <td>Approved</td>\n",
       "      <td>NaN</td>\n",
       "      <td>0.0</td>\n",
       "      <td>0</td>\n",
       "      <td>0</td>\n",
       "    </tr>\n",
       "    <tr>\n",
       "      <th>4</th>\n",
       "      <td>2010-02-02</td>\n",
       "      <td>1989-05-18</td>\n",
       "      <td>11034981</td>\n",
       "      <td>32692110</td>\n",
       "      <td>0.210913</td>\n",
       "      <td>5160</td>\n",
       "      <td>NaN</td>\n",
       "      <td>1</td>\n",
       "      <td>10200</td>\n",
       "      <td>72</td>\n",
       "      <td>...</td>\n",
       "      <td>1</td>\n",
       "      <td>5</td>\n",
       "      <td>NaN</td>\n",
       "      <td>0</td>\n",
       "      <td>NaN</td>\n",
       "      <td>Rejected</td>\n",
       "      <td>1.0</td>\n",
       "      <td>NaN</td>\n",
       "      <td>0</td>\n",
       "      <td>0</td>\n",
       "    </tr>\n",
       "  </tbody>\n",
       "</table>\n",
       "<p>5 rows × 36 columns</p>\n",
       "</div>"
      ],
      "text/plain": [
       "  application_date      Var13        ID  customer_id       _r_  Var9   Var10  \\\n",
       "0       2010-02-01 2004-11-26  11034977     32537148  0.267045  5640     NaN   \n",
       "1       2010-02-01 1996-09-16  11034978     32761663  0.533040  3000     NaN   \n",
       "2       2010-02-01 1989-05-06  11034979     32701063  0.861555  6240  4300.0   \n",
       "3       2010-02-01 1987-12-06  11034980     32386786  0.506451  4560  2500.0   \n",
       "4       2010-02-02 1989-05-18  11034981     32692110  0.210913  5160     NaN   \n",
       "\n",
       "   Var1   Var4  Var5  ...  Var3  Var11  Var12  Var14  target  \\\n",
       "0     1   7800    99  ...     1      5    NaN      2     0.0   \n",
       "1     1  11100    78  ...     2      2    NaN      4     0.0   \n",
       "2     2   2400    15  ...     1      5    5.0      1     0.0   \n",
       "3     3  11800    30  ...     2      6    5.0      1     0.0   \n",
       "4     1  10200    72  ...     1      5    NaN      0     NaN   \n",
       "\n",
       "   Application_status  Var18  Var19  Var27  Var28  \n",
       "0            Approved    1.0    NaN      0      0  \n",
       "1            Approved    NaN    1.0      0      0  \n",
       "2            Approved    NaN    NaN      0      0  \n",
       "3            Approved    NaN    0.0      0      0  \n",
       "4            Rejected    1.0    NaN      0      0  \n",
       "\n",
       "[5 rows x 36 columns]"
      ]
     },
     "execution_count": 313,
     "metadata": {},
     "output_type": "execute_result"
    }
   ],
   "source": [
    "df.head()"
   ]
  },
  {
   "cell_type": "markdown",
   "metadata": {},
   "source": [
    "#### Analyze Var13"
   ]
  },
  {
   "cell_type": "code",
   "execution_count": 314,
   "metadata": {},
   "outputs": [
    {
     "data": {
      "text/plain": [
       "5        31Dec9999\n",
       "56       31Dec9999\n",
       "67       31Dec9999\n",
       "86       31Dec9999\n",
       "95       31Dec9999\n",
       "           ...    \n",
       "49510    31Dec9999\n",
       "49537    31Dec9999\n",
       "49617    31Dec9999\n",
       "49635    31Dec9999\n",
       "49765    31Dec9999\n",
       "Name: Var13, Length: 784, dtype: object"
      ]
     },
     "execution_count": 314,
     "metadata": {},
     "output_type": "execute_result"
    }
   ],
   "source": [
    "# Check indexes where conversion caused 'NaT' values\n",
    "nan_indices = df['Var13'].isna()\n",
    "\n",
    "# Compare original values of 'Var13' which after conversion became 'NaT'\n",
    "original_values_with_nan = data.loc[nan_indices, 'Var13']\n",
    "\n",
    "original_values_with_nan"
   ]
  },
  {
   "cell_type": "code",
   "execution_count": 315,
   "metadata": {},
   "outputs": [
    {
     "data": {
      "text/plain": [
       "array(['31Dec9999'], dtype=object)"
      ]
     },
     "execution_count": 315,
     "metadata": {},
     "output_type": "execute_result"
    }
   ],
   "source": [
    "# Check unique values of 'Var13' which after conversion became 'NaT'\n",
    "original_values_with_nan.unique()"
   ]
  },
  {
   "cell_type": "markdown",
   "metadata": {},
   "source": [
    "Summarizing we have 784 cases in Var13 with value '31Dec9999'\n",
    "\n",
    "We treat them as data error and for this moment leave with NAs"
   ]
  },
  {
   "cell_type": "markdown",
   "metadata": {},
   "source": [
    "#### Create working_months and NMOB column\n",
    "\n",
    "Var13 = employment date\n",
    "\n",
    "working_moths = Var13 - application_date\n",
    "\n",
    "\n",
    "We would like to calculate the number of working months before applying for credit, which will indicate the employee's duration at the given position from employment to loan application.\n",
    "\n",
    "NAs from Var13 are replaced with 0\n",
    "\n",
    "We also want to have this column first"
   ]
  },
  {
   "cell_type": "code",
   "execution_count": 316,
   "metadata": {},
   "outputs": [
    {
     "data": {
      "text/plain": [
       "application_date          0\n",
       "Var13                   784\n",
       "ID                        0\n",
       "customer_id               0\n",
       "_r_                       0\n",
       "Var9                      0\n",
       "Var10                 37538\n",
       "Var1                      0\n",
       "Var4                      0\n",
       "Var5                      0\n",
       "Var6                      0\n",
       "Var7                      0\n",
       "Var8                  29173\n",
       "Var15                     0\n",
       "Var16                     0\n",
       "Var17                    40\n",
       "Var20                     0\n",
       "Var21                     0\n",
       "Var22                     0\n",
       "Var23                     0\n",
       "Var24                     0\n",
       "Var25                 10088\n",
       "Var26                 19883\n",
       "Var29                     0\n",
       "Var30                     0\n",
       "Var2                   1403\n",
       "Var3                   1403\n",
       "Var11                     0\n",
       "Var12                 37538\n",
       "Var14                     0\n",
       "target                13282\n",
       "Application_status        0\n",
       "Var18                 37416\n",
       "Var19                 29173\n",
       "Var27                     0\n",
       "Var28                     0\n",
       "dtype: int64"
      ]
     },
     "execution_count": 316,
     "metadata": {},
     "output_type": "execute_result"
    }
   ],
   "source": [
    "df.isna().sum()"
   ]
  },
  {
   "cell_type": "code",
   "execution_count": 317,
   "metadata": {},
   "outputs": [],
   "source": [
    "# Create a new colum working_months\n",
    "df['working_months'] = ((df['application_date'] - df['Var13']) / np.timedelta64(1, 'M')).fillna(0).astype(int)"
   ]
  },
  {
   "cell_type": "code",
   "execution_count": 318,
   "metadata": {},
   "outputs": [],
   "source": [
    "# Write current date to the variable\n",
    "today = pd.Timestamp(date.today())\n",
    "\n",
    "# Create MOB column\n",
    "df['MOB'] = ((today - df['application_date']) / np.timedelta64(1, 'M')).astype(int)"
   ]
  },
  {
   "cell_type": "code",
   "execution_count": 319,
   "metadata": {},
   "outputs": [],
   "source": [
    "# Delete columns 'Var13' and 'application_date'\n",
    "df.drop(['Var13'], axis=1, inplace=True)\n",
    "df.drop(['application_date'], axis=1, inplace=True)"
   ]
  },
  {
   "cell_type": "code",
   "execution_count": 320,
   "metadata": {},
   "outputs": [
    {
     "data": {
      "text/html": [
       "<div>\n",
       "<style scoped>\n",
       "    .dataframe tbody tr th:only-of-type {\n",
       "        vertical-align: middle;\n",
       "    }\n",
       "\n",
       "    .dataframe tbody tr th {\n",
       "        vertical-align: top;\n",
       "    }\n",
       "\n",
       "    .dataframe thead th {\n",
       "        text-align: right;\n",
       "    }\n",
       "</style>\n",
       "<table border=\"1\" class=\"dataframe\">\n",
       "  <thead>\n",
       "    <tr style=\"text-align: right;\">\n",
       "      <th></th>\n",
       "      <th>ID</th>\n",
       "      <th>customer_id</th>\n",
       "      <th>_r_</th>\n",
       "      <th>Var9</th>\n",
       "      <th>Var10</th>\n",
       "      <th>Var1</th>\n",
       "      <th>Var4</th>\n",
       "      <th>Var5</th>\n",
       "      <th>Var6</th>\n",
       "      <th>Var7</th>\n",
       "      <th>...</th>\n",
       "      <th>Var12</th>\n",
       "      <th>Var14</th>\n",
       "      <th>target</th>\n",
       "      <th>Application_status</th>\n",
       "      <th>Var18</th>\n",
       "      <th>Var19</th>\n",
       "      <th>Var27</th>\n",
       "      <th>Var28</th>\n",
       "      <th>working_months</th>\n",
       "      <th>MOB</th>\n",
       "    </tr>\n",
       "  </thead>\n",
       "  <tbody>\n",
       "    <tr>\n",
       "      <th>0</th>\n",
       "      <td>11034977</td>\n",
       "      <td>32537148</td>\n",
       "      <td>0.267045</td>\n",
       "      <td>5640</td>\n",
       "      <td>NaN</td>\n",
       "      <td>1</td>\n",
       "      <td>7800</td>\n",
       "      <td>99</td>\n",
       "      <td>1</td>\n",
       "      <td>108.73</td>\n",
       "      <td>...</td>\n",
       "      <td>NaN</td>\n",
       "      <td>2</td>\n",
       "      <td>0.0</td>\n",
       "      <td>Approved</td>\n",
       "      <td>1.0</td>\n",
       "      <td>NaN</td>\n",
       "      <td>0</td>\n",
       "      <td>0</td>\n",
       "      <td>62</td>\n",
       "      <td>169</td>\n",
       "    </tr>\n",
       "    <tr>\n",
       "      <th>1</th>\n",
       "      <td>11034978</td>\n",
       "      <td>32761663</td>\n",
       "      <td>0.533040</td>\n",
       "      <td>3000</td>\n",
       "      <td>NaN</td>\n",
       "      <td>1</td>\n",
       "      <td>11100</td>\n",
       "      <td>78</td>\n",
       "      <td>1</td>\n",
       "      <td>195.99</td>\n",
       "      <td>...</td>\n",
       "      <td>NaN</td>\n",
       "      <td>4</td>\n",
       "      <td>0.0</td>\n",
       "      <td>Approved</td>\n",
       "      <td>NaN</td>\n",
       "      <td>1.0</td>\n",
       "      <td>0</td>\n",
       "      <td>0</td>\n",
       "      <td>160</td>\n",
       "      <td>169</td>\n",
       "    </tr>\n",
       "    <tr>\n",
       "      <th>2</th>\n",
       "      <td>11034979</td>\n",
       "      <td>32701063</td>\n",
       "      <td>0.861555</td>\n",
       "      <td>6240</td>\n",
       "      <td>4300.0</td>\n",
       "      <td>2</td>\n",
       "      <td>2400</td>\n",
       "      <td>15</td>\n",
       "      <td>1</td>\n",
       "      <td>248.34</td>\n",
       "      <td>...</td>\n",
       "      <td>5.0</td>\n",
       "      <td>1</td>\n",
       "      <td>0.0</td>\n",
       "      <td>Approved</td>\n",
       "      <td>NaN</td>\n",
       "      <td>NaN</td>\n",
       "      <td>0</td>\n",
       "      <td>0</td>\n",
       "      <td>248</td>\n",
       "      <td>169</td>\n",
       "    </tr>\n",
       "    <tr>\n",
       "      <th>3</th>\n",
       "      <td>11034980</td>\n",
       "      <td>32386786</td>\n",
       "      <td>0.506451</td>\n",
       "      <td>4560</td>\n",
       "      <td>2500.0</td>\n",
       "      <td>3</td>\n",
       "      <td>11800</td>\n",
       "      <td>30</td>\n",
       "      <td>6</td>\n",
       "      <td>3538.68</td>\n",
       "      <td>...</td>\n",
       "      <td>5.0</td>\n",
       "      <td>1</td>\n",
       "      <td>0.0</td>\n",
       "      <td>Approved</td>\n",
       "      <td>NaN</td>\n",
       "      <td>0.0</td>\n",
       "      <td>0</td>\n",
       "      <td>0</td>\n",
       "      <td>265</td>\n",
       "      <td>169</td>\n",
       "    </tr>\n",
       "    <tr>\n",
       "      <th>4</th>\n",
       "      <td>11034981</td>\n",
       "      <td>32692110</td>\n",
       "      <td>0.210913</td>\n",
       "      <td>5160</td>\n",
       "      <td>NaN</td>\n",
       "      <td>1</td>\n",
       "      <td>10200</td>\n",
       "      <td>72</td>\n",
       "      <td>3</td>\n",
       "      <td>580.26</td>\n",
       "      <td>...</td>\n",
       "      <td>NaN</td>\n",
       "      <td>0</td>\n",
       "      <td>NaN</td>\n",
       "      <td>Rejected</td>\n",
       "      <td>1.0</td>\n",
       "      <td>NaN</td>\n",
       "      <td>0</td>\n",
       "      <td>0</td>\n",
       "      <td>248</td>\n",
       "      <td>169</td>\n",
       "    </tr>\n",
       "  </tbody>\n",
       "</table>\n",
       "<p>5 rows × 36 columns</p>\n",
       "</div>"
      ],
      "text/plain": [
       "         ID  customer_id       _r_  Var9   Var10  Var1   Var4  Var5  Var6  \\\n",
       "0  11034977     32537148  0.267045  5640     NaN     1   7800    99     1   \n",
       "1  11034978     32761663  0.533040  3000     NaN     1  11100    78     1   \n",
       "2  11034979     32701063  0.861555  6240  4300.0     2   2400    15     1   \n",
       "3  11034980     32386786  0.506451  4560  2500.0     3  11800    30     6   \n",
       "4  11034981     32692110  0.210913  5160     NaN     1  10200    72     3   \n",
       "\n",
       "      Var7  ...  Var12  Var14  target  Application_status  Var18  Var19  \\\n",
       "0   108.73  ...    NaN      2     0.0            Approved    1.0    NaN   \n",
       "1   195.99  ...    NaN      4     0.0            Approved    NaN    1.0   \n",
       "2   248.34  ...    5.0      1     0.0            Approved    NaN    NaN   \n",
       "3  3538.68  ...    5.0      1     0.0            Approved    NaN    0.0   \n",
       "4   580.26  ...    NaN      0     NaN            Rejected    1.0    NaN   \n",
       "\n",
       "   Var27  Var28  working_months  MOB  \n",
       "0      0      0              62  169  \n",
       "1      0      0             160  169  \n",
       "2      0      0             248  169  \n",
       "3      0      0             265  169  \n",
       "4      0      0             248  169  \n",
       "\n",
       "[5 rows x 36 columns]"
      ]
     },
     "execution_count": 320,
     "metadata": {},
     "output_type": "execute_result"
    }
   ],
   "source": [
    "df.head()"
   ]
  },
  {
   "cell_type": "markdown",
   "metadata": {},
   "source": [
    "Move 'working_months' and MOB to the first column"
   ]
  },
  {
   "cell_type": "code",
   "execution_count": 321,
   "metadata": {},
   "outputs": [],
   "source": [
    "# Create a list of columns without 'working_months'\n",
    "df_sorted_columns = df.columns.tolist()\n",
    "\n",
    "# Remove 'working_months' and 'MOB' from the list\n",
    "columns_to_remove = ['working_months', 'MOB']\n",
    "df_sorted_columns = [col for col in df_sorted_columns if col not in columns_to_remove]\n",
    "\n",
    "# Add 'working_months' to the first position\n",
    "df_sorted_columns.insert(0, 'working_months')\n",
    "df_sorted_columns.insert(1, 'MOB')  # Insert 'MOB' after 'working_months'\n",
    "\n",
    "# Reindex columns\n",
    "df = df[df_sorted_columns]"
   ]
  },
  {
   "cell_type": "code",
   "execution_count": 322,
   "metadata": {},
   "outputs": [],
   "source": [
    "# Update the list of date and numeric columns\n",
    "date_columns = []\n",
    "numeric_columns = numeric_columns + ['working_months', 'MOB']"
   ]
  },
  {
   "cell_type": "code",
   "execution_count": 323,
   "metadata": {},
   "outputs": [
    {
     "data": {
      "text/html": [
       "<div>\n",
       "<style scoped>\n",
       "    .dataframe tbody tr th:only-of-type {\n",
       "        vertical-align: middle;\n",
       "    }\n",
       "\n",
       "    .dataframe tbody tr th {\n",
       "        vertical-align: top;\n",
       "    }\n",
       "\n",
       "    .dataframe thead th {\n",
       "        text-align: right;\n",
       "    }\n",
       "</style>\n",
       "<table border=\"1\" class=\"dataframe\">\n",
       "  <thead>\n",
       "    <tr style=\"text-align: right;\">\n",
       "      <th></th>\n",
       "      <th>working_months</th>\n",
       "      <th>MOB</th>\n",
       "      <th>ID</th>\n",
       "      <th>customer_id</th>\n",
       "      <th>_r_</th>\n",
       "      <th>Var9</th>\n",
       "      <th>Var10</th>\n",
       "      <th>Var1</th>\n",
       "      <th>Var4</th>\n",
       "      <th>Var5</th>\n",
       "      <th>...</th>\n",
       "      <th>Var3</th>\n",
       "      <th>Var11</th>\n",
       "      <th>Var12</th>\n",
       "      <th>Var14</th>\n",
       "      <th>target</th>\n",
       "      <th>Application_status</th>\n",
       "      <th>Var18</th>\n",
       "      <th>Var19</th>\n",
       "      <th>Var27</th>\n",
       "      <th>Var28</th>\n",
       "    </tr>\n",
       "  </thead>\n",
       "  <tbody>\n",
       "    <tr>\n",
       "      <th>0</th>\n",
       "      <td>62</td>\n",
       "      <td>169</td>\n",
       "      <td>11034977</td>\n",
       "      <td>32537148</td>\n",
       "      <td>0.267045</td>\n",
       "      <td>5640</td>\n",
       "      <td>NaN</td>\n",
       "      <td>1</td>\n",
       "      <td>7800</td>\n",
       "      <td>99</td>\n",
       "      <td>...</td>\n",
       "      <td>1</td>\n",
       "      <td>5</td>\n",
       "      <td>NaN</td>\n",
       "      <td>2</td>\n",
       "      <td>0.0</td>\n",
       "      <td>Approved</td>\n",
       "      <td>1.0</td>\n",
       "      <td>NaN</td>\n",
       "      <td>0</td>\n",
       "      <td>0</td>\n",
       "    </tr>\n",
       "    <tr>\n",
       "      <th>1</th>\n",
       "      <td>160</td>\n",
       "      <td>169</td>\n",
       "      <td>11034978</td>\n",
       "      <td>32761663</td>\n",
       "      <td>0.533040</td>\n",
       "      <td>3000</td>\n",
       "      <td>NaN</td>\n",
       "      <td>1</td>\n",
       "      <td>11100</td>\n",
       "      <td>78</td>\n",
       "      <td>...</td>\n",
       "      <td>2</td>\n",
       "      <td>2</td>\n",
       "      <td>NaN</td>\n",
       "      <td>4</td>\n",
       "      <td>0.0</td>\n",
       "      <td>Approved</td>\n",
       "      <td>NaN</td>\n",
       "      <td>1.0</td>\n",
       "      <td>0</td>\n",
       "      <td>0</td>\n",
       "    </tr>\n",
       "    <tr>\n",
       "      <th>2</th>\n",
       "      <td>248</td>\n",
       "      <td>169</td>\n",
       "      <td>11034979</td>\n",
       "      <td>32701063</td>\n",
       "      <td>0.861555</td>\n",
       "      <td>6240</td>\n",
       "      <td>4300.0</td>\n",
       "      <td>2</td>\n",
       "      <td>2400</td>\n",
       "      <td>15</td>\n",
       "      <td>...</td>\n",
       "      <td>1</td>\n",
       "      <td>5</td>\n",
       "      <td>5.0</td>\n",
       "      <td>1</td>\n",
       "      <td>0.0</td>\n",
       "      <td>Approved</td>\n",
       "      <td>NaN</td>\n",
       "      <td>NaN</td>\n",
       "      <td>0</td>\n",
       "      <td>0</td>\n",
       "    </tr>\n",
       "    <tr>\n",
       "      <th>3</th>\n",
       "      <td>265</td>\n",
       "      <td>169</td>\n",
       "      <td>11034980</td>\n",
       "      <td>32386786</td>\n",
       "      <td>0.506451</td>\n",
       "      <td>4560</td>\n",
       "      <td>2500.0</td>\n",
       "      <td>3</td>\n",
       "      <td>11800</td>\n",
       "      <td>30</td>\n",
       "      <td>...</td>\n",
       "      <td>2</td>\n",
       "      <td>6</td>\n",
       "      <td>5.0</td>\n",
       "      <td>1</td>\n",
       "      <td>0.0</td>\n",
       "      <td>Approved</td>\n",
       "      <td>NaN</td>\n",
       "      <td>0.0</td>\n",
       "      <td>0</td>\n",
       "      <td>0</td>\n",
       "    </tr>\n",
       "    <tr>\n",
       "      <th>4</th>\n",
       "      <td>248</td>\n",
       "      <td>169</td>\n",
       "      <td>11034981</td>\n",
       "      <td>32692110</td>\n",
       "      <td>0.210913</td>\n",
       "      <td>5160</td>\n",
       "      <td>NaN</td>\n",
       "      <td>1</td>\n",
       "      <td>10200</td>\n",
       "      <td>72</td>\n",
       "      <td>...</td>\n",
       "      <td>1</td>\n",
       "      <td>5</td>\n",
       "      <td>NaN</td>\n",
       "      <td>0</td>\n",
       "      <td>NaN</td>\n",
       "      <td>Rejected</td>\n",
       "      <td>1.0</td>\n",
       "      <td>NaN</td>\n",
       "      <td>0</td>\n",
       "      <td>0</td>\n",
       "    </tr>\n",
       "  </tbody>\n",
       "</table>\n",
       "<p>5 rows × 36 columns</p>\n",
       "</div>"
      ],
      "text/plain": [
       "   working_months  MOB        ID  customer_id       _r_  Var9   Var10  Var1  \\\n",
       "0              62  169  11034977     32537148  0.267045  5640     NaN     1   \n",
       "1             160  169  11034978     32761663  0.533040  3000     NaN     1   \n",
       "2             248  169  11034979     32701063  0.861555  6240  4300.0     2   \n",
       "3             265  169  11034980     32386786  0.506451  4560  2500.0     3   \n",
       "4             248  169  11034981     32692110  0.210913  5160     NaN     1   \n",
       "\n",
       "    Var4  Var5  ...  Var3  Var11  Var12  Var14  target  Application_status  \\\n",
       "0   7800    99  ...     1      5    NaN      2     0.0            Approved   \n",
       "1  11100    78  ...     2      2    NaN      4     0.0            Approved   \n",
       "2   2400    15  ...     1      5    5.0      1     0.0            Approved   \n",
       "3  11800    30  ...     2      6    5.0      1     0.0            Approved   \n",
       "4  10200    72  ...     1      5    NaN      0     NaN            Rejected   \n",
       "\n",
       "   Var18  Var19  Var27  Var28  \n",
       "0    1.0    NaN      0      0  \n",
       "1    NaN    1.0      0      0  \n",
       "2    NaN    NaN      0      0  \n",
       "3    NaN    0.0      0      0  \n",
       "4    1.0    NaN      0      0  \n",
       "\n",
       "[5 rows x 36 columns]"
      ]
     },
     "execution_count": 323,
     "metadata": {},
     "output_type": "execute_result"
    }
   ],
   "source": [
    "df.head()"
   ]
  },
  {
   "cell_type": "markdown",
   "metadata": {},
   "source": [
    "### Handle binary variables\n",
    "\n",
    "Convert the 'Application_status' column to binary variables to facilitate analysis. Applications marked as 'Approved' are changed to 1, and those marked as 'Rejected' are changed to 0. This conversion simplifies the analysis process, allowing for straightforward interpretation of application outcomes"
   ]
  },
  {
   "cell_type": "code",
   "execution_count": 324,
   "metadata": {},
   "outputs": [
    {
     "name": "stdout",
     "output_type": "stream",
     "text": [
      "Unique values for column 'target': [ 0. nan  1.]\n",
      "Unique values for column 'Application_status': ['Approved' 'Rejected']\n",
      "Unique values for column 'Var18': [ 1. nan  0.]\n",
      "Unique values for column 'Var19': [nan  1.  0.]\n",
      "Unique values for column 'Var27': [0 1]\n",
      "Unique values for column 'Var28': [0 1]\n"
     ]
    }
   ],
   "source": [
    "# Check unique values for binary columns\n",
    "for column in binary_columns:\n",
    "    print(f\"Unique values for column '{column}': {df[column].unique()}\")"
   ]
  },
  {
   "cell_type": "markdown",
   "metadata": {},
   "source": [
    "As we can observe column \"Application_status\" needs to be modified"
   ]
  },
  {
   "cell_type": "code",
   "execution_count": 325,
   "metadata": {},
   "outputs": [],
   "source": [
    "# Change value \"Approved\" to 1 and \"Rejected\" to 0 in column 'Application_status'\n",
    "df['Application_status'] = df['Application_status'].replace({'Approved': 1, 'Rejected': 0})"
   ]
  },
  {
   "cell_type": "code",
   "execution_count": 326,
   "metadata": {},
   "outputs": [
    {
     "data": {
      "text/plain": [
       "1    36718\n",
       "0    13282\n",
       "Name: Application_status, dtype: int64"
      ]
     },
     "execution_count": 326,
     "metadata": {},
     "output_type": "execute_result"
    }
   ],
   "source": [
    "# Check and count unique values for 'Application_status' to ensure that transformation was successful\n",
    "df['Application_status'].value_counts(dropna=False)"
   ]
  },
  {
   "cell_type": "markdown",
   "metadata": {},
   "source": [
    "Check the rest of binary columns"
   ]
  },
  {
   "cell_type": "code",
   "execution_count": 327,
   "metadata": {},
   "outputs": [
    {
     "data": {
      "text/plain": [
       "target                13282\n",
       "Application_status        0\n",
       "Var18                 37416\n",
       "Var19                 29173\n",
       "Var27                     0\n",
       "Var28                     0\n",
       "dtype: int64"
      ]
     },
     "execution_count": 327,
     "metadata": {},
     "output_type": "execute_result"
    }
   ],
   "source": [
    "df[binary_columns].isna().sum()"
   ]
  },
  {
   "cell_type": "code",
   "execution_count": 328,
   "metadata": {},
   "outputs": [
    {
     "name": "stdout",
     "output_type": "stream",
     "text": [
      "<class 'pandas.core.frame.DataFrame'>\n",
      "RangeIndex: 50000 entries, 0 to 49999\n",
      "Data columns (total 6 columns):\n",
      " #   Column              Non-Null Count  Dtype  \n",
      "---  ------              --------------  -----  \n",
      " 0   target              36718 non-null  float64\n",
      " 1   Application_status  50000 non-null  int64  \n",
      " 2   Var18               12584 non-null  float64\n",
      " 3   Var19               20827 non-null  float64\n",
      " 4   Var27               50000 non-null  int64  \n",
      " 5   Var28               50000 non-null  int64  \n",
      "dtypes: float64(3), int64(3)\n",
      "memory usage: 2.3 MB\n"
     ]
    }
   ],
   "source": [
    "df[binary_columns].info()"
   ]
  },
  {
   "cell_type": "markdown",
   "metadata": {},
   "source": [
    "We can observe that we have some nulls in binary variables, but we will handle them later."
   ]
  },
  {
   "cell_type": "markdown",
   "metadata": {},
   "source": [
    "### Handle categorical variables"
   ]
  },
  {
   "cell_type": "markdown",
   "metadata": {},
   "source": [
    "We have 5 categorical columns:\n",
    "\n",
    "* Var2 - Loan purpose\n",
    "* Var3 - Distribution channel\n",
    "* Var11 - profession of main applicant\n",
    "* Var12 - profession of second applicant\n",
    "* Var14 - marital status of main applicant\n",
    "\n",
    "All of them are treated as simple categorical variables(non-ordered)"
   ]
  },
  {
   "cell_type": "code",
   "execution_count": 329,
   "metadata": {},
   "outputs": [
    {
     "name": "stdout",
     "output_type": "stream",
     "text": [
      "Unique values for column 'Var2': [ 2.  1.  3. nan]\n",
      "Unique values for column 'Var3': ['1' '2' nan 'Direct' '3' 'Online']\n",
      "Unique values for column 'Var11': [5 2 6 4 3 1 7]\n",
      "Unique values for column 'Var12': [nan  5.  2.  4.  6.  7.  3.  1.]\n",
      "Unique values for column 'Var14': [2 4 1 0 3]\n"
     ]
    }
   ],
   "source": [
    "# Check unique values for binary columns\n",
    "for column in categorical_columns:\n",
    "    print(f\"Unique values for column '{column}': {df[column].unique()}\")"
   ]
  },
  {
   "cell_type": "markdown",
   "metadata": {},
   "source": [
    "According to the variables_description.xlsx file the variable Var2 should have the following values:\n",
    "\n",
    "* 1 Direct\n",
    "* 2 Broker\n",
    "* 3 Online\n",
    "\n",
    "In the dataset this variable has 5 unique values printed above. First of all we should transform 'Direct' to 1 and 'Online' to 3"
   ]
  },
  {
   "cell_type": "code",
   "execution_count": 330,
   "metadata": {},
   "outputs": [
    {
     "data": {
      "text/plain": [
       "1         24043\n",
       "2         16130\n",
       "3          8054\n",
       "NaN        1403\n",
       "Direct      325\n",
       "Online       45\n",
       "Name: Var3, dtype: int64"
      ]
     },
     "execution_count": 330,
     "metadata": {},
     "output_type": "execute_result"
    }
   ],
   "source": [
    "# Check the number of observations in Var3 for each category\n",
    "df['Var3'].value_counts(dropna=False)"
   ]
  },
  {
   "cell_type": "code",
   "execution_count": 331,
   "metadata": {},
   "outputs": [],
   "source": [
    "# Change the value \"Direct\" to 1 and \"Online\" to 3 in column \"Var3\"\n",
    "df['Var3'] = df['Var3'].replace({'Direct': 1, 'Online': 3})\n",
    "\n",
    "# Change the data type of column \"Var3\" to float (we still have NaN values)\n",
    "df['Var3'] = df['Var3'].astype(float)"
   ]
  },
  {
   "cell_type": "markdown",
   "metadata": {},
   "source": [
    "Check the unique values after transformation"
   ]
  },
  {
   "cell_type": "code",
   "execution_count": 332,
   "metadata": {},
   "outputs": [
    {
     "data": {
      "text/plain": [
       "1.0    24368\n",
       "2.0    16130\n",
       "3.0     8099\n",
       "NaN     1403\n",
       "Name: Var3, dtype: int64"
      ]
     },
     "execution_count": 332,
     "metadata": {},
     "output_type": "execute_result"
    }
   ],
   "source": [
    "# Check again the number of observations in Var3 for each category\n",
    "df['Var3'].value_counts(dropna=False)"
   ]
  },
  {
   "cell_type": "markdown",
   "metadata": {},
   "source": [
    "It looks that the transformation was successfull"
   ]
  },
  {
   "cell_type": "code",
   "execution_count": 333,
   "metadata": {},
   "outputs": [
    {
     "data": {
      "text/plain": [
       "Var2      1403\n",
       "Var3      1403\n",
       "Var11        0\n",
       "Var12    37538\n",
       "Var14        0\n",
       "dtype: int64"
      ]
     },
     "execution_count": 333,
     "metadata": {},
     "output_type": "execute_result"
    }
   ],
   "source": [
    "# Count NA values for categorical columns\n",
    "df[categorical_columns].isna().sum()"
   ]
  },
  {
   "cell_type": "markdown",
   "metadata": {},
   "source": [
    "All categorical variables are ready for the further processing (filling NA values and one hot encoding)."
   ]
  },
  {
   "cell_type": "markdown",
   "metadata": {},
   "source": [
    "### Handle NaN in target variable\n",
    "\n",
    "As we can observe below we have 13282 NaN values in our target variable.\n",
    "\n",
    "We found out that all of them are for \"Application status\" == rejected (1).\n",
    "\n",
    "We analyze the approach to fill target variable of all rejected application to 1 (default). However this way would bring in a high conlusion that all of rejected people would default in the future and it would impact negatively on our model. Additionally we assume that we want to model the approved applications only.\n",
    "\n",
    "After a long discussion we decided to delete all of rows with Application_status == 0."
   ]
  },
  {
   "cell_type": "code",
   "execution_count": 334,
   "metadata": {},
   "outputs": [
    {
     "data": {
      "text/plain": [
       "13282"
      ]
     },
     "execution_count": 334,
     "metadata": {},
     "output_type": "execute_result"
    }
   ],
   "source": [
    "# Check the number of NAa for target variable\n",
    "df['target'].isna().sum()"
   ]
  },
  {
   "cell_type": "code",
   "execution_count": 335,
   "metadata": {},
   "outputs": [
    {
     "data": {
      "text/plain": [
       "13282"
      ]
     },
     "execution_count": 335,
     "metadata": {},
     "output_type": "execute_result"
    }
   ],
   "source": [
    "df.loc[df[\"Application_status\"] == 0, \"target\"].isna().sum()"
   ]
  },
  {
   "cell_type": "code",
   "execution_count": 336,
   "metadata": {},
   "outputs": [],
   "source": [
    "# Drop rows where 'Application_status' == 0\n",
    "df = df[df['Application_status'] != 0]"
   ]
  },
  {
   "cell_type": "markdown",
   "metadata": {},
   "source": [
    "Now as we know that there are only rows with application_status == 0 we can delete this column from df"
   ]
  },
  {
   "cell_type": "code",
   "execution_count": 337,
   "metadata": {},
   "outputs": [],
   "source": [
    "# Drop column 'Application_status'\n",
    "df.drop(['Application_status'], axis=1, inplace=True)"
   ]
  },
  {
   "cell_type": "code",
   "execution_count": 338,
   "metadata": {},
   "outputs": [],
   "source": [
    "# Delete \"application_stauts\" from binary_columns\n",
    "binary_columns.remove('Application_status')"
   ]
  },
  {
   "cell_type": "markdown",
   "metadata": {},
   "source": [
    "### Handle numeric data"
   ]
  },
  {
   "cell_type": "code",
   "execution_count": 339,
   "metadata": {},
   "outputs": [
    {
     "data": {
      "text/plain": [
       "ID                    0\n",
       "customer_id           0\n",
       "_r_                   0\n",
       "Var9                  0\n",
       "Var10             28043\n",
       "Var1                  0\n",
       "Var4                  0\n",
       "Var5                  0\n",
       "Var6                  0\n",
       "Var7                  0\n",
       "Var8              20538\n",
       "Var15                 0\n",
       "Var16                 0\n",
       "Var17                32\n",
       "Var20                 0\n",
       "Var21                 0\n",
       "Var22                 0\n",
       "Var23                 0\n",
       "Var24                 0\n",
       "Var25              7401\n",
       "Var26             14649\n",
       "Var29                 0\n",
       "Var30                 0\n",
       "working_months        0\n",
       "MOB                   0\n",
       "dtype: int64"
      ]
     },
     "execution_count": 339,
     "metadata": {},
     "output_type": "execute_result"
    }
   ],
   "source": [
    "df[numeric_columns].isna().sum()"
   ]
  },
  {
   "cell_type": "markdown",
   "metadata": {},
   "source": [
    "#### Dependence of numeric variables with categorical variables"
   ]
  },
  {
   "cell_type": "markdown",
   "metadata": {},
   "source": [
    "Var10 and Var8 are strictly related to Var1 and Var2 respectively, so we wanted to check the NAs in dependent variables.\n",
    "However Var1 related to Var10 does not have any missings we moved to Var8 and Var2.\n",
    "\n",
    "We wanted to check if there are any NA observations of Var2 (Loan purpose) having Var8 (Value of goods(car)) set to some value. If yes we assume that the value is entered correctly and we are missing Var2 for some unknown reason.\n",
    "\n",
    "We decided to fill these rows with value 1 (meaning Car Loan).\n",
    "\n",
    "As we can observe below we have 1018 NAs before filling the data.\n",
    "\n",
    "Var18 and Var 19 are also strictly related to Var2 and we apply similiar approach."
   ]
  },
  {
   "cell_type": "code",
   "execution_count": 340,
   "metadata": {},
   "outputs": [
    {
     "data": {
      "text/plain": [
       "1.0    15744\n",
       "3.0    10641\n",
       "2.0     9315\n",
       "NaN     1018\n",
       "Name: Var2, dtype: int64"
      ]
     },
     "execution_count": 340,
     "metadata": {},
     "output_type": "execute_result"
    }
   ],
   "source": [
    "# Count values inside Var8 group by value\n",
    "df['Var2'].value_counts(dropna=False)"
   ]
  },
  {
   "cell_type": "code",
   "execution_count": 341,
   "metadata": {},
   "outputs": [],
   "source": [
    "# Put value 1 to the column Var2 if Var8 is not NaN\n",
    "df.loc[~df['Var8'].isna(), 'Var2'] = 1\n",
    "\n",
    "# Put value 1 to the column Var2 if Var19 is not NaN\n",
    "df.loc[~df['Var19'].isna(), 'Var2'] = 1"
   ]
  },
  {
   "cell_type": "code",
   "execution_count": 342,
   "metadata": {},
   "outputs": [],
   "source": [
    "# Put value 2 to the column Var2 if Var18 is not NaN\n",
    "df.loc[~df['Var19'].isna(), 'Var2'] = 2"
   ]
  },
  {
   "cell_type": "markdown",
   "metadata": {},
   "source": [
    "After transformation the number of NaN in Var8 dropped by almost half"
   ]
  },
  {
   "cell_type": "code",
   "execution_count": 343,
   "metadata": {},
   "outputs": [
    {
     "data": {
      "text/plain": [
       "2.0    25495\n",
       "3.0    10641\n",
       "NaN      582\n",
       "Name: Var2, dtype: int64"
      ]
     },
     "execution_count": 343,
     "metadata": {},
     "output_type": "execute_result"
    }
   ],
   "source": [
    "# count values inside Var8 group by value\n",
    "df['Var2'].value_counts(dropna=False)"
   ]
  },
  {
   "cell_type": "markdown",
   "metadata": {},
   "source": [
    "#### Analyze Var9 and Var10\n",
    "\n",
    "We have 28043 null values in Var10 (income of second applicant). We would like to check how many of these NAs is because of the fact that there is just one applicant.\n",
    "\n",
    "As we can see below all of NAs are inside this group. We decided to sum these columns into one and name it \"income\"."
   ]
  },
  {
   "cell_type": "code",
   "execution_count": 344,
   "metadata": {},
   "outputs": [
    {
     "data": {
      "text/plain": [
       "28043"
      ]
     },
     "execution_count": 344,
     "metadata": {},
     "output_type": "execute_result"
    }
   ],
   "source": [
    "# Count the number of nulls where Var1 = 1\n",
    "df.loc[df[\"Var1\"] == 1, \"Var10\"].isna().sum()"
   ]
  },
  {
   "cell_type": "code",
   "execution_count": 345,
   "metadata": {},
   "outputs": [],
   "source": [
    "# Create a new colum income\n",
    "df[\"income\"] = df[\"Var9\"] + df[\"Var10\"].fillna(0).astype(int) # Var9 was as integer, Var10 was as float, but we do not have NAs\n",
    "\n",
    "numeric_columns.append(\"income\")"
   ]
  },
  {
   "cell_type": "code",
   "execution_count": 346,
   "metadata": {},
   "outputs": [],
   "source": [
    "# Drop columns Var10\n",
    "df.drop(['Var10'], axis=1, inplace=True)\n",
    "\n",
    "# Update the list of numeric columns\n",
    "numeric_columns.remove('Var10')"
   ]
  },
  {
   "cell_type": "markdown",
   "metadata": {},
   "source": [
    "# TUTAJ"
   ]
  },
  {
   "cell_type": "markdown",
   "metadata": {},
   "source": [
    "Check again the number of null values"
   ]
  },
  {
   "cell_type": "code",
   "execution_count": 348,
   "metadata": {},
   "outputs": [
    {
     "data": {
      "text/plain": [
       "ID                    0\n",
       "customer_id           0\n",
       "_r_                   0\n",
       "Var9                  0\n",
       "Var1                  0\n",
       "Var4                  0\n",
       "Var5                  0\n",
       "Var6                  0\n",
       "Var7                  0\n",
       "Var8              20538\n",
       "Var15                 0\n",
       "Var16                 0\n",
       "Var17                32\n",
       "Var20                 0\n",
       "Var21                 0\n",
       "Var22                 0\n",
       "Var23                 0\n",
       "Var24                 0\n",
       "Var25              7401\n",
       "Var26             14649\n",
       "Var29                 0\n",
       "Var30                 0\n",
       "working_months        0\n",
       "MOB                   0\n",
       "income                0\n",
       "dtype: int64"
      ]
     },
     "execution_count": 348,
     "metadata": {},
     "output_type": "execute_result"
    }
   ],
   "source": [
    "df[numeric_columns].isna().sum()"
   ]
  },
  {
   "cell_type": "markdown",
   "metadata": {},
   "source": [
    "# Zmiana - kategoryczne ciągłe\n",
    "\n",
    "Var8, Var25, Var26 - ciągła którą zamieniamy na kategoryczną + osobna kategoria na NA\n",
    "\n",
    "[TODO]"
   ]
  },
  {
   "cell_type": "markdown",
   "metadata": {},
   "source": [
    "We still have a few variables with nulls:\n",
    "\n",
    "* Var8 - Value of the goods (car) \n",
    "* Var17 - Spendings estimation - the number of NAs is low, there is a sense in filling this, we decided to use KNN to fill these variables.\n",
    "* Var25 - Amount on current account \n",
    "* Var26 - Amount on savings account\n",
    "\n",
    "When it comes to Var25 and Var26 we decidec to fill NAa with 0. NAs means probably that the client does not have account in our bank and we cannot reach that value or does not have any money on either current or saving account. In both cases there is an element of uncertainty which we decided to minimize.\n",
    "\n",
    "Because of this our model should be more conservative and penalize clients about whom we are not sure."
   ]
  },
  {
   "cell_type": "code",
   "execution_count": 127,
   "metadata": {},
   "outputs": [
    {
     "data": {
      "text/plain": [
       "55.93"
      ]
     },
     "execution_count": 127,
     "metadata": {},
     "output_type": "execute_result"
    }
   ],
   "source": [
    "# Check the percentage number of NAs in Var8 related to whole df\n",
    "round(df['Var8'].isna().sum() / df.shape[0] * 100, 2)"
   ]
  },
  {
   "cell_type": "code",
   "execution_count": 128,
   "metadata": {},
   "outputs": [
    {
     "data": {
      "text/plain": [
       "ID                    0\n",
       "customer_id           0\n",
       "_r_                   0\n",
       "Var1                  0\n",
       "Var4                  0\n",
       "Var5                  0\n",
       "Var6                  0\n",
       "Var7                  0\n",
       "Var8              20538\n",
       "Var15                 0\n",
       "Var16                 0\n",
       "Var17                32\n",
       "Var20                 0\n",
       "Var21                 0\n",
       "Var22                 0\n",
       "Var23                 0\n",
       "Var24                 0\n",
       "Var25              7401\n",
       "Var26             14649\n",
       "Var29                 0\n",
       "Var30                 0\n",
       "working_months        0\n",
       "MOB                   0\n",
       "income                0\n",
       "dtype: int64"
      ]
     },
     "execution_count": 128,
     "metadata": {},
     "output_type": "execute_result"
    }
   ],
   "source": [
    "df[numeric_columns].isna().sum()"
   ]
  },
  {
   "cell_type": "markdown",
   "metadata": {},
   "source": [
    "### Handle remaining NULL values"
   ]
  },
  {
   "cell_type": "code",
   "execution_count": 129,
   "metadata": {},
   "outputs": [
    {
     "data": {
      "text/plain": [
       "working_months        0\n",
       "MOB                   0\n",
       "ID                    0\n",
       "customer_id           0\n",
       "_r_                   0\n",
       "Var1                  0\n",
       "Var4                  0\n",
       "Var5                  0\n",
       "Var6                  0\n",
       "Var7                  0\n",
       "Var8              20538\n",
       "Var15                 0\n",
       "Var16                 0\n",
       "Var17                32\n",
       "Var20                 0\n",
       "Var21                 0\n",
       "Var22                 0\n",
       "Var23                 0\n",
       "Var24                 0\n",
       "Var25              7401\n",
       "Var26             14649\n",
       "Var29                 0\n",
       "Var30                 0\n",
       "Var2                582\n",
       "Var3               1018\n",
       "Var11                 0\n",
       "Var12             28043\n",
       "Var14                 0\n",
       "target                0\n",
       "Var18             27125\n",
       "Var19             20538\n",
       "Var27                 0\n",
       "Var28                 0\n",
       "income                0\n",
       "dtype: int64"
      ]
     },
     "execution_count": 129,
     "metadata": {},
     "output_type": "execute_result"
    }
   ],
   "source": [
    "df.isnull().sum()"
   ]
  },
  {
   "cell_type": "markdown",
   "metadata": {},
   "source": [
    "* Var17 - spedning estimation - as we wrote before, we will fill with KNN\n",
    "* Var2 - loan purpose [categorical] - drop NA rows\n",
    "* Var3 - Distribution channel [categorical] - drop NA rows\n",
    "* Var12 - profession of second applicant [categorical] - add new category\n",
    "* Var18 - Property ownership for property renovation\n",
    "* Var19 - Clasification of the vehicle (Car, Motorbike)\n",
    "\n",
    "When it comes to the Var18 and Var19 we analyze combining them with Var2 (loan purpose) and have 1 categorical variable with values:\n",
    "\n",
    "1. Car loan motorbike\n",
    "2. Car loan car\n",
    "3. House renovation your property\n",
    "4. House renovation not your property\n",
    "5. Short cash\n",
    "\n",
    "We finally decided not to use this approach, however we provide you with the short analysis why.\n",
    "\n",
    "Var18, Var19 - dodać kolejną kategorię"
   ]
  },
  {
   "cell_type": "markdown",
   "metadata": {},
   "source": [
    "#### Var12"
   ]
  },
  {
   "cell_type": "markdown",
   "metadata": {},
   "source": [
    "Check if all NAs in Var12 (profession of second applicant)are if Var1 == 1, so if there is just one applicant.\n",
    "\n",
    "The number of NAs in this category is the same as the number of NAs when Var1 == 1, so we fill it with a new category."
   ]
  },
  {
   "cell_type": "code",
   "execution_count": 130,
   "metadata": {},
   "outputs": [
    {
     "data": {
      "text/plain": [
       "28043"
      ]
     },
     "execution_count": 130,
     "metadata": {},
     "output_type": "execute_result"
    }
   ],
   "source": [
    "df.loc[df[\"Var1\"] == 1, \"Var12\"].isna().sum()"
   ]
  },
  {
   "cell_type": "markdown",
   "metadata": {},
   "source": [
    "Fill NA in Var12 (profession of second applicant) with new category: 8 - just one applicant"
   ]
  },
  {
   "cell_type": "code",
   "execution_count": 131,
   "metadata": {},
   "outputs": [],
   "source": [
    "df[\"Var12\"] = df[\"Var12\"].fillna(8)"
   ]
  },
  {
   "cell_type": "markdown",
   "metadata": {},
   "source": [
    "#### Var18 and Var19 - check\n",
    "\n",
    "Check if we can combine Var2 with Var18 and Var19 and having one categorical variable instead of one vategorical and 2 binary with huge amount of nulls. The new variable would consists of 5 values:\n",
    "\n",
    "1. Car loan motorbike\n",
    "2. Car loan car\n",
    "3. House renovation your property\n",
    "4. House renovation not your property\n",
    "5. Short cash\n",
    "\n",
    "First of all we need to check the values - if combining them would reduce the nulls to 0 and nulls are related only to the variable specificity or we really have some missing data.\n",
    "\n",
    "Var2 == 1 is related to Var 19 and Var2 == 2 is related to Var 18."
   ]
  },
  {
   "cell_type": "code",
   "execution_count": 132,
   "metadata": {},
   "outputs": [
    {
     "data": {
      "text/plain": [
       "36718"
      ]
     },
     "execution_count": 132,
     "metadata": {},
     "output_type": "execute_result"
    }
   ],
   "source": [
    "df.shape[0]"
   ]
  },
  {
   "cell_type": "code",
   "execution_count": 133,
   "metadata": {},
   "outputs": [
    {
     "name": "stdout",
     "output_type": "stream",
     "text": [
      "9315\n",
      "16180\n",
      "10641\n",
      "36136\n"
     ]
    }
   ],
   "source": [
    "# Check if the number of \"conditional\" values is the same as the number of rows in df\n",
    "\n",
    "# Count rows where Var2 == 1 and Var19 is not NaN\n",
    "var2_19 = df[(df['Var2'] == 1) & (~df['Var19'].isna())].shape[0]\n",
    "\n",
    "# Count rows where Var2 == 2 and Var 18 is not NaN\n",
    "var2_18 = df[(df['Var2'] == 2) & (~df['Var18'].isna())].shape[0]\n",
    "\n",
    "# Count rows where Var2 == 3\n",
    "var2_3 = df.loc[df[\"Var2\"] == 3].shape[0]\n",
    "\n",
    "# Calculate of sum\n",
    "sum = var2_19 + var2_18 + var2_3\n",
    "\n",
    "print(var2_18)\n",
    "print(var2_19)\n",
    "print(var2_3)\n",
    "print(sum)"
   ]
  },
  {
   "cell_type": "markdown",
   "metadata": {},
   "source": [
    "The number of rows in df is 36718 while the \"conditional\" sum is 36136, meaning that there would be a new category or we would need to add original values from Var2 and the number of categories would increase.\n",
    "\n",
    "Lets try to create this categorical column and see the distribution."
   ]
  },
  {
   "cell_type": "code",
   "execution_count": 134,
   "metadata": {},
   "outputs": [],
   "source": [
    "# Add new column loan_desc\n",
    "df['loan_desc'] = 0\n",
    "\n",
    "# Check conditions\n",
    "df.loc[(df['Var2'] == 1) & (df['Var19'] == 1), 'loan_desc'] = 1\n",
    "df.loc[(df['Var2'] == 1) & (df['Var19'] == 0), 'loan_desc'] = 2\n",
    "df.loc[(df['Var2'] == 2) & (df['Var18'] == 1), 'loan_desc'] = 3\n",
    "df.loc[(df['Var2'] == 2) & (df['Var18'] == 0), 'loan_desc'] = 4\n",
    "df.loc[df['Var2'] == 3, 'loan_desc'] = 5"
   ]
  },
  {
   "cell_type": "code",
   "execution_count": 135,
   "metadata": {},
   "outputs": [
    {
     "data": {
      "text/plain": [
       "1    11823\n",
       "5    10641\n",
       "3     7840\n",
       "2     4357\n",
       "4     1475\n",
       "0      582\n",
       "Name: loan_desc, dtype: int64"
      ]
     },
     "execution_count": 135,
     "metadata": {},
     "output_type": "execute_result"
    }
   ],
   "source": [
    "df['loan_desc'].value_counts(dropna=False)"
   ]
  },
  {
   "cell_type": "markdown",
   "metadata": {},
   "source": [
    "As we can observe above introducing new variables diveded the df into smaller, not very numerous groups. Vast majority of data are concentrated around 1, 5 and 3 group so probably (there was no precise description of variable Var18 and Var19) for:\n",
    "\n",
    " * Car loan for car\n",
    " * House renovation for client's property\n",
    " * Short cash\n",
    "\n",
    "These new two groups (2, 4) and additional 0 constitute a small percentage of all df.\n",
    "\n",
    "Summarizing we decide to go with variable loan_desc"
   ]
  },
  {
   "cell_type": "code",
   "execution_count": 76,
   "metadata": {},
   "outputs": [
    {
     "data": {
      "text/plain": [
       "(36718, 34)"
      ]
     },
     "execution_count": 76,
     "metadata": {},
     "output_type": "execute_result"
    }
   ],
   "source": [
    "df.shape"
   ]
  },
  {
   "cell_type": "markdown",
   "metadata": {},
   "source": [
    "#### Drop Var18 i Var19 and Var2"
   ]
  },
  {
   "cell_type": "code",
   "execution_count": 77,
   "metadata": {},
   "outputs": [],
   "source": [
    "# Drop Var18 and Var19 columns\n",
    "df.drop('Var18', axis=1, inplace=True)\n",
    "df.drop('Var19', axis=1, inplace=True)\n",
    "df.drop('Var2', axis=1, inplace=True)"
   ]
  },
  {
   "cell_type": "code",
   "execution_count": 59,
   "metadata": {},
   "outputs": [],
   "source": [
    "# Update the list of binary columns\n",
    "binary_columns.remove('Var18')\n",
    "binary_columns.remove('Var19')\n",
    "binary_columns.remove('Var2')"
   ]
  },
  {
   "cell_type": "markdown",
   "metadata": {},
   "source": [
    "#### Var3 - drop NAs"
   ]
  },
  {
   "cell_type": "code",
   "execution_count": 60,
   "metadata": {},
   "outputs": [],
   "source": [
    "# Drop NA rows fof Var3\n",
    "df = df[~df['Var3'].isna()]"
   ]
  },
  {
   "cell_type": "code",
   "execution_count": 61,
   "metadata": {},
   "outputs": [
    {
     "data": {
      "text/plain": [
       "1.0    18354\n",
       "2.0    12066\n",
       "3.0     5280\n",
       "Name: Var3, dtype: int64"
      ]
     },
     "execution_count": 61,
     "metadata": {},
     "output_type": "execute_result"
    }
   ],
   "source": [
    "# sum number of observations for each category in Var3\n",
    "df['Var3'].value_counts(dropna=False)"
   ]
  },
  {
   "cell_type": "code",
   "execution_count": 62,
   "metadata": {},
   "outputs": [
    {
     "data": {
      "text/plain": [
       "working_months        0\n",
       "ID                    0\n",
       "customer_id           0\n",
       "_r_                   0\n",
       "Var1                  0\n",
       "Var4                  0\n",
       "Var5                  0\n",
       "Var6                  0\n",
       "Var7                  0\n",
       "Var8              19956\n",
       "Var15                 0\n",
       "Var16                 0\n",
       "Var17                31\n",
       "Var20                 0\n",
       "Var21                 0\n",
       "Var22                 0\n",
       "Var23                 0\n",
       "Var24                 0\n",
       "Var25              7172\n",
       "Var26             14201\n",
       "Var29                 0\n",
       "Var30                 0\n",
       "Var2                  0\n",
       "Var3                  0\n",
       "Var11                 0\n",
       "Var12                 0\n",
       "Var14                 0\n",
       "target                0\n",
       "Var27                 0\n",
       "Var28                 0\n",
       "income                0\n",
       "loan_desc             0\n",
       "dtype: int64"
      ]
     },
     "execution_count": 62,
     "metadata": {},
     "output_type": "execute_result"
    }
   ],
   "source": [
    "df.isna().sum()"
   ]
  },
  {
   "cell_type": "markdown",
   "metadata": {},
   "source": [
    "Summarizing we still have 31 NAs in Var17 which will be filled using KNN"
   ]
  },
  {
   "cell_type": "markdown",
   "metadata": {},
   "source": [
    "### Handling numeric/categorical NAs\n",
    "\n",
    "Var8, Var25, Var26 - ciągła którą zamieniamy na kategoryczną + osobna kategoria na NA"
   ]
  },
  {
   "cell_type": "markdown",
   "metadata": {},
   "source": [
    "#### Var8"
   ]
  },
  {
   "cell_type": "code",
   "execution_count": 63,
   "metadata": {},
   "outputs": [],
   "source": [
    "def quantile_cut_and_merge(df, column_name):\n",
    "    # Filter out NaN values from the specified column\n",
    "    df_filtered = df.dropna(subset=[column_name])\n",
    "    \n",
    "    # Perform quantile cut on filtered DataFrame\n",
    "    df_filtered[column_name + '_q'] = pd.qcut(df_filtered[column_name], 10, labels=False, duplicates='drop')\n",
    "    \n",
    "    # Merge the results back into the original DataFrame\n",
    "    df = df.merge(df_filtered[['ID', column_name + '_q']], how='left', on='ID')\n",
    "    \n",
    "    # Fill NaN values in the new quantile column with 10\n",
    "    df[column_name + '_q'] = df[column_name + '_q'].fillna(10)\n",
    "    \n",
    "    # Drop the original column\n",
    "    df.drop(column_name, axis=1, inplace=True)\n",
    "    \n",
    "    return df"
   ]
  },
  {
   "cell_type": "code",
   "execution_count": 64,
   "metadata": {},
   "outputs": [
    {
     "name": "stderr",
     "output_type": "stream",
     "text": [
      "/var/folders/rh/w6cl6rd95vj2g4s03scz_4fc0000gn/T/ipykernel_65798/3854490666.py:6: SettingWithCopyWarning: \n",
      "A value is trying to be set on a copy of a slice from a DataFrame.\n",
      "Try using .loc[row_indexer,col_indexer] = value instead\n",
      "\n",
      "See the caveats in the documentation: https://pandas.pydata.org/pandas-docs/stable/user_guide/indexing.html#returning-a-view-versus-a-copy\n",
      "  df_filtered[column_name + '_q'] = pd.qcut(df_filtered[column_name], 10, labels=False, duplicates='drop')\n",
      "/var/folders/rh/w6cl6rd95vj2g4s03scz_4fc0000gn/T/ipykernel_65798/3854490666.py:6: SettingWithCopyWarning: \n",
      "A value is trying to be set on a copy of a slice from a DataFrame.\n",
      "Try using .loc[row_indexer,col_indexer] = value instead\n",
      "\n",
      "See the caveats in the documentation: https://pandas.pydata.org/pandas-docs/stable/user_guide/indexing.html#returning-a-view-versus-a-copy\n",
      "  df_filtered[column_name + '_q'] = pd.qcut(df_filtered[column_name], 10, labels=False, duplicates='drop')\n",
      "/var/folders/rh/w6cl6rd95vj2g4s03scz_4fc0000gn/T/ipykernel_65798/3854490666.py:6: SettingWithCopyWarning: \n",
      "A value is trying to be set on a copy of a slice from a DataFrame.\n",
      "Try using .loc[row_indexer,col_indexer] = value instead\n",
      "\n",
      "See the caveats in the documentation: https://pandas.pydata.org/pandas-docs/stable/user_guide/indexing.html#returning-a-view-versus-a-copy\n",
      "  df_filtered[column_name + '_q'] = pd.qcut(df_filtered[column_name], 10, labels=False, duplicates='drop')\n"
     ]
    }
   ],
   "source": [
    "for col in ['Var8', 'Var25', 'Var26']:\n",
    "    df = quantile_cut_and_merge(df, col)"
   ]
  },
  {
   "cell_type": "markdown",
   "metadata": {},
   "source": [
    "#### Handle categorical variables without NAs"
   ]
  },
  {
   "cell_type": "code",
   "execution_count": 65,
   "metadata": {},
   "outputs": [],
   "source": [
    "# Continuous columns to be changed to categorical\n",
    "columns = ['Var4', 'Var5', 'Var7', 'income', 'Var24', 'Var29', 'Var30']\n",
    "\n",
    "for col in columns:\n",
    "    # Perform quantile cut on filtered DataFrame\n",
    "    df[col] = pd.qcut(df[col], 10, labels=False, duplicates='drop')"
   ]
  },
  {
   "cell_type": "markdown",
   "metadata": {},
   "source": [
    "#### _r_ - drop"
   ]
  },
  {
   "cell_type": "code",
   "execution_count": 66,
   "metadata": {},
   "outputs": [],
   "source": [
    "# Drop _r_ column\n",
    "df.drop('_r_', axis=1, inplace=True)"
   ]
  },
  {
   "cell_type": "code",
   "execution_count": 67,
   "metadata": {},
   "outputs": [
    {
     "data": {
      "text/html": [
       "<div>\n",
       "<style scoped>\n",
       "    .dataframe tbody tr th:only-of-type {\n",
       "        vertical-align: middle;\n",
       "    }\n",
       "\n",
       "    .dataframe tbody tr th {\n",
       "        vertical-align: top;\n",
       "    }\n",
       "\n",
       "    .dataframe thead th {\n",
       "        text-align: right;\n",
       "    }\n",
       "</style>\n",
       "<table border=\"1\" class=\"dataframe\">\n",
       "  <thead>\n",
       "    <tr style=\"text-align: right;\">\n",
       "      <th></th>\n",
       "      <th>working_months</th>\n",
       "      <th>ID</th>\n",
       "      <th>customer_id</th>\n",
       "      <th>Var1</th>\n",
       "      <th>Var4</th>\n",
       "      <th>Var5</th>\n",
       "      <th>Var6</th>\n",
       "      <th>Var7</th>\n",
       "      <th>Var15</th>\n",
       "      <th>Var16</th>\n",
       "      <th>...</th>\n",
       "      <th>Var12</th>\n",
       "      <th>Var14</th>\n",
       "      <th>target</th>\n",
       "      <th>Var27</th>\n",
       "      <th>Var28</th>\n",
       "      <th>income</th>\n",
       "      <th>loan_desc</th>\n",
       "      <th>Var8_q</th>\n",
       "      <th>Var25_q</th>\n",
       "      <th>Var26_q</th>\n",
       "    </tr>\n",
       "  </thead>\n",
       "  <tbody>\n",
       "    <tr>\n",
       "      <th>0</th>\n",
       "      <td>62</td>\n",
       "      <td>11034977</td>\n",
       "      <td>32537148</td>\n",
       "      <td>1</td>\n",
       "      <td>2</td>\n",
       "      <td>9</td>\n",
       "      <td>1</td>\n",
       "      <td>0</td>\n",
       "      <td>0</td>\n",
       "      <td>0</td>\n",
       "      <td>...</td>\n",
       "      <td>8.0</td>\n",
       "      <td>2</td>\n",
       "      <td>0.0</td>\n",
       "      <td>0</td>\n",
       "      <td>0</td>\n",
       "      <td>1</td>\n",
       "      <td>3</td>\n",
       "      <td>10.0</td>\n",
       "      <td>3.0</td>\n",
       "      <td>0.0</td>\n",
       "    </tr>\n",
       "    <tr>\n",
       "      <th>1</th>\n",
       "      <td>160</td>\n",
       "      <td>11034978</td>\n",
       "      <td>32761663</td>\n",
       "      <td>1</td>\n",
       "      <td>3</td>\n",
       "      <td>9</td>\n",
       "      <td>1</td>\n",
       "      <td>0</td>\n",
       "      <td>4</td>\n",
       "      <td>4</td>\n",
       "      <td>...</td>\n",
       "      <td>8.0</td>\n",
       "      <td>4</td>\n",
       "      <td>0.0</td>\n",
       "      <td>0</td>\n",
       "      <td>0</td>\n",
       "      <td>0</td>\n",
       "      <td>1</td>\n",
       "      <td>0.0</td>\n",
       "      <td>3.0</td>\n",
       "      <td>1.0</td>\n",
       "    </tr>\n",
       "    <tr>\n",
       "      <th>2</th>\n",
       "      <td>248</td>\n",
       "      <td>11034979</td>\n",
       "      <td>32701063</td>\n",
       "      <td>2</td>\n",
       "      <td>0</td>\n",
       "      <td>2</td>\n",
       "      <td>1</td>\n",
       "      <td>0</td>\n",
       "      <td>0</td>\n",
       "      <td>0</td>\n",
       "      <td>...</td>\n",
       "      <td>5.0</td>\n",
       "      <td>1</td>\n",
       "      <td>0.0</td>\n",
       "      <td>0</td>\n",
       "      <td>0</td>\n",
       "      <td>5</td>\n",
       "      <td>5</td>\n",
       "      <td>10.0</td>\n",
       "      <td>3.0</td>\n",
       "      <td>0.0</td>\n",
       "    </tr>\n",
       "    <tr>\n",
       "      <th>3</th>\n",
       "      <td>265</td>\n",
       "      <td>11034980</td>\n",
       "      <td>32386786</td>\n",
       "      <td>3</td>\n",
       "      <td>3</td>\n",
       "      <td>5</td>\n",
       "      <td>6</td>\n",
       "      <td>9</td>\n",
       "      <td>0</td>\n",
       "      <td>0</td>\n",
       "      <td>...</td>\n",
       "      <td>5.0</td>\n",
       "      <td>1</td>\n",
       "      <td>0.0</td>\n",
       "      <td>0</td>\n",
       "      <td>0</td>\n",
       "      <td>2</td>\n",
       "      <td>2</td>\n",
       "      <td>0.0</td>\n",
       "      <td>1.0</td>\n",
       "      <td>4.0</td>\n",
       "    </tr>\n",
       "    <tr>\n",
       "      <th>4</th>\n",
       "      <td>0</td>\n",
       "      <td>11034982</td>\n",
       "      <td>32861919</td>\n",
       "      <td>1</td>\n",
       "      <td>2</td>\n",
       "      <td>6</td>\n",
       "      <td>1</td>\n",
       "      <td>0</td>\n",
       "      <td>1</td>\n",
       "      <td>1</td>\n",
       "      <td>...</td>\n",
       "      <td>8.0</td>\n",
       "      <td>0</td>\n",
       "      <td>0.0</td>\n",
       "      <td>0</td>\n",
       "      <td>0</td>\n",
       "      <td>0</td>\n",
       "      <td>4</td>\n",
       "      <td>10.0</td>\n",
       "      <td>0.0</td>\n",
       "      <td>10.0</td>\n",
       "    </tr>\n",
       "    <tr>\n",
       "      <th>...</th>\n",
       "      <td>...</td>\n",
       "      <td>...</td>\n",
       "      <td>...</td>\n",
       "      <td>...</td>\n",
       "      <td>...</td>\n",
       "      <td>...</td>\n",
       "      <td>...</td>\n",
       "      <td>...</td>\n",
       "      <td>...</td>\n",
       "      <td>...</td>\n",
       "      <td>...</td>\n",
       "      <td>...</td>\n",
       "      <td>...</td>\n",
       "      <td>...</td>\n",
       "      <td>...</td>\n",
       "      <td>...</td>\n",
       "      <td>...</td>\n",
       "      <td>...</td>\n",
       "      <td>...</td>\n",
       "      <td>...</td>\n",
       "      <td>...</td>\n",
       "    </tr>\n",
       "    <tr>\n",
       "      <th>35695</th>\n",
       "      <td>210</td>\n",
       "      <td>11084969</td>\n",
       "      <td>32845249</td>\n",
       "      <td>1</td>\n",
       "      <td>1</td>\n",
       "      <td>0</td>\n",
       "      <td>6</td>\n",
       "      <td>9</td>\n",
       "      <td>0</td>\n",
       "      <td>0</td>\n",
       "      <td>...</td>\n",
       "      <td>8.0</td>\n",
       "      <td>0</td>\n",
       "      <td>0.0</td>\n",
       "      <td>0</td>\n",
       "      <td>0</td>\n",
       "      <td>8</td>\n",
       "      <td>5</td>\n",
       "      <td>10.0</td>\n",
       "      <td>10.0</td>\n",
       "      <td>10.0</td>\n",
       "    </tr>\n",
       "    <tr>\n",
       "      <th>35696</th>\n",
       "      <td>230</td>\n",
       "      <td>11084970</td>\n",
       "      <td>32623752</td>\n",
       "      <td>1</td>\n",
       "      <td>7</td>\n",
       "      <td>2</td>\n",
       "      <td>3</td>\n",
       "      <td>9</td>\n",
       "      <td>1</td>\n",
       "      <td>1</td>\n",
       "      <td>...</td>\n",
       "      <td>8.0</td>\n",
       "      <td>1</td>\n",
       "      <td>0.0</td>\n",
       "      <td>0</td>\n",
       "      <td>0</td>\n",
       "      <td>8</td>\n",
       "      <td>3</td>\n",
       "      <td>10.0</td>\n",
       "      <td>5.0</td>\n",
       "      <td>9.0</td>\n",
       "    </tr>\n",
       "    <tr>\n",
       "      <th>35697</th>\n",
       "      <td>153</td>\n",
       "      <td>11084972</td>\n",
       "      <td>32554904</td>\n",
       "      <td>2</td>\n",
       "      <td>9</td>\n",
       "      <td>9</td>\n",
       "      <td>1</td>\n",
       "      <td>2</td>\n",
       "      <td>0</td>\n",
       "      <td>1</td>\n",
       "      <td>...</td>\n",
       "      <td>5.0</td>\n",
       "      <td>0</td>\n",
       "      <td>1.0</td>\n",
       "      <td>0</td>\n",
       "      <td>0</td>\n",
       "      <td>8</td>\n",
       "      <td>2</td>\n",
       "      <td>8.0</td>\n",
       "      <td>10.0</td>\n",
       "      <td>10.0</td>\n",
       "    </tr>\n",
       "    <tr>\n",
       "      <th>35698</th>\n",
       "      <td>170</td>\n",
       "      <td>11084974</td>\n",
       "      <td>32433438</td>\n",
       "      <td>1</td>\n",
       "      <td>9</td>\n",
       "      <td>2</td>\n",
       "      <td>1</td>\n",
       "      <td>9</td>\n",
       "      <td>0</td>\n",
       "      <td>0</td>\n",
       "      <td>...</td>\n",
       "      <td>8.0</td>\n",
       "      <td>0</td>\n",
       "      <td>0.0</td>\n",
       "      <td>0</td>\n",
       "      <td>0</td>\n",
       "      <td>9</td>\n",
       "      <td>1</td>\n",
       "      <td>9.0</td>\n",
       "      <td>5.0</td>\n",
       "      <td>9.0</td>\n",
       "    </tr>\n",
       "    <tr>\n",
       "      <th>35699</th>\n",
       "      <td>200</td>\n",
       "      <td>11084976</td>\n",
       "      <td>32834539</td>\n",
       "      <td>1</td>\n",
       "      <td>2</td>\n",
       "      <td>0</td>\n",
       "      <td>1</td>\n",
       "      <td>6</td>\n",
       "      <td>0</td>\n",
       "      <td>0</td>\n",
       "      <td>...</td>\n",
       "      <td>8.0</td>\n",
       "      <td>4</td>\n",
       "      <td>0.0</td>\n",
       "      <td>0</td>\n",
       "      <td>0</td>\n",
       "      <td>6</td>\n",
       "      <td>5</td>\n",
       "      <td>10.0</td>\n",
       "      <td>10.0</td>\n",
       "      <td>10.0</td>\n",
       "    </tr>\n",
       "  </tbody>\n",
       "</table>\n",
       "<p>35700 rows × 31 columns</p>\n",
       "</div>"
      ],
      "text/plain": [
       "       working_months        ID  customer_id  Var1  Var4  Var5  Var6  Var7  \\\n",
       "0                  62  11034977     32537148     1     2     9     1     0   \n",
       "1                 160  11034978     32761663     1     3     9     1     0   \n",
       "2                 248  11034979     32701063     2     0     2     1     0   \n",
       "3                 265  11034980     32386786     3     3     5     6     9   \n",
       "4                   0  11034982     32861919     1     2     6     1     0   \n",
       "...               ...       ...          ...   ...   ...   ...   ...   ...   \n",
       "35695             210  11084969     32845249     1     1     0     6     9   \n",
       "35696             230  11084970     32623752     1     7     2     3     9   \n",
       "35697             153  11084972     32554904     2     9     9     1     2   \n",
       "35698             170  11084974     32433438     1     9     2     1     9   \n",
       "35699             200  11084976     32834539     1     2     0     1     6   \n",
       "\n",
       "       Var15  Var16  ...  Var12  Var14  target  Var27  Var28  income  \\\n",
       "0          0      0  ...    8.0      2     0.0      0      0       1   \n",
       "1          4      4  ...    8.0      4     0.0      0      0       0   \n",
       "2          0      0  ...    5.0      1     0.0      0      0       5   \n",
       "3          0      0  ...    5.0      1     0.0      0      0       2   \n",
       "4          1      1  ...    8.0      0     0.0      0      0       0   \n",
       "...      ...    ...  ...    ...    ...     ...    ...    ...     ...   \n",
       "35695      0      0  ...    8.0      0     0.0      0      0       8   \n",
       "35696      1      1  ...    8.0      1     0.0      0      0       8   \n",
       "35697      0      1  ...    5.0      0     1.0      0      0       8   \n",
       "35698      0      0  ...    8.0      0     0.0      0      0       9   \n",
       "35699      0      0  ...    8.0      4     0.0      0      0       6   \n",
       "\n",
       "       loan_desc  Var8_q  Var25_q  Var26_q  \n",
       "0              3    10.0      3.0      0.0  \n",
       "1              1     0.0      3.0      1.0  \n",
       "2              5    10.0      3.0      0.0  \n",
       "3              2     0.0      1.0      4.0  \n",
       "4              4    10.0      0.0     10.0  \n",
       "...          ...     ...      ...      ...  \n",
       "35695          5    10.0     10.0     10.0  \n",
       "35696          3    10.0      5.0      9.0  \n",
       "35697          2     8.0     10.0     10.0  \n",
       "35698          1     9.0      5.0      9.0  \n",
       "35699          5    10.0     10.0     10.0  \n",
       "\n",
       "[35700 rows x 31 columns]"
      ]
     },
     "execution_count": 67,
     "metadata": {},
     "output_type": "execute_result"
    }
   ],
   "source": [
    "df"
   ]
  },
  {
   "cell_type": "markdown",
   "metadata": {},
   "source": [
    "#### Zmienne problematyczne:\n",
    "\n",
    "* Var20\n",
    "* Var21\n",
    "* Var22\n",
    "* Var30"
   ]
  },
  {
   "cell_type": "markdown",
   "metadata": {},
   "source": [
    "#### Var20"
   ]
  },
  {
   "cell_type": "code",
   "execution_count": 68,
   "metadata": {},
   "outputs": [
    {
     "data": {
      "text/plain": [
       "0     23044\n",
       "1      8430\n",
       "2      2699\n",
       "3       887\n",
       "4       358\n",
       "5       143\n",
       "6        70\n",
       "7        34\n",
       "8        16\n",
       "9        10\n",
       "11        3\n",
       "10        3\n",
       "13        2\n",
       "15        1\n",
       "Name: Var20, dtype: int64"
      ]
     },
     "execution_count": 68,
     "metadata": {},
     "output_type": "execute_result"
    }
   ],
   "source": [
    "df['Var20'].value_counts(dropna=False)"
   ]
  },
  {
   "cell_type": "code",
   "execution_count": 69,
   "metadata": {},
   "outputs": [],
   "source": [
    "# create a new column Var20_1 filled basing on Var20\n",
    "def process_var(var, df):\n",
    "    df[var + '_1'] = 0\n",
    "    df.loc[df[var].isin([1, 2]), var + '_1'] = 1\n",
    "    df.loc[df[var].isin([3, 4, 5]), var + '_1'] = 2\n",
    "    df.loc[df[var] > 5, var + '_1'] = 3\n",
    "    return df"
   ]
  },
  {
   "cell_type": "code",
   "execution_count": 70,
   "metadata": {},
   "outputs": [],
   "source": [
    "df = process_var('Var20', df)"
   ]
  },
  {
   "cell_type": "code",
   "execution_count": 71,
   "metadata": {},
   "outputs": [
    {
     "data": {
      "text/plain": [
       "0    23044\n",
       "1    11129\n",
       "2     1388\n",
       "3      139\n",
       "Name: Var20_1, dtype: int64"
      ]
     },
     "execution_count": 71,
     "metadata": {},
     "output_type": "execute_result"
    }
   ],
   "source": [
    "df['Var20_1'].value_counts(dropna=False)"
   ]
  },
  {
   "cell_type": "code",
   "execution_count": 72,
   "metadata": {},
   "outputs": [],
   "source": [
    "df.drop('Var20', axis=1, inplace=True)"
   ]
  },
  {
   "cell_type": "markdown",
   "metadata": {},
   "source": [
    "#### Var 21"
   ]
  },
  {
   "cell_type": "code",
   "execution_count": 73,
   "metadata": {},
   "outputs": [
    {
     "data": {
      "text/plain": [
       "0     16659\n",
       "1     10280\n",
       "2      4856\n",
       "3      2099\n",
       "4       931\n",
       "5       449\n",
       "6       212\n",
       "7        91\n",
       "8        47\n",
       "9        39\n",
       "10       15\n",
       "11        6\n",
       "12        6\n",
       "13        4\n",
       "14        3\n",
       "16        1\n",
       "18        1\n",
       "15        1\n",
       "Name: Var21, dtype: int64"
      ]
     },
     "execution_count": 73,
     "metadata": {},
     "output_type": "execute_result"
    }
   ],
   "source": [
    "df['Var21'].value_counts(dropna=False)"
   ]
  },
  {
   "cell_type": "code",
   "execution_count": 74,
   "metadata": {},
   "outputs": [],
   "source": [
    "df = process_var('Var21', df)"
   ]
  },
  {
   "cell_type": "code",
   "execution_count": 75,
   "metadata": {},
   "outputs": [
    {
     "data": {
      "text/plain": [
       "0    16659\n",
       "1    15136\n",
       "2     3479\n",
       "3      426\n",
       "Name: Var21_1, dtype: int64"
      ]
     },
     "execution_count": 75,
     "metadata": {},
     "output_type": "execute_result"
    }
   ],
   "source": [
    "df['Var21_1'].value_counts(dropna=False)"
   ]
  },
  {
   "cell_type": "code",
   "execution_count": 76,
   "metadata": {},
   "outputs": [],
   "source": [
    "df.drop('Var21', axis=1, inplace=True)"
   ]
  },
  {
   "cell_type": "markdown",
   "metadata": {},
   "source": [
    "#### Var22"
   ]
  },
  {
   "cell_type": "code",
   "execution_count": 77,
   "metadata": {},
   "outputs": [
    {
     "data": {
      "text/plain": [
       "0     12936\n",
       "1     10490\n",
       "2      5960\n",
       "3      3098\n",
       "4      1586\n",
       "5       781\n",
       "6       406\n",
       "7       190\n",
       "8       101\n",
       "9        66\n",
       "10       31\n",
       "11       21\n",
       "12       14\n",
       "13        8\n",
       "14        6\n",
       "16        3\n",
       "15        2\n",
       "18        1\n",
       "Name: Var22, dtype: int64"
      ]
     },
     "execution_count": 77,
     "metadata": {},
     "output_type": "execute_result"
    }
   ],
   "source": [
    "df['Var22'].value_counts(dropna=False)"
   ]
  },
  {
   "cell_type": "code",
   "execution_count": 78,
   "metadata": {},
   "outputs": [],
   "source": [
    "df = process_var('Var22', df)"
   ]
  },
  {
   "cell_type": "code",
   "execution_count": 79,
   "metadata": {},
   "outputs": [
    {
     "data": {
      "text/plain": [
       "1    16450\n",
       "0    12936\n",
       "2     5465\n",
       "3      849\n",
       "Name: Var22_1, dtype: int64"
      ]
     },
     "execution_count": 79,
     "metadata": {},
     "output_type": "execute_result"
    }
   ],
   "source": [
    "df['Var22_1'].value_counts(dropna=False)"
   ]
  },
  {
   "cell_type": "code",
   "execution_count": 80,
   "metadata": {},
   "outputs": [],
   "source": [
    "df.drop('Var22', axis=1, inplace=True)"
   ]
  },
  {
   "cell_type": "markdown",
   "metadata": {},
   "source": [
    "#### Var30\n",
    "\n",
    "Leave as is"
   ]
  },
  {
   "cell_type": "code",
   "execution_count": 81,
   "metadata": {},
   "outputs": [
    {
     "data": {
      "text/plain": [
       "6    7834\n",
       "1    5910\n",
       "0    4081\n",
       "7    4020\n",
       "4    3616\n",
       "5    3508\n",
       "3    3421\n",
       "2    3310\n",
       "Name: Var30, dtype: int64"
      ]
     },
     "execution_count": 81,
     "metadata": {},
     "output_type": "execute_result"
    }
   ],
   "source": [
    "df['Var30'].value_counts(dropna=False)"
   ]
  },
  {
   "cell_type": "code",
   "execution_count": 82,
   "metadata": {},
   "outputs": [
    {
     "data": {
      "text/plain": [
       "working_months     0\n",
       "ID                 0\n",
       "customer_id        0\n",
       "Var1               0\n",
       "Var4               0\n",
       "Var5               0\n",
       "Var6               0\n",
       "Var7               0\n",
       "Var15              0\n",
       "Var16              0\n",
       "Var17             31\n",
       "Var23              0\n",
       "Var24              0\n",
       "Var29              0\n",
       "Var30              0\n",
       "Var2               0\n",
       "Var3               0\n",
       "Var11              0\n",
       "Var12              0\n",
       "Var14              0\n",
       "target             0\n",
       "Var27              0\n",
       "Var28              0\n",
       "income             0\n",
       "loan_desc          0\n",
       "Var8_q             0\n",
       "Var25_q            0\n",
       "Var26_q            0\n",
       "Var20_1            0\n",
       "Var21_1            0\n",
       "Var22_1            0\n",
       "dtype: int64"
      ]
     },
     "execution_count": 82,
     "metadata": {},
     "output_type": "execute_result"
    }
   ],
   "source": [
    "df.isna().sum()"
   ]
  },
  {
   "cell_type": "markdown",
   "metadata": {},
   "source": [
    "### Filling NAs with KNN"
   ]
  },
  {
   "cell_type": "code",
   "execution_count": 83,
   "metadata": {},
   "outputs": [
    {
     "name": "stdout",
     "output_type": "stream",
     "text": [
      "<class 'pandas.core.frame.DataFrame'>\n",
      "Int64Index: 35700 entries, 0 to 35699\n",
      "Data columns (total 31 columns):\n",
      " #   Column          Non-Null Count  Dtype  \n",
      "---  ------          --------------  -----  \n",
      " 0   working_months  35700 non-null  int64  \n",
      " 1   ID              35700 non-null  int64  \n",
      " 2   customer_id     35700 non-null  int64  \n",
      " 3   Var1            35700 non-null  int64  \n",
      " 4   Var4            35700 non-null  int64  \n",
      " 5   Var5            35700 non-null  int64  \n",
      " 6   Var6            35700 non-null  int64  \n",
      " 7   Var7            35700 non-null  int64  \n",
      " 8   Var15           35700 non-null  int64  \n",
      " 9   Var16           35700 non-null  int64  \n",
      " 10  Var17           35669 non-null  float64\n",
      " 11  Var23           35700 non-null  int64  \n",
      " 12  Var24           35700 non-null  int64  \n",
      " 13  Var29           35700 non-null  int64  \n",
      " 14  Var30           35700 non-null  int64  \n",
      " 15  Var2            35700 non-null  float64\n",
      " 16  Var3            35700 non-null  float64\n",
      " 17  Var11           35700 non-null  int64  \n",
      " 18  Var12           35700 non-null  float64\n",
      " 19  Var14           35700 non-null  int64  \n",
      " 20  target          35700 non-null  float64\n",
      " 21  Var27           35700 non-null  int64  \n",
      " 22  Var28           35700 non-null  int64  \n",
      " 23  income          35700 non-null  int64  \n",
      " 24  loan_desc       35700 non-null  int64  \n",
      " 25  Var8_q          35700 non-null  float64\n",
      " 26  Var25_q         35700 non-null  float64\n",
      " 27  Var26_q         35700 non-null  float64\n",
      " 28  Var20_1         35700 non-null  int64  \n",
      " 29  Var21_1         35700 non-null  int64  \n",
      " 30  Var22_1         35700 non-null  int64  \n",
      "dtypes: float64(8), int64(23)\n",
      "memory usage: 8.7 MB\n"
     ]
    }
   ],
   "source": [
    "df.info()"
   ]
  },
  {
   "cell_type": "code",
   "execution_count": 84,
   "metadata": {},
   "outputs": [],
   "source": [
    "# change working_months to int32\n",
    "df['working_months'] = df['working_months'].astype('int32')"
   ]
  },
  {
   "cell_type": "code",
   "execution_count": 85,
   "metadata": {},
   "outputs": [
    {
     "name": "stdout",
     "output_type": "stream",
     "text": [
      "<class 'pandas.core.frame.DataFrame'>\n",
      "Int64Index: 35700 entries, 0 to 35699\n",
      "Data columns (total 31 columns):\n",
      " #   Column          Non-Null Count  Dtype  \n",
      "---  ------          --------------  -----  \n",
      " 0   working_months  35700 non-null  float64\n",
      " 1   ID              35700 non-null  int64  \n",
      " 2   customer_id     35700 non-null  int64  \n",
      " 3   Var1            35700 non-null  int64  \n",
      " 4   Var4            35700 non-null  int64  \n",
      " 5   Var5            35700 non-null  int64  \n",
      " 6   Var6            35700 non-null  int64  \n",
      " 7   Var7            35700 non-null  int64  \n",
      " 8   Var15           35700 non-null  int64  \n",
      " 9   Var16           35700 non-null  int64  \n",
      " 10  Var17           35700 non-null  float64\n",
      " 11  Var23           35700 non-null  int64  \n",
      " 12  Var24           35700 non-null  int64  \n",
      " 13  Var29           35700 non-null  int64  \n",
      " 14  Var30           35700 non-null  int64  \n",
      " 15  Var2            35700 non-null  float64\n",
      " 16  Var3            35700 non-null  float64\n",
      " 17  Var11           35700 non-null  int64  \n",
      " 18  Var12           35700 non-null  float64\n",
      " 19  Var14           35700 non-null  int64  \n",
      " 20  target          35700 non-null  float64\n",
      " 21  Var27           35700 non-null  int64  \n",
      " 22  Var28           35700 non-null  int64  \n",
      " 23  income          35700 non-null  int64  \n",
      " 24  loan_desc       35700 non-null  int64  \n",
      " 25  Var8_q          35700 non-null  float64\n",
      " 26  Var25_q         35700 non-null  float64\n",
      " 27  Var26_q         35700 non-null  float64\n",
      " 28  Var20_1         35700 non-null  int64  \n",
      " 29  Var21_1         35700 non-null  int64  \n",
      " 30  Var22_1         35700 non-null  int64  \n",
      "dtypes: float64(9), int64(22)\n",
      "memory usage: 8.7 MB\n"
     ]
    }
   ],
   "source": [
    "# Set the seed for reproducibility\n",
    "np.random.seed(123456)\n",
    "\n",
    "# Save the original data types of the DataFrame. This is crucial for restoring the DataFrame's data types\n",
    "# after imputation since KNNImputer will convert the imputed data to float64 by default.\n",
    "original_dtypes = df.dtypes\n",
    "\n",
    "# Initialize the KNNImputer. The default setting uses 5 nearest neighbors to impute missing values,\n",
    "# which is a balance between accuracy and computational efficiency.\n",
    "knn_imputer = KNNImputer()\n",
    "\n",
    "# Replace 0s with NaNs in the 'working_months' column if necessary. This step is preparatory for imputation,\n",
    "# ensuring that 0s, which may signify missing or unrecorded data, are correctly treated as missing values.\n",
    "df['working_months'] = df['working_months'].replace(0, np.nan)\n",
    "\n",
    "# Select only numerical columns from the DataFrame for imputation. KNNImputer works with numerical data,\n",
    "# so identifying these columns is a prerequisite for the imputation process.\n",
    "numerical_cols = df.select_dtypes(include=['int64', 'float64', 'int32']).columns\n",
    "\n",
    "# Perform the imputation using KNN. This process fills in missing values based on the mean of the\n",
    "# nearest neighbors found in the multidimensional space, providing a reasonable estimate for missing data.\n",
    "imputed_data = knn_imputer.fit_transform(df[numerical_cols])\n",
    "\n",
    "# Convert the imputed array back into a DataFrame, preserving the original index. This step ensures that\n",
    "# the imputed data retains the structure and index of the original DataFrame for consistency and ease of analysis.\n",
    "imputed_df = pd.DataFrame(imputed_data, columns=numerical_cols, index=df.index)\n",
    "\n",
    "# Restore the original data types. After imputation, it's important to convert the data back to its\n",
    "# original types for accurate analysis and consistency with the rest of the dataset.\n",
    "for col in numerical_cols:\n",
    "    if original_dtypes[col].kind in 'iu':  # Check if the data type is integer\n",
    "        imputed_df[col] = imputed_df[col].round().astype(original_dtypes[col])\n",
    "    else:  # For floating-point types, retain as is\n",
    "        imputed_df[col] = imputed_df[col].astype(original_dtypes[col])\n",
    "\n",
    "# Update the original 'sorted_data_encoded' DataFrame with the imputed data. This final step integrates\n",
    "# the imputed numerical data back into the main DataFrame, completing the imputation process.\n",
    "df.update(imputed_df)\n",
    "\n",
    "# Display the DataFrame information to check the results of the imputation and data type restoration.\n",
    "# This overview allows for a quick verification that the dataset is now complete with imputed values\n",
    "# and that all columns are of their appropriate data types.\n",
    "df.info()"
   ]
  },
  {
   "cell_type": "markdown",
   "metadata": {},
   "source": [
    "### Change Var 17 to categorical"
   ]
  },
  {
   "cell_type": "code",
   "execution_count": 86,
   "metadata": {},
   "outputs": [
    {
     "data": {
      "text/html": [
       "<div>\n",
       "<style scoped>\n",
       "    .dataframe tbody tr th:only-of-type {\n",
       "        vertical-align: middle;\n",
       "    }\n",
       "\n",
       "    .dataframe tbody tr th {\n",
       "        vertical-align: top;\n",
       "    }\n",
       "\n",
       "    .dataframe thead th {\n",
       "        text-align: right;\n",
       "    }\n",
       "</style>\n",
       "<table border=\"1\" class=\"dataframe\">\n",
       "  <thead>\n",
       "    <tr style=\"text-align: right;\">\n",
       "      <th></th>\n",
       "      <th>working_months</th>\n",
       "      <th>ID</th>\n",
       "      <th>customer_id</th>\n",
       "      <th>Var1</th>\n",
       "      <th>Var4</th>\n",
       "      <th>Var5</th>\n",
       "      <th>Var6</th>\n",
       "      <th>Var7</th>\n",
       "      <th>Var15</th>\n",
       "      <th>Var16</th>\n",
       "      <th>...</th>\n",
       "      <th>Var27</th>\n",
       "      <th>Var28</th>\n",
       "      <th>income</th>\n",
       "      <th>loan_desc</th>\n",
       "      <th>Var8_q</th>\n",
       "      <th>Var25_q</th>\n",
       "      <th>Var26_q</th>\n",
       "      <th>Var20_1</th>\n",
       "      <th>Var21_1</th>\n",
       "      <th>Var22_1</th>\n",
       "    </tr>\n",
       "  </thead>\n",
       "  <tbody>\n",
       "    <tr>\n",
       "      <th>0</th>\n",
       "      <td>62.0</td>\n",
       "      <td>11034977</td>\n",
       "      <td>32537148</td>\n",
       "      <td>1</td>\n",
       "      <td>2</td>\n",
       "      <td>9</td>\n",
       "      <td>1</td>\n",
       "      <td>0</td>\n",
       "      <td>0</td>\n",
       "      <td>0</td>\n",
       "      <td>...</td>\n",
       "      <td>0</td>\n",
       "      <td>0</td>\n",
       "      <td>1</td>\n",
       "      <td>3</td>\n",
       "      <td>10.0</td>\n",
       "      <td>3.0</td>\n",
       "      <td>0.0</td>\n",
       "      <td>1</td>\n",
       "      <td>1</td>\n",
       "      <td>1</td>\n",
       "    </tr>\n",
       "    <tr>\n",
       "      <th>1</th>\n",
       "      <td>160.0</td>\n",
       "      <td>11034978</td>\n",
       "      <td>32761663</td>\n",
       "      <td>1</td>\n",
       "      <td>3</td>\n",
       "      <td>9</td>\n",
       "      <td>1</td>\n",
       "      <td>0</td>\n",
       "      <td>4</td>\n",
       "      <td>4</td>\n",
       "      <td>...</td>\n",
       "      <td>0</td>\n",
       "      <td>0</td>\n",
       "      <td>0</td>\n",
       "      <td>1</td>\n",
       "      <td>0.0</td>\n",
       "      <td>3.0</td>\n",
       "      <td>1.0</td>\n",
       "      <td>0</td>\n",
       "      <td>0</td>\n",
       "      <td>0</td>\n",
       "    </tr>\n",
       "    <tr>\n",
       "      <th>2</th>\n",
       "      <td>248.0</td>\n",
       "      <td>11034979</td>\n",
       "      <td>32701063</td>\n",
       "      <td>2</td>\n",
       "      <td>0</td>\n",
       "      <td>2</td>\n",
       "      <td>1</td>\n",
       "      <td>0</td>\n",
       "      <td>0</td>\n",
       "      <td>0</td>\n",
       "      <td>...</td>\n",
       "      <td>0</td>\n",
       "      <td>0</td>\n",
       "      <td>5</td>\n",
       "      <td>5</td>\n",
       "      <td>10.0</td>\n",
       "      <td>3.0</td>\n",
       "      <td>0.0</td>\n",
       "      <td>1</td>\n",
       "      <td>1</td>\n",
       "      <td>1</td>\n",
       "    </tr>\n",
       "    <tr>\n",
       "      <th>3</th>\n",
       "      <td>265.0</td>\n",
       "      <td>11034980</td>\n",
       "      <td>32386786</td>\n",
       "      <td>3</td>\n",
       "      <td>3</td>\n",
       "      <td>5</td>\n",
       "      <td>6</td>\n",
       "      <td>9</td>\n",
       "      <td>0</td>\n",
       "      <td>0</td>\n",
       "      <td>...</td>\n",
       "      <td>0</td>\n",
       "      <td>0</td>\n",
       "      <td>2</td>\n",
       "      <td>2</td>\n",
       "      <td>0.0</td>\n",
       "      <td>1.0</td>\n",
       "      <td>4.0</td>\n",
       "      <td>0</td>\n",
       "      <td>0</td>\n",
       "      <td>0</td>\n",
       "    </tr>\n",
       "    <tr>\n",
       "      <th>4</th>\n",
       "      <td>123.0</td>\n",
       "      <td>11034982</td>\n",
       "      <td>32861919</td>\n",
       "      <td>1</td>\n",
       "      <td>2</td>\n",
       "      <td>6</td>\n",
       "      <td>1</td>\n",
       "      <td>0</td>\n",
       "      <td>1</td>\n",
       "      <td>1</td>\n",
       "      <td>...</td>\n",
       "      <td>0</td>\n",
       "      <td>0</td>\n",
       "      <td>0</td>\n",
       "      <td>4</td>\n",
       "      <td>10.0</td>\n",
       "      <td>0.0</td>\n",
       "      <td>10.0</td>\n",
       "      <td>0</td>\n",
       "      <td>1</td>\n",
       "      <td>1</td>\n",
       "    </tr>\n",
       "    <tr>\n",
       "      <th>...</th>\n",
       "      <td>...</td>\n",
       "      <td>...</td>\n",
       "      <td>...</td>\n",
       "      <td>...</td>\n",
       "      <td>...</td>\n",
       "      <td>...</td>\n",
       "      <td>...</td>\n",
       "      <td>...</td>\n",
       "      <td>...</td>\n",
       "      <td>...</td>\n",
       "      <td>...</td>\n",
       "      <td>...</td>\n",
       "      <td>...</td>\n",
       "      <td>...</td>\n",
       "      <td>...</td>\n",
       "      <td>...</td>\n",
       "      <td>...</td>\n",
       "      <td>...</td>\n",
       "      <td>...</td>\n",
       "      <td>...</td>\n",
       "      <td>...</td>\n",
       "    </tr>\n",
       "    <tr>\n",
       "      <th>35695</th>\n",
       "      <td>210.0</td>\n",
       "      <td>11084969</td>\n",
       "      <td>32845249</td>\n",
       "      <td>1</td>\n",
       "      <td>1</td>\n",
       "      <td>0</td>\n",
       "      <td>6</td>\n",
       "      <td>9</td>\n",
       "      <td>0</td>\n",
       "      <td>0</td>\n",
       "      <td>...</td>\n",
       "      <td>0</td>\n",
       "      <td>0</td>\n",
       "      <td>8</td>\n",
       "      <td>5</td>\n",
       "      <td>10.0</td>\n",
       "      <td>10.0</td>\n",
       "      <td>10.0</td>\n",
       "      <td>1</td>\n",
       "      <td>2</td>\n",
       "      <td>2</td>\n",
       "    </tr>\n",
       "    <tr>\n",
       "      <th>35696</th>\n",
       "      <td>230.0</td>\n",
       "      <td>11084970</td>\n",
       "      <td>32623752</td>\n",
       "      <td>1</td>\n",
       "      <td>7</td>\n",
       "      <td>2</td>\n",
       "      <td>3</td>\n",
       "      <td>9</td>\n",
       "      <td>1</td>\n",
       "      <td>1</td>\n",
       "      <td>...</td>\n",
       "      <td>0</td>\n",
       "      <td>0</td>\n",
       "      <td>8</td>\n",
       "      <td>3</td>\n",
       "      <td>10.0</td>\n",
       "      <td>5.0</td>\n",
       "      <td>9.0</td>\n",
       "      <td>0</td>\n",
       "      <td>0</td>\n",
       "      <td>0</td>\n",
       "    </tr>\n",
       "    <tr>\n",
       "      <th>35697</th>\n",
       "      <td>153.0</td>\n",
       "      <td>11084972</td>\n",
       "      <td>32554904</td>\n",
       "      <td>2</td>\n",
       "      <td>9</td>\n",
       "      <td>9</td>\n",
       "      <td>1</td>\n",
       "      <td>2</td>\n",
       "      <td>0</td>\n",
       "      <td>1</td>\n",
       "      <td>...</td>\n",
       "      <td>0</td>\n",
       "      <td>0</td>\n",
       "      <td>8</td>\n",
       "      <td>2</td>\n",
       "      <td>8.0</td>\n",
       "      <td>10.0</td>\n",
       "      <td>10.0</td>\n",
       "      <td>1</td>\n",
       "      <td>1</td>\n",
       "      <td>1</td>\n",
       "    </tr>\n",
       "    <tr>\n",
       "      <th>35698</th>\n",
       "      <td>170.0</td>\n",
       "      <td>11084974</td>\n",
       "      <td>32433438</td>\n",
       "      <td>1</td>\n",
       "      <td>9</td>\n",
       "      <td>2</td>\n",
       "      <td>1</td>\n",
       "      <td>9</td>\n",
       "      <td>0</td>\n",
       "      <td>0</td>\n",
       "      <td>...</td>\n",
       "      <td>0</td>\n",
       "      <td>0</td>\n",
       "      <td>9</td>\n",
       "      <td>1</td>\n",
       "      <td>9.0</td>\n",
       "      <td>5.0</td>\n",
       "      <td>9.0</td>\n",
       "      <td>0</td>\n",
       "      <td>0</td>\n",
       "      <td>0</td>\n",
       "    </tr>\n",
       "    <tr>\n",
       "      <th>35699</th>\n",
       "      <td>200.0</td>\n",
       "      <td>11084976</td>\n",
       "      <td>32834539</td>\n",
       "      <td>1</td>\n",
       "      <td>2</td>\n",
       "      <td>0</td>\n",
       "      <td>1</td>\n",
       "      <td>6</td>\n",
       "      <td>0</td>\n",
       "      <td>0</td>\n",
       "      <td>...</td>\n",
       "      <td>0</td>\n",
       "      <td>0</td>\n",
       "      <td>6</td>\n",
       "      <td>5</td>\n",
       "      <td>10.0</td>\n",
       "      <td>10.0</td>\n",
       "      <td>10.0</td>\n",
       "      <td>0</td>\n",
       "      <td>0</td>\n",
       "      <td>0</td>\n",
       "    </tr>\n",
       "  </tbody>\n",
       "</table>\n",
       "<p>35700 rows × 31 columns</p>\n",
       "</div>"
      ],
      "text/plain": [
       "       working_months        ID  customer_id  Var1  Var4  Var5  Var6  Var7  \\\n",
       "0                62.0  11034977     32537148     1     2     9     1     0   \n",
       "1               160.0  11034978     32761663     1     3     9     1     0   \n",
       "2               248.0  11034979     32701063     2     0     2     1     0   \n",
       "3               265.0  11034980     32386786     3     3     5     6     9   \n",
       "4               123.0  11034982     32861919     1     2     6     1     0   \n",
       "...               ...       ...          ...   ...   ...   ...   ...   ...   \n",
       "35695           210.0  11084969     32845249     1     1     0     6     9   \n",
       "35696           230.0  11084970     32623752     1     7     2     3     9   \n",
       "35697           153.0  11084972     32554904     2     9     9     1     2   \n",
       "35698           170.0  11084974     32433438     1     9     2     1     9   \n",
       "35699           200.0  11084976     32834539     1     2     0     1     6   \n",
       "\n",
       "       Var15  Var16  ...  Var27  Var28  income  loan_desc  Var8_q  Var25_q  \\\n",
       "0          0      0  ...      0      0       1          3    10.0      3.0   \n",
       "1          4      4  ...      0      0       0          1     0.0      3.0   \n",
       "2          0      0  ...      0      0       5          5    10.0      3.0   \n",
       "3          0      0  ...      0      0       2          2     0.0      1.0   \n",
       "4          1      1  ...      0      0       0          4    10.0      0.0   \n",
       "...      ...    ...  ...    ...    ...     ...        ...     ...      ...   \n",
       "35695      0      0  ...      0      0       8          5    10.0     10.0   \n",
       "35696      1      1  ...      0      0       8          3    10.0      5.0   \n",
       "35697      0      1  ...      0      0       8          2     8.0     10.0   \n",
       "35698      0      0  ...      0      0       9          1     9.0      5.0   \n",
       "35699      0      0  ...      0      0       6          5    10.0     10.0   \n",
       "\n",
       "       Var26_q  Var20_1  Var21_1  Var22_1  \n",
       "0          0.0        1        1        1  \n",
       "1          1.0        0        0        0  \n",
       "2          0.0        1        1        1  \n",
       "3          4.0        0        0        0  \n",
       "4         10.0        0        1        1  \n",
       "...        ...      ...      ...      ...  \n",
       "35695     10.0        1        2        2  \n",
       "35696      9.0        0        0        0  \n",
       "35697     10.0        1        1        1  \n",
       "35698      9.0        0        0        0  \n",
       "35699     10.0        0        0        0  \n",
       "\n",
       "[35700 rows x 31 columns]"
      ]
     },
     "execution_count": 86,
     "metadata": {},
     "output_type": "execute_result"
    }
   ],
   "source": [
    "df"
   ]
  },
  {
   "cell_type": "code",
   "execution_count": 87,
   "metadata": {},
   "outputs": [],
   "source": [
    "col = 'Var17'\n",
    "df['Var17_1'] = pd.qcut(df[col], 10, labels=False, duplicates='drop')"
   ]
  },
  {
   "cell_type": "code",
   "execution_count": 88,
   "metadata": {},
   "outputs": [
    {
     "data": {
      "text/plain": [
       "3    3570\n",
       "0    3570\n",
       "5    3570\n",
       "1    3570\n",
       "2    3570\n",
       "4    3570\n",
       "6    3570\n",
       "7    3570\n",
       "9    3570\n",
       "8    3570\n",
       "Name: Var17_1, dtype: int64"
      ]
     },
     "execution_count": 88,
     "metadata": {},
     "output_type": "execute_result"
    }
   ],
   "source": [
    "df['Var17_1'].value_counts(dropna=False)"
   ]
  },
  {
   "cell_type": "code",
   "execution_count": 89,
   "metadata": {},
   "outputs": [],
   "source": [
    "df.drop('Var17', axis=1, inplace=True)"
   ]
  },
  {
   "cell_type": "code",
   "execution_count": 90,
   "metadata": {},
   "outputs": [],
   "source": [
    "col = 'working_months'\n",
    "df['working_months_1'] = pd.qcut(df[col], 10, labels=False, duplicates='drop')"
   ]
  },
  {
   "cell_type": "code",
   "execution_count": 91,
   "metadata": {},
   "outputs": [
    {
     "data": {
      "text/plain": [
       "0    3663\n",
       "7    3648\n",
       "5    3599\n",
       "2    3578\n",
       "1    3569\n",
       "4    3568\n",
       "9    3555\n",
       "6    3553\n",
       "3    3510\n",
       "8    3457\n",
       "Name: working_months_1, dtype: int64"
      ]
     },
     "execution_count": 91,
     "metadata": {},
     "output_type": "execute_result"
    }
   ],
   "source": [
    "df['working_months_1'].value_counts(dropna=False)"
   ]
  },
  {
   "cell_type": "code",
   "execution_count": 92,
   "metadata": {},
   "outputs": [],
   "source": [
    "df.drop('working_months', axis=1, inplace=True)"
   ]
  },
  {
   "cell_type": "markdown",
   "metadata": {},
   "source": [
    "### Final check of df"
   ]
  },
  {
   "cell_type": "code",
   "execution_count": 93,
   "metadata": {},
   "outputs": [
    {
     "data": {
      "text/html": [
       "<div>\n",
       "<style scoped>\n",
       "    .dataframe tbody tr th:only-of-type {\n",
       "        vertical-align: middle;\n",
       "    }\n",
       "\n",
       "    .dataframe tbody tr th {\n",
       "        vertical-align: top;\n",
       "    }\n",
       "\n",
       "    .dataframe thead th {\n",
       "        text-align: right;\n",
       "    }\n",
       "</style>\n",
       "<table border=\"1\" class=\"dataframe\">\n",
       "  <thead>\n",
       "    <tr style=\"text-align: right;\">\n",
       "      <th></th>\n",
       "      <th>ID</th>\n",
       "      <th>customer_id</th>\n",
       "      <th>Var1</th>\n",
       "      <th>Var4</th>\n",
       "      <th>Var5</th>\n",
       "      <th>Var6</th>\n",
       "      <th>Var7</th>\n",
       "      <th>Var15</th>\n",
       "      <th>Var16</th>\n",
       "      <th>Var23</th>\n",
       "      <th>...</th>\n",
       "      <th>income</th>\n",
       "      <th>loan_desc</th>\n",
       "      <th>Var8_q</th>\n",
       "      <th>Var25_q</th>\n",
       "      <th>Var26_q</th>\n",
       "      <th>Var20_1</th>\n",
       "      <th>Var21_1</th>\n",
       "      <th>Var22_1</th>\n",
       "      <th>Var17_1</th>\n",
       "      <th>working_months_1</th>\n",
       "    </tr>\n",
       "  </thead>\n",
       "  <tbody>\n",
       "    <tr>\n",
       "      <th>0</th>\n",
       "      <td>11034977</td>\n",
       "      <td>32537148</td>\n",
       "      <td>1</td>\n",
       "      <td>2</td>\n",
       "      <td>9</td>\n",
       "      <td>1</td>\n",
       "      <td>0</td>\n",
       "      <td>0</td>\n",
       "      <td>0</td>\n",
       "      <td>1</td>\n",
       "      <td>...</td>\n",
       "      <td>1</td>\n",
       "      <td>3</td>\n",
       "      <td>10.0</td>\n",
       "      <td>3.0</td>\n",
       "      <td>0.0</td>\n",
       "      <td>1</td>\n",
       "      <td>1</td>\n",
       "      <td>1</td>\n",
       "      <td>3</td>\n",
       "      <td>2</td>\n",
       "    </tr>\n",
       "    <tr>\n",
       "      <th>1</th>\n",
       "      <td>11034978</td>\n",
       "      <td>32761663</td>\n",
       "      <td>1</td>\n",
       "      <td>3</td>\n",
       "      <td>9</td>\n",
       "      <td>1</td>\n",
       "      <td>0</td>\n",
       "      <td>4</td>\n",
       "      <td>4</td>\n",
       "      <td>0</td>\n",
       "      <td>...</td>\n",
       "      <td>0</td>\n",
       "      <td>1</td>\n",
       "      <td>0.0</td>\n",
       "      <td>3.0</td>\n",
       "      <td>1.0</td>\n",
       "      <td>0</td>\n",
       "      <td>0</td>\n",
       "      <td>0</td>\n",
       "      <td>0</td>\n",
       "      <td>5</td>\n",
       "    </tr>\n",
       "    <tr>\n",
       "      <th>2</th>\n",
       "      <td>11034979</td>\n",
       "      <td>32701063</td>\n",
       "      <td>2</td>\n",
       "      <td>0</td>\n",
       "      <td>2</td>\n",
       "      <td>1</td>\n",
       "      <td>0</td>\n",
       "      <td>0</td>\n",
       "      <td>0</td>\n",
       "      <td>2</td>\n",
       "      <td>...</td>\n",
       "      <td>5</td>\n",
       "      <td>5</td>\n",
       "      <td>10.0</td>\n",
       "      <td>3.0</td>\n",
       "      <td>0.0</td>\n",
       "      <td>1</td>\n",
       "      <td>1</td>\n",
       "      <td>1</td>\n",
       "      <td>5</td>\n",
       "      <td>9</td>\n",
       "    </tr>\n",
       "    <tr>\n",
       "      <th>3</th>\n",
       "      <td>11034980</td>\n",
       "      <td>32386786</td>\n",
       "      <td>3</td>\n",
       "      <td>3</td>\n",
       "      <td>5</td>\n",
       "      <td>6</td>\n",
       "      <td>9</td>\n",
       "      <td>0</td>\n",
       "      <td>0</td>\n",
       "      <td>0</td>\n",
       "      <td>...</td>\n",
       "      <td>2</td>\n",
       "      <td>2</td>\n",
       "      <td>0.0</td>\n",
       "      <td>1.0</td>\n",
       "      <td>4.0</td>\n",
       "      <td>0</td>\n",
       "      <td>0</td>\n",
       "      <td>0</td>\n",
       "      <td>1</td>\n",
       "      <td>9</td>\n",
       "    </tr>\n",
       "    <tr>\n",
       "      <th>4</th>\n",
       "      <td>11034982</td>\n",
       "      <td>32861919</td>\n",
       "      <td>1</td>\n",
       "      <td>2</td>\n",
       "      <td>6</td>\n",
       "      <td>1</td>\n",
       "      <td>0</td>\n",
       "      <td>1</td>\n",
       "      <td>1</td>\n",
       "      <td>2</td>\n",
       "      <td>...</td>\n",
       "      <td>0</td>\n",
       "      <td>4</td>\n",
       "      <td>10.0</td>\n",
       "      <td>0.0</td>\n",
       "      <td>10.0</td>\n",
       "      <td>0</td>\n",
       "      <td>1</td>\n",
       "      <td>1</td>\n",
       "      <td>0</td>\n",
       "      <td>4</td>\n",
       "    </tr>\n",
       "  </tbody>\n",
       "</table>\n",
       "<p>5 rows × 31 columns</p>\n",
       "</div>"
      ],
      "text/plain": [
       "         ID  customer_id  Var1  Var4  Var5  Var6  Var7  Var15  Var16  Var23  \\\n",
       "0  11034977     32537148     1     2     9     1     0      0      0      1   \n",
       "1  11034978     32761663     1     3     9     1     0      4      4      0   \n",
       "2  11034979     32701063     2     0     2     1     0      0      0      2   \n",
       "3  11034980     32386786     3     3     5     6     9      0      0      0   \n",
       "4  11034982     32861919     1     2     6     1     0      1      1      2   \n",
       "\n",
       "   ...  income  loan_desc  Var8_q  Var25_q  Var26_q  Var20_1  Var21_1  \\\n",
       "0  ...       1          3    10.0      3.0      0.0        1        1   \n",
       "1  ...       0          1     0.0      3.0      1.0        0        0   \n",
       "2  ...       5          5    10.0      3.0      0.0        1        1   \n",
       "3  ...       2          2     0.0      1.0      4.0        0        0   \n",
       "4  ...       0          4    10.0      0.0     10.0        0        1   \n",
       "\n",
       "   Var22_1  Var17_1  working_months_1  \n",
       "0        1        3                 2  \n",
       "1        0        0                 5  \n",
       "2        1        5                 9  \n",
       "3        0        1                 9  \n",
       "4        1        0                 4  \n",
       "\n",
       "[5 rows x 31 columns]"
      ]
     },
     "execution_count": 93,
     "metadata": {},
     "output_type": "execute_result"
    }
   ],
   "source": [
    "df.head()"
   ]
  },
  {
   "cell_type": "code",
   "execution_count": 94,
   "metadata": {},
   "outputs": [
    {
     "data": {
      "text/plain": [
       "ID                  0\n",
       "customer_id         0\n",
       "Var1                0\n",
       "Var4                0\n",
       "Var5                0\n",
       "Var6                0\n",
       "Var7                0\n",
       "Var15               0\n",
       "Var16               0\n",
       "Var23               0\n",
       "Var24               0\n",
       "Var29               0\n",
       "Var30               0\n",
       "Var2                0\n",
       "Var3                0\n",
       "Var11               0\n",
       "Var12               0\n",
       "Var14               0\n",
       "target              0\n",
       "Var27               0\n",
       "Var28               0\n",
       "income              0\n",
       "loan_desc           0\n",
       "Var8_q              0\n",
       "Var25_q             0\n",
       "Var26_q             0\n",
       "Var20_1             0\n",
       "Var21_1             0\n",
       "Var22_1             0\n",
       "Var17_1             0\n",
       "working_months_1    0\n",
       "dtype: int64"
      ]
     },
     "execution_count": 94,
     "metadata": {},
     "output_type": "execute_result"
    }
   ],
   "source": [
    "df.isna().sum()"
   ]
  },
  {
   "cell_type": "code",
   "execution_count": 96,
   "metadata": {},
   "outputs": [
    {
     "name": "stdout",
     "output_type": "stream",
     "text": [
      "<class 'pandas.core.frame.DataFrame'>\n",
      "Int64Index: 35700 entries, 0 to 35699\n",
      "Data columns (total 31 columns):\n",
      " #   Column            Non-Null Count  Dtype  \n",
      "---  ------            --------------  -----  \n",
      " 0   ID                35700 non-null  int64  \n",
      " 1   customer_id       35700 non-null  int64  \n",
      " 2   Var1              35700 non-null  int64  \n",
      " 3   Var4              35700 non-null  int64  \n",
      " 4   Var5              35700 non-null  int64  \n",
      " 5   Var6              35700 non-null  int64  \n",
      " 6   Var7              35700 non-null  int64  \n",
      " 7   Var15             35700 non-null  int64  \n",
      " 8   Var16             35700 non-null  int64  \n",
      " 9   Var23             35700 non-null  int64  \n",
      " 10  Var24             35700 non-null  int64  \n",
      " 11  Var29             35700 non-null  int64  \n",
      " 12  Var30             35700 non-null  int64  \n",
      " 13  Var2              35700 non-null  float64\n",
      " 14  Var3              35700 non-null  float64\n",
      " 15  Var11             35700 non-null  int64  \n",
      " 16  Var12             35700 non-null  float64\n",
      " 17  Var14             35700 non-null  int64  \n",
      " 18  target            35700 non-null  float64\n",
      " 19  Var27             35700 non-null  int64  \n",
      " 20  Var28             35700 non-null  int64  \n",
      " 21  income            35700 non-null  int64  \n",
      " 22  loan_desc         35700 non-null  int64  \n",
      " 23  Var8_q            35700 non-null  float64\n",
      " 24  Var25_q           35700 non-null  float64\n",
      " 25  Var26_q           35700 non-null  float64\n",
      " 26  Var20_1           35700 non-null  int64  \n",
      " 27  Var21_1           35700 non-null  int64  \n",
      " 28  Var22_1           35700 non-null  int64  \n",
      " 29  Var17_1           35700 non-null  int64  \n",
      " 30  working_months_1  35700 non-null  int64  \n",
      "dtypes: float64(7), int64(24)\n",
      "memory usage: 8.7 MB\n"
     ]
    }
   ],
   "source": [
    "df.info()"
   ]
  },
  {
   "cell_type": "markdown",
   "metadata": {},
   "source": [
    "#### Write df as csv"
   ]
  },
  {
   "cell_type": "code",
   "execution_count": 97,
   "metadata": {},
   "outputs": [],
   "source": [
    "df.to_csv('../data/output/development_sample_cleaned_categorical.csv', index = False)  # Save the cleaned data to a new CSV file"
   ]
  }
 ],
 "metadata": {
  "kernelspec": {
   "display_name": "Python 3",
   "language": "python",
   "name": "python3"
  },
  "language_info": {
   "codemirror_mode": {
    "name": "ipython",
    "version": 3
   },
   "file_extension": ".py",
   "mimetype": "text/x-python",
   "name": "python",
   "nbconvert_exporter": "python",
   "pygments_lexer": "ipython3",
   "version": "3.11.2"
  }
 },
 "nbformat": 4,
 "nbformat_minor": 2
}
