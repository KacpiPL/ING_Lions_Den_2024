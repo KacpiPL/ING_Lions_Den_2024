{
 "cells": [
  {
   "cell_type": "markdown",
   "metadata": {},
   "source": [
    "# ING Lion's Den 2024\n",
    "\n",
    "## Team: RiskBusters\n",
    "\n",
    "Michał Bryzik, Michał Niegierewicz, Kacper Gruca, Jan Ślusarek\n",
    "\n",
    "### On testing sample - Coarse classing\n",
    "\n",
    "In this notebook we join categories basing on the analysis from previous notebooks and perform coarse classing\n"
   ]
  },
  {
   "cell_type": "code",
   "execution_count": 1,
   "metadata": {},
   "outputs": [],
   "source": [
    "import pandas as pd"
   ]
  },
  {
   "cell_type": "code",
   "execution_count": 5,
   "metadata": {},
   "outputs": [],
   "source": [
    "df_train_cat=pd.read_csv('../data/output/categorical_dfs/development_sample_cleaned_categorical.csv')\n",
    "df_test_cat = pd.read_csv('../data/output/categorical_dfs/testing_sample_cleaned_categorical.csv')"
   ]
  },
  {
   "cell_type": "code",
   "execution_count": 8,
   "metadata": {},
   "outputs": [
    {
     "data": {
      "text/plain": [
       "(35700, 33)"
      ]
     },
     "execution_count": 8,
     "metadata": {},
     "output_type": "execute_result"
    }
   ],
   "source": [
    "df_train_cat.shape"
   ]
  },
  {
   "cell_type": "code",
   "execution_count": 9,
   "metadata": {},
   "outputs": [
    {
     "data": {
      "text/plain": [
       "(3546, 33)"
      ]
     },
     "execution_count": 9,
     "metadata": {},
     "output_type": "execute_result"
    }
   ],
   "source": [
    "df_test_cat.shape"
   ]
  },
  {
   "cell_type": "code",
   "execution_count": 12,
   "metadata": {},
   "outputs": [
    {
     "data": {
      "text/plain": [
       "Index(['MOB', 'ID', 'customer_id', 'Var1', 'Var4', 'Var5', 'Var6', 'Var7',\n",
       "       'Var15', 'Var16', 'Var24', 'Var29', 'Var30', 'Var3', 'Var11', 'Var12',\n",
       "       'Var14', 'target', 'Var27', 'Var28', 'income', 'loan_desc', 'Var8_q',\n",
       "       'Var25_q', 'Var26_q', 'Var20_1', 'Var21_1', 'Var22_1', 'Var23_1',\n",
       "       'Var17_1', 'working_months_1', 'ii_ratio', 'idi_ratio'],\n",
       "      dtype='object')"
      ]
     },
     "execution_count": 12,
     "metadata": {},
     "output_type": "execute_result"
    }
   ],
   "source": [
    "df_train_cat.columns"
   ]
  },
  {
   "cell_type": "code",
   "execution_count": 21,
   "metadata": {},
   "outputs": [],
   "source": [
    "def coarse_classing(df):\n",
    "    df.loc[df['Var11'] == 5, 'Var11'] = 4\n",
    "    df.loc[df['Var11'] == 6, 'Var11'] = 4\n",
    "\n",
    "    df.loc[df['Var12'] == 5, 'Var12'] = 4\n",
    "    df.loc[df['Var12'] == 6, 'Var12'] = 4\n",
    "\n",
    "    df.loc[df['Var14'] == 2, 'Var14'] = 1\n",
    "    df.loc[df['Var14'] == 4, 'Var14'] = 3\n",
    "\n",
    "    df.loc[df['Var17_1'] == 2, 'Var17_1'] = 1\n",
    "    df.loc[df['Var17_1'] == 3, 'Var17_1'] = 2\n",
    "    df.loc[df['Var17_1'] == 4, 'Var17_1'] = 3\n",
    "    df.loc[df['Var17_1'] == 6, 'Var17_1'] = 5\n",
    "    df.loc[df['Var17_1'] == 8, 'Var17_1'] = 7\n",
    "\n",
    "    df.loc[df['Var25_q'] == 2, 'Var25_q'] = 1\n",
    "    df.loc[df['Var25_q'] == 4, 'Var25_q'] = 3\n",
    "    df.loc[df['Var25_q'] == 6, 'Var25_q'] = 5\n",
    "    df.loc[df['Var25_q'] == 8, 'Var25_q'] = 7\n",
    "\n",
    "    df.loc[df['Var26_q'] == 1, 'Var26_q'] = 0\n",
    "    df.loc[df['Var26_q'] == 2, 'Var26_q'] = 0\n",
    "    df.loc[df['Var26_q'] == 3, 'Var26_q'] = 0\n",
    "    df.loc[df['Var26_q'] == 4, 'Var26_q'] = 0\n",
    "    df.loc[df['Var26_q'] == 5, 'Var26_q'] = 0\n",
    "    df.loc[df['Var26_q'] == 6, 'Var26_q'] = 0\n",
    "    df.loc[df['Var26_q'] == 8, 'Var26_q'] = 7\n",
    "\n",
    "    df.loc[df['Var3'] == 2, 'Var3'] = 1\n",
    "\n",
    "    df.loc[df['Var4'] == 1, 'Var4'] = 0\n",
    "    df.loc[df['Var4'] == 2, 'Var4'] = 0\n",
    "    df.loc[df['Var4'] == 4, 'Var4'] = 3\n",
    "    df.loc[df['Var4'] == 5, 'Var4'] = 3\n",
    "    df.loc[df['Var4'] == 7, 'Var4'] = 6\n",
    "    df.loc[df['Var4'] == 8, 'Var4'] = 6\n",
    "\n",
    "    df.loc[df['Var5'] == 3, 'Var5'] = 2\n",
    "    df.loc[df['Var5'] == 5, 'Var5'] = 4\n",
    "    df.loc[df['Var5'] == 6, 'Var5'] = 4\n",
    "    df.loc[df['Var5'] == 8, 'Var5'] = 7\n",
    "\n",
    "    df.loc[df['Var8_q'] == 1, 'Var8_q'] = 0\n",
    "    df.loc[df['Var8_q'] == 2, 'Var8_q'] = 0\n",
    "    df.loc[df['Var8_q'] == 4, 'Var8_q'] = 3\n",
    "    df.loc[df['Var8_q'] == 5, 'Var8_q'] = 3\n",
    "    df.loc[df['Var8_q'] == 6, 'Var8_q'] = 3\n",
    "    df.loc[df['Var8_q'] == 7, 'Var8_q'] = 3\n",
    "    df.loc[df['Var8_q'] == 8, 'Var8_q'] = 3\n",
    "\n",
    "    df.loc[df['idi_ratio'] == 4, 'idi_ratio']  = 3\n",
    "    df.loc[df['idi_ratio'] == 5, 'idi_ratio']  = 3\n",
    "    df.loc[df['idi_ratio'] == 7, 'idi_ratio']  = 6\n",
    "    df.loc[df['idi_ratio'] == 8, 'idi_ratio']  = 6\n",
    "\n",
    "    df.loc[df['ii_ratio'] == 1, 'ii_ratio']  = 0\n",
    "    df.loc[df['ii_ratio'] == 2, 'ii_ratio']  = 0\n",
    "    df.loc[df['ii_ratio'] == 4, 'ii_ratio']  = 3\n",
    "    df.loc[df['ii_ratio'] == 5, 'ii_ratio']  = 3\n",
    "    df.loc[df['ii_ratio'] == 7, 'ii_ratio']  = 6\n",
    "    df.loc[df['ii_ratio'] == 8, 'ii_ratio']  = 6\n",
    "\n",
    "    df.loc[df['income'] == 2, 'income']  = 1\n",
    "    df.loc[df['income'] == 3, 'income']  = 1\n",
    "    df.loc[df['income'] == 4, 'income']  = 1\n",
    "    df.loc[df['income'] == 7, 'income']  = 6\n",
    "    df.loc[df['income'] == 8, 'income']  = 6\n",
    "\n",
    "    df.loc[df['loan_desc'] == 2, 'loan_desc']  = 1\n",
    "\n",
    "    return df"
   ]
  },
  {
   "cell_type": "code",
   "execution_count": 22,
   "metadata": {},
   "outputs": [
    {
     "data": {
      "text/plain": [
       "0    3570\n",
       "1    3570\n",
       "3    3570\n",
       "9    3570\n",
       "2    3570\n",
       "4    3570\n",
       "8    3570\n",
       "6    3570\n",
       "7    3570\n",
       "5    3570\n",
       "Name: idi_ratio, dtype: int64"
      ]
     },
     "execution_count": 22,
     "metadata": {},
     "output_type": "execute_result"
    }
   ],
   "source": [
    "df_train_cat['idi_ratio'].value_counts()"
   ]
  },
  {
   "cell_type": "code",
   "execution_count": 23,
   "metadata": {},
   "outputs": [],
   "source": [
    "df_train_cat = coarse_classing(df_train_cat)"
   ]
  },
  {
   "cell_type": "code",
   "execution_count": 26,
   "metadata": {},
   "outputs": [],
   "source": [
    "df_test_cat = coarse_classing(df_test_cat)"
   ]
  },
  {
   "cell_type": "code",
   "execution_count": 27,
   "metadata": {},
   "outputs": [],
   "source": [
    "df_train_cat.to_csv('../data/output/categorical_dfs/woe_auxiliary/coarse_classing/development_coarse_classing.csv', index=False)"
   ]
  },
  {
   "cell_type": "code",
   "execution_count": 28,
   "metadata": {},
   "outputs": [],
   "source": [
    "df_test_cat.to_csv('../data/output/categorical_dfs/woe_auxiliary/coarse_classing/training_coarse_classing.csv', index=False)"
   ]
  }
 ],
 "metadata": {
  "kernelspec": {
   "display_name": "Python 3",
   "language": "python",
   "name": "python3"
  },
  "language_info": {
   "codemirror_mode": {
    "name": "ipython",
    "version": 3
   },
   "file_extension": ".py",
   "mimetype": "text/x-python",
   "name": "python",
   "nbconvert_exporter": "python",
   "pygments_lexer": "ipython3",
   "version": "3.11.2"
  }
 },
 "nbformat": 4,
 "nbformat_minor": 2
}
