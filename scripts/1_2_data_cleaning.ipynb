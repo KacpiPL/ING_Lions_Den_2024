{
 "cells": [
  {
   "cell_type": "markdown",
   "metadata": {},
   "source": [
    "# ING Lion's Den 2024\n"
   ]
  },
  {
   "cell_type": "markdown",
   "metadata": {},
   "source": [
    "## Team: RiskBusters"
   ]
  },
  {
   "cell_type": "markdown",
   "metadata": {},
   "source": [
    " Michał Bryzik, Michał Niegierewicz, Kacper Gruca, Jan Ślusarek"
   ]
  },
  {
   "cell_type": "markdown",
   "metadata": {},
   "source": [
    "Script to clean testing sample.\n",
    "\n",
    "We assume that the testing sample has the same structure and issues as the development sample, however we want to check and anlyze this.\n",
    "\n",
    "We copy-pasted the code to clean development sample and run on testing sample both to clean the dataset and analyze it."
   ]
  },
  {
   "cell_type": "code",
   "execution_count": 1,
   "metadata": {},
   "outputs": [],
   "source": [
    "# Import necessary libraries\n",
    "import pandas as pd\n",
    "import numpy as np\n",
    "import matplotlib.pyplot as plt\n",
    "import seaborn as sns\n",
    "from sklearn.impute import KNNImputer"
   ]
  },
  {
   "cell_type": "code",
   "execution_count": 2,
   "metadata": {},
   "outputs": [
    {
     "data": {
      "text/html": [
       "<div>\n",
       "<style scoped>\n",
       "    .dataframe tbody tr th:only-of-type {\n",
       "        vertical-align: middle;\n",
       "    }\n",
       "\n",
       "    .dataframe tbody tr th {\n",
       "        vertical-align: top;\n",
       "    }\n",
       "\n",
       "    .dataframe thead th {\n",
       "        text-align: right;\n",
       "    }\n",
       "</style>\n",
       "<table border=\"1\" class=\"dataframe\">\n",
       "  <thead>\n",
       "    <tr style=\"text-align: right;\">\n",
       "      <th></th>\n",
       "      <th>ID</th>\n",
       "      <th>customer_id</th>\n",
       "      <th>application_date</th>\n",
       "      <th>target</th>\n",
       "      <th>Application_status</th>\n",
       "      <th>Var1</th>\n",
       "      <th>Var2</th>\n",
       "      <th>Var3</th>\n",
       "      <th>Var4</th>\n",
       "      <th>Var5</th>\n",
       "      <th>...</th>\n",
       "      <th>Var22</th>\n",
       "      <th>Var23</th>\n",
       "      <th>Var24</th>\n",
       "      <th>Var25</th>\n",
       "      <th>Var26</th>\n",
       "      <th>Var27</th>\n",
       "      <th>Var28</th>\n",
       "      <th>Var29</th>\n",
       "      <th>Var30</th>\n",
       "      <th>_r_</th>\n",
       "    </tr>\n",
       "  </thead>\n",
       "  <tbody>\n",
       "    <tr>\n",
       "      <th>0</th>\n",
       "      <td>36034977</td>\n",
       "      <td>32653719</td>\n",
       "      <td>03Feb2010 0:00:00</td>\n",
       "      <td>0.0</td>\n",
       "      <td>Approved</td>\n",
       "      <td>1</td>\n",
       "      <td>3.0</td>\n",
       "      <td>1.0</td>\n",
       "      <td>4800</td>\n",
       "      <td>15</td>\n",
       "      <td>...</td>\n",
       "      <td>8</td>\n",
       "      <td>8</td>\n",
       "      <td>0</td>\n",
       "      <td>4977.87</td>\n",
       "      <td>14880.28</td>\n",
       "      <td>0</td>\n",
       "      <td>0</td>\n",
       "      <td>70</td>\n",
       "      <td>3899</td>\n",
       "      <td>0.485674</td>\n",
       "    </tr>\n",
       "    <tr>\n",
       "      <th>1</th>\n",
       "      <td>36034978</td>\n",
       "      <td>32832365</td>\n",
       "      <td>04Feb2010 0:00:00</td>\n",
       "      <td>0.0</td>\n",
       "      <td>Approved</td>\n",
       "      <td>2</td>\n",
       "      <td>2.0</td>\n",
       "      <td>1.0</td>\n",
       "      <td>6800</td>\n",
       "      <td>18</td>\n",
       "      <td>...</td>\n",
       "      <td>1</td>\n",
       "      <td>1</td>\n",
       "      <td>29400</td>\n",
       "      <td>7922.90</td>\n",
       "      <td>6534.84</td>\n",
       "      <td>0</td>\n",
       "      <td>0</td>\n",
       "      <td>0</td>\n",
       "      <td>3899</td>\n",
       "      <td>0.267045</td>\n",
       "    </tr>\n",
       "    <tr>\n",
       "      <th>2</th>\n",
       "      <td>36034979</td>\n",
       "      <td>32544742</td>\n",
       "      <td>07Feb2010 0:00:00</td>\n",
       "      <td>0.0</td>\n",
       "      <td>Approved</td>\n",
       "      <td>1</td>\n",
       "      <td>3.0</td>\n",
       "      <td>1.0</td>\n",
       "      <td>4600</td>\n",
       "      <td>18</td>\n",
       "      <td>...</td>\n",
       "      <td>0</td>\n",
       "      <td>0</td>\n",
       "      <td>0</td>\n",
       "      <td>3174.15</td>\n",
       "      <td>16974.69</td>\n",
       "      <td>0</td>\n",
       "      <td>0</td>\n",
       "      <td>0</td>\n",
       "      <td>3899</td>\n",
       "      <td>0.793579</td>\n",
       "    </tr>\n",
       "    <tr>\n",
       "      <th>3</th>\n",
       "      <td>36034980</td>\n",
       "      <td>32395830</td>\n",
       "      <td>09Feb2010 0:00:00</td>\n",
       "      <td>NaN</td>\n",
       "      <td>Rejected</td>\n",
       "      <td>2</td>\n",
       "      <td>2.0</td>\n",
       "      <td>2.0</td>\n",
       "      <td>7900</td>\n",
       "      <td>48</td>\n",
       "      <td>...</td>\n",
       "      <td>2</td>\n",
       "      <td>2</td>\n",
       "      <td>0</td>\n",
       "      <td>4972.82</td>\n",
       "      <td>3484.36</td>\n",
       "      <td>0</td>\n",
       "      <td>0</td>\n",
       "      <td>10</td>\n",
       "      <td>3899</td>\n",
       "      <td>0.533040</td>\n",
       "    </tr>\n",
       "    <tr>\n",
       "      <th>4</th>\n",
       "      <td>36034981</td>\n",
       "      <td>32592943</td>\n",
       "      <td>13Feb2010 0:00:00</td>\n",
       "      <td>0.0</td>\n",
       "      <td>Approved</td>\n",
       "      <td>2</td>\n",
       "      <td>1.0</td>\n",
       "      <td>1.0</td>\n",
       "      <td>9900</td>\n",
       "      <td>63</td>\n",
       "      <td>...</td>\n",
       "      <td>3</td>\n",
       "      <td>3</td>\n",
       "      <td>0</td>\n",
       "      <td>2278.22</td>\n",
       "      <td>9630.53</td>\n",
       "      <td>0</td>\n",
       "      <td>0</td>\n",
       "      <td>10</td>\n",
       "      <td>3899</td>\n",
       "      <td>0.781269</td>\n",
       "    </tr>\n",
       "  </tbody>\n",
       "</table>\n",
       "<p>5 rows × 36 columns</p>\n",
       "</div>"
      ],
      "text/plain": [
       "         ID  customer_id   application_date  target Application_status  Var1  \\\n",
       "0  36034977     32653719  03Feb2010 0:00:00     0.0           Approved     1   \n",
       "1  36034978     32832365  04Feb2010 0:00:00     0.0           Approved     2   \n",
       "2  36034979     32544742  07Feb2010 0:00:00     0.0           Approved     1   \n",
       "3  36034980     32395830  09Feb2010 0:00:00     NaN           Rejected     2   \n",
       "4  36034981     32592943  13Feb2010 0:00:00     0.0           Approved     2   \n",
       "\n",
       "   Var2  Var3  Var4  Var5  ...  Var22  Var23  Var24    Var25     Var26  Var27  \\\n",
       "0   3.0   1.0  4800    15  ...      8      8      0  4977.87  14880.28      0   \n",
       "1   2.0   1.0  6800    18  ...      1      1  29400  7922.90   6534.84      0   \n",
       "2   3.0   1.0  4600    18  ...      0      0      0  3174.15  16974.69      0   \n",
       "3   2.0   2.0  7900    48  ...      2      2      0  4972.82   3484.36      0   \n",
       "4   1.0   1.0  9900    63  ...      3      3      0  2278.22   9630.53      0   \n",
       "\n",
       "   Var28 Var29  Var30       _r_  \n",
       "0      0    70   3899  0.485674  \n",
       "1      0     0   3899  0.267045  \n",
       "2      0     0   3899  0.793579  \n",
       "3      0    10   3899  0.533040  \n",
       "4      0    10   3899  0.781269  \n",
       "\n",
       "[5 rows x 36 columns]"
      ]
     },
     "execution_count": 2,
     "metadata": {},
     "output_type": "execute_result"
    }
   ],
   "source": [
    "data=pd.read_csv('../data/input/testing_sample.csv') \n",
    "data.head() "
   ]
  },
  {
   "cell_type": "code",
   "execution_count": 3,
   "metadata": {},
   "outputs": [
    {
     "data": {
      "text/plain": [
       "(5000, 36)"
      ]
     },
     "execution_count": 3,
     "metadata": {},
     "output_type": "execute_result"
    }
   ],
   "source": [
    "data.shape "
   ]
  },
  {
   "cell_type": "code",
   "execution_count": 4,
   "metadata": {},
   "outputs": [
    {
     "data": {
      "text/plain": [
       "ID                       0\n",
       "customer_id              0\n",
       "application_date         0\n",
       "target                1353\n",
       "Application_status       0\n",
       "Var1                     0\n",
       "Var2                   139\n",
       "Var3                   139\n",
       "Var4                     0\n",
       "Var5                     0\n",
       "Var6                     0\n",
       "Var7                     0\n",
       "Var8                  2905\n",
       "Var9                     0\n",
       "Var10                 3719\n",
       "Var11                    0\n",
       "Var12                 3719\n",
       "Var13                    0\n",
       "Var14                    0\n",
       "Var15                    0\n",
       "Var16                    0\n",
       "Var17                    0\n",
       "Var18                 3721\n",
       "Var19                 2905\n",
       "Var20                    0\n",
       "Var21                    0\n",
       "Var22                    0\n",
       "Var23                    0\n",
       "Var24                    0\n",
       "Var25                 1023\n",
       "Var26                 1961\n",
       "Var27                    0\n",
       "Var28                    0\n",
       "Var29                    0\n",
       "Var30                    0\n",
       "_r_                      0\n",
       "dtype: int64"
      ]
     },
     "execution_count": 4,
     "metadata": {},
     "output_type": "execute_result"
    }
   ],
   "source": [
    "data.isnull().sum() "
   ]
  },
  {
   "cell_type": "code",
   "execution_count": 5,
   "metadata": {},
   "outputs": [
    {
     "name": "stdout",
     "output_type": "stream",
     "text": [
      "<class 'pandas.core.frame.DataFrame'>\n",
      "RangeIndex: 5000 entries, 0 to 4999\n",
      "Data columns (total 36 columns):\n",
      " #   Column              Non-Null Count  Dtype  \n",
      "---  ------              --------------  -----  \n",
      " 0   ID                  5000 non-null   int64  \n",
      " 1   customer_id         5000 non-null   int64  \n",
      " 2   application_date    5000 non-null   object \n",
      " 3   target              3647 non-null   float64\n",
      " 4   Application_status  5000 non-null   object \n",
      " 5   Var1                5000 non-null   int64  \n",
      " 6   Var2                4861 non-null   float64\n",
      " 7   Var3                4861 non-null   float64\n",
      " 8   Var4                5000 non-null   int64  \n",
      " 9   Var5                5000 non-null   int64  \n",
      " 10  Var6                5000 non-null   int64  \n",
      " 11  Var7                5000 non-null   float64\n",
      " 12  Var8                2095 non-null   float64\n",
      " 13  Var9                5000 non-null   int64  \n",
      " 14  Var10               1281 non-null   float64\n",
      " 15  Var11               5000 non-null   int64  \n",
      " 16  Var12               1281 non-null   float64\n",
      " 17  Var13               5000 non-null   object \n",
      " 18  Var14               5000 non-null   int64  \n",
      " 19  Var15               5000 non-null   int64  \n",
      " 20  Var16               5000 non-null   int64  \n",
      " 21  Var17               5000 non-null   float64\n",
      " 22  Var18               1279 non-null   float64\n",
      " 23  Var19               2095 non-null   float64\n",
      " 24  Var20               5000 non-null   int64  \n",
      " 25  Var21               5000 non-null   int64  \n",
      " 26  Var22               5000 non-null   int64  \n",
      " 27  Var23               5000 non-null   int64  \n",
      " 28  Var24               5000 non-null   int64  \n",
      " 29  Var25               3977 non-null   float64\n",
      " 30  Var26               3039 non-null   float64\n",
      " 31  Var27               5000 non-null   int64  \n",
      " 32  Var28               5000 non-null   int64  \n",
      " 33  Var29               5000 non-null   int64  \n",
      " 34  Var30               5000 non-null   int64  \n",
      " 35  _r_                 5000 non-null   float64\n",
      "dtypes: float64(13), int64(20), object(3)\n",
      "memory usage: 1.4+ MB\n"
     ]
    }
   ],
   "source": [
    "data.info()  "
   ]
  },
  {
   "cell_type": "markdown",
   "metadata": {},
   "source": [
    "## Clean dataset"
   ]
  },
  {
   "cell_type": "markdown",
   "metadata": {},
   "source": [
    "### Define columns by datetypes and sort df\n",
    "\n",
    "We define the target type of the column basing on the description file and exploring data"
   ]
  },
  {
   "cell_type": "code",
   "execution_count": 6,
   "metadata": {},
   "outputs": [],
   "source": [
    "# Define columns\n",
    "date_columns = ['application_date', 'Var13'] \n",
    "numeric_columns = ['ID', 'customer_id', '_r_', 'Var9', 'Var10']  \n",
    "categorical_columns = []\n",
    "binary_columns = ['target', 'Application_status'] "
   ]
  },
  {
   "cell_type": "code",
   "execution_count": 7,
   "metadata": {},
   "outputs": [],
   "source": [
    "# Checking the data type for the rest of columns \n",
    "for column in data.columns:\n",
    "    if column in date_columns + numeric_columns + binary_columns:\n",
    "        continue  \n",
    "    elif column in ['Var1', 'Var4', 'Var5', 'Var6', 'Var7', 'Var8', 'Var15', 'Var16', 'Var17', 'Var20', 'Var21', 'Var22', 'Var23', 'Var24', 'Var25', 'Var26', 'Var29', 'Var30']:\n",
    "        numeric_columns.append(column)\n",
    "    elif column in ['Var2', 'Var3', 'Var11', 'Var12', 'Var14']:\n",
    "        categorical_columns.append(column)\n",
    "    elif column in ['Var18', 'Var19', 'Var27', 'Var28']:\n",
    "        binary_columns.append(column)"
   ]
  },
  {
   "cell_type": "code",
   "execution_count": 8,
   "metadata": {},
   "outputs": [
    {
     "name": "stdout",
     "output_type": "stream",
     "text": [
      "['application_date', 'Var13']\n",
      "['ID', 'customer_id', '_r_', 'Var9', 'Var10', 'Var1', 'Var4', 'Var5', 'Var6', 'Var7', 'Var8', 'Var15', 'Var16', 'Var17', 'Var20', 'Var21', 'Var22', 'Var23', 'Var24', 'Var25', 'Var26', 'Var29', 'Var30']\n",
      "['Var2', 'Var3', 'Var11', 'Var12', 'Var14']\n",
      "['target', 'Application_status', 'Var18', 'Var19', 'Var27', 'Var28']\n"
     ]
    }
   ],
   "source": [
    "print(date_columns)\n",
    "print(numeric_columns)\n",
    "print(categorical_columns)\n",
    "print(binary_columns)"
   ]
  },
  {
   "cell_type": "code",
   "execution_count": 9,
   "metadata": {},
   "outputs": [],
   "source": [
    "# Make a copy of main data, from this moment we will work on this dataset\n",
    "df = data.copy()"
   ]
  },
  {
   "cell_type": "code",
   "execution_count": 10,
   "metadata": {},
   "outputs": [],
   "source": [
    "# Assumed sequence for columns sorting \n",
    "sorted_columns = date_columns + numeric_columns + categorical_columns + binary_columns\n",
    "\n",
    "# Choose of the sorted value by defined categories\n",
    "df = data[sorted_columns]"
   ]
  },
  {
   "cell_type": "code",
   "execution_count": 11,
   "metadata": {},
   "outputs": [
    {
     "data": {
      "text/html": [
       "<div>\n",
       "<style scoped>\n",
       "    .dataframe tbody tr th:only-of-type {\n",
       "        vertical-align: middle;\n",
       "    }\n",
       "\n",
       "    .dataframe tbody tr th {\n",
       "        vertical-align: top;\n",
       "    }\n",
       "\n",
       "    .dataframe thead th {\n",
       "        text-align: right;\n",
       "    }\n",
       "</style>\n",
       "<table border=\"1\" class=\"dataframe\">\n",
       "  <thead>\n",
       "    <tr style=\"text-align: right;\">\n",
       "      <th></th>\n",
       "      <th>application_date</th>\n",
       "      <th>Var13</th>\n",
       "      <th>ID</th>\n",
       "      <th>customer_id</th>\n",
       "      <th>_r_</th>\n",
       "      <th>Var9</th>\n",
       "      <th>Var10</th>\n",
       "      <th>Var1</th>\n",
       "      <th>Var4</th>\n",
       "      <th>Var5</th>\n",
       "      <th>...</th>\n",
       "      <th>Var3</th>\n",
       "      <th>Var11</th>\n",
       "      <th>Var12</th>\n",
       "      <th>Var14</th>\n",
       "      <th>target</th>\n",
       "      <th>Application_status</th>\n",
       "      <th>Var18</th>\n",
       "      <th>Var19</th>\n",
       "      <th>Var27</th>\n",
       "      <th>Var28</th>\n",
       "    </tr>\n",
       "  </thead>\n",
       "  <tbody>\n",
       "    <tr>\n",
       "      <th>0</th>\n",
       "      <td>03Feb2010 0:00:00</td>\n",
       "      <td>28Nov2004</td>\n",
       "      <td>36034977</td>\n",
       "      <td>32653719</td>\n",
       "      <td>0.485674</td>\n",
       "      <td>4200</td>\n",
       "      <td>NaN</td>\n",
       "      <td>1</td>\n",
       "      <td>4800</td>\n",
       "      <td>15</td>\n",
       "      <td>...</td>\n",
       "      <td>1.0</td>\n",
       "      <td>2</td>\n",
       "      <td>NaN</td>\n",
       "      <td>0</td>\n",
       "      <td>0.0</td>\n",
       "      <td>Approved</td>\n",
       "      <td>NaN</td>\n",
       "      <td>NaN</td>\n",
       "      <td>0</td>\n",
       "      <td>0</td>\n",
       "    </tr>\n",
       "    <tr>\n",
       "      <th>1</th>\n",
       "      <td>04Feb2010 0:00:00</td>\n",
       "      <td>19Sep1996</td>\n",
       "      <td>36034978</td>\n",
       "      <td>32832365</td>\n",
       "      <td>0.267045</td>\n",
       "      <td>5880</td>\n",
       "      <td>3700.0</td>\n",
       "      <td>2</td>\n",
       "      <td>6800</td>\n",
       "      <td>18</td>\n",
       "      <td>...</td>\n",
       "      <td>1.0</td>\n",
       "      <td>5</td>\n",
       "      <td>6.0</td>\n",
       "      <td>3</td>\n",
       "      <td>0.0</td>\n",
       "      <td>Approved</td>\n",
       "      <td>1.0</td>\n",
       "      <td>NaN</td>\n",
       "      <td>0</td>\n",
       "      <td>0</td>\n",
       "    </tr>\n",
       "    <tr>\n",
       "      <th>2</th>\n",
       "      <td>07Feb2010 0:00:00</td>\n",
       "      <td>23Nov1998</td>\n",
       "      <td>36034979</td>\n",
       "      <td>32544742</td>\n",
       "      <td>0.793579</td>\n",
       "      <td>4200</td>\n",
       "      <td>NaN</td>\n",
       "      <td>1</td>\n",
       "      <td>4600</td>\n",
       "      <td>18</td>\n",
       "      <td>...</td>\n",
       "      <td>1.0</td>\n",
       "      <td>5</td>\n",
       "      <td>NaN</td>\n",
       "      <td>0</td>\n",
       "      <td>0.0</td>\n",
       "      <td>Approved</td>\n",
       "      <td>NaN</td>\n",
       "      <td>NaN</td>\n",
       "      <td>0</td>\n",
       "      <td>0</td>\n",
       "    </tr>\n",
       "    <tr>\n",
       "      <th>3</th>\n",
       "      <td>09Feb2010 0:00:00</td>\n",
       "      <td>13Nov2005</td>\n",
       "      <td>36034980</td>\n",
       "      <td>32395830</td>\n",
       "      <td>0.533040</td>\n",
       "      <td>4200</td>\n",
       "      <td>5400.0</td>\n",
       "      <td>2</td>\n",
       "      <td>7900</td>\n",
       "      <td>48</td>\n",
       "      <td>...</td>\n",
       "      <td>2.0</td>\n",
       "      <td>5</td>\n",
       "      <td>5.0</td>\n",
       "      <td>2</td>\n",
       "      <td>NaN</td>\n",
       "      <td>Rejected</td>\n",
       "      <td>0.0</td>\n",
       "      <td>NaN</td>\n",
       "      <td>0</td>\n",
       "      <td>0</td>\n",
       "    </tr>\n",
       "    <tr>\n",
       "      <th>4</th>\n",
       "      <td>13Feb2010 0:00:00</td>\n",
       "      <td>06Aug1995</td>\n",
       "      <td>36034981</td>\n",
       "      <td>32592943</td>\n",
       "      <td>0.781269</td>\n",
       "      <td>3120</td>\n",
       "      <td>3300.0</td>\n",
       "      <td>2</td>\n",
       "      <td>9900</td>\n",
       "      <td>63</td>\n",
       "      <td>...</td>\n",
       "      <td>1.0</td>\n",
       "      <td>4</td>\n",
       "      <td>5.0</td>\n",
       "      <td>1</td>\n",
       "      <td>0.0</td>\n",
       "      <td>Approved</td>\n",
       "      <td>NaN</td>\n",
       "      <td>0.0</td>\n",
       "      <td>0</td>\n",
       "      <td>0</td>\n",
       "    </tr>\n",
       "  </tbody>\n",
       "</table>\n",
       "<p>5 rows × 36 columns</p>\n",
       "</div>"
      ],
      "text/plain": [
       "    application_date      Var13        ID  customer_id       _r_  Var9  \\\n",
       "0  03Feb2010 0:00:00  28Nov2004  36034977     32653719  0.485674  4200   \n",
       "1  04Feb2010 0:00:00  19Sep1996  36034978     32832365  0.267045  5880   \n",
       "2  07Feb2010 0:00:00  23Nov1998  36034979     32544742  0.793579  4200   \n",
       "3  09Feb2010 0:00:00  13Nov2005  36034980     32395830  0.533040  4200   \n",
       "4  13Feb2010 0:00:00  06Aug1995  36034981     32592943  0.781269  3120   \n",
       "\n",
       "    Var10  Var1  Var4  Var5  ...  Var3  Var11  Var12  Var14  target  \\\n",
       "0     NaN     1  4800    15  ...   1.0      2    NaN      0     0.0   \n",
       "1  3700.0     2  6800    18  ...   1.0      5    6.0      3     0.0   \n",
       "2     NaN     1  4600    18  ...   1.0      5    NaN      0     0.0   \n",
       "3  5400.0     2  7900    48  ...   2.0      5    5.0      2     NaN   \n",
       "4  3300.0     2  9900    63  ...   1.0      4    5.0      1     0.0   \n",
       "\n",
       "   Application_status  Var18  Var19  Var27  Var28  \n",
       "0            Approved    NaN    NaN      0      0  \n",
       "1            Approved    1.0    NaN      0      0  \n",
       "2            Approved    NaN    NaN      0      0  \n",
       "3            Rejected    0.0    NaN      0      0  \n",
       "4            Approved    NaN    0.0      0      0  \n",
       "\n",
       "[5 rows x 36 columns]"
      ]
     },
     "execution_count": 11,
     "metadata": {},
     "output_type": "execute_result"
    }
   ],
   "source": [
    "df.head()\n",
    "# Some of the records for Var14 are Nulls, it requires analysis"
   ]
  },
  {
   "cell_type": "markdown",
   "metadata": {},
   "source": [
    "### Handle date variables"
   ]
  },
  {
   "cell_type": "code",
   "execution_count": 12,
   "metadata": {},
   "outputs": [
    {
     "data": {
      "text/plain": [
       "['application_date', 'Var13']"
      ]
     },
     "execution_count": 12,
     "metadata": {},
     "output_type": "execute_result"
    }
   ],
   "source": [
    "# Print date columns\n",
    "date_columns"
   ]
  },
  {
   "cell_type": "markdown",
   "metadata": {},
   "source": [
    "#### Change the type of columns"
   ]
  },
  {
   "cell_type": "code",
   "execution_count": 13,
   "metadata": {},
   "outputs": [],
   "source": [
    "# Change date columns to datetime type\n",
    "df['application_date'] = pd.to_datetime(df['application_date'], errors='coerce')\n",
    "df['Var13'] = pd.to_datetime(df['Var13'], format='%d%b%Y', errors='coerce')         # Var13 - irregular date format"
   ]
  },
  {
   "cell_type": "code",
   "execution_count": 14,
   "metadata": {},
   "outputs": [
    {
     "name": "stdout",
     "output_type": "stream",
     "text": [
      "49\n",
      "0\n"
     ]
    }
   ],
   "source": [
    "# Check naN values after transformation\n",
    "print(df['Var13'].isnull().sum(0))\n",
    "print(df['application_date'].isnull().sum(0))"
   ]
  },
  {
   "cell_type": "markdown",
   "metadata": {},
   "source": [
    "After transformation some records for Var13 are empty, we need to analyze it"
   ]
  },
  {
   "cell_type": "code",
   "execution_count": 15,
   "metadata": {},
   "outputs": [
    {
     "data": {
      "text/html": [
       "<div>\n",
       "<style scoped>\n",
       "    .dataframe tbody tr th:only-of-type {\n",
       "        vertical-align: middle;\n",
       "    }\n",
       "\n",
       "    .dataframe tbody tr th {\n",
       "        vertical-align: top;\n",
       "    }\n",
       "\n",
       "    .dataframe thead th {\n",
       "        text-align: right;\n",
       "    }\n",
       "</style>\n",
       "<table border=\"1\" class=\"dataframe\">\n",
       "  <thead>\n",
       "    <tr style=\"text-align: right;\">\n",
       "      <th></th>\n",
       "      <th>application_date</th>\n",
       "      <th>Var13</th>\n",
       "      <th>ID</th>\n",
       "      <th>customer_id</th>\n",
       "      <th>_r_</th>\n",
       "      <th>Var9</th>\n",
       "      <th>Var10</th>\n",
       "      <th>Var1</th>\n",
       "      <th>Var4</th>\n",
       "      <th>Var5</th>\n",
       "      <th>...</th>\n",
       "      <th>Var3</th>\n",
       "      <th>Var11</th>\n",
       "      <th>Var12</th>\n",
       "      <th>Var14</th>\n",
       "      <th>target</th>\n",
       "      <th>Application_status</th>\n",
       "      <th>Var18</th>\n",
       "      <th>Var19</th>\n",
       "      <th>Var27</th>\n",
       "      <th>Var28</th>\n",
       "    </tr>\n",
       "  </thead>\n",
       "  <tbody>\n",
       "    <tr>\n",
       "      <th>0</th>\n",
       "      <td>2010-02-03</td>\n",
       "      <td>2004-11-28</td>\n",
       "      <td>36034977</td>\n",
       "      <td>32653719</td>\n",
       "      <td>0.485674</td>\n",
       "      <td>4200</td>\n",
       "      <td>NaN</td>\n",
       "      <td>1</td>\n",
       "      <td>4800</td>\n",
       "      <td>15</td>\n",
       "      <td>...</td>\n",
       "      <td>1.0</td>\n",
       "      <td>2</td>\n",
       "      <td>NaN</td>\n",
       "      <td>0</td>\n",
       "      <td>0.0</td>\n",
       "      <td>Approved</td>\n",
       "      <td>NaN</td>\n",
       "      <td>NaN</td>\n",
       "      <td>0</td>\n",
       "      <td>0</td>\n",
       "    </tr>\n",
       "    <tr>\n",
       "      <th>1</th>\n",
       "      <td>2010-02-04</td>\n",
       "      <td>1996-09-19</td>\n",
       "      <td>36034978</td>\n",
       "      <td>32832365</td>\n",
       "      <td>0.267045</td>\n",
       "      <td>5880</td>\n",
       "      <td>3700.0</td>\n",
       "      <td>2</td>\n",
       "      <td>6800</td>\n",
       "      <td>18</td>\n",
       "      <td>...</td>\n",
       "      <td>1.0</td>\n",
       "      <td>5</td>\n",
       "      <td>6.0</td>\n",
       "      <td>3</td>\n",
       "      <td>0.0</td>\n",
       "      <td>Approved</td>\n",
       "      <td>1.0</td>\n",
       "      <td>NaN</td>\n",
       "      <td>0</td>\n",
       "      <td>0</td>\n",
       "    </tr>\n",
       "    <tr>\n",
       "      <th>2</th>\n",
       "      <td>2010-02-07</td>\n",
       "      <td>1998-11-23</td>\n",
       "      <td>36034979</td>\n",
       "      <td>32544742</td>\n",
       "      <td>0.793579</td>\n",
       "      <td>4200</td>\n",
       "      <td>NaN</td>\n",
       "      <td>1</td>\n",
       "      <td>4600</td>\n",
       "      <td>18</td>\n",
       "      <td>...</td>\n",
       "      <td>1.0</td>\n",
       "      <td>5</td>\n",
       "      <td>NaN</td>\n",
       "      <td>0</td>\n",
       "      <td>0.0</td>\n",
       "      <td>Approved</td>\n",
       "      <td>NaN</td>\n",
       "      <td>NaN</td>\n",
       "      <td>0</td>\n",
       "      <td>0</td>\n",
       "    </tr>\n",
       "    <tr>\n",
       "      <th>3</th>\n",
       "      <td>2010-02-09</td>\n",
       "      <td>2005-11-13</td>\n",
       "      <td>36034980</td>\n",
       "      <td>32395830</td>\n",
       "      <td>0.533040</td>\n",
       "      <td>4200</td>\n",
       "      <td>5400.0</td>\n",
       "      <td>2</td>\n",
       "      <td>7900</td>\n",
       "      <td>48</td>\n",
       "      <td>...</td>\n",
       "      <td>2.0</td>\n",
       "      <td>5</td>\n",
       "      <td>5.0</td>\n",
       "      <td>2</td>\n",
       "      <td>NaN</td>\n",
       "      <td>Rejected</td>\n",
       "      <td>0.0</td>\n",
       "      <td>NaN</td>\n",
       "      <td>0</td>\n",
       "      <td>0</td>\n",
       "    </tr>\n",
       "    <tr>\n",
       "      <th>4</th>\n",
       "      <td>2010-02-13</td>\n",
       "      <td>1995-08-06</td>\n",
       "      <td>36034981</td>\n",
       "      <td>32592943</td>\n",
       "      <td>0.781269</td>\n",
       "      <td>3120</td>\n",
       "      <td>3300.0</td>\n",
       "      <td>2</td>\n",
       "      <td>9900</td>\n",
       "      <td>63</td>\n",
       "      <td>...</td>\n",
       "      <td>1.0</td>\n",
       "      <td>4</td>\n",
       "      <td>5.0</td>\n",
       "      <td>1</td>\n",
       "      <td>0.0</td>\n",
       "      <td>Approved</td>\n",
       "      <td>NaN</td>\n",
       "      <td>0.0</td>\n",
       "      <td>0</td>\n",
       "      <td>0</td>\n",
       "    </tr>\n",
       "  </tbody>\n",
       "</table>\n",
       "<p>5 rows × 36 columns</p>\n",
       "</div>"
      ],
      "text/plain": [
       "  application_date      Var13        ID  customer_id       _r_  Var9   Var10  \\\n",
       "0       2010-02-03 2004-11-28  36034977     32653719  0.485674  4200     NaN   \n",
       "1       2010-02-04 1996-09-19  36034978     32832365  0.267045  5880  3700.0   \n",
       "2       2010-02-07 1998-11-23  36034979     32544742  0.793579  4200     NaN   \n",
       "3       2010-02-09 2005-11-13  36034980     32395830  0.533040  4200  5400.0   \n",
       "4       2010-02-13 1995-08-06  36034981     32592943  0.781269  3120  3300.0   \n",
       "\n",
       "   Var1  Var4  Var5  ...  Var3  Var11  Var12  Var14  target  \\\n",
       "0     1  4800    15  ...   1.0      2    NaN      0     0.0   \n",
       "1     2  6800    18  ...   1.0      5    6.0      3     0.0   \n",
       "2     1  4600    18  ...   1.0      5    NaN      0     0.0   \n",
       "3     2  7900    48  ...   2.0      5    5.0      2     NaN   \n",
       "4     2  9900    63  ...   1.0      4    5.0      1     0.0   \n",
       "\n",
       "   Application_status  Var18  Var19  Var27  Var28  \n",
       "0            Approved    NaN    NaN      0      0  \n",
       "1            Approved    1.0    NaN      0      0  \n",
       "2            Approved    NaN    NaN      0      0  \n",
       "3            Rejected    0.0    NaN      0      0  \n",
       "4            Approved    NaN    0.0      0      0  \n",
       "\n",
       "[5 rows x 36 columns]"
      ]
     },
     "execution_count": 15,
     "metadata": {},
     "output_type": "execute_result"
    }
   ],
   "source": [
    "df.head()"
   ]
  },
  {
   "cell_type": "markdown",
   "metadata": {},
   "source": [
    "#### Analyze Var13"
   ]
  },
  {
   "cell_type": "code",
   "execution_count": 16,
   "metadata": {},
   "outputs": [
    {
     "data": {
      "text/plain": [
       "19      31Dec9999\n",
       "78      31Dec9999\n",
       "154     31Dec9999\n",
       "284     31Dec9999\n",
       "350     31Dec9999\n",
       "375     31Dec9999\n",
       "380     31Dec9999\n",
       "548     31Dec9999\n",
       "820     31Dec9999\n",
       "833     31Dec9999\n",
       "999     31Dec9999\n",
       "1143    31Dec9999\n",
       "1166    31Dec9999\n",
       "1208    31Dec9999\n",
       "1346    31Dec9999\n",
       "1447    31Dec9999\n",
       "1487    31Dec9999\n",
       "1514    31Dec9999\n",
       "1687    31Dec9999\n",
       "2142    31Dec9999\n",
       "2338    31Dec9999\n",
       "2361    31Dec9999\n",
       "2374    31Dec9999\n",
       "2415    31Dec9999\n",
       "2527    31Dec9999\n",
       "2555    31Dec9999\n",
       "2754    31Dec9999\n",
       "2854    31Dec9999\n",
       "3080    31Dec9999\n",
       "3212    31Dec9999\n",
       "3289    31Dec9999\n",
       "3343    31Dec9999\n",
       "3355    31Dec9999\n",
       "3569    31Dec9999\n",
       "3575    31Dec9999\n",
       "3608    31Dec9999\n",
       "3706    31Dec9999\n",
       "3965    31Dec9999\n",
       "4056    31Dec9999\n",
       "4096    31Dec9999\n",
       "4225    31Dec9999\n",
       "4267    31Dec9999\n",
       "4348    31Dec9999\n",
       "4485    31Dec9999\n",
       "4584    31Dec9999\n",
       "4641    31Dec9999\n",
       "4677    31Dec9999\n",
       "4753    31Dec9999\n",
       "4988    31Dec9999\n",
       "Name: Var13, dtype: object"
      ]
     },
     "execution_count": 16,
     "metadata": {},
     "output_type": "execute_result"
    }
   ],
   "source": [
    "# Check indexes where conversion caused 'NaT' values\n",
    "nan_indices = df['Var13'].isna()\n",
    "\n",
    "# Compare original values of 'Var13' which after conversion became 'NaT'\n",
    "original_values_with_nan = data.loc[nan_indices, 'Var13']\n",
    "\n",
    "original_values_with_nan"
   ]
  },
  {
   "cell_type": "code",
   "execution_count": 17,
   "metadata": {},
   "outputs": [
    {
     "data": {
      "text/plain": [
       "array(['31Dec9999'], dtype=object)"
      ]
     },
     "execution_count": 17,
     "metadata": {},
     "output_type": "execute_result"
    }
   ],
   "source": [
    "# Check unique values of 'Var13' which after conversion became 'NaT'\n",
    "original_values_with_nan.unique()"
   ]
  },
  {
   "cell_type": "markdown",
   "metadata": {},
   "source": [
    "Summarizing we have 784 cases in Var13 with value '31Dec9999'\n",
    "\n",
    "We treat them as data error and for this moment leave with NAs"
   ]
  },
  {
   "cell_type": "markdown",
   "metadata": {},
   "source": [
    "#### Create working_months column\n",
    "\n",
    "Var13 = employment date\n",
    "\n",
    "working_moths = Var13 - application_date\n",
    "\n",
    "\n",
    "We would like to calculate the number of working months before applying for credit, which will indicate the employee's duration at the given position from employment to loan application.\n",
    "\n",
    "NAs from Var13 are replaced with 0\n",
    "\n",
    "We also want to have this column first"
   ]
  },
  {
   "cell_type": "code",
   "execution_count": 18,
   "metadata": {},
   "outputs": [],
   "source": [
    "# Create a new colum working_months\n",
    "df['working_months'] = ((df['application_date'] - df['Var13']) / np.timedelta64(1, 'M')).fillna(0).astype(int)"
   ]
  },
  {
   "cell_type": "code",
   "execution_count": 19,
   "metadata": {},
   "outputs": [],
   "source": [
    "# Delete columns 'Var13' and 'application_date'\n",
    "df.drop(['Var13'], axis=1, inplace=True)\n",
    "df.drop(['application_date'], axis=1, inplace=True)"
   ]
  },
  {
   "cell_type": "code",
   "execution_count": 20,
   "metadata": {},
   "outputs": [
    {
     "data": {
      "text/html": [
       "<div>\n",
       "<style scoped>\n",
       "    .dataframe tbody tr th:only-of-type {\n",
       "        vertical-align: middle;\n",
       "    }\n",
       "\n",
       "    .dataframe tbody tr th {\n",
       "        vertical-align: top;\n",
       "    }\n",
       "\n",
       "    .dataframe thead th {\n",
       "        text-align: right;\n",
       "    }\n",
       "</style>\n",
       "<table border=\"1\" class=\"dataframe\">\n",
       "  <thead>\n",
       "    <tr style=\"text-align: right;\">\n",
       "      <th></th>\n",
       "      <th>ID</th>\n",
       "      <th>customer_id</th>\n",
       "      <th>_r_</th>\n",
       "      <th>Var9</th>\n",
       "      <th>Var10</th>\n",
       "      <th>Var1</th>\n",
       "      <th>Var4</th>\n",
       "      <th>Var5</th>\n",
       "      <th>Var6</th>\n",
       "      <th>Var7</th>\n",
       "      <th>...</th>\n",
       "      <th>Var11</th>\n",
       "      <th>Var12</th>\n",
       "      <th>Var14</th>\n",
       "      <th>target</th>\n",
       "      <th>Application_status</th>\n",
       "      <th>Var18</th>\n",
       "      <th>Var19</th>\n",
       "      <th>Var27</th>\n",
       "      <th>Var28</th>\n",
       "      <th>working_months</th>\n",
       "    </tr>\n",
       "  </thead>\n",
       "  <tbody>\n",
       "    <tr>\n",
       "      <th>0</th>\n",
       "      <td>36034977</td>\n",
       "      <td>32653719</td>\n",
       "      <td>0.485674</td>\n",
       "      <td>4200</td>\n",
       "      <td>NaN</td>\n",
       "      <td>1</td>\n",
       "      <td>4800</td>\n",
       "      <td>15</td>\n",
       "      <td>1</td>\n",
       "      <td>463.31</td>\n",
       "      <td>...</td>\n",
       "      <td>2</td>\n",
       "      <td>NaN</td>\n",
       "      <td>0</td>\n",
       "      <td>0.0</td>\n",
       "      <td>Approved</td>\n",
       "      <td>NaN</td>\n",
       "      <td>NaN</td>\n",
       "      <td>0</td>\n",
       "      <td>0</td>\n",
       "      <td>62</td>\n",
       "    </tr>\n",
       "    <tr>\n",
       "      <th>1</th>\n",
       "      <td>36034978</td>\n",
       "      <td>32832365</td>\n",
       "      <td>0.267045</td>\n",
       "      <td>5880</td>\n",
       "      <td>3700.0</td>\n",
       "      <td>2</td>\n",
       "      <td>6800</td>\n",
       "      <td>18</td>\n",
       "      <td>6</td>\n",
       "      <td>3170.40</td>\n",
       "      <td>...</td>\n",
       "      <td>5</td>\n",
       "      <td>6.0</td>\n",
       "      <td>3</td>\n",
       "      <td>0.0</td>\n",
       "      <td>Approved</td>\n",
       "      <td>1.0</td>\n",
       "      <td>NaN</td>\n",
       "      <td>0</td>\n",
       "      <td>0</td>\n",
       "      <td>160</td>\n",
       "    </tr>\n",
       "    <tr>\n",
       "      <th>2</th>\n",
       "      <td>36034979</td>\n",
       "      <td>32544742</td>\n",
       "      <td>0.793579</td>\n",
       "      <td>4200</td>\n",
       "      <td>NaN</td>\n",
       "      <td>1</td>\n",
       "      <td>4600</td>\n",
       "      <td>18</td>\n",
       "      <td>1</td>\n",
       "      <td>355.36</td>\n",
       "      <td>...</td>\n",
       "      <td>5</td>\n",
       "      <td>NaN</td>\n",
       "      <td>0</td>\n",
       "      <td>0.0</td>\n",
       "      <td>Approved</td>\n",
       "      <td>NaN</td>\n",
       "      <td>NaN</td>\n",
       "      <td>0</td>\n",
       "      <td>0</td>\n",
       "      <td>134</td>\n",
       "    </tr>\n",
       "    <tr>\n",
       "      <th>3</th>\n",
       "      <td>36034980</td>\n",
       "      <td>32395830</td>\n",
       "      <td>0.533040</td>\n",
       "      <td>4200</td>\n",
       "      <td>5400.0</td>\n",
       "      <td>2</td>\n",
       "      <td>7900</td>\n",
       "      <td>48</td>\n",
       "      <td>1</td>\n",
       "      <td>231.34</td>\n",
       "      <td>...</td>\n",
       "      <td>5</td>\n",
       "      <td>5.0</td>\n",
       "      <td>2</td>\n",
       "      <td>NaN</td>\n",
       "      <td>Rejected</td>\n",
       "      <td>0.0</td>\n",
       "      <td>NaN</td>\n",
       "      <td>0</td>\n",
       "      <td>0</td>\n",
       "      <td>50</td>\n",
       "    </tr>\n",
       "    <tr>\n",
       "      <th>4</th>\n",
       "      <td>36034981</td>\n",
       "      <td>32592943</td>\n",
       "      <td>0.781269</td>\n",
       "      <td>3120</td>\n",
       "      <td>3300.0</td>\n",
       "      <td>2</td>\n",
       "      <td>9900</td>\n",
       "      <td>63</td>\n",
       "      <td>3</td>\n",
       "      <td>639.45</td>\n",
       "      <td>...</td>\n",
       "      <td>4</td>\n",
       "      <td>5.0</td>\n",
       "      <td>1</td>\n",
       "      <td>0.0</td>\n",
       "      <td>Approved</td>\n",
       "      <td>NaN</td>\n",
       "      <td>0.0</td>\n",
       "      <td>0</td>\n",
       "      <td>0</td>\n",
       "      <td>174</td>\n",
       "    </tr>\n",
       "  </tbody>\n",
       "</table>\n",
       "<p>5 rows × 35 columns</p>\n",
       "</div>"
      ],
      "text/plain": [
       "         ID  customer_id       _r_  Var9   Var10  Var1  Var4  Var5  Var6  \\\n",
       "0  36034977     32653719  0.485674  4200     NaN     1  4800    15     1   \n",
       "1  36034978     32832365  0.267045  5880  3700.0     2  6800    18     6   \n",
       "2  36034979     32544742  0.793579  4200     NaN     1  4600    18     1   \n",
       "3  36034980     32395830  0.533040  4200  5400.0     2  7900    48     1   \n",
       "4  36034981     32592943  0.781269  3120  3300.0     2  9900    63     3   \n",
       "\n",
       "      Var7  ...  Var11  Var12  Var14  target  Application_status  Var18  \\\n",
       "0   463.31  ...      2    NaN      0     0.0            Approved    NaN   \n",
       "1  3170.40  ...      5    6.0      3     0.0            Approved    1.0   \n",
       "2   355.36  ...      5    NaN      0     0.0            Approved    NaN   \n",
       "3   231.34  ...      5    5.0      2     NaN            Rejected    0.0   \n",
       "4   639.45  ...      4    5.0      1     0.0            Approved    NaN   \n",
       "\n",
       "   Var19  Var27  Var28  working_months  \n",
       "0    NaN      0      0              62  \n",
       "1    NaN      0      0             160  \n",
       "2    NaN      0      0             134  \n",
       "3    NaN      0      0              50  \n",
       "4    0.0      0      0             174  \n",
       "\n",
       "[5 rows x 35 columns]"
      ]
     },
     "execution_count": 20,
     "metadata": {},
     "output_type": "execute_result"
    }
   ],
   "source": [
    "df.head()"
   ]
  },
  {
   "cell_type": "markdown",
   "metadata": {},
   "source": [
    "Move 'working_months' to the first column"
   ]
  },
  {
   "cell_type": "code",
   "execution_count": 21,
   "metadata": {},
   "outputs": [],
   "source": [
    "# Create a list of columns without 'working_months'\n",
    "df_sorted_columns = df.columns.tolist()\n",
    "df_sorted_columns.remove('working_months')\n",
    "# Add 'working_months' to the first position\n",
    "df_sorted_columns.insert(0, 'working_months')\n",
    "# Reindex columns\n",
    "df = df[df_sorted_columns]"
   ]
  },
  {
   "cell_type": "code",
   "execution_count": 22,
   "metadata": {},
   "outputs": [],
   "source": [
    "# Update the list of date and numeric columns\n",
    "date_columns = []\n",
    "numeric_columns = numeric_columns + ['working_months']"
   ]
  },
  {
   "cell_type": "code",
   "execution_count": 23,
   "metadata": {},
   "outputs": [
    {
     "data": {
      "text/html": [
       "<div>\n",
       "<style scoped>\n",
       "    .dataframe tbody tr th:only-of-type {\n",
       "        vertical-align: middle;\n",
       "    }\n",
       "\n",
       "    .dataframe tbody tr th {\n",
       "        vertical-align: top;\n",
       "    }\n",
       "\n",
       "    .dataframe thead th {\n",
       "        text-align: right;\n",
       "    }\n",
       "</style>\n",
       "<table border=\"1\" class=\"dataframe\">\n",
       "  <thead>\n",
       "    <tr style=\"text-align: right;\">\n",
       "      <th></th>\n",
       "      <th>working_months</th>\n",
       "      <th>ID</th>\n",
       "      <th>customer_id</th>\n",
       "      <th>_r_</th>\n",
       "      <th>Var9</th>\n",
       "      <th>Var10</th>\n",
       "      <th>Var1</th>\n",
       "      <th>Var4</th>\n",
       "      <th>Var5</th>\n",
       "      <th>Var6</th>\n",
       "      <th>...</th>\n",
       "      <th>Var3</th>\n",
       "      <th>Var11</th>\n",
       "      <th>Var12</th>\n",
       "      <th>Var14</th>\n",
       "      <th>target</th>\n",
       "      <th>Application_status</th>\n",
       "      <th>Var18</th>\n",
       "      <th>Var19</th>\n",
       "      <th>Var27</th>\n",
       "      <th>Var28</th>\n",
       "    </tr>\n",
       "  </thead>\n",
       "  <tbody>\n",
       "    <tr>\n",
       "      <th>0</th>\n",
       "      <td>62</td>\n",
       "      <td>36034977</td>\n",
       "      <td>32653719</td>\n",
       "      <td>0.485674</td>\n",
       "      <td>4200</td>\n",
       "      <td>NaN</td>\n",
       "      <td>1</td>\n",
       "      <td>4800</td>\n",
       "      <td>15</td>\n",
       "      <td>1</td>\n",
       "      <td>...</td>\n",
       "      <td>1.0</td>\n",
       "      <td>2</td>\n",
       "      <td>NaN</td>\n",
       "      <td>0</td>\n",
       "      <td>0.0</td>\n",
       "      <td>Approved</td>\n",
       "      <td>NaN</td>\n",
       "      <td>NaN</td>\n",
       "      <td>0</td>\n",
       "      <td>0</td>\n",
       "    </tr>\n",
       "    <tr>\n",
       "      <th>1</th>\n",
       "      <td>160</td>\n",
       "      <td>36034978</td>\n",
       "      <td>32832365</td>\n",
       "      <td>0.267045</td>\n",
       "      <td>5880</td>\n",
       "      <td>3700.0</td>\n",
       "      <td>2</td>\n",
       "      <td>6800</td>\n",
       "      <td>18</td>\n",
       "      <td>6</td>\n",
       "      <td>...</td>\n",
       "      <td>1.0</td>\n",
       "      <td>5</td>\n",
       "      <td>6.0</td>\n",
       "      <td>3</td>\n",
       "      <td>0.0</td>\n",
       "      <td>Approved</td>\n",
       "      <td>1.0</td>\n",
       "      <td>NaN</td>\n",
       "      <td>0</td>\n",
       "      <td>0</td>\n",
       "    </tr>\n",
       "    <tr>\n",
       "      <th>2</th>\n",
       "      <td>134</td>\n",
       "      <td>36034979</td>\n",
       "      <td>32544742</td>\n",
       "      <td>0.793579</td>\n",
       "      <td>4200</td>\n",
       "      <td>NaN</td>\n",
       "      <td>1</td>\n",
       "      <td>4600</td>\n",
       "      <td>18</td>\n",
       "      <td>1</td>\n",
       "      <td>...</td>\n",
       "      <td>1.0</td>\n",
       "      <td>5</td>\n",
       "      <td>NaN</td>\n",
       "      <td>0</td>\n",
       "      <td>0.0</td>\n",
       "      <td>Approved</td>\n",
       "      <td>NaN</td>\n",
       "      <td>NaN</td>\n",
       "      <td>0</td>\n",
       "      <td>0</td>\n",
       "    </tr>\n",
       "    <tr>\n",
       "      <th>3</th>\n",
       "      <td>50</td>\n",
       "      <td>36034980</td>\n",
       "      <td>32395830</td>\n",
       "      <td>0.533040</td>\n",
       "      <td>4200</td>\n",
       "      <td>5400.0</td>\n",
       "      <td>2</td>\n",
       "      <td>7900</td>\n",
       "      <td>48</td>\n",
       "      <td>1</td>\n",
       "      <td>...</td>\n",
       "      <td>2.0</td>\n",
       "      <td>5</td>\n",
       "      <td>5.0</td>\n",
       "      <td>2</td>\n",
       "      <td>NaN</td>\n",
       "      <td>Rejected</td>\n",
       "      <td>0.0</td>\n",
       "      <td>NaN</td>\n",
       "      <td>0</td>\n",
       "      <td>0</td>\n",
       "    </tr>\n",
       "    <tr>\n",
       "      <th>4</th>\n",
       "      <td>174</td>\n",
       "      <td>36034981</td>\n",
       "      <td>32592943</td>\n",
       "      <td>0.781269</td>\n",
       "      <td>3120</td>\n",
       "      <td>3300.0</td>\n",
       "      <td>2</td>\n",
       "      <td>9900</td>\n",
       "      <td>63</td>\n",
       "      <td>3</td>\n",
       "      <td>...</td>\n",
       "      <td>1.0</td>\n",
       "      <td>4</td>\n",
       "      <td>5.0</td>\n",
       "      <td>1</td>\n",
       "      <td>0.0</td>\n",
       "      <td>Approved</td>\n",
       "      <td>NaN</td>\n",
       "      <td>0.0</td>\n",
       "      <td>0</td>\n",
       "      <td>0</td>\n",
       "    </tr>\n",
       "  </tbody>\n",
       "</table>\n",
       "<p>5 rows × 35 columns</p>\n",
       "</div>"
      ],
      "text/plain": [
       "   working_months        ID  customer_id       _r_  Var9   Var10  Var1  Var4  \\\n",
       "0              62  36034977     32653719  0.485674  4200     NaN     1  4800   \n",
       "1             160  36034978     32832365  0.267045  5880  3700.0     2  6800   \n",
       "2             134  36034979     32544742  0.793579  4200     NaN     1  4600   \n",
       "3              50  36034980     32395830  0.533040  4200  5400.0     2  7900   \n",
       "4             174  36034981     32592943  0.781269  3120  3300.0     2  9900   \n",
       "\n",
       "   Var5  Var6  ...  Var3  Var11  Var12  Var14  target  Application_status  \\\n",
       "0    15     1  ...   1.0      2    NaN      0     0.0            Approved   \n",
       "1    18     6  ...   1.0      5    6.0      3     0.0            Approved   \n",
       "2    18     1  ...   1.0      5    NaN      0     0.0            Approved   \n",
       "3    48     1  ...   2.0      5    5.0      2     NaN            Rejected   \n",
       "4    63     3  ...   1.0      4    5.0      1     0.0            Approved   \n",
       "\n",
       "   Var18  Var19  Var27  Var28  \n",
       "0    NaN    NaN      0      0  \n",
       "1    1.0    NaN      0      0  \n",
       "2    NaN    NaN      0      0  \n",
       "3    0.0    NaN      0      0  \n",
       "4    NaN    0.0      0      0  \n",
       "\n",
       "[5 rows x 35 columns]"
      ]
     },
     "execution_count": 23,
     "metadata": {},
     "output_type": "execute_result"
    }
   ],
   "source": [
    "df.head()"
   ]
  },
  {
   "cell_type": "markdown",
   "metadata": {},
   "source": [
    "### Handle binary variables\n",
    "\n",
    "Convert the 'Application_status' column to binary variables to facilitate analysis. Applications marked as 'Approved' are changed to 1, and those marked as 'Rejected' are changed to 0. This conversion simplifies the analysis process, allowing for straightforward interpretation of application outcomes"
   ]
  },
  {
   "cell_type": "code",
   "execution_count": 24,
   "metadata": {},
   "outputs": [
    {
     "name": "stdout",
     "output_type": "stream",
     "text": [
      "Unique values for column 'target': [ 0. nan  1.]\n",
      "Unique values for column 'Application_status': ['Approved' 'Rejected']\n",
      "Unique values for column 'Var18': [nan  1.  0.]\n",
      "Unique values for column 'Var19': [nan  0.  1.]\n",
      "Unique values for column 'Var27': [0 1]\n",
      "Unique values for column 'Var28': [0 1]\n"
     ]
    }
   ],
   "source": [
    "# Check unique values for binary columns\n",
    "for column in binary_columns:\n",
    "    print(f\"Unique values for column '{column}': {df[column].unique()}\")"
   ]
  },
  {
   "cell_type": "markdown",
   "metadata": {},
   "source": [
    "As we can observe column \"Application_status\" needs to be modified"
   ]
  },
  {
   "cell_type": "code",
   "execution_count": 25,
   "metadata": {},
   "outputs": [],
   "source": [
    "# Change value \"Approved\" to 1 and \"Rejected\" to 0 in column 'Application_status'\n",
    "df['Application_status'] = df['Application_status'].replace({'Approved': 1, 'Rejected': 0})"
   ]
  },
  {
   "cell_type": "code",
   "execution_count": 26,
   "metadata": {},
   "outputs": [
    {
     "data": {
      "text/plain": [
       "1    3647\n",
       "0    1353\n",
       "Name: Application_status, dtype: int64"
      ]
     },
     "execution_count": 26,
     "metadata": {},
     "output_type": "execute_result"
    }
   ],
   "source": [
    "# Check and count unique values for 'Application_status' to ensure that transformation was successful\n",
    "df['Application_status'].value_counts(dropna=False)"
   ]
  },
  {
   "cell_type": "markdown",
   "metadata": {},
   "source": [
    "Check the rest of binary columns"
   ]
  },
  {
   "cell_type": "code",
   "execution_count": 27,
   "metadata": {},
   "outputs": [
    {
     "data": {
      "text/plain": [
       "target                1353\n",
       "Application_status       0\n",
       "Var18                 3721\n",
       "Var19                 2905\n",
       "Var27                    0\n",
       "Var28                    0\n",
       "dtype: int64"
      ]
     },
     "execution_count": 27,
     "metadata": {},
     "output_type": "execute_result"
    }
   ],
   "source": [
    "df[binary_columns].isna().sum()"
   ]
  },
  {
   "cell_type": "code",
   "execution_count": 28,
   "metadata": {},
   "outputs": [
    {
     "name": "stdout",
     "output_type": "stream",
     "text": [
      "<class 'pandas.core.frame.DataFrame'>\n",
      "RangeIndex: 5000 entries, 0 to 4999\n",
      "Data columns (total 6 columns):\n",
      " #   Column              Non-Null Count  Dtype  \n",
      "---  ------              --------------  -----  \n",
      " 0   target              3647 non-null   float64\n",
      " 1   Application_status  5000 non-null   int64  \n",
      " 2   Var18               1279 non-null   float64\n",
      " 3   Var19               2095 non-null   float64\n",
      " 4   Var27               5000 non-null   int64  \n",
      " 5   Var28               5000 non-null   int64  \n",
      "dtypes: float64(3), int64(3)\n",
      "memory usage: 234.5 KB\n"
     ]
    }
   ],
   "source": [
    "df[binary_columns].info()"
   ]
  },
  {
   "cell_type": "markdown",
   "metadata": {},
   "source": [
    "We can observe that we have some nulls in binary variables, but we will handle them later."
   ]
  },
  {
   "cell_type": "markdown",
   "metadata": {},
   "source": [
    "### Handle categorical variables"
   ]
  },
  {
   "cell_type": "markdown",
   "metadata": {},
   "source": [
    "We have 5 categorical columns:\n",
    "\n",
    "* Var2 - Loan purpose\n",
    "* Var3 - Distribution channel\n",
    "* Var11 - profession of main applicant\n",
    "* Var12 - profession of second applicant\n",
    "* Var14 - marital status of main applicant\n",
    "\n",
    "All of them are treated as simple categorical variables(non-ordered)"
   ]
  },
  {
   "cell_type": "code",
   "execution_count": 29,
   "metadata": {},
   "outputs": [
    {
     "name": "stdout",
     "output_type": "stream",
     "text": [
      "Unique values for column 'Var2': [ 3.  2.  1. nan]\n",
      "Unique values for column 'Var3': [ 1.  2. nan  3.]\n",
      "Unique values for column 'Var11': [2 5 4 6 3 7 1]\n",
      "Unique values for column 'Var12': [nan  6.  5.  3.  4.  2.  1.  7.]\n",
      "Unique values for column 'Var14': [0 3 2 1 4]\n"
     ]
    }
   ],
   "source": [
    "# Check unique values for binary columns\n",
    "for column in categorical_columns:\n",
    "    print(f\"Unique values for column '{column}': {df[column].unique()}\")"
   ]
  },
  {
   "cell_type": "markdown",
   "metadata": {},
   "source": [
    "According to the variables_description.xlsx file the variable Var2 should have the following values:\n",
    "\n",
    "* 1 Direct\n",
    "* 2 Broker\n",
    "* 3 Online\n",
    "\n",
    "In the dataset this variable has 5 unique values printed above. First of all we should transform 'Direct' to 1 and 'Online' to 3"
   ]
  },
  {
   "cell_type": "code",
   "execution_count": 30,
   "metadata": {},
   "outputs": [
    {
     "data": {
      "text/plain": [
       "1.0    2454\n",
       "2.0    1645\n",
       "3.0     762\n",
       "NaN     139\n",
       "Name: Var3, dtype: int64"
      ]
     },
     "execution_count": 30,
     "metadata": {},
     "output_type": "execute_result"
    }
   ],
   "source": [
    "# Check the number of observations in Var3 for each category\n",
    "df['Var3'].value_counts(dropna=False)"
   ]
  },
  {
   "cell_type": "code",
   "execution_count": 31,
   "metadata": {},
   "outputs": [],
   "source": [
    "# Change the value \"Direct\" to 1 and \"Online\" to 3 in column \"Var3\"\n",
    "df['Var3'] = df['Var3'].replace({'Direct': 1, 'Online': 3})\n",
    "\n",
    "# Change the data type of column \"Var3\" to float (we still have NaN values)\n",
    "df['Var3'] = df['Var3'].astype(float)"
   ]
  },
  {
   "cell_type": "markdown",
   "metadata": {},
   "source": [
    "Check the unique values after transformation"
   ]
  },
  {
   "cell_type": "code",
   "execution_count": 32,
   "metadata": {},
   "outputs": [
    {
     "data": {
      "text/plain": [
       "1.0    2454\n",
       "2.0    1645\n",
       "3.0     762\n",
       "NaN     139\n",
       "Name: Var3, dtype: int64"
      ]
     },
     "execution_count": 32,
     "metadata": {},
     "output_type": "execute_result"
    }
   ],
   "source": [
    "# Check again the number of observations in Var3 for each category\n",
    "df['Var3'].value_counts(dropna=False)"
   ]
  },
  {
   "cell_type": "markdown",
   "metadata": {},
   "source": [
    "It looks that the transformation was successfull"
   ]
  },
  {
   "cell_type": "code",
   "execution_count": 33,
   "metadata": {},
   "outputs": [
    {
     "data": {
      "text/plain": [
       "Var2      139\n",
       "Var3      139\n",
       "Var11       0\n",
       "Var12    3719\n",
       "Var14       0\n",
       "dtype: int64"
      ]
     },
     "execution_count": 33,
     "metadata": {},
     "output_type": "execute_result"
    }
   ],
   "source": [
    "# Count NA values for categorical columns\n",
    "df[categorical_columns].isna().sum()"
   ]
  },
  {
   "cell_type": "markdown",
   "metadata": {},
   "source": [
    "All categorical variables are ready for the further processing (filling NA values and one hot encoding)."
   ]
  },
  {
   "cell_type": "markdown",
   "metadata": {},
   "source": [
    "### Handle NaN in target variable\n",
    "\n",
    "As we can observe below we have 13282 NaN values in our target variable.\n",
    "\n",
    "We found out that all of them are for \"Application status\" == rejected (1).\n",
    "\n",
    "We analyze the approach to fill target variable of all rejected application to 1 (default). However this way would bring in a high conlusion that all of rejected people would default in the future and it would impact negatively on our model. Additionally we assume that we want to model the approved applications only.\n",
    "\n",
    "After a long discussion we decided to delete all of rows with Application_status == 0."
   ]
  },
  {
   "cell_type": "code",
   "execution_count": 34,
   "metadata": {},
   "outputs": [
    {
     "data": {
      "text/plain": [
       "1353"
      ]
     },
     "execution_count": 34,
     "metadata": {},
     "output_type": "execute_result"
    }
   ],
   "source": [
    "# Check the number of NAa for target variable\n",
    "df['target'].isna().sum()"
   ]
  },
  {
   "cell_type": "code",
   "execution_count": 35,
   "metadata": {},
   "outputs": [
    {
     "data": {
      "text/plain": [
       "1353"
      ]
     },
     "execution_count": 35,
     "metadata": {},
     "output_type": "execute_result"
    }
   ],
   "source": [
    "df.loc[df[\"Application_status\"] == 0, \"target\"].isna().sum()"
   ]
  },
  {
   "cell_type": "code",
   "execution_count": 36,
   "metadata": {},
   "outputs": [],
   "source": [
    "# Drop rows where 'Application_status' == 0\n",
    "df = df[df['Application_status'] != 0]"
   ]
  },
  {
   "cell_type": "markdown",
   "metadata": {},
   "source": [
    "Now as we know that there are only rows with application_status == 0 we can delete this column from df"
   ]
  },
  {
   "cell_type": "code",
   "execution_count": 37,
   "metadata": {},
   "outputs": [],
   "source": [
    "# Drop column 'Application_status'\n",
    "df.drop(['Application_status'], axis=1, inplace=True)"
   ]
  },
  {
   "cell_type": "code",
   "execution_count": 38,
   "metadata": {},
   "outputs": [],
   "source": [
    "# Delete \"application_stauts\" from binary_columns\n",
    "binary_columns.remove('Application_status')"
   ]
  },
  {
   "cell_type": "markdown",
   "metadata": {},
   "source": [
    "### Handle numeric data"
   ]
  },
  {
   "cell_type": "code",
   "execution_count": 39,
   "metadata": {},
   "outputs": [
    {
     "data": {
      "text/plain": [
       "ID                   0\n",
       "customer_id          0\n",
       "_r_                  0\n",
       "Var9                 0\n",
       "Var10             2757\n",
       "Var1                 0\n",
       "Var4                 0\n",
       "Var5                 0\n",
       "Var6                 0\n",
       "Var7                 0\n",
       "Var8              2030\n",
       "Var15                0\n",
       "Var16                0\n",
       "Var17                0\n",
       "Var20                0\n",
       "Var21                0\n",
       "Var22                0\n",
       "Var23                0\n",
       "Var24                0\n",
       "Var25              722\n",
       "Var26             1415\n",
       "Var29                0\n",
       "Var30                0\n",
       "working_months       0\n",
       "dtype: int64"
      ]
     },
     "execution_count": 39,
     "metadata": {},
     "output_type": "execute_result"
    }
   ],
   "source": [
    "df[numeric_columns].isna().sum()"
   ]
  },
  {
   "cell_type": "markdown",
   "metadata": {},
   "source": [
    "#### Dependence of numeric variables with categorical variables"
   ]
  },
  {
   "cell_type": "markdown",
   "metadata": {},
   "source": [
    "Var10 and Var8 are strictly related to Var1 and Var2 respectively, so we wanted to check the NAs in dependent variables.\n",
    "However Var1 related to Var10 does not have any missings we moved to Var8 and Var2.\n",
    "\n",
    "We wanted to check if there are any NA observations of Var2 (Loan purpose) having Var8 (Value of goods(car)) set to some value. If yes we assume that the value is entered correctly and we are missing Var2 for some unknown reason.\n",
    "\n",
    "We decided to fill these rows with value 1 (meaning Car Loan).\n",
    "\n",
    "As we can observe below we have 1018 NAs before filling the data."
   ]
  },
  {
   "cell_type": "code",
   "execution_count": 40,
   "metadata": {},
   "outputs": [
    {
     "data": {
      "text/plain": [
       "1.0    1575\n",
       "3.0    1011\n",
       "2.0     960\n",
       "NaN     101\n",
       "Name: Var2, dtype: int64"
      ]
     },
     "execution_count": 40,
     "metadata": {},
     "output_type": "execute_result"
    }
   ],
   "source": [
    "# Count values inside Var8 group by value\n",
    "df['Var2'].value_counts(dropna=False)"
   ]
  },
  {
   "cell_type": "code",
   "execution_count": 41,
   "metadata": {},
   "outputs": [],
   "source": [
    "# Put value 1 to the column Var2 if Var8 is not NaN\n",
    "df.loc[~df['Var8'].isna(), 'Var2'] = 1"
   ]
  },
  {
   "cell_type": "markdown",
   "metadata": {},
   "source": [
    "After transformation the number of NaN in Var8 dropped by almost half"
   ]
  },
  {
   "cell_type": "code",
   "execution_count": 42,
   "metadata": {},
   "outputs": [
    {
     "data": {
      "text/plain": [
       "1.0    1617\n",
       "3.0    1011\n",
       "2.0     960\n",
       "NaN      59\n",
       "Name: Var2, dtype: int64"
      ]
     },
     "execution_count": 42,
     "metadata": {},
     "output_type": "execute_result"
    }
   ],
   "source": [
    "# count values inside Var8 group by value\n",
    "df['Var2'].value_counts(dropna=False)"
   ]
  },
  {
   "cell_type": "markdown",
   "metadata": {},
   "source": [
    "#### Analyze Var9 and Var10\n",
    "\n",
    "We have 28043 null values in Var10 (income of second applicant). We would like to check how many of these NAs is because of the fact that there is just one applicant.\n",
    "\n",
    "As we can see below all of NAs are inside this group. We decided to sum these columns into one and name it \"income\"."
   ]
  },
  {
   "cell_type": "code",
   "execution_count": 43,
   "metadata": {},
   "outputs": [
    {
     "data": {
      "text/plain": [
       "2757"
      ]
     },
     "execution_count": 43,
     "metadata": {},
     "output_type": "execute_result"
    }
   ],
   "source": [
    "# Count the number of nulls where Var1 = 1\n",
    "df.loc[df[\"Var1\"] == 1, \"Var10\"].isna().sum()"
   ]
  },
  {
   "cell_type": "code",
   "execution_count": 44,
   "metadata": {},
   "outputs": [],
   "source": [
    "# Create a new colum income\n",
    "df[\"income\"] = df[\"Var9\"] + df[\"Var10\"].fillna(0).astype(int) # Var9 was as integer, Var10 was as float, but we do not have NAs"
   ]
  },
  {
   "cell_type": "code",
   "execution_count": 45,
   "metadata": {},
   "outputs": [],
   "source": [
    "# Drop columns Var9 and Var10\n",
    "df.drop([\"Var9\", \"Var10\"], axis=1, inplace=True)"
   ]
  },
  {
   "cell_type": "code",
   "execution_count": 46,
   "metadata": {},
   "outputs": [],
   "source": [
    "# update the list of numeric columns\n",
    "numeric_columns.remove(\"Var9\")\n",
    "numeric_columns.remove(\"Var10\")\n",
    "numeric_columns.append(\"income\")"
   ]
  },
  {
   "cell_type": "markdown",
   "metadata": {},
   "source": [
    "Check again the number of null values"
   ]
  },
  {
   "cell_type": "code",
   "execution_count": 47,
   "metadata": {},
   "outputs": [
    {
     "data": {
      "text/plain": [
       "ID                   0\n",
       "customer_id          0\n",
       "_r_                  0\n",
       "Var1                 0\n",
       "Var4                 0\n",
       "Var5                 0\n",
       "Var6                 0\n",
       "Var7                 0\n",
       "Var8              2030\n",
       "Var15                0\n",
       "Var16                0\n",
       "Var17                0\n",
       "Var20                0\n",
       "Var21                0\n",
       "Var22                0\n",
       "Var23                0\n",
       "Var24                0\n",
       "Var25              722\n",
       "Var26             1415\n",
       "Var29                0\n",
       "Var30                0\n",
       "working_months       0\n",
       "income               0\n",
       "dtype: int64"
      ]
     },
     "execution_count": 47,
     "metadata": {},
     "output_type": "execute_result"
    }
   ],
   "source": [
    "df[numeric_columns].isna().sum()"
   ]
  },
  {
   "cell_type": "markdown",
   "metadata": {},
   "source": [
    "We still have a few variables with nulls:\n",
    "\n",
    "* Var8 - Value of the goods (car) - We decided to delete this variables from the dataset. The number of NAs is relatively huge (almost 56%), the variables refers only to the loans for car purposes and filling this with 0, mode, median or using KNN would not hane any sense.\n",
    "* Var17 - Spendings estimation - the number of NAs is low, there is a sense in filling this, we decided to use KNN to fill these variables.\n",
    "* Var25 - Amount on current account \n",
    "* Var26 - Amount on savings account\n",
    "\n",
    "When it comes to Var25 and Var26 we decidec to fill NAa with 0. NAs means probably that the client does not have account in our bank and we cannot reach that value or does not have any money on either current or saving account. In both cases there is an element of uncertainty which we decided to minimize.\n",
    "\n",
    "Because of this our model should be more conservative and penalize clients about whom we are not sure."
   ]
  },
  {
   "cell_type": "code",
   "execution_count": 48,
   "metadata": {},
   "outputs": [
    {
     "data": {
      "text/plain": [
       "55.66"
      ]
     },
     "execution_count": 48,
     "metadata": {},
     "output_type": "execute_result"
    }
   ],
   "source": [
    "# Check the percentage number of NAs in Var8 related to whole df\n",
    "round(df['Var8'].isna().sum() / df.shape[0] * 100, 2)"
   ]
  },
  {
   "cell_type": "code",
   "execution_count": 49,
   "metadata": {},
   "outputs": [],
   "source": [
    "# Drop Var8 column\n",
    "df.drop('Var8', axis=1, inplace=True)"
   ]
  },
  {
   "cell_type": "code",
   "execution_count": 50,
   "metadata": {},
   "outputs": [],
   "source": [
    "# Drop Var8 from the list of numeric columns\n",
    "numeric_columns.remove('Var8')"
   ]
  },
  {
   "cell_type": "code",
   "execution_count": 51,
   "metadata": {},
   "outputs": [],
   "source": [
    "# Put a value 0 to the NaN in Var25 and Var26 columns\n",
    "df['Var25'] = df['Var25'].fillna(0)\n",
    "df['Var26'] = df['Var26'].fillna(0)"
   ]
  },
  {
   "cell_type": "code",
   "execution_count": 52,
   "metadata": {},
   "outputs": [
    {
     "data": {
      "text/plain": [
       "ID                0\n",
       "customer_id       0\n",
       "_r_               0\n",
       "Var1              0\n",
       "Var4              0\n",
       "Var5              0\n",
       "Var6              0\n",
       "Var7              0\n",
       "Var15             0\n",
       "Var16             0\n",
       "Var17             0\n",
       "Var20             0\n",
       "Var21             0\n",
       "Var22             0\n",
       "Var23             0\n",
       "Var24             0\n",
       "Var25             0\n",
       "Var26             0\n",
       "Var29             0\n",
       "Var30             0\n",
       "working_months    0\n",
       "income            0\n",
       "dtype: int64"
      ]
     },
     "execution_count": 52,
     "metadata": {},
     "output_type": "execute_result"
    }
   ],
   "source": [
    "df[numeric_columns].isna().sum()"
   ]
  },
  {
   "cell_type": "markdown",
   "metadata": {},
   "source": [
    "### Handle remaining NULL values"
   ]
  },
  {
   "cell_type": "code",
   "execution_count": 53,
   "metadata": {},
   "outputs": [
    {
     "data": {
      "text/plain": [
       "working_months       0\n",
       "ID                   0\n",
       "customer_id          0\n",
       "_r_                  0\n",
       "Var1                 0\n",
       "Var4                 0\n",
       "Var5                 0\n",
       "Var6                 0\n",
       "Var7                 0\n",
       "Var15                0\n",
       "Var16                0\n",
       "Var17                0\n",
       "Var20                0\n",
       "Var21                0\n",
       "Var22                0\n",
       "Var23                0\n",
       "Var24                0\n",
       "Var25                0\n",
       "Var26                0\n",
       "Var29                0\n",
       "Var30                0\n",
       "Var2                59\n",
       "Var3               101\n",
       "Var11                0\n",
       "Var12             2757\n",
       "Var14                0\n",
       "target               0\n",
       "Var18             2656\n",
       "Var19             2030\n",
       "Var27                0\n",
       "Var28                0\n",
       "income               0\n",
       "dtype: int64"
      ]
     },
     "execution_count": 53,
     "metadata": {},
     "output_type": "execute_result"
    }
   ],
   "source": [
    "df.isnull().sum()"
   ]
  },
  {
   "cell_type": "markdown",
   "metadata": {},
   "source": [
    "* Var17 - spedning estimation - as we wrote before, we will fill with KNN\n",
    "* Var2 - loan purpose [categorical] - drop NA rows\n",
    "* Var3 - Distribution channel [categorical] - drop NA rows\n",
    "* Var12 - profession of second applicant [categorical] - add new category\n",
    "* Var18 - Property ownership for property renovation\n",
    "* Var19 - Clasification of the vehicle (Car, Motorbike)\n",
    "\n",
    "When it comes to the Var18 and Var19 we analyze combining them with Var2 (loan purpose) and have 1 categorical variable with values:\n",
    "\n",
    "1. Car loan motorbike\n",
    "2. Car loan car\n",
    "3. House renovation your property\n",
    "4. House renovation not your property\n",
    "5. Short cash\n",
    "\n",
    "We finally decided not to use this approach, however we provide you with the short analysis why. "
   ]
  },
  {
   "cell_type": "markdown",
   "metadata": {},
   "source": [
    "#### Var12"
   ]
  },
  {
   "cell_type": "markdown",
   "metadata": {},
   "source": [
    "Check if all NAs in Var12 (profession of second applicant)are if Var1 == 1, so if there is just one applicant.\n",
    "\n",
    "The number of NAs in this category is the same as the number of NAs when Var1 == 1, so we fill it with a new category."
   ]
  },
  {
   "cell_type": "code",
   "execution_count": 54,
   "metadata": {},
   "outputs": [
    {
     "data": {
      "text/plain": [
       "2757"
      ]
     },
     "execution_count": 54,
     "metadata": {},
     "output_type": "execute_result"
    }
   ],
   "source": [
    "df.loc[df[\"Var1\"] == 1, \"Var12\"].isna().sum()"
   ]
  },
  {
   "cell_type": "markdown",
   "metadata": {},
   "source": [
    "Fill NA in Var12 (profession of second applicant) with new category: 8 - just one applicant"
   ]
  },
  {
   "cell_type": "code",
   "execution_count": 55,
   "metadata": {},
   "outputs": [],
   "source": [
    "df[\"Var12\"] = df[\"Var12\"].fillna(8)"
   ]
  },
  {
   "cell_type": "markdown",
   "metadata": {},
   "source": [
    "#### Var18 and Var19 - check\n",
    "\n",
    "Check if we can combine Var2 with Var18 and Var19 and having one categorical variable instead of one vategorical and 2 binary with huge amount of nulls. The new variable would consists of 5 values:\n",
    "\n",
    "1. Car loan motorbike\n",
    "2. Car loan car\n",
    "3. House renovation your property\n",
    "4. House renovation not your property\n",
    "5. Short cash\n",
    "\n",
    "First of all we need to check the values - if combining them would reduce the nulls to 0 and nulls are related only to the variable specificity or we really have some missing data.\n",
    "\n",
    "Var2 == 1 is related to Var 19 and Var2 == 2 is related to Var 18."
   ]
  },
  {
   "cell_type": "code",
   "execution_count": 56,
   "metadata": {},
   "outputs": [
    {
     "data": {
      "text/plain": [
       "3647"
      ]
     },
     "execution_count": 56,
     "metadata": {},
     "output_type": "execute_result"
    }
   ],
   "source": [
    "df.shape[0]"
   ]
  },
  {
   "cell_type": "code",
   "execution_count": 57,
   "metadata": {},
   "outputs": [
    {
     "name": "stdout",
     "output_type": "stream",
     "text": [
      "960\n",
      "1617\n",
      "1011\n",
      "3588\n"
     ]
    }
   ],
   "source": [
    "# Check if the number of \"conditional\" values is the same as the number of rows in df\n",
    "\n",
    "# Count rows where Var2 == 1 and Var19 is not NaN\n",
    "var2_19 = df[(df['Var2'] == 1) & (~df['Var19'].isna())].shape[0]\n",
    "\n",
    "# Count rows where Var2 == 2 and Var 18 is not NaN\n",
    "var2_18 = df[(df['Var2'] == 2) & (~df['Var18'].isna())].shape[0]\n",
    "\n",
    "# Count rows where Var2 == 3\n",
    "var2_3 = df.loc[df[\"Var2\"] == 3].shape[0]\n",
    "\n",
    "# Calculate of sum\n",
    "sum = var2_19 + var2_18 + var2_3\n",
    "\n",
    "print(var2_18)\n",
    "print(var2_19)\n",
    "print(var2_3)\n",
    "print(sum)"
   ]
  },
  {
   "cell_type": "markdown",
   "metadata": {},
   "source": [
    "The number of rows in df is 36718 while the \"conditional\" sum is 36136, meaning that there would be a new category or we would need to add original values from Var2 and the number of categories would increase.\n",
    "\n",
    "Lets try to create this categorical column and see the distribution."
   ]
  },
  {
   "cell_type": "code",
   "execution_count": 58,
   "metadata": {},
   "outputs": [],
   "source": [
    "# Add new column loan_desc\n",
    "df['loan_desc'] = 0\n",
    "\n",
    "# Check conditions\n",
    "df.loc[(df['Var2'] == 1) & (df['Var19'] == 1), 'loan_desc'] = 1\n",
    "df.loc[(df['Var2'] == 1) & (df['Var19'] == 0), 'loan_desc'] = 2\n",
    "df.loc[(df['Var2'] == 2) & (df['Var18'] == 1), 'loan_desc'] = 3\n",
    "df.loc[(df['Var2'] == 2) & (df['Var18'] == 0), 'loan_desc'] = 4\n",
    "df.loc[df['Var2'] == 3, 'loan_desc'] = 5"
   ]
  },
  {
   "cell_type": "code",
   "execution_count": 59,
   "metadata": {},
   "outputs": [
    {
     "data": {
      "text/plain": [
       "1    1183\n",
       "5    1011\n",
       "3     801\n",
       "2     434\n",
       "4     159\n",
       "0      59\n",
       "Name: loan_desc, dtype: int64"
      ]
     },
     "execution_count": 59,
     "metadata": {},
     "output_type": "execute_result"
    }
   ],
   "source": [
    "df['loan_desc'].value_counts(dropna=False)"
   ]
  },
  {
   "cell_type": "markdown",
   "metadata": {},
   "source": [
    "As we can observe above introducing new variables diveded the df into smaller, not very numerous groups. Vast majority of data are concentrated around 1, 5 and 3 group so probably (there was no precise description of variable Var18 and Var19) for:\n",
    "\n",
    " * Car loan for car\n",
    " * House renovation for client's property\n",
    " * Short cash\n",
    "\n",
    "These new two groups (2, 4) and additional 0 constitute a small percentage of all df.\n",
    "\n",
    "Summarizing we decide to go with variable Var2 and delete Var18 and Var19."
   ]
  },
  {
   "cell_type": "code",
   "execution_count": 60,
   "metadata": {},
   "outputs": [
    {
     "data": {
      "text/plain": [
       "(3647, 33)"
      ]
     },
     "execution_count": 60,
     "metadata": {},
     "output_type": "execute_result"
    }
   ],
   "source": [
    "df.shape"
   ]
  },
  {
   "cell_type": "markdown",
   "metadata": {},
   "source": [
    "#### Drop Var18 i Var19"
   ]
  },
  {
   "cell_type": "code",
   "execution_count": 61,
   "metadata": {},
   "outputs": [],
   "source": [
    "# Drop Var18 and Var19 columns\n",
    "df.drop('Var18', axis=1, inplace=True)\n",
    "df.drop('Var19', axis=1, inplace=True)"
   ]
  },
  {
   "cell_type": "code",
   "execution_count": 62,
   "metadata": {},
   "outputs": [],
   "source": [
    "# Update the list of binary columns\n",
    "binary_columns.remove('Var18')\n",
    "binary_columns.remove('Var19')"
   ]
  },
  {
   "cell_type": "markdown",
   "metadata": {},
   "source": [
    "#### Var2 and Var3 - drop NAs"
   ]
  },
  {
   "cell_type": "code",
   "execution_count": 63,
   "metadata": {},
   "outputs": [],
   "source": [
    "# Drop NA rows fof Var2\n",
    "df = df[~df['Var2'].isna()]\n",
    "df = df[~df['Var3'].isna()]"
   ]
  },
  {
   "cell_type": "code",
   "execution_count": 64,
   "metadata": {},
   "outputs": [
    {
     "data": {
      "text/plain": [
       "1.0    1817\n",
       "2.0    1240\n",
       "3.0     489\n",
       "Name: Var3, dtype: int64"
      ]
     },
     "execution_count": 64,
     "metadata": {},
     "output_type": "execute_result"
    }
   ],
   "source": [
    "# sum number of observations for each category in Var3\n",
    "df['Var3'].value_counts(dropna=False)"
   ]
  },
  {
   "cell_type": "code",
   "execution_count": 65,
   "metadata": {},
   "outputs": [
    {
     "data": {
      "text/plain": [
       "working_months    0\n",
       "ID                0\n",
       "customer_id       0\n",
       "_r_               0\n",
       "Var1              0\n",
       "Var4              0\n",
       "Var5              0\n",
       "Var6              0\n",
       "Var7              0\n",
       "Var15             0\n",
       "Var16             0\n",
       "Var17             0\n",
       "Var20             0\n",
       "Var21             0\n",
       "Var22             0\n",
       "Var23             0\n",
       "Var24             0\n",
       "Var25             0\n",
       "Var26             0\n",
       "Var29             0\n",
       "Var30             0\n",
       "Var2              0\n",
       "Var3              0\n",
       "Var11             0\n",
       "Var12             0\n",
       "Var14             0\n",
       "target            0\n",
       "Var27             0\n",
       "Var28             0\n",
       "income            0\n",
       "loan_desc         0\n",
       "dtype: int64"
      ]
     },
     "execution_count": 65,
     "metadata": {},
     "output_type": "execute_result"
    }
   ],
   "source": [
    "df.isna().sum()"
   ]
  },
  {
   "cell_type": "markdown",
   "metadata": {},
   "source": [
    "Summarizing we still have 31 NAs in Var17 which will be filled using KNN"
   ]
  },
  {
   "cell_type": "markdown",
   "metadata": {},
   "source": [
    "### One hot encoding to categorical columns\n",
    "\n",
    "Apply one-hot encoding to the specified categorical nominal variables in the 'sorted_data' DataFrame.\n",
    "The variables identified for this encoding are: Var2, Var3, Var11, Var12, and Var14.\n",
    "One-hot encoding converts these categorical variables into a form that could be provided to ML algorithms\n",
    "to do a better job in prediction. It creates binary columns for each category/value in the original columns\n",
    "and assigns a 1 or 0 (presence or absence) in those newly created binary columns.\n",
    "\n",
    "The 'pd.get_dummies()' function is used here to perform one-hot encoding on the specified columns.\n",
    "It automatically generates new columns for each unique value in the specified categorical columns,\n",
    "effectively transforming them into a format that's suitable for modeling."
   ]
  },
  {
   "cell_type": "code",
   "execution_count": 66,
   "metadata": {},
   "outputs": [
    {
     "data": {
      "text/html": [
       "<div>\n",
       "<style scoped>\n",
       "    .dataframe tbody tr th:only-of-type {\n",
       "        vertical-align: middle;\n",
       "    }\n",
       "\n",
       "    .dataframe tbody tr th {\n",
       "        vertical-align: top;\n",
       "    }\n",
       "\n",
       "    .dataframe thead th {\n",
       "        text-align: right;\n",
       "    }\n",
       "</style>\n",
       "<table border=\"1\" class=\"dataframe\">\n",
       "  <thead>\n",
       "    <tr style=\"text-align: right;\">\n",
       "      <th></th>\n",
       "      <th>working_months</th>\n",
       "      <th>ID</th>\n",
       "      <th>customer_id</th>\n",
       "      <th>_r_</th>\n",
       "      <th>Var1</th>\n",
       "      <th>Var4</th>\n",
       "      <th>Var5</th>\n",
       "      <th>Var6</th>\n",
       "      <th>Var7</th>\n",
       "      <th>Var15</th>\n",
       "      <th>...</th>\n",
       "      <th>Var2</th>\n",
       "      <th>Var3</th>\n",
       "      <th>Var11</th>\n",
       "      <th>Var12</th>\n",
       "      <th>Var14</th>\n",
       "      <th>target</th>\n",
       "      <th>Var27</th>\n",
       "      <th>Var28</th>\n",
       "      <th>income</th>\n",
       "      <th>loan_desc</th>\n",
       "    </tr>\n",
       "  </thead>\n",
       "  <tbody>\n",
       "    <tr>\n",
       "      <th>0</th>\n",
       "      <td>62</td>\n",
       "      <td>36034977</td>\n",
       "      <td>32653719</td>\n",
       "      <td>0.485674</td>\n",
       "      <td>1</td>\n",
       "      <td>4800</td>\n",
       "      <td>15</td>\n",
       "      <td>1</td>\n",
       "      <td>463.31</td>\n",
       "      <td>1</td>\n",
       "      <td>...</td>\n",
       "      <td>3.0</td>\n",
       "      <td>1.0</td>\n",
       "      <td>2</td>\n",
       "      <td>8.0</td>\n",
       "      <td>0</td>\n",
       "      <td>0.0</td>\n",
       "      <td>0</td>\n",
       "      <td>0</td>\n",
       "      <td>4200</td>\n",
       "      <td>5</td>\n",
       "    </tr>\n",
       "    <tr>\n",
       "      <th>1</th>\n",
       "      <td>160</td>\n",
       "      <td>36034978</td>\n",
       "      <td>32832365</td>\n",
       "      <td>0.267045</td>\n",
       "      <td>2</td>\n",
       "      <td>6800</td>\n",
       "      <td>18</td>\n",
       "      <td>6</td>\n",
       "      <td>3170.40</td>\n",
       "      <td>0</td>\n",
       "      <td>...</td>\n",
       "      <td>2.0</td>\n",
       "      <td>1.0</td>\n",
       "      <td>5</td>\n",
       "      <td>6.0</td>\n",
       "      <td>3</td>\n",
       "      <td>0.0</td>\n",
       "      <td>0</td>\n",
       "      <td>0</td>\n",
       "      <td>9580</td>\n",
       "      <td>3</td>\n",
       "    </tr>\n",
       "    <tr>\n",
       "      <th>2</th>\n",
       "      <td>134</td>\n",
       "      <td>36034979</td>\n",
       "      <td>32544742</td>\n",
       "      <td>0.793579</td>\n",
       "      <td>1</td>\n",
       "      <td>4600</td>\n",
       "      <td>18</td>\n",
       "      <td>1</td>\n",
       "      <td>355.36</td>\n",
       "      <td>0</td>\n",
       "      <td>...</td>\n",
       "      <td>3.0</td>\n",
       "      <td>1.0</td>\n",
       "      <td>5</td>\n",
       "      <td>8.0</td>\n",
       "      <td>0</td>\n",
       "      <td>0.0</td>\n",
       "      <td>0</td>\n",
       "      <td>0</td>\n",
       "      <td>4200</td>\n",
       "      <td>5</td>\n",
       "    </tr>\n",
       "    <tr>\n",
       "      <th>4</th>\n",
       "      <td>174</td>\n",
       "      <td>36034981</td>\n",
       "      <td>32592943</td>\n",
       "      <td>0.781269</td>\n",
       "      <td>2</td>\n",
       "      <td>9900</td>\n",
       "      <td>63</td>\n",
       "      <td>3</td>\n",
       "      <td>639.45</td>\n",
       "      <td>0</td>\n",
       "      <td>...</td>\n",
       "      <td>1.0</td>\n",
       "      <td>1.0</td>\n",
       "      <td>4</td>\n",
       "      <td>5.0</td>\n",
       "      <td>1</td>\n",
       "      <td>0.0</td>\n",
       "      <td>0</td>\n",
       "      <td>0</td>\n",
       "      <td>6420</td>\n",
       "      <td>2</td>\n",
       "    </tr>\n",
       "    <tr>\n",
       "      <th>5</th>\n",
       "      <td>196</td>\n",
       "      <td>36034982</td>\n",
       "      <td>32601182</td>\n",
       "      <td>0.861555</td>\n",
       "      <td>2</td>\n",
       "      <td>13700</td>\n",
       "      <td>33</td>\n",
       "      <td>1</td>\n",
       "      <td>562.17</td>\n",
       "      <td>0</td>\n",
       "      <td>...</td>\n",
       "      <td>1.0</td>\n",
       "      <td>1.0</td>\n",
       "      <td>5</td>\n",
       "      <td>5.0</td>\n",
       "      <td>0</td>\n",
       "      <td>0.0</td>\n",
       "      <td>0</td>\n",
       "      <td>0</td>\n",
       "      <td>7240</td>\n",
       "      <td>2</td>\n",
       "    </tr>\n",
       "  </tbody>\n",
       "</table>\n",
       "<p>5 rows × 31 columns</p>\n",
       "</div>"
      ],
      "text/plain": [
       "   working_months        ID  customer_id       _r_  Var1   Var4  Var5  Var6  \\\n",
       "0              62  36034977     32653719  0.485674     1   4800    15     1   \n",
       "1             160  36034978     32832365  0.267045     2   6800    18     6   \n",
       "2             134  36034979     32544742  0.793579     1   4600    18     1   \n",
       "4             174  36034981     32592943  0.781269     2   9900    63     3   \n",
       "5             196  36034982     32601182  0.861555     2  13700    33     1   \n",
       "\n",
       "      Var7  Var15  ...  Var2  Var3  Var11  Var12  Var14  target  Var27  Var28  \\\n",
       "0   463.31      1  ...   3.0   1.0      2    8.0      0     0.0      0      0   \n",
       "1  3170.40      0  ...   2.0   1.0      5    6.0      3     0.0      0      0   \n",
       "2   355.36      0  ...   3.0   1.0      5    8.0      0     0.0      0      0   \n",
       "4   639.45      0  ...   1.0   1.0      4    5.0      1     0.0      0      0   \n",
       "5   562.17      0  ...   1.0   1.0      5    5.0      0     0.0      0      0   \n",
       "\n",
       "   income  loan_desc  \n",
       "0    4200          5  \n",
       "1    9580          3  \n",
       "2    4200          5  \n",
       "4    6420          2  \n",
       "5    7240          2  \n",
       "\n",
       "[5 rows x 31 columns]"
      ]
     },
     "execution_count": 66,
     "metadata": {},
     "output_type": "execute_result"
    }
   ],
   "source": [
    "df.head()"
   ]
  },
  {
   "cell_type": "code",
   "execution_count": 67,
   "metadata": {},
   "outputs": [
    {
     "data": {
      "text/plain": [
       "['Var2', 'Var3', 'Var11', 'Var12', 'Var14']"
      ]
     },
     "execution_count": 67,
     "metadata": {},
     "output_type": "execute_result"
    }
   ],
   "source": [
    "categorical_columns"
   ]
  },
  {
   "cell_type": "code",
   "execution_count": 68,
   "metadata": {},
   "outputs": [
    {
     "data": {
      "text/html": [
       "<div>\n",
       "<style scoped>\n",
       "    .dataframe tbody tr th:only-of-type {\n",
       "        vertical-align: middle;\n",
       "    }\n",
       "\n",
       "    .dataframe tbody tr th {\n",
       "        vertical-align: top;\n",
       "    }\n",
       "\n",
       "    .dataframe thead th {\n",
       "        text-align: right;\n",
       "    }\n",
       "</style>\n",
       "<table border=\"1\" class=\"dataframe\">\n",
       "  <thead>\n",
       "    <tr style=\"text-align: right;\">\n",
       "      <th></th>\n",
       "      <th>working_months</th>\n",
       "      <th>ID</th>\n",
       "      <th>customer_id</th>\n",
       "      <th>_r_</th>\n",
       "      <th>Var1</th>\n",
       "      <th>Var4</th>\n",
       "      <th>Var5</th>\n",
       "      <th>Var6</th>\n",
       "      <th>Var7</th>\n",
       "      <th>Var15</th>\n",
       "      <th>...</th>\n",
       "      <th>Var12_3.0</th>\n",
       "      <th>Var12_4.0</th>\n",
       "      <th>Var12_5.0</th>\n",
       "      <th>Var12_6.0</th>\n",
       "      <th>Var12_7.0</th>\n",
       "      <th>Var12_8.0</th>\n",
       "      <th>Var14_1</th>\n",
       "      <th>Var14_2</th>\n",
       "      <th>Var14_3</th>\n",
       "      <th>Var14_4</th>\n",
       "    </tr>\n",
       "  </thead>\n",
       "  <tbody>\n",
       "    <tr>\n",
       "      <th>0</th>\n",
       "      <td>62</td>\n",
       "      <td>36034977</td>\n",
       "      <td>32653719</td>\n",
       "      <td>0.485674</td>\n",
       "      <td>1</td>\n",
       "      <td>4800</td>\n",
       "      <td>15</td>\n",
       "      <td>1</td>\n",
       "      <td>463.31</td>\n",
       "      <td>1</td>\n",
       "      <td>...</td>\n",
       "      <td>0</td>\n",
       "      <td>0</td>\n",
       "      <td>0</td>\n",
       "      <td>0</td>\n",
       "      <td>0</td>\n",
       "      <td>1</td>\n",
       "      <td>0</td>\n",
       "      <td>0</td>\n",
       "      <td>0</td>\n",
       "      <td>0</td>\n",
       "    </tr>\n",
       "    <tr>\n",
       "      <th>1</th>\n",
       "      <td>160</td>\n",
       "      <td>36034978</td>\n",
       "      <td>32832365</td>\n",
       "      <td>0.267045</td>\n",
       "      <td>2</td>\n",
       "      <td>6800</td>\n",
       "      <td>18</td>\n",
       "      <td>6</td>\n",
       "      <td>3170.40</td>\n",
       "      <td>0</td>\n",
       "      <td>...</td>\n",
       "      <td>0</td>\n",
       "      <td>0</td>\n",
       "      <td>0</td>\n",
       "      <td>1</td>\n",
       "      <td>0</td>\n",
       "      <td>0</td>\n",
       "      <td>0</td>\n",
       "      <td>0</td>\n",
       "      <td>1</td>\n",
       "      <td>0</td>\n",
       "    </tr>\n",
       "    <tr>\n",
       "      <th>2</th>\n",
       "      <td>134</td>\n",
       "      <td>36034979</td>\n",
       "      <td>32544742</td>\n",
       "      <td>0.793579</td>\n",
       "      <td>1</td>\n",
       "      <td>4600</td>\n",
       "      <td>18</td>\n",
       "      <td>1</td>\n",
       "      <td>355.36</td>\n",
       "      <td>0</td>\n",
       "      <td>...</td>\n",
       "      <td>0</td>\n",
       "      <td>0</td>\n",
       "      <td>0</td>\n",
       "      <td>0</td>\n",
       "      <td>0</td>\n",
       "      <td>1</td>\n",
       "      <td>0</td>\n",
       "      <td>0</td>\n",
       "      <td>0</td>\n",
       "      <td>0</td>\n",
       "    </tr>\n",
       "    <tr>\n",
       "      <th>4</th>\n",
       "      <td>174</td>\n",
       "      <td>36034981</td>\n",
       "      <td>32592943</td>\n",
       "      <td>0.781269</td>\n",
       "      <td>2</td>\n",
       "      <td>9900</td>\n",
       "      <td>63</td>\n",
       "      <td>3</td>\n",
       "      <td>639.45</td>\n",
       "      <td>0</td>\n",
       "      <td>...</td>\n",
       "      <td>0</td>\n",
       "      <td>0</td>\n",
       "      <td>1</td>\n",
       "      <td>0</td>\n",
       "      <td>0</td>\n",
       "      <td>0</td>\n",
       "      <td>1</td>\n",
       "      <td>0</td>\n",
       "      <td>0</td>\n",
       "      <td>0</td>\n",
       "    </tr>\n",
       "    <tr>\n",
       "      <th>5</th>\n",
       "      <td>196</td>\n",
       "      <td>36034982</td>\n",
       "      <td>32601182</td>\n",
       "      <td>0.861555</td>\n",
       "      <td>2</td>\n",
       "      <td>13700</td>\n",
       "      <td>33</td>\n",
       "      <td>1</td>\n",
       "      <td>562.17</td>\n",
       "      <td>0</td>\n",
       "      <td>...</td>\n",
       "      <td>0</td>\n",
       "      <td>0</td>\n",
       "      <td>1</td>\n",
       "      <td>0</td>\n",
       "      <td>0</td>\n",
       "      <td>0</td>\n",
       "      <td>0</td>\n",
       "      <td>0</td>\n",
       "      <td>0</td>\n",
       "      <td>0</td>\n",
       "    </tr>\n",
       "  </tbody>\n",
       "</table>\n",
       "<p>5 rows × 47 columns</p>\n",
       "</div>"
      ],
      "text/plain": [
       "   working_months        ID  customer_id       _r_  Var1   Var4  Var5  Var6  \\\n",
       "0              62  36034977     32653719  0.485674     1   4800    15     1   \n",
       "1             160  36034978     32832365  0.267045     2   6800    18     6   \n",
       "2             134  36034979     32544742  0.793579     1   4600    18     1   \n",
       "4             174  36034981     32592943  0.781269     2   9900    63     3   \n",
       "5             196  36034982     32601182  0.861555     2  13700    33     1   \n",
       "\n",
       "      Var7  Var15  ...  Var12_3.0  Var12_4.0  Var12_5.0  Var12_6.0  Var12_7.0  \\\n",
       "0   463.31      1  ...          0          0          0          0          0   \n",
       "1  3170.40      0  ...          0          0          0          1          0   \n",
       "2   355.36      0  ...          0          0          0          0          0   \n",
       "4   639.45      0  ...          0          0          1          0          0   \n",
       "5   562.17      0  ...          0          0          1          0          0   \n",
       "\n",
       "   Var12_8.0  Var14_1  Var14_2  Var14_3  Var14_4  \n",
       "0          1        0        0        0        0  \n",
       "1          0        0        0        1        0  \n",
       "2          1        0        0        0        0  \n",
       "4          0        1        0        0        0  \n",
       "5          0        0        0        0        0  \n",
       "\n",
       "[5 rows x 47 columns]"
      ]
     },
     "execution_count": 68,
     "metadata": {},
     "output_type": "execute_result"
    }
   ],
   "source": [
    "df = pd.get_dummies(df, columns=['Var2', 'Var3', 'Var11', 'Var12', 'Var14'], drop_first=True)\n",
    "\n",
    "# Display the first few rows of the DataFrame to check the results of the encoding.\n",
    "# This step allows us to verify that the one-hot encoding process has successfully transformed the specified\n",
    "# categorical variables into a set of binary variables, each representing a unique category within the original variables.\n",
    "df.head()"
   ]
  },
  {
   "cell_type": "code",
   "execution_count": 69,
   "metadata": {},
   "outputs": [
    {
     "data": {
      "text/plain": [
       "working_months    0\n",
       "ID                0\n",
       "customer_id       0\n",
       "_r_               0\n",
       "Var1              0\n",
       "Var4              0\n",
       "Var5              0\n",
       "Var6              0\n",
       "Var7              0\n",
       "Var15             0\n",
       "Var16             0\n",
       "Var17             0\n",
       "Var20             0\n",
       "Var21             0\n",
       "Var22             0\n",
       "Var23             0\n",
       "Var24             0\n",
       "Var25             0\n",
       "Var26             0\n",
       "Var29             0\n",
       "Var30             0\n",
       "target            0\n",
       "Var27             0\n",
       "Var28             0\n",
       "income            0\n",
       "loan_desc         0\n",
       "Var2_2.0          0\n",
       "Var2_3.0          0\n",
       "Var3_2.0          0\n",
       "Var3_3.0          0\n",
       "Var11_2           0\n",
       "Var11_3           0\n",
       "Var11_4           0\n",
       "Var11_5           0\n",
       "Var11_6           0\n",
       "Var11_7           0\n",
       "Var12_2.0         0\n",
       "Var12_3.0         0\n",
       "Var12_4.0         0\n",
       "Var12_5.0         0\n",
       "Var12_6.0         0\n",
       "Var12_7.0         0\n",
       "Var12_8.0         0\n",
       "Var14_1           0\n",
       "Var14_2           0\n",
       "Var14_3           0\n",
       "Var14_4           0\n",
       "dtype: int64"
      ]
     },
     "execution_count": 69,
     "metadata": {},
     "output_type": "execute_result"
    }
   ],
   "source": [
    "df.isna().sum()"
   ]
  },
  {
   "cell_type": "code",
   "execution_count": 70,
   "metadata": {},
   "outputs": [
    {
     "name": "stdout",
     "output_type": "stream",
     "text": [
      "<class 'pandas.core.frame.DataFrame'>\n",
      "Int64Index: 3546 entries, 0 to 4999\n",
      "Data columns (total 47 columns):\n",
      " #   Column          Non-Null Count  Dtype  \n",
      "---  ------          --------------  -----  \n",
      " 0   working_months  3546 non-null   int32  \n",
      " 1   ID              3546 non-null   int64  \n",
      " 2   customer_id     3546 non-null   int64  \n",
      " 3   _r_             3546 non-null   float64\n",
      " 4   Var1            3546 non-null   int64  \n",
      " 5   Var4            3546 non-null   int64  \n",
      " 6   Var5            3546 non-null   int64  \n",
      " 7   Var6            3546 non-null   int64  \n",
      " 8   Var7            3546 non-null   float64\n",
      " 9   Var15           3546 non-null   int64  \n",
      " 10  Var16           3546 non-null   int64  \n",
      " 11  Var17           3546 non-null   float64\n",
      " 12  Var20           3546 non-null   int64  \n",
      " 13  Var21           3546 non-null   int64  \n",
      " 14  Var22           3546 non-null   int64  \n",
      " 15  Var23           3546 non-null   int64  \n",
      " 16  Var24           3546 non-null   int64  \n",
      " 17  Var25           3546 non-null   float64\n",
      " 18  Var26           3546 non-null   float64\n",
      " 19  Var29           3546 non-null   int64  \n",
      " 20  Var30           3546 non-null   int64  \n",
      " 21  target          3546 non-null   float64\n",
      " 22  Var27           3546 non-null   int64  \n",
      " 23  Var28           3546 non-null   int64  \n",
      " 24  income          3546 non-null   int64  \n",
      " 25  loan_desc       3546 non-null   int64  \n",
      " 26  Var2_2.0        3546 non-null   uint8  \n",
      " 27  Var2_3.0        3546 non-null   uint8  \n",
      " 28  Var3_2.0        3546 non-null   uint8  \n",
      " 29  Var3_3.0        3546 non-null   uint8  \n",
      " 30  Var11_2         3546 non-null   uint8  \n",
      " 31  Var11_3         3546 non-null   uint8  \n",
      " 32  Var11_4         3546 non-null   uint8  \n",
      " 33  Var11_5         3546 non-null   uint8  \n",
      " 34  Var11_6         3546 non-null   uint8  \n",
      " 35  Var11_7         3546 non-null   uint8  \n",
      " 36  Var12_2.0       3546 non-null   uint8  \n",
      " 37  Var12_3.0       3546 non-null   uint8  \n",
      " 38  Var12_4.0       3546 non-null   uint8  \n",
      " 39  Var12_5.0       3546 non-null   uint8  \n",
      " 40  Var12_6.0       3546 non-null   uint8  \n",
      " 41  Var12_7.0       3546 non-null   uint8  \n",
      " 42  Var12_8.0       3546 non-null   uint8  \n",
      " 43  Var14_1         3546 non-null   uint8  \n",
      " 44  Var14_2         3546 non-null   uint8  \n",
      " 45  Var14_3         3546 non-null   uint8  \n",
      " 46  Var14_4         3546 non-null   uint8  \n",
      "dtypes: float64(6), int32(1), int64(19), uint8(21)\n",
      "memory usage: 806.9 KB\n"
     ]
    }
   ],
   "source": [
    "df.info()"
   ]
  },
  {
   "cell_type": "code",
   "execution_count": 71,
   "metadata": {},
   "outputs": [],
   "source": [
    "# change working_months to int32\n",
    "df['working_months'] = df['working_months'].astype('int32')"
   ]
  },
  {
   "cell_type": "code",
   "execution_count": 72,
   "metadata": {},
   "outputs": [
    {
     "name": "stdout",
     "output_type": "stream",
     "text": [
      "<class 'pandas.core.frame.DataFrame'>\n",
      "Int64Index: 3546 entries, 0 to 4999\n",
      "Data columns (total 47 columns):\n",
      " #   Column          Non-Null Count  Dtype  \n",
      "---  ------          --------------  -----  \n",
      " 0   working_months  3546 non-null   float64\n",
      " 1   ID              3546 non-null   int64  \n",
      " 2   customer_id     3546 non-null   int64  \n",
      " 3   _r_             3546 non-null   float64\n",
      " 4   Var1            3546 non-null   int64  \n",
      " 5   Var4            3546 non-null   int64  \n",
      " 6   Var5            3546 non-null   int64  \n",
      " 7   Var6            3546 non-null   int64  \n",
      " 8   Var7            3546 non-null   float64\n",
      " 9   Var15           3546 non-null   int64  \n",
      " 10  Var16           3546 non-null   int64  \n",
      " 11  Var17           3546 non-null   float64\n",
      " 12  Var20           3546 non-null   int64  \n",
      " 13  Var21           3546 non-null   int64  \n",
      " 14  Var22           3546 non-null   int64  \n",
      " 15  Var23           3546 non-null   int64  \n",
      " 16  Var24           3546 non-null   int64  \n",
      " 17  Var25           3546 non-null   float64\n",
      " 18  Var26           3546 non-null   float64\n",
      " 19  Var29           3546 non-null   int64  \n",
      " 20  Var30           3546 non-null   int64  \n",
      " 21  target          3546 non-null   float64\n",
      " 22  Var27           3546 non-null   int64  \n",
      " 23  Var28           3546 non-null   int64  \n",
      " 24  income          3546 non-null   int64  \n",
      " 25  loan_desc       3546 non-null   int64  \n",
      " 26  Var2_2.0        3546 non-null   uint8  \n",
      " 27  Var2_3.0        3546 non-null   uint8  \n",
      " 28  Var3_2.0        3546 non-null   uint8  \n",
      " 29  Var3_3.0        3546 non-null   uint8  \n",
      " 30  Var11_2         3546 non-null   uint8  \n",
      " 31  Var11_3         3546 non-null   uint8  \n",
      " 32  Var11_4         3546 non-null   uint8  \n",
      " 33  Var11_5         3546 non-null   uint8  \n",
      " 34  Var11_6         3546 non-null   uint8  \n",
      " 35  Var11_7         3546 non-null   uint8  \n",
      " 36  Var12_2.0       3546 non-null   uint8  \n",
      " 37  Var12_3.0       3546 non-null   uint8  \n",
      " 38  Var12_4.0       3546 non-null   uint8  \n",
      " 39  Var12_5.0       3546 non-null   uint8  \n",
      " 40  Var12_6.0       3546 non-null   uint8  \n",
      " 41  Var12_7.0       3546 non-null   uint8  \n",
      " 42  Var12_8.0       3546 non-null   uint8  \n",
      " 43  Var14_1         3546 non-null   uint8  \n",
      " 44  Var14_2         3546 non-null   uint8  \n",
      " 45  Var14_3         3546 non-null   uint8  \n",
      " 46  Var14_4         3546 non-null   uint8  \n",
      "dtypes: float64(7), int64(19), uint8(21)\n",
      "memory usage: 820.7 KB\n"
     ]
    }
   ],
   "source": [
    "# Set the seed for reproducibility\n",
    "np.random.seed(123456)\n",
    "\n",
    "# Save the original data types of the DataFrame. This is crucial for restoring the DataFrame's data types\n",
    "# after imputation since KNNImputer will convert the imputed data to float64 by default.\n",
    "original_dtypes = df.dtypes\n",
    "\n",
    "# Initialize the KNNImputer. The default setting uses 5 nearest neighbors to impute missing values,\n",
    "# which is a balance between accuracy and computational efficiency.\n",
    "knn_imputer = KNNImputer()\n",
    "\n",
    "# Replace 0s with NaNs in the 'working_months' column if necessary. This step is preparatory for imputation,\n",
    "# ensuring that 0s, which may signify missing or unrecorded data, are correctly treated as missing values.\n",
    "df['working_months'] = df['working_months'].replace(0, np.nan)\n",
    "\n",
    "# Select only numerical columns from the DataFrame for imputation. KNNImputer works with numerical data,\n",
    "# so identifying these columns is a prerequisite for the imputation process.\n",
    "numerical_cols = df.select_dtypes(include=['int64', 'float64', 'int32']).columns\n",
    "\n",
    "# Perform the imputation using KNN. This process fills in missing values based on the mean of the\n",
    "# nearest neighbors found in the multidimensional space, providing a reasonable estimate for missing data.\n",
    "imputed_data = knn_imputer.fit_transform(df[numerical_cols])\n",
    "\n",
    "# Convert the imputed array back into a DataFrame, preserving the original index. This step ensures that\n",
    "# the imputed data retains the structure and index of the original DataFrame for consistency and ease of analysis.\n",
    "imputed_df = pd.DataFrame(imputed_data, columns=numerical_cols, index=df.index)\n",
    "\n",
    "# Restore the original data types. After imputation, it's important to convert the data back to its\n",
    "# original types for accurate analysis and consistency with the rest of the dataset.\n",
    "for col in numerical_cols:\n",
    "    if original_dtypes[col].kind in 'iu':  # Check if the data type is integer\n",
    "        imputed_df[col] = imputed_df[col].round().astype(original_dtypes[col])\n",
    "    else:  # For floating-point types, retain as is\n",
    "        imputed_df[col] = imputed_df[col].astype(original_dtypes[col])\n",
    "\n",
    "# Update the original 'sorted_data_encoded' DataFrame with the imputed data. This final step integrates\n",
    "# the imputed numerical data back into the main DataFrame, completing the imputation process.\n",
    "df.update(imputed_df)\n",
    "\n",
    "# Display the DataFrame information to check the results of the imputation and data type restoration.\n",
    "# This overview allows for a quick verification that the dataset is now complete with imputed values\n",
    "# and that all columns are of their appropriate data types.\n",
    "df.info()"
   ]
  },
  {
   "cell_type": "markdown",
   "metadata": {},
   "source": [
    "### Final check of df"
   ]
  },
  {
   "cell_type": "code",
   "execution_count": 73,
   "metadata": {},
   "outputs": [
    {
     "data": {
      "text/html": [
       "<div>\n",
       "<style scoped>\n",
       "    .dataframe tbody tr th:only-of-type {\n",
       "        vertical-align: middle;\n",
       "    }\n",
       "\n",
       "    .dataframe tbody tr th {\n",
       "        vertical-align: top;\n",
       "    }\n",
       "\n",
       "    .dataframe thead th {\n",
       "        text-align: right;\n",
       "    }\n",
       "</style>\n",
       "<table border=\"1\" class=\"dataframe\">\n",
       "  <thead>\n",
       "    <tr style=\"text-align: right;\">\n",
       "      <th></th>\n",
       "      <th>working_months</th>\n",
       "      <th>ID</th>\n",
       "      <th>customer_id</th>\n",
       "      <th>_r_</th>\n",
       "      <th>Var1</th>\n",
       "      <th>Var4</th>\n",
       "      <th>Var5</th>\n",
       "      <th>Var6</th>\n",
       "      <th>Var7</th>\n",
       "      <th>Var15</th>\n",
       "      <th>...</th>\n",
       "      <th>Var12_3.0</th>\n",
       "      <th>Var12_4.0</th>\n",
       "      <th>Var12_5.0</th>\n",
       "      <th>Var12_6.0</th>\n",
       "      <th>Var12_7.0</th>\n",
       "      <th>Var12_8.0</th>\n",
       "      <th>Var14_1</th>\n",
       "      <th>Var14_2</th>\n",
       "      <th>Var14_3</th>\n",
       "      <th>Var14_4</th>\n",
       "    </tr>\n",
       "  </thead>\n",
       "  <tbody>\n",
       "    <tr>\n",
       "      <th>0</th>\n",
       "      <td>62.0</td>\n",
       "      <td>36034977</td>\n",
       "      <td>32653719</td>\n",
       "      <td>0.485674</td>\n",
       "      <td>1</td>\n",
       "      <td>4800</td>\n",
       "      <td>15</td>\n",
       "      <td>1</td>\n",
       "      <td>463.31</td>\n",
       "      <td>1</td>\n",
       "      <td>...</td>\n",
       "      <td>0</td>\n",
       "      <td>0</td>\n",
       "      <td>0</td>\n",
       "      <td>0</td>\n",
       "      <td>0</td>\n",
       "      <td>1</td>\n",
       "      <td>0</td>\n",
       "      <td>0</td>\n",
       "      <td>0</td>\n",
       "      <td>0</td>\n",
       "    </tr>\n",
       "    <tr>\n",
       "      <th>1</th>\n",
       "      <td>160.0</td>\n",
       "      <td>36034978</td>\n",
       "      <td>32832365</td>\n",
       "      <td>0.267045</td>\n",
       "      <td>2</td>\n",
       "      <td>6800</td>\n",
       "      <td>18</td>\n",
       "      <td>6</td>\n",
       "      <td>3170.40</td>\n",
       "      <td>0</td>\n",
       "      <td>...</td>\n",
       "      <td>0</td>\n",
       "      <td>0</td>\n",
       "      <td>0</td>\n",
       "      <td>1</td>\n",
       "      <td>0</td>\n",
       "      <td>0</td>\n",
       "      <td>0</td>\n",
       "      <td>0</td>\n",
       "      <td>1</td>\n",
       "      <td>0</td>\n",
       "    </tr>\n",
       "    <tr>\n",
       "      <th>2</th>\n",
       "      <td>134.0</td>\n",
       "      <td>36034979</td>\n",
       "      <td>32544742</td>\n",
       "      <td>0.793579</td>\n",
       "      <td>1</td>\n",
       "      <td>4600</td>\n",
       "      <td>18</td>\n",
       "      <td>1</td>\n",
       "      <td>355.36</td>\n",
       "      <td>0</td>\n",
       "      <td>...</td>\n",
       "      <td>0</td>\n",
       "      <td>0</td>\n",
       "      <td>0</td>\n",
       "      <td>0</td>\n",
       "      <td>0</td>\n",
       "      <td>1</td>\n",
       "      <td>0</td>\n",
       "      <td>0</td>\n",
       "      <td>0</td>\n",
       "      <td>0</td>\n",
       "    </tr>\n",
       "    <tr>\n",
       "      <th>4</th>\n",
       "      <td>174.0</td>\n",
       "      <td>36034981</td>\n",
       "      <td>32592943</td>\n",
       "      <td>0.781269</td>\n",
       "      <td>2</td>\n",
       "      <td>9900</td>\n",
       "      <td>63</td>\n",
       "      <td>3</td>\n",
       "      <td>639.45</td>\n",
       "      <td>0</td>\n",
       "      <td>...</td>\n",
       "      <td>0</td>\n",
       "      <td>0</td>\n",
       "      <td>1</td>\n",
       "      <td>0</td>\n",
       "      <td>0</td>\n",
       "      <td>0</td>\n",
       "      <td>1</td>\n",
       "      <td>0</td>\n",
       "      <td>0</td>\n",
       "      <td>0</td>\n",
       "    </tr>\n",
       "    <tr>\n",
       "      <th>5</th>\n",
       "      <td>196.0</td>\n",
       "      <td>36034982</td>\n",
       "      <td>32601182</td>\n",
       "      <td>0.861555</td>\n",
       "      <td>2</td>\n",
       "      <td>13700</td>\n",
       "      <td>33</td>\n",
       "      <td>1</td>\n",
       "      <td>562.17</td>\n",
       "      <td>0</td>\n",
       "      <td>...</td>\n",
       "      <td>0</td>\n",
       "      <td>0</td>\n",
       "      <td>1</td>\n",
       "      <td>0</td>\n",
       "      <td>0</td>\n",
       "      <td>0</td>\n",
       "      <td>0</td>\n",
       "      <td>0</td>\n",
       "      <td>0</td>\n",
       "      <td>0</td>\n",
       "    </tr>\n",
       "  </tbody>\n",
       "</table>\n",
       "<p>5 rows × 47 columns</p>\n",
       "</div>"
      ],
      "text/plain": [
       "   working_months        ID  customer_id       _r_  Var1   Var4  Var5  Var6  \\\n",
       "0            62.0  36034977     32653719  0.485674     1   4800    15     1   \n",
       "1           160.0  36034978     32832365  0.267045     2   6800    18     6   \n",
       "2           134.0  36034979     32544742  0.793579     1   4600    18     1   \n",
       "4           174.0  36034981     32592943  0.781269     2   9900    63     3   \n",
       "5           196.0  36034982     32601182  0.861555     2  13700    33     1   \n",
       "\n",
       "      Var7  Var15  ...  Var12_3.0  Var12_4.0  Var12_5.0  Var12_6.0  Var12_7.0  \\\n",
       "0   463.31      1  ...          0          0          0          0          0   \n",
       "1  3170.40      0  ...          0          0          0          1          0   \n",
       "2   355.36      0  ...          0          0          0          0          0   \n",
       "4   639.45      0  ...          0          0          1          0          0   \n",
       "5   562.17      0  ...          0          0          1          0          0   \n",
       "\n",
       "   Var12_8.0  Var14_1  Var14_2  Var14_3  Var14_4  \n",
       "0          1        0        0        0        0  \n",
       "1          0        0        0        1        0  \n",
       "2          1        0        0        0        0  \n",
       "4          0        1        0        0        0  \n",
       "5          0        0        0        0        0  \n",
       "\n",
       "[5 rows x 47 columns]"
      ]
     },
     "execution_count": 73,
     "metadata": {},
     "output_type": "execute_result"
    }
   ],
   "source": [
    "df.head()"
   ]
  },
  {
   "cell_type": "code",
   "execution_count": 74,
   "metadata": {},
   "outputs": [
    {
     "data": {
      "text/plain": [
       "working_months    0\n",
       "ID                0\n",
       "customer_id       0\n",
       "_r_               0\n",
       "Var1              0\n",
       "Var4              0\n",
       "Var5              0\n",
       "Var6              0\n",
       "Var7              0\n",
       "Var15             0\n",
       "Var16             0\n",
       "Var17             0\n",
       "Var20             0\n",
       "Var21             0\n",
       "Var22             0\n",
       "Var23             0\n",
       "Var24             0\n",
       "Var25             0\n",
       "Var26             0\n",
       "Var29             0\n",
       "Var30             0\n",
       "target            0\n",
       "Var27             0\n",
       "Var28             0\n",
       "income            0\n",
       "loan_desc         0\n",
       "Var2_2.0          0\n",
       "Var2_3.0          0\n",
       "Var3_2.0          0\n",
       "Var3_3.0          0\n",
       "Var11_2           0\n",
       "Var11_3           0\n",
       "Var11_4           0\n",
       "Var11_5           0\n",
       "Var11_6           0\n",
       "Var11_7           0\n",
       "Var12_2.0         0\n",
       "Var12_3.0         0\n",
       "Var12_4.0         0\n",
       "Var12_5.0         0\n",
       "Var12_6.0         0\n",
       "Var12_7.0         0\n",
       "Var12_8.0         0\n",
       "Var14_1           0\n",
       "Var14_2           0\n",
       "Var14_3           0\n",
       "Var14_4           0\n",
       "dtype: int64"
      ]
     },
     "execution_count": 74,
     "metadata": {},
     "output_type": "execute_result"
    }
   ],
   "source": [
    "df.isna().sum()"
   ]
  },
  {
   "cell_type": "code",
   "execution_count": 75,
   "metadata": {},
   "outputs": [
    {
     "name": "stdout",
     "output_type": "stream",
     "text": [
      "<class 'pandas.core.frame.DataFrame'>\n",
      "Int64Index: 3546 entries, 0 to 4999\n",
      "Data columns (total 47 columns):\n",
      " #   Column          Non-Null Count  Dtype  \n",
      "---  ------          --------------  -----  \n",
      " 0   working_months  3546 non-null   float64\n",
      " 1   ID              3546 non-null   int64  \n",
      " 2   customer_id     3546 non-null   int64  \n",
      " 3   _r_             3546 non-null   float64\n",
      " 4   Var1            3546 non-null   int64  \n",
      " 5   Var4            3546 non-null   int64  \n",
      " 6   Var5            3546 non-null   int64  \n",
      " 7   Var6            3546 non-null   int64  \n",
      " 8   Var7            3546 non-null   float64\n",
      " 9   Var15           3546 non-null   int64  \n",
      " 10  Var16           3546 non-null   int64  \n",
      " 11  Var17           3546 non-null   float64\n",
      " 12  Var20           3546 non-null   int64  \n",
      " 13  Var21           3546 non-null   int64  \n",
      " 14  Var22           3546 non-null   int64  \n",
      " 15  Var23           3546 non-null   int64  \n",
      " 16  Var24           3546 non-null   int64  \n",
      " 17  Var25           3546 non-null   float64\n",
      " 18  Var26           3546 non-null   float64\n",
      " 19  Var29           3546 non-null   int64  \n",
      " 20  Var30           3546 non-null   int64  \n",
      " 21  target          3546 non-null   float64\n",
      " 22  Var27           3546 non-null   int64  \n",
      " 23  Var28           3546 non-null   int64  \n",
      " 24  income          3546 non-null   int64  \n",
      " 25  loan_desc       3546 non-null   int64  \n",
      " 26  Var2_2.0        3546 non-null   uint8  \n",
      " 27  Var2_3.0        3546 non-null   uint8  \n",
      " 28  Var3_2.0        3546 non-null   uint8  \n",
      " 29  Var3_3.0        3546 non-null   uint8  \n",
      " 30  Var11_2         3546 non-null   uint8  \n",
      " 31  Var11_3         3546 non-null   uint8  \n",
      " 32  Var11_4         3546 non-null   uint8  \n",
      " 33  Var11_5         3546 non-null   uint8  \n",
      " 34  Var11_6         3546 non-null   uint8  \n",
      " 35  Var11_7         3546 non-null   uint8  \n",
      " 36  Var12_2.0       3546 non-null   uint8  \n",
      " 37  Var12_3.0       3546 non-null   uint8  \n",
      " 38  Var12_4.0       3546 non-null   uint8  \n",
      " 39  Var12_5.0       3546 non-null   uint8  \n",
      " 40  Var12_6.0       3546 non-null   uint8  \n",
      " 41  Var12_7.0       3546 non-null   uint8  \n",
      " 42  Var12_8.0       3546 non-null   uint8  \n",
      " 43  Var14_1         3546 non-null   uint8  \n",
      " 44  Var14_2         3546 non-null   uint8  \n",
      " 45  Var14_3         3546 non-null   uint8  \n",
      " 46  Var14_4         3546 non-null   uint8  \n",
      "dtypes: float64(7), int64(19), uint8(21)\n",
      "memory usage: 820.7 KB\n"
     ]
    }
   ],
   "source": [
    "df.info()"
   ]
  },
  {
   "cell_type": "markdown",
   "metadata": {},
   "source": [
    "#### Write df as csv"
   ]
  },
  {
   "cell_type": "code",
   "execution_count": 76,
   "metadata": {},
   "outputs": [],
   "source": [
    "df = df.drop('loan_desc', axis=1)"
   ]
  },
  {
   "cell_type": "code",
   "execution_count": 77,
   "metadata": {},
   "outputs": [],
   "source": [
    "# Załóżmy, że mamy DataFrame df z kolumnami, w tym 'income' i 'target'\n",
    "\n",
    "# Pobierz listę kolumn, wyjąwszy 'income', którą będziemy przesuwać\n",
    "cols = [col for col in df.columns if col != 'income']\n",
    "\n",
    "# Znajdź indeks kolumny 'target'\n",
    "target_index = cols.index('target')\n",
    "\n",
    "# Wstaw 'income' bezpośrednio przed 'target'\n",
    "cols.insert(target_index, 'income')\n",
    "\n",
    "# Zastosuj nową kolejność kolumn\n",
    "df = df[cols]"
   ]
  },
  {
   "cell_type": "code",
   "execution_count": 78,
   "metadata": {},
   "outputs": [],
   "source": [
    "df.to_csv('../data/output/testing_sample_cleaned.csv', index = False)  # Save the cleaned data to a new CSV file"
   ]
  }
 ],
 "metadata": {
  "kernelspec": {
   "display_name": "Python 3",
   "language": "python",
   "name": "python3"
  },
  "language_info": {
   "codemirror_mode": {
    "name": "ipython",
    "version": 3
   },
   "file_extension": ".py",
   "mimetype": "text/x-python",
   "name": "python",
   "nbconvert_exporter": "python",
   "pygments_lexer": "ipython3",
   "version": "3.11.2"
  }
 },
 "nbformat": 4,
 "nbformat_minor": 2
}
