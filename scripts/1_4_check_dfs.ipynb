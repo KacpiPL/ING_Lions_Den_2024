{
 "cells": [
  {
   "cell_type": "markdown",
   "metadata": {},
   "source": [
    "# ING Lion's Den 2024\n"
   ]
  },
  {
   "cell_type": "markdown",
   "metadata": {},
   "source": [
    "## Team: RiskBusters"
   ]
  },
  {
   "cell_type": "markdown",
   "metadata": {},
   "source": [
    "Michał Bryzik, Michał Niegierewicz, Kacper Gruca, Jan Ślusarek"
   ]
  },
  {
   "cell_type": "code",
   "execution_count": 61,
   "metadata": {},
   "outputs": [],
   "source": [
    "import pandas as pd\n",
    "import numpy as np"
   ]
  },
  {
   "cell_type": "code",
   "execution_count": 62,
   "metadata": {},
   "outputs": [],
   "source": [
    "df_categorical_train = pd.read_csv('../data/output/categorical_dfs/development_sample_cleaned_categorical.csv')\n",
    "df_categorical_test = pd.read_csv('../data/output/categorical_dfs/testing_sample_cleaned_categorical.csv')\n",
    "\n",
    "df_countinuous_train = pd.read_csv('../data/output/countinuous_dfs/development_sample_cleaned_continuous.csv')\n",
    "df_countinuous_test = pd.read_csv('../data/output/countinuous_dfs/testing_sample_cleaned_continuous.csv')\n",
    "\n",
    "df_woe_train = pd.read_csv('../data/output/categorical_dfs/development_sample_woe.csv')\n",
    "df_woe_test = pd.read_csv('../data/output/categorical_dfs/testing_sample_woe.csv')"
   ]
  },
  {
   "cell_type": "code",
   "execution_count": 63,
   "metadata": {},
   "outputs": [
    {
     "name": "stdout",
     "output_type": "stream",
     "text": [
      "(35700, 33)\n",
      "(3546, 33)\n",
      "(35700, 47)\n",
      "(3546, 47)\n",
      "(35700, 19)\n",
      "(3546, 19)\n"
     ]
    }
   ],
   "source": [
    "# check shape of the dataframes\n",
    "print(df_categorical_train.shape)\n",
    "print(df_categorical_test.shape)\n",
    "print(df_countinuous_train.shape)\n",
    "print(df_countinuous_test.shape)\n",
    "print(df_woe_train.shape)\n",
    "print(df_woe_test.shape)"
   ]
  },
  {
   "cell_type": "code",
   "execution_count": 64,
   "metadata": {},
   "outputs": [
    {
     "data": {
      "text/plain": [
       "33"
      ]
     },
     "execution_count": 64,
     "metadata": {},
     "output_type": "execute_result"
    }
   ],
   "source": [
    "df_categorical_train.shape[1]"
   ]
  },
  {
   "cell_type": "code",
   "execution_count": 65,
   "metadata": {},
   "outputs": [],
   "source": [
    "def check_number_of_columns(df1, df2):\n",
    "    if df1.shape[1] != df2.shape[1]:\n",
    "        print('The number of columns in the dataframes are not the same')\n",
    "    else:\n",
    "        print('OK')\n",
    "\n",
    "def check_number_of_rows(df1, df2):\n",
    "    if df1.shape[0] != df2.shape[0]:\n",
    "        print('The number of rows in the dataframes are not the same')\n",
    "    else:\n",
    "        print('OK')"
   ]
  },
  {
   "cell_type": "code",
   "execution_count": 66,
   "metadata": {},
   "outputs": [
    {
     "name": "stdout",
     "output_type": "stream",
     "text": [
      "OK\n",
      "OK\n",
      "OK\n",
      "OK\n"
     ]
    }
   ],
   "source": [
    "check_number_of_columns(df_categorical_train, df_categorical_test)\n",
    "check_number_of_columns(df_countinuous_train, df_countinuous_test)\n",
    "\n",
    "check_number_of_rows(df_categorical_train, df_countinuous_train)\n",
    "check_number_of_rows(df_categorical_test, df_countinuous_test)"
   ]
  },
  {
   "cell_type": "code",
   "execution_count": 67,
   "metadata": {},
   "outputs": [
    {
     "ename": "NameError",
     "evalue": "name 'df_woe' is not defined",
     "output_type": "error",
     "traceback": [
      "\u001b[0;31m---------------------------------------------------------------------------\u001b[0m",
      "\u001b[0;31mNameError\u001b[0m                                 Traceback (most recent call last)",
      "Cell \u001b[0;32mIn[67], line 1\u001b[0m\n\u001b[0;32m----> 1\u001b[0m list_of_dfs \u001b[38;5;241m=\u001b[39m [df_categorical_train, df_categorical_test, df_countinuous_train, df_countinuous_test, \u001b[43mdf_woe\u001b[49m]\n\u001b[1;32m      3\u001b[0m \u001b[38;5;28;01mfor\u001b[39;00m df \u001b[38;5;129;01min\u001b[39;00m list_of_dfs:\n\u001b[1;32m      4\u001b[0m     \u001b[38;5;28mprint\u001b[39m(df\u001b[38;5;241m.\u001b[39misnull()\u001b[38;5;241m.\u001b[39mvalues\u001b[38;5;241m.\u001b[39many())\n",
      "\u001b[0;31mNameError\u001b[0m: name 'df_woe' is not defined"
     ]
    }
   ],
   "source": [
    "list_of_dfs = [df_categorical_train, df_categorical_test, df_countinuous_train, df_countinuous_test, df_woe]\n",
    "\n",
    "for df in list_of_dfs:\n",
    "    print(df.isnull().values.any())\n",
    "    print(df.isin([np.inf, -np.inf]).values.any())\n",
    "    print('\\n')"
   ]
  },
  {
   "cell_type": "code",
   "execution_count": 68,
   "metadata": {},
   "outputs": [],
   "source": [
    "# count how many rows has inf values in the columns\n",
    "def check_inf(df):\n",
    "    for col in df.columns:\n",
    "        sum_of_infs = df[col].isin([np.inf, -np.inf]).values.sum()\n",
    "        if sum_of_infs > 0:\n",
    "            print(col, sum_of_infs)"
   ]
  },
  {
   "cell_type": "code",
   "execution_count": 69,
   "metadata": {},
   "outputs": [],
   "source": [
    "check_inf(df_categorical_train)\n",
    "check_inf(df_categorical_test)"
   ]
  },
  {
   "cell_type": "code",
   "execution_count": 70,
   "metadata": {},
   "outputs": [
    {
     "name": "stdout",
     "output_type": "stream",
     "text": [
      "ii_ratio 325\n",
      "ii_ratio 26\n"
     ]
    }
   ],
   "source": [
    "check_inf(df_countinuous_train)\n",
    "check_inf(df_countinuous_test)"
   ]
  },
  {
   "cell_type": "code",
   "execution_count": 71,
   "metadata": {},
   "outputs": [],
   "source": [
    "check_inf(df_woe_train)\n",
    "check_inf(df_woe_test)"
   ]
  }
 ],
 "metadata": {
  "kernelspec": {
   "display_name": "Python 3",
   "language": "python",
   "name": "python3"
  },
  "language_info": {
   "codemirror_mode": {
    "name": "ipython",
    "version": 3
   },
   "file_extension": ".py",
   "mimetype": "text/x-python",
   "name": "python",
   "nbconvert_exporter": "python",
   "pygments_lexer": "ipython3",
   "version": "3.11.2"
  }
 },
 "nbformat": 4,
 "nbformat_minor": 2
}
