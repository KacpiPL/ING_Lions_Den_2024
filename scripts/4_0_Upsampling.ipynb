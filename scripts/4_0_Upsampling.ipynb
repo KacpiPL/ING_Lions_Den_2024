{
 "cells": [
  {
   "cell_type": "code",
   "execution_count": null,
   "metadata": {},
   "outputs": [],
   "source": [
    "import pandas as pd\n",
    "import numpy as np\n",
    "import matplotlib.pyplot as plt\n",
    "import seaborn as sns\n",
    "from sklearn.preprocessing import StandardScaler, MinMaxScaler, RobustScaler\n",
    "from sklearn.linear_model import LogisticRegression\n",
    "from sklearn.metrics import accuracy_score, precision_score, recall_score, f1_score, classification_report, confusion_matrix, make_scorer, fbeta_score\n",
    "from sklearn.utils import resample\n",
    "from sklearn.model_selection import train_test_split, GridSearchCV\n",
    "from sklearn.feature_selection import RFE\n",
    "from imblearn.over_sampling import SMOTE, RandomOverSampler, ADASYN\n"
   ]
  },
  {
   "cell_type": "code",
   "execution_count": null,
   "metadata": {},
   "outputs": [],
   "source": [
    "df_train=pd.read_csv('../data/output/development_sample_cleaned_1.csv')\n",
    "df_test=pd.read_csv('../data/output/testing_sample_cleaned.csv')"
   ]
  },
  {
   "cell_type": "code",
   "execution_count": null,
   "metadata": {},
   "outputs": [],
   "source": [
    "df_train = df_train.drop(['ID', 'customer_id'], axis=1)\n",
    "df_test = df_test.drop(['ID', 'customer_id'], axis=1)"
   ]
  },
  {
   "cell_type": "code",
   "execution_count": null,
   "metadata": {},
   "outputs": [],
   "source": [
    "# Separate features and target variable\n",
    "X = df_train.drop('target', axis=1)\n",
    "y = df_train['target']\n"
   ]
  },
  {
   "cell_type": "code",
   "execution_count": null,
   "metadata": {},
   "outputs": [],
   "source": [
    "oversamplers = {\n",
    "    'SMOTE': SMOTE(random_state=123),\n",
    "    'RandomOverSampler': RandomOverSampler(random_state=123),\n",
    "    'ADASYN': ADASYN(random_state=123)\n",
    "}\n",
    "\n",
    "# Define the parameters for GridSearchCV\n",
    "param_grid = {\n",
    "    'C': [0.8, 1, 1.2],\n",
    "    'penalty': ['l1', 'l2'],\n",
    "    'solver': ['liblinear', 'saga']\n",
    "}"
   ]
  },
  {
   "cell_type": "code",
   "execution_count": null,
   "metadata": {},
   "outputs": [],
   "source": [
    "f05_scorer = make_scorer(fbeta_score, beta=0.5)\n"
   ]
  },
  {
   "cell_type": "code",
   "execution_count": null,
   "metadata": {},
   "outputs": [],
   "source": [
    "log_reg = LogisticRegression(random_state=123, max_iter=1000)  # Increase max_iter\n",
    "\n",
    "# Create a dictionary to store results for each oversampler\n",
    "results_dict = {}\n",
    "scaler = StandardScaler()\n",
    "X_train, X_test, y_train, y_test = train_test_split(X, y, test_size=0.3, random_state=42)\n",
    "\n",
    "X_train_scaled = scaler.fit_transform(X_train)\n",
    "X_test_scaled = scaler.transform(X_test)\n",
    "for name, oversampler in oversamplers.items():\n",
    "    # Upsample the minority class using the current oversampler\n",
    "    X_resampled, y_resampled = oversampler.fit_resample(X_train_scaled, y_train)\n",
    "\n",
    "    # Initialize GridSearchCV with verbose for detailed progress\n",
    "    grid_search = GridSearchCV(log_reg, param_grid, cv=3, scoring=f1_score, n_jobs=-1, verbose=4)\n",
    "\n",
    "    # Fit GridSearchCV on the training data\n",
    "    grid_search.fit(X_resampled, y_resampled)\n",
    "\n",
    "    # Get the best parameters\n",
    "    best_params = grid_search.best_params_\n",
    "    print(f\"\\nBest Parameters for {name}:\", best_params)\n",
    "\n",
    "    # Store results in dictionary\n",
    "    results = pd.DataFrame(grid_search.cv_results_)\n",
    "    cols_to_keep = ['param_C', 'param_penalty', 'param_solver', 'mean_test_score', 'std_test_score']\n",
    "    results_table = results[cols_to_keep].sort_values(by='mean_test_score', ascending=False)\n",
    "    results_dict[name] = results_table\n",
    "\n",
    "    # Get the best performing model\n",
    "    best_log_reg = LogisticRegression(**best_params, random_state=123, max_iter=1000)  # Increase max_iter\n",
    "    best_log_reg.fit(X_resampled, y_resampled)\n",
    "\n",
    "    # Make predictions on the test set\n",
    "    y_pred = best_log_reg.predict(X_test_scaled)    \n",
    "\n",
    "    # Print the table for the current oversampler\n",
    "    print(f\"\\nModel Specifications and Validation F05-score for {name}:\")\n",
    "    print(results_table)\n",
    "\n",
    "    # Print classification report\n",
    "    print(\"\\nClassification Report:\")\n",
    "    print(classification_report(y_test, y_pred))\n",
    "\n",
    "    cm = confusion_matrix(y_test, y_pred)\n",
    "    plt.figure(figsize=(8, 6))\n",
    "    sns.heatmap(cm, annot=True, fmt='d', cmap='Blues')\n",
    "    plt.xlabel('Predicted labels')\n",
    "    plt.ylabel('True labels')\n",
    "    plt.title('Confusion Matrix')\n",
    "    plt.show()\n",
    "# Combine results for all oversamplers into a single table\n",
    "combined_results = pd.concat(results_dict, axis=1)\n",
    "\n",
    "# Print the combined results\n",
    "print(\"\\nCombined Results for all Oversamplers:\")\n",
    "print(combined_results)\n"
   ]
  }
 ],
 "metadata": {
  "kernelspec": {
   "display_name": "Python 3",
   "language": "python",
   "name": "python3"
  },
  "language_info": {
   "name": "python",
   "version": "3.11.0"
  }
 },
 "nbformat": 4,
 "nbformat_minor": 2
}
