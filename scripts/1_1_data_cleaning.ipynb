{
 "cells": [
  {
   "cell_type": "markdown",
   "metadata": {},
   "source": [
    "# ING Lion's Den 2024\n"
   ]
  },
  {
   "cell_type": "markdown",
   "metadata": {},
   "source": [
    "## Team: RiskBusters"
   ]
  },
  {
   "cell_type": "markdown",
   "metadata": {},
   "source": [
    " Michał Bryzik, Michał Niegierewicz, Kacper Gruca, Jan Ślusarek"
   ]
  },
  {
   "cell_type": "markdown",
   "metadata": {},
   "source": [
    "Plan dzialania: (Jbc to kazdy podaje tu swoje propozycje, jak sie kto z czym np. niezgadza niech napisze w nawiasie)\n",
    "\n",
    "1. Wczytac dane i szybko je opisac liczebnosc nulle itd. \n",
    "2. Ja bym tutaj posortowal zmienne w macierzy tzn. kolumna 1-16 numeryczne a od 17-do konca binarne\n",
    "3. Wlasciwe czyszczenie danych, elminacja, aproksymacja, asocjacja itd.\n",
    "4. Statystyki opisowe, wykresy (rozklady, heatmapy, boxploty itd. )\n",
    "5. Transformacja danych MinMax, standaryzacja itd. (ogolnie manipulacja tak zeby w razie czego logit byl jak najbardziej dojebany)\n",
    "6. Trenowanie Logita\n",
    "7. Wybor najlepszego i sprawdzenie z zalozeniami "
   ]
  },
  {
   "cell_type": "code",
   "execution_count": 1,
   "metadata": {},
   "outputs": [],
   "source": [
    "# Import necessary libraries\n",
    "import pandas as pd\n",
    "import numpy as np\n",
    "import matplotlib.pyplot as plt\n",
    "import seaborn as sns\n",
    "from sklearn.impute import KNNImputer"
   ]
  },
  {
   "cell_type": "code",
   "execution_count": 2,
   "metadata": {},
   "outputs": [
    {
     "data": {
      "text/html": [
       "<div>\n",
       "<style scoped>\n",
       "    .dataframe tbody tr th:only-of-type {\n",
       "        vertical-align: middle;\n",
       "    }\n",
       "\n",
       "    .dataframe tbody tr th {\n",
       "        vertical-align: top;\n",
       "    }\n",
       "\n",
       "    .dataframe thead th {\n",
       "        text-align: right;\n",
       "    }\n",
       "</style>\n",
       "<table border=\"1\" class=\"dataframe\">\n",
       "  <thead>\n",
       "    <tr style=\"text-align: right;\">\n",
       "      <th></th>\n",
       "      <th>ID</th>\n",
       "      <th>customer_id</th>\n",
       "      <th>application_date</th>\n",
       "      <th>target</th>\n",
       "      <th>Application_status</th>\n",
       "      <th>Var1</th>\n",
       "      <th>Var2</th>\n",
       "      <th>Var3</th>\n",
       "      <th>Var4</th>\n",
       "      <th>Var5</th>\n",
       "      <th>...</th>\n",
       "      <th>Var22</th>\n",
       "      <th>Var23</th>\n",
       "      <th>Var24</th>\n",
       "      <th>Var25</th>\n",
       "      <th>Var26</th>\n",
       "      <th>Var27</th>\n",
       "      <th>Var28</th>\n",
       "      <th>Var29</th>\n",
       "      <th>Var30</th>\n",
       "      <th>_r_</th>\n",
       "    </tr>\n",
       "  </thead>\n",
       "  <tbody>\n",
       "    <tr>\n",
       "      <th>0</th>\n",
       "      <td>11034977</td>\n",
       "      <td>32537148</td>\n",
       "      <td>01Feb2010 0:00:00</td>\n",
       "      <td>0.0</td>\n",
       "      <td>Approved</td>\n",
       "      <td>1</td>\n",
       "      <td>2.0</td>\n",
       "      <td>1</td>\n",
       "      <td>7800</td>\n",
       "      <td>99</td>\n",
       "      <td>...</td>\n",
       "      <td>1</td>\n",
       "      <td>1</td>\n",
       "      <td>0</td>\n",
       "      <td>6768.42</td>\n",
       "      <td>0.00</td>\n",
       "      <td>0</td>\n",
       "      <td>0</td>\n",
       "      <td>0</td>\n",
       "      <td>3899</td>\n",
       "      <td>0.267045</td>\n",
       "    </tr>\n",
       "    <tr>\n",
       "      <th>1</th>\n",
       "      <td>11034978</td>\n",
       "      <td>32761663</td>\n",
       "      <td>01Feb2010 0:00:00</td>\n",
       "      <td>0.0</td>\n",
       "      <td>Approved</td>\n",
       "      <td>1</td>\n",
       "      <td>1.0</td>\n",
       "      <td>2</td>\n",
       "      <td>11100</td>\n",
       "      <td>78</td>\n",
       "      <td>...</td>\n",
       "      <td>0</td>\n",
       "      <td>0</td>\n",
       "      <td>15000</td>\n",
       "      <td>5937.66</td>\n",
       "      <td>3870.60</td>\n",
       "      <td>0</td>\n",
       "      <td>0</td>\n",
       "      <td>0</td>\n",
       "      <td>3899</td>\n",
       "      <td>0.533040</td>\n",
       "    </tr>\n",
       "    <tr>\n",
       "      <th>2</th>\n",
       "      <td>11034979</td>\n",
       "      <td>32701063</td>\n",
       "      <td>01Feb2010 0:00:00</td>\n",
       "      <td>0.0</td>\n",
       "      <td>Approved</td>\n",
       "      <td>2</td>\n",
       "      <td>3.0</td>\n",
       "      <td>1</td>\n",
       "      <td>2400</td>\n",
       "      <td>15</td>\n",
       "      <td>...</td>\n",
       "      <td>2</td>\n",
       "      <td>2</td>\n",
       "      <td>0</td>\n",
       "      <td>5647.77</td>\n",
       "      <td>1463.08</td>\n",
       "      <td>0</td>\n",
       "      <td>0</td>\n",
       "      <td>10</td>\n",
       "      <td>3899</td>\n",
       "      <td>0.861555</td>\n",
       "    </tr>\n",
       "    <tr>\n",
       "      <th>3</th>\n",
       "      <td>11034980</td>\n",
       "      <td>32386786</td>\n",
       "      <td>01Feb2010 0:00:00</td>\n",
       "      <td>0.0</td>\n",
       "      <td>Approved</td>\n",
       "      <td>3</td>\n",
       "      <td>1.0</td>\n",
       "      <td>2</td>\n",
       "      <td>11800</td>\n",
       "      <td>30</td>\n",
       "      <td>...</td>\n",
       "      <td>0</td>\n",
       "      <td>0</td>\n",
       "      <td>0</td>\n",
       "      <td>3594.90</td>\n",
       "      <td>21563.78</td>\n",
       "      <td>0</td>\n",
       "      <td>0</td>\n",
       "      <td>10</td>\n",
       "      <td>3899</td>\n",
       "      <td>0.506451</td>\n",
       "    </tr>\n",
       "    <tr>\n",
       "      <th>4</th>\n",
       "      <td>11034981</td>\n",
       "      <td>32692110</td>\n",
       "      <td>02Feb2010 0:00:00</td>\n",
       "      <td>NaN</td>\n",
       "      <td>Rejected</td>\n",
       "      <td>1</td>\n",
       "      <td>2.0</td>\n",
       "      <td>1</td>\n",
       "      <td>10200</td>\n",
       "      <td>72</td>\n",
       "      <td>...</td>\n",
       "      <td>2</td>\n",
       "      <td>2</td>\n",
       "      <td>0</td>\n",
       "      <td>9908.45</td>\n",
       "      <td>0.00</td>\n",
       "      <td>0</td>\n",
       "      <td>0</td>\n",
       "      <td>20</td>\n",
       "      <td>3899</td>\n",
       "      <td>0.210913</td>\n",
       "    </tr>\n",
       "  </tbody>\n",
       "</table>\n",
       "<p>5 rows × 36 columns</p>\n",
       "</div>"
      ],
      "text/plain": [
       "         ID  customer_id   application_date  target Application_status  Var1  \\\n",
       "0  11034977     32537148  01Feb2010 0:00:00     0.0           Approved     1   \n",
       "1  11034978     32761663  01Feb2010 0:00:00     0.0           Approved     1   \n",
       "2  11034979     32701063  01Feb2010 0:00:00     0.0           Approved     2   \n",
       "3  11034980     32386786  01Feb2010 0:00:00     0.0           Approved     3   \n",
       "4  11034981     32692110  02Feb2010 0:00:00     NaN           Rejected     1   \n",
       "\n",
       "   Var2 Var3   Var4  Var5  ...  Var22  Var23  Var24    Var25     Var26  Var27  \\\n",
       "0   2.0    1   7800    99  ...      1      1      0  6768.42      0.00      0   \n",
       "1   1.0    2  11100    78  ...      0      0  15000  5937.66   3870.60      0   \n",
       "2   3.0    1   2400    15  ...      2      2      0  5647.77   1463.08      0   \n",
       "3   1.0    2  11800    30  ...      0      0      0  3594.90  21563.78      0   \n",
       "4   2.0    1  10200    72  ...      2      2      0  9908.45      0.00      0   \n",
       "\n",
       "   Var28 Var29  Var30       _r_  \n",
       "0      0     0   3899  0.267045  \n",
       "1      0     0   3899  0.533040  \n",
       "2      0    10   3899  0.861555  \n",
       "3      0    10   3899  0.506451  \n",
       "4      0    20   3899  0.210913  \n",
       "\n",
       "[5 rows x 36 columns]"
      ]
     },
     "execution_count": 2,
     "metadata": {},
     "output_type": "execute_result"
    }
   ],
   "source": [
    "data=pd.read_csv('../data/input/development_sample.csv') \n",
    "data.head() "
   ]
  },
  {
   "cell_type": "code",
   "execution_count": 3,
   "metadata": {},
   "outputs": [
    {
     "data": {
      "text/plain": [
       "(50000, 36)"
      ]
     },
     "execution_count": 3,
     "metadata": {},
     "output_type": "execute_result"
    }
   ],
   "source": [
    "data.shape "
   ]
  },
  {
   "cell_type": "code",
   "execution_count": 4,
   "metadata": {},
   "outputs": [
    {
     "data": {
      "text/plain": [
       "ID                        0\n",
       "customer_id               0\n",
       "application_date          0\n",
       "target                13282\n",
       "Application_status        0\n",
       "Var1                      0\n",
       "Var2                   1403\n",
       "Var3                   1403\n",
       "Var4                      0\n",
       "Var5                      0\n",
       "Var6                      0\n",
       "Var7                      0\n",
       "Var8                  29173\n",
       "Var9                      0\n",
       "Var10                 37538\n",
       "Var11                     0\n",
       "Var12                 37538\n",
       "Var13                     0\n",
       "Var14                     0\n",
       "Var15                     0\n",
       "Var16                     0\n",
       "Var17                    40\n",
       "Var18                 37416\n",
       "Var19                 29173\n",
       "Var20                     0\n",
       "Var21                     0\n",
       "Var22                     0\n",
       "Var23                     0\n",
       "Var24                     0\n",
       "Var25                 10088\n",
       "Var26                 19883\n",
       "Var27                     0\n",
       "Var28                     0\n",
       "Var29                     0\n",
       "Var30                     0\n",
       "_r_                       0\n",
       "dtype: int64"
      ]
     },
     "execution_count": 4,
     "metadata": {},
     "output_type": "execute_result"
    }
   ],
   "source": [
    "data.isnull().sum() "
   ]
  },
  {
   "cell_type": "code",
   "execution_count": 5,
   "metadata": {},
   "outputs": [
    {
     "name": "stdout",
     "output_type": "stream",
     "text": [
      "<class 'pandas.core.frame.DataFrame'>\n",
      "RangeIndex: 50000 entries, 0 to 49999\n",
      "Data columns (total 36 columns):\n",
      " #   Column              Non-Null Count  Dtype  \n",
      "---  ------              --------------  -----  \n",
      " 0   ID                  50000 non-null  int64  \n",
      " 1   customer_id         50000 non-null  int64  \n",
      " 2   application_date    50000 non-null  object \n",
      " 3   target              36718 non-null  float64\n",
      " 4   Application_status  50000 non-null  object \n",
      " 5   Var1                50000 non-null  int64  \n",
      " 6   Var2                48597 non-null  float64\n",
      " 7   Var3                48597 non-null  object \n",
      " 8   Var4                50000 non-null  int64  \n",
      " 9   Var5                50000 non-null  int64  \n",
      " 10  Var6                50000 non-null  int64  \n",
      " 11  Var7                50000 non-null  float64\n",
      " 12  Var8                20827 non-null  float64\n",
      " 13  Var9                50000 non-null  int64  \n",
      " 14  Var10               12462 non-null  float64\n",
      " 15  Var11               50000 non-null  int64  \n",
      " 16  Var12               12462 non-null  float64\n",
      " 17  Var13               50000 non-null  object \n",
      " 18  Var14               50000 non-null  int64  \n",
      " 19  Var15               50000 non-null  int64  \n",
      " 20  Var16               50000 non-null  int64  \n",
      " 21  Var17               49960 non-null  float64\n",
      " 22  Var18               12584 non-null  float64\n",
      " 23  Var19               20827 non-null  float64\n",
      " 24  Var20               50000 non-null  int64  \n",
      " 25  Var21               50000 non-null  int64  \n",
      " 26  Var22               50000 non-null  int64  \n",
      " 27  Var23               50000 non-null  int64  \n",
      " 28  Var24               50000 non-null  int64  \n",
      " 29  Var25               39912 non-null  float64\n",
      " 30  Var26               30117 non-null  float64\n",
      " 31  Var27               50000 non-null  int64  \n",
      " 32  Var28               50000 non-null  int64  \n",
      " 33  Var29               50000 non-null  int64  \n",
      " 34  Var30               50000 non-null  int64  \n",
      " 35  _r_                 50000 non-null  float64\n",
      "dtypes: float64(12), int64(20), object(4)\n",
      "memory usage: 13.7+ MB\n"
     ]
    }
   ],
   "source": [
    "data.info()  "
   ]
  },
  {
   "cell_type": "markdown",
   "metadata": {},
   "source": [
    "## Clean dataset"
   ]
  },
  {
   "cell_type": "markdown",
   "metadata": {},
   "source": [
    "### Define columns by datetypes and sort df\n",
    "\n",
    "We define the target type of the column basing on the description file and exploring data"
   ]
  },
  {
   "cell_type": "code",
   "execution_count": 6,
   "metadata": {},
   "outputs": [],
   "source": [
    "# Define columns\n",
    "date_columns = ['application_date', 'Var13'] \n",
    "numeric_columns = ['ID', 'customer_id', '_r_', 'Var9', 'Var10']  \n",
    "categorical_columns = []\n",
    "binary_columns = ['target', 'Application_status'] "
   ]
  },
  {
   "cell_type": "code",
   "execution_count": 7,
   "metadata": {},
   "outputs": [],
   "source": [
    "# Checking the data type for the rest of columns \n",
    "for column in data.columns:\n",
    "    if column in date_columns + numeric_columns + binary_columns:\n",
    "        continue  \n",
    "    elif column in ['Var1', 'Var4', 'Var5', 'Var6', 'Var7', 'Var8', 'Var15', 'Var16', 'Var17', 'Var20', 'Var21', 'Var22', 'Var23', 'Var24', 'Var25', 'Var26', 'Var29', 'Var30']:\n",
    "        numeric_columns.append(column)\n",
    "    elif column in ['Var2', 'Var3', 'Var11', 'Var12', 'Var14']:\n",
    "        categorical_columns.append(column)\n",
    "    elif column in ['Var18', 'Var19', 'Var27', 'Var28']:\n",
    "        binary_columns.append(column)"
   ]
  },
  {
   "cell_type": "code",
   "execution_count": 8,
   "metadata": {},
   "outputs": [
    {
     "name": "stdout",
     "output_type": "stream",
     "text": [
      "['application_date', 'Var13']\n",
      "['ID', 'customer_id', '_r_', 'Var9', 'Var10', 'Var1', 'Var4', 'Var5', 'Var6', 'Var7', 'Var8', 'Var15', 'Var16', 'Var17', 'Var20', 'Var21', 'Var22', 'Var23', 'Var24', 'Var25', 'Var26', 'Var29', 'Var30']\n",
      "['Var2', 'Var3', 'Var11', 'Var12', 'Var14']\n",
      "['target', 'Application_status', 'Var18', 'Var19', 'Var27', 'Var28']\n"
     ]
    }
   ],
   "source": [
    "print(date_columns)\n",
    "print(numeric_columns)\n",
    "print(categorical_columns)\n",
    "print(binary_columns)"
   ]
  },
  {
   "cell_type": "code",
   "execution_count": 9,
   "metadata": {},
   "outputs": [],
   "source": [
    "# Make a copy of main data, from this moment we will work on this dataset\n",
    "df = data.copy()"
   ]
  },
  {
   "cell_type": "code",
   "execution_count": 10,
   "metadata": {},
   "outputs": [],
   "source": [
    "# Assumed sequence for columns sorting \n",
    "sorted_columns = date_columns + numeric_columns + categorical_columns + binary_columns\n",
    "\n",
    "# Choose of the sorted value by defined categories\n",
    "df = data[sorted_columns]"
   ]
  },
  {
   "cell_type": "code",
   "execution_count": 11,
   "metadata": {},
   "outputs": [
    {
     "data": {
      "text/html": [
       "<div>\n",
       "<style scoped>\n",
       "    .dataframe tbody tr th:only-of-type {\n",
       "        vertical-align: middle;\n",
       "    }\n",
       "\n",
       "    .dataframe tbody tr th {\n",
       "        vertical-align: top;\n",
       "    }\n",
       "\n",
       "    .dataframe thead th {\n",
       "        text-align: right;\n",
       "    }\n",
       "</style>\n",
       "<table border=\"1\" class=\"dataframe\">\n",
       "  <thead>\n",
       "    <tr style=\"text-align: right;\">\n",
       "      <th></th>\n",
       "      <th>application_date</th>\n",
       "      <th>Var13</th>\n",
       "      <th>ID</th>\n",
       "      <th>customer_id</th>\n",
       "      <th>_r_</th>\n",
       "      <th>Var9</th>\n",
       "      <th>Var10</th>\n",
       "      <th>Var1</th>\n",
       "      <th>Var4</th>\n",
       "      <th>Var5</th>\n",
       "      <th>...</th>\n",
       "      <th>Var3</th>\n",
       "      <th>Var11</th>\n",
       "      <th>Var12</th>\n",
       "      <th>Var14</th>\n",
       "      <th>target</th>\n",
       "      <th>Application_status</th>\n",
       "      <th>Var18</th>\n",
       "      <th>Var19</th>\n",
       "      <th>Var27</th>\n",
       "      <th>Var28</th>\n",
       "    </tr>\n",
       "  </thead>\n",
       "  <tbody>\n",
       "    <tr>\n",
       "      <th>0</th>\n",
       "      <td>01Feb2010 0:00:00</td>\n",
       "      <td>26Nov2004</td>\n",
       "      <td>11034977</td>\n",
       "      <td>32537148</td>\n",
       "      <td>0.267045</td>\n",
       "      <td>5640</td>\n",
       "      <td>NaN</td>\n",
       "      <td>1</td>\n",
       "      <td>7800</td>\n",
       "      <td>99</td>\n",
       "      <td>...</td>\n",
       "      <td>1</td>\n",
       "      <td>5</td>\n",
       "      <td>NaN</td>\n",
       "      <td>2</td>\n",
       "      <td>0.0</td>\n",
       "      <td>Approved</td>\n",
       "      <td>1.0</td>\n",
       "      <td>NaN</td>\n",
       "      <td>0</td>\n",
       "      <td>0</td>\n",
       "    </tr>\n",
       "    <tr>\n",
       "      <th>1</th>\n",
       "      <td>01Feb2010 0:00:00</td>\n",
       "      <td>16Sep1996</td>\n",
       "      <td>11034978</td>\n",
       "      <td>32761663</td>\n",
       "      <td>0.533040</td>\n",
       "      <td>3000</td>\n",
       "      <td>NaN</td>\n",
       "      <td>1</td>\n",
       "      <td>11100</td>\n",
       "      <td>78</td>\n",
       "      <td>...</td>\n",
       "      <td>2</td>\n",
       "      <td>2</td>\n",
       "      <td>NaN</td>\n",
       "      <td>4</td>\n",
       "      <td>0.0</td>\n",
       "      <td>Approved</td>\n",
       "      <td>NaN</td>\n",
       "      <td>1.0</td>\n",
       "      <td>0</td>\n",
       "      <td>0</td>\n",
       "    </tr>\n",
       "    <tr>\n",
       "      <th>2</th>\n",
       "      <td>01Feb2010 0:00:00</td>\n",
       "      <td>06May1989</td>\n",
       "      <td>11034979</td>\n",
       "      <td>32701063</td>\n",
       "      <td>0.861555</td>\n",
       "      <td>6240</td>\n",
       "      <td>4300.0</td>\n",
       "      <td>2</td>\n",
       "      <td>2400</td>\n",
       "      <td>15</td>\n",
       "      <td>...</td>\n",
       "      <td>1</td>\n",
       "      <td>5</td>\n",
       "      <td>5.0</td>\n",
       "      <td>1</td>\n",
       "      <td>0.0</td>\n",
       "      <td>Approved</td>\n",
       "      <td>NaN</td>\n",
       "      <td>NaN</td>\n",
       "      <td>0</td>\n",
       "      <td>0</td>\n",
       "    </tr>\n",
       "    <tr>\n",
       "      <th>3</th>\n",
       "      <td>01Feb2010 0:00:00</td>\n",
       "      <td>06Dec1987</td>\n",
       "      <td>11034980</td>\n",
       "      <td>32386786</td>\n",
       "      <td>0.506451</td>\n",
       "      <td>4560</td>\n",
       "      <td>2500.0</td>\n",
       "      <td>3</td>\n",
       "      <td>11800</td>\n",
       "      <td>30</td>\n",
       "      <td>...</td>\n",
       "      <td>2</td>\n",
       "      <td>6</td>\n",
       "      <td>5.0</td>\n",
       "      <td>1</td>\n",
       "      <td>0.0</td>\n",
       "      <td>Approved</td>\n",
       "      <td>NaN</td>\n",
       "      <td>0.0</td>\n",
       "      <td>0</td>\n",
       "      <td>0</td>\n",
       "    </tr>\n",
       "    <tr>\n",
       "      <th>4</th>\n",
       "      <td>02Feb2010 0:00:00</td>\n",
       "      <td>18May1989</td>\n",
       "      <td>11034981</td>\n",
       "      <td>32692110</td>\n",
       "      <td>0.210913</td>\n",
       "      <td>5160</td>\n",
       "      <td>NaN</td>\n",
       "      <td>1</td>\n",
       "      <td>10200</td>\n",
       "      <td>72</td>\n",
       "      <td>...</td>\n",
       "      <td>1</td>\n",
       "      <td>5</td>\n",
       "      <td>NaN</td>\n",
       "      <td>0</td>\n",
       "      <td>NaN</td>\n",
       "      <td>Rejected</td>\n",
       "      <td>1.0</td>\n",
       "      <td>NaN</td>\n",
       "      <td>0</td>\n",
       "      <td>0</td>\n",
       "    </tr>\n",
       "  </tbody>\n",
       "</table>\n",
       "<p>5 rows × 36 columns</p>\n",
       "</div>"
      ],
      "text/plain": [
       "    application_date      Var13        ID  customer_id       _r_  Var9  \\\n",
       "0  01Feb2010 0:00:00  26Nov2004  11034977     32537148  0.267045  5640   \n",
       "1  01Feb2010 0:00:00  16Sep1996  11034978     32761663  0.533040  3000   \n",
       "2  01Feb2010 0:00:00  06May1989  11034979     32701063  0.861555  6240   \n",
       "3  01Feb2010 0:00:00  06Dec1987  11034980     32386786  0.506451  4560   \n",
       "4  02Feb2010 0:00:00  18May1989  11034981     32692110  0.210913  5160   \n",
       "\n",
       "    Var10  Var1   Var4  Var5  ...  Var3  Var11  Var12  Var14  target  \\\n",
       "0     NaN     1   7800    99  ...     1      5    NaN      2     0.0   \n",
       "1     NaN     1  11100    78  ...     2      2    NaN      4     0.0   \n",
       "2  4300.0     2   2400    15  ...     1      5    5.0      1     0.0   \n",
       "3  2500.0     3  11800    30  ...     2      6    5.0      1     0.0   \n",
       "4     NaN     1  10200    72  ...     1      5    NaN      0     NaN   \n",
       "\n",
       "   Application_status  Var18  Var19  Var27  Var28  \n",
       "0            Approved    1.0    NaN      0      0  \n",
       "1            Approved    NaN    1.0      0      0  \n",
       "2            Approved    NaN    NaN      0      0  \n",
       "3            Approved    NaN    0.0      0      0  \n",
       "4            Rejected    1.0    NaN      0      0  \n",
       "\n",
       "[5 rows x 36 columns]"
      ]
     },
     "execution_count": 11,
     "metadata": {},
     "output_type": "execute_result"
    }
   ],
   "source": [
    "df.head()\n",
    "# Some of the records for Var14 are Nulls, it requires analysis"
   ]
  },
  {
   "cell_type": "markdown",
   "metadata": {},
   "source": [
    "### Handle date variables"
   ]
  },
  {
   "cell_type": "code",
   "execution_count": 12,
   "metadata": {},
   "outputs": [
    {
     "data": {
      "text/plain": [
       "['application_date', 'Var13']"
      ]
     },
     "execution_count": 12,
     "metadata": {},
     "output_type": "execute_result"
    }
   ],
   "source": [
    "# Print date columns\n",
    "date_columns"
   ]
  },
  {
   "cell_type": "markdown",
   "metadata": {},
   "source": [
    "#### Change the type of columns"
   ]
  },
  {
   "cell_type": "code",
   "execution_count": 13,
   "metadata": {},
   "outputs": [],
   "source": [
    "# Change date columns to datetime type\n",
    "df['application_date'] = pd.to_datetime(df['application_date'], errors='coerce')\n",
    "df['Var13'] = pd.to_datetime(df['Var13'], format='%d%b%Y', errors='coerce')         # Var13 - irregular date format"
   ]
  },
  {
   "cell_type": "code",
   "execution_count": 14,
   "metadata": {},
   "outputs": [
    {
     "name": "stdout",
     "output_type": "stream",
     "text": [
      "784\n",
      "0\n"
     ]
    }
   ],
   "source": [
    "# Check naN values after transformation\n",
    "print(df['Var13'].isnull().sum(0))\n",
    "print(df['application_date'].isnull().sum(0))"
   ]
  },
  {
   "cell_type": "markdown",
   "metadata": {},
   "source": [
    "After transformation some records for Var13 are empty, we need to analyze it"
   ]
  },
  {
   "cell_type": "code",
   "execution_count": 15,
   "metadata": {},
   "outputs": [
    {
     "data": {
      "text/html": [
       "<div>\n",
       "<style scoped>\n",
       "    .dataframe tbody tr th:only-of-type {\n",
       "        vertical-align: middle;\n",
       "    }\n",
       "\n",
       "    .dataframe tbody tr th {\n",
       "        vertical-align: top;\n",
       "    }\n",
       "\n",
       "    .dataframe thead th {\n",
       "        text-align: right;\n",
       "    }\n",
       "</style>\n",
       "<table border=\"1\" class=\"dataframe\">\n",
       "  <thead>\n",
       "    <tr style=\"text-align: right;\">\n",
       "      <th></th>\n",
       "      <th>application_date</th>\n",
       "      <th>Var13</th>\n",
       "      <th>ID</th>\n",
       "      <th>customer_id</th>\n",
       "      <th>_r_</th>\n",
       "      <th>Var9</th>\n",
       "      <th>Var10</th>\n",
       "      <th>Var1</th>\n",
       "      <th>Var4</th>\n",
       "      <th>Var5</th>\n",
       "      <th>...</th>\n",
       "      <th>Var3</th>\n",
       "      <th>Var11</th>\n",
       "      <th>Var12</th>\n",
       "      <th>Var14</th>\n",
       "      <th>target</th>\n",
       "      <th>Application_status</th>\n",
       "      <th>Var18</th>\n",
       "      <th>Var19</th>\n",
       "      <th>Var27</th>\n",
       "      <th>Var28</th>\n",
       "    </tr>\n",
       "  </thead>\n",
       "  <tbody>\n",
       "    <tr>\n",
       "      <th>0</th>\n",
       "      <td>2010-02-01</td>\n",
       "      <td>2004-11-26</td>\n",
       "      <td>11034977</td>\n",
       "      <td>32537148</td>\n",
       "      <td>0.267045</td>\n",
       "      <td>5640</td>\n",
       "      <td>NaN</td>\n",
       "      <td>1</td>\n",
       "      <td>7800</td>\n",
       "      <td>99</td>\n",
       "      <td>...</td>\n",
       "      <td>1</td>\n",
       "      <td>5</td>\n",
       "      <td>NaN</td>\n",
       "      <td>2</td>\n",
       "      <td>0.0</td>\n",
       "      <td>Approved</td>\n",
       "      <td>1.0</td>\n",
       "      <td>NaN</td>\n",
       "      <td>0</td>\n",
       "      <td>0</td>\n",
       "    </tr>\n",
       "    <tr>\n",
       "      <th>1</th>\n",
       "      <td>2010-02-01</td>\n",
       "      <td>1996-09-16</td>\n",
       "      <td>11034978</td>\n",
       "      <td>32761663</td>\n",
       "      <td>0.533040</td>\n",
       "      <td>3000</td>\n",
       "      <td>NaN</td>\n",
       "      <td>1</td>\n",
       "      <td>11100</td>\n",
       "      <td>78</td>\n",
       "      <td>...</td>\n",
       "      <td>2</td>\n",
       "      <td>2</td>\n",
       "      <td>NaN</td>\n",
       "      <td>4</td>\n",
       "      <td>0.0</td>\n",
       "      <td>Approved</td>\n",
       "      <td>NaN</td>\n",
       "      <td>1.0</td>\n",
       "      <td>0</td>\n",
       "      <td>0</td>\n",
       "    </tr>\n",
       "    <tr>\n",
       "      <th>2</th>\n",
       "      <td>2010-02-01</td>\n",
       "      <td>1989-05-06</td>\n",
       "      <td>11034979</td>\n",
       "      <td>32701063</td>\n",
       "      <td>0.861555</td>\n",
       "      <td>6240</td>\n",
       "      <td>4300.0</td>\n",
       "      <td>2</td>\n",
       "      <td>2400</td>\n",
       "      <td>15</td>\n",
       "      <td>...</td>\n",
       "      <td>1</td>\n",
       "      <td>5</td>\n",
       "      <td>5.0</td>\n",
       "      <td>1</td>\n",
       "      <td>0.0</td>\n",
       "      <td>Approved</td>\n",
       "      <td>NaN</td>\n",
       "      <td>NaN</td>\n",
       "      <td>0</td>\n",
       "      <td>0</td>\n",
       "    </tr>\n",
       "    <tr>\n",
       "      <th>3</th>\n",
       "      <td>2010-02-01</td>\n",
       "      <td>1987-12-06</td>\n",
       "      <td>11034980</td>\n",
       "      <td>32386786</td>\n",
       "      <td>0.506451</td>\n",
       "      <td>4560</td>\n",
       "      <td>2500.0</td>\n",
       "      <td>3</td>\n",
       "      <td>11800</td>\n",
       "      <td>30</td>\n",
       "      <td>...</td>\n",
       "      <td>2</td>\n",
       "      <td>6</td>\n",
       "      <td>5.0</td>\n",
       "      <td>1</td>\n",
       "      <td>0.0</td>\n",
       "      <td>Approved</td>\n",
       "      <td>NaN</td>\n",
       "      <td>0.0</td>\n",
       "      <td>0</td>\n",
       "      <td>0</td>\n",
       "    </tr>\n",
       "    <tr>\n",
       "      <th>4</th>\n",
       "      <td>2010-02-02</td>\n",
       "      <td>1989-05-18</td>\n",
       "      <td>11034981</td>\n",
       "      <td>32692110</td>\n",
       "      <td>0.210913</td>\n",
       "      <td>5160</td>\n",
       "      <td>NaN</td>\n",
       "      <td>1</td>\n",
       "      <td>10200</td>\n",
       "      <td>72</td>\n",
       "      <td>...</td>\n",
       "      <td>1</td>\n",
       "      <td>5</td>\n",
       "      <td>NaN</td>\n",
       "      <td>0</td>\n",
       "      <td>NaN</td>\n",
       "      <td>Rejected</td>\n",
       "      <td>1.0</td>\n",
       "      <td>NaN</td>\n",
       "      <td>0</td>\n",
       "      <td>0</td>\n",
       "    </tr>\n",
       "  </tbody>\n",
       "</table>\n",
       "<p>5 rows × 36 columns</p>\n",
       "</div>"
      ],
      "text/plain": [
       "  application_date      Var13        ID  customer_id       _r_  Var9   Var10  \\\n",
       "0       2010-02-01 2004-11-26  11034977     32537148  0.267045  5640     NaN   \n",
       "1       2010-02-01 1996-09-16  11034978     32761663  0.533040  3000     NaN   \n",
       "2       2010-02-01 1989-05-06  11034979     32701063  0.861555  6240  4300.0   \n",
       "3       2010-02-01 1987-12-06  11034980     32386786  0.506451  4560  2500.0   \n",
       "4       2010-02-02 1989-05-18  11034981     32692110  0.210913  5160     NaN   \n",
       "\n",
       "   Var1   Var4  Var5  ...  Var3  Var11  Var12  Var14  target  \\\n",
       "0     1   7800    99  ...     1      5    NaN      2     0.0   \n",
       "1     1  11100    78  ...     2      2    NaN      4     0.0   \n",
       "2     2   2400    15  ...     1      5    5.0      1     0.0   \n",
       "3     3  11800    30  ...     2      6    5.0      1     0.0   \n",
       "4     1  10200    72  ...     1      5    NaN      0     NaN   \n",
       "\n",
       "   Application_status  Var18  Var19  Var27  Var28  \n",
       "0            Approved    1.0    NaN      0      0  \n",
       "1            Approved    NaN    1.0      0      0  \n",
       "2            Approved    NaN    NaN      0      0  \n",
       "3            Approved    NaN    0.0      0      0  \n",
       "4            Rejected    1.0    NaN      0      0  \n",
       "\n",
       "[5 rows x 36 columns]"
      ]
     },
     "execution_count": 15,
     "metadata": {},
     "output_type": "execute_result"
    }
   ],
   "source": [
    "df.head()"
   ]
  },
  {
   "cell_type": "markdown",
   "metadata": {},
   "source": [
    "#### Analyze Var13"
   ]
  },
  {
   "cell_type": "code",
   "execution_count": 16,
   "metadata": {},
   "outputs": [
    {
     "data": {
      "text/plain": [
       "5        31Dec9999\n",
       "56       31Dec9999\n",
       "67       31Dec9999\n",
       "86       31Dec9999\n",
       "95       31Dec9999\n",
       "           ...    \n",
       "49510    31Dec9999\n",
       "49537    31Dec9999\n",
       "49617    31Dec9999\n",
       "49635    31Dec9999\n",
       "49765    31Dec9999\n",
       "Name: Var13, Length: 784, dtype: object"
      ]
     },
     "execution_count": 16,
     "metadata": {},
     "output_type": "execute_result"
    }
   ],
   "source": [
    "# Check indexes where conversion caused 'NaT' values\n",
    "nan_indices = df['Var13'].isna()\n",
    "\n",
    "# Compare original values of 'Var13' which after conversion became 'NaT'\n",
    "original_values_with_nan = data.loc[nan_indices, 'Var13']\n",
    "\n",
    "original_values_with_nan"
   ]
  },
  {
   "cell_type": "code",
   "execution_count": 17,
   "metadata": {},
   "outputs": [
    {
     "data": {
      "text/plain": [
       "array(['31Dec9999'], dtype=object)"
      ]
     },
     "execution_count": 17,
     "metadata": {},
     "output_type": "execute_result"
    }
   ],
   "source": [
    "# Check unique values of 'Var13' which after conversion became 'NaT'\n",
    "original_values_with_nan.unique()"
   ]
  },
  {
   "cell_type": "markdown",
   "metadata": {},
   "source": [
    "Summarizing we have 784 cases in Var13 with value '31Dec9999'\n",
    "\n",
    "We treat them as data error and for this moment leave with NAs"
   ]
  },
  {
   "cell_type": "markdown",
   "metadata": {},
   "source": [
    "#### Create working_months column\n",
    "\n",
    "Var13 = employment date\n",
    "\n",
    "working_moths = Var13 - application_date\n",
    "\n",
    "\n",
    "We would like to calculate the number of working months before applying for credit, which will indicate the employee's duration at the given position from employment to loan application.\n",
    "\n",
    "NAs from Var13 are replaced with 0\n",
    "\n",
    "We also want to have this column first"
   ]
  },
  {
   "cell_type": "code",
   "execution_count": 18,
   "metadata": {},
   "outputs": [],
   "source": [
    "# Create a new colum working_months\n",
    "df['working_months'] = ((df['application_date'] - df['Var13']) / np.timedelta64(1, 'M')).fillna(0).astype(int)"
   ]
  },
  {
   "cell_type": "code",
   "execution_count": 19,
   "metadata": {},
   "outputs": [],
   "source": [
    "# Delete columns 'Var13' and 'application_date'\n",
    "df.drop(['Var13'], axis=1, inplace=True)\n",
    "df.drop(['application_date'], axis=1, inplace=True)"
   ]
  },
  {
   "cell_type": "code",
   "execution_count": 20,
   "metadata": {},
   "outputs": [
    {
     "data": {
      "text/html": [
       "<div>\n",
       "<style scoped>\n",
       "    .dataframe tbody tr th:only-of-type {\n",
       "        vertical-align: middle;\n",
       "    }\n",
       "\n",
       "    .dataframe tbody tr th {\n",
       "        vertical-align: top;\n",
       "    }\n",
       "\n",
       "    .dataframe thead th {\n",
       "        text-align: right;\n",
       "    }\n",
       "</style>\n",
       "<table border=\"1\" class=\"dataframe\">\n",
       "  <thead>\n",
       "    <tr style=\"text-align: right;\">\n",
       "      <th></th>\n",
       "      <th>ID</th>\n",
       "      <th>customer_id</th>\n",
       "      <th>_r_</th>\n",
       "      <th>Var9</th>\n",
       "      <th>Var10</th>\n",
       "      <th>Var1</th>\n",
       "      <th>Var4</th>\n",
       "      <th>Var5</th>\n",
       "      <th>Var6</th>\n",
       "      <th>Var7</th>\n",
       "      <th>...</th>\n",
       "      <th>Var11</th>\n",
       "      <th>Var12</th>\n",
       "      <th>Var14</th>\n",
       "      <th>target</th>\n",
       "      <th>Application_status</th>\n",
       "      <th>Var18</th>\n",
       "      <th>Var19</th>\n",
       "      <th>Var27</th>\n",
       "      <th>Var28</th>\n",
       "      <th>working_months</th>\n",
       "    </tr>\n",
       "  </thead>\n",
       "  <tbody>\n",
       "    <tr>\n",
       "      <th>0</th>\n",
       "      <td>11034977</td>\n",
       "      <td>32537148</td>\n",
       "      <td>0.267045</td>\n",
       "      <td>5640</td>\n",
       "      <td>NaN</td>\n",
       "      <td>1</td>\n",
       "      <td>7800</td>\n",
       "      <td>99</td>\n",
       "      <td>1</td>\n",
       "      <td>108.73</td>\n",
       "      <td>...</td>\n",
       "      <td>5</td>\n",
       "      <td>NaN</td>\n",
       "      <td>2</td>\n",
       "      <td>0.0</td>\n",
       "      <td>Approved</td>\n",
       "      <td>1.0</td>\n",
       "      <td>NaN</td>\n",
       "      <td>0</td>\n",
       "      <td>0</td>\n",
       "      <td>62</td>\n",
       "    </tr>\n",
       "    <tr>\n",
       "      <th>1</th>\n",
       "      <td>11034978</td>\n",
       "      <td>32761663</td>\n",
       "      <td>0.533040</td>\n",
       "      <td>3000</td>\n",
       "      <td>NaN</td>\n",
       "      <td>1</td>\n",
       "      <td>11100</td>\n",
       "      <td>78</td>\n",
       "      <td>1</td>\n",
       "      <td>195.99</td>\n",
       "      <td>...</td>\n",
       "      <td>2</td>\n",
       "      <td>NaN</td>\n",
       "      <td>4</td>\n",
       "      <td>0.0</td>\n",
       "      <td>Approved</td>\n",
       "      <td>NaN</td>\n",
       "      <td>1.0</td>\n",
       "      <td>0</td>\n",
       "      <td>0</td>\n",
       "      <td>160</td>\n",
       "    </tr>\n",
       "    <tr>\n",
       "      <th>2</th>\n",
       "      <td>11034979</td>\n",
       "      <td>32701063</td>\n",
       "      <td>0.861555</td>\n",
       "      <td>6240</td>\n",
       "      <td>4300.0</td>\n",
       "      <td>2</td>\n",
       "      <td>2400</td>\n",
       "      <td>15</td>\n",
       "      <td>1</td>\n",
       "      <td>248.34</td>\n",
       "      <td>...</td>\n",
       "      <td>5</td>\n",
       "      <td>5.0</td>\n",
       "      <td>1</td>\n",
       "      <td>0.0</td>\n",
       "      <td>Approved</td>\n",
       "      <td>NaN</td>\n",
       "      <td>NaN</td>\n",
       "      <td>0</td>\n",
       "      <td>0</td>\n",
       "      <td>248</td>\n",
       "    </tr>\n",
       "    <tr>\n",
       "      <th>3</th>\n",
       "      <td>11034980</td>\n",
       "      <td>32386786</td>\n",
       "      <td>0.506451</td>\n",
       "      <td>4560</td>\n",
       "      <td>2500.0</td>\n",
       "      <td>3</td>\n",
       "      <td>11800</td>\n",
       "      <td>30</td>\n",
       "      <td>6</td>\n",
       "      <td>3538.68</td>\n",
       "      <td>...</td>\n",
       "      <td>6</td>\n",
       "      <td>5.0</td>\n",
       "      <td>1</td>\n",
       "      <td>0.0</td>\n",
       "      <td>Approved</td>\n",
       "      <td>NaN</td>\n",
       "      <td>0.0</td>\n",
       "      <td>0</td>\n",
       "      <td>0</td>\n",
       "      <td>265</td>\n",
       "    </tr>\n",
       "    <tr>\n",
       "      <th>4</th>\n",
       "      <td>11034981</td>\n",
       "      <td>32692110</td>\n",
       "      <td>0.210913</td>\n",
       "      <td>5160</td>\n",
       "      <td>NaN</td>\n",
       "      <td>1</td>\n",
       "      <td>10200</td>\n",
       "      <td>72</td>\n",
       "      <td>3</td>\n",
       "      <td>580.26</td>\n",
       "      <td>...</td>\n",
       "      <td>5</td>\n",
       "      <td>NaN</td>\n",
       "      <td>0</td>\n",
       "      <td>NaN</td>\n",
       "      <td>Rejected</td>\n",
       "      <td>1.0</td>\n",
       "      <td>NaN</td>\n",
       "      <td>0</td>\n",
       "      <td>0</td>\n",
       "      <td>248</td>\n",
       "    </tr>\n",
       "  </tbody>\n",
       "</table>\n",
       "<p>5 rows × 35 columns</p>\n",
       "</div>"
      ],
      "text/plain": [
       "         ID  customer_id       _r_  Var9   Var10  Var1   Var4  Var5  Var6  \\\n",
       "0  11034977     32537148  0.267045  5640     NaN     1   7800    99     1   \n",
       "1  11034978     32761663  0.533040  3000     NaN     1  11100    78     1   \n",
       "2  11034979     32701063  0.861555  6240  4300.0     2   2400    15     1   \n",
       "3  11034980     32386786  0.506451  4560  2500.0     3  11800    30     6   \n",
       "4  11034981     32692110  0.210913  5160     NaN     1  10200    72     3   \n",
       "\n",
       "      Var7  ...  Var11  Var12  Var14  target  Application_status  Var18  \\\n",
       "0   108.73  ...      5    NaN      2     0.0            Approved    1.0   \n",
       "1   195.99  ...      2    NaN      4     0.0            Approved    NaN   \n",
       "2   248.34  ...      5    5.0      1     0.0            Approved    NaN   \n",
       "3  3538.68  ...      6    5.0      1     0.0            Approved    NaN   \n",
       "4   580.26  ...      5    NaN      0     NaN            Rejected    1.0   \n",
       "\n",
       "   Var19  Var27  Var28  working_months  \n",
       "0    NaN      0      0              62  \n",
       "1    1.0      0      0             160  \n",
       "2    NaN      0      0             248  \n",
       "3    0.0      0      0             265  \n",
       "4    NaN      0      0             248  \n",
       "\n",
       "[5 rows x 35 columns]"
      ]
     },
     "execution_count": 20,
     "metadata": {},
     "output_type": "execute_result"
    }
   ],
   "source": [
    "df.head()"
   ]
  },
  {
   "cell_type": "markdown",
   "metadata": {},
   "source": [
    "Move 'working_months' to the first column"
   ]
  },
  {
   "cell_type": "code",
   "execution_count": 21,
   "metadata": {},
   "outputs": [],
   "source": [
    "# Create a list of columns without 'working_months'\n",
    "df_sorted_columns = df.columns.tolist()\n",
    "df_sorted_columns.remove('working_months')\n",
    "# Add 'working_months' to the first position\n",
    "df_sorted_columns.insert(0, 'working_months')\n",
    "# Reindex columns\n",
    "df = df[df_sorted_columns]"
   ]
  },
  {
   "cell_type": "code",
   "execution_count": 22,
   "metadata": {},
   "outputs": [],
   "source": [
    "# Update the list of date and numeric columns\n",
    "date_columns = []\n",
    "numeric_columns = numeric_columns + ['working_months']"
   ]
  },
  {
   "cell_type": "code",
   "execution_count": 23,
   "metadata": {},
   "outputs": [
    {
     "data": {
      "text/html": [
       "<div>\n",
       "<style scoped>\n",
       "    .dataframe tbody tr th:only-of-type {\n",
       "        vertical-align: middle;\n",
       "    }\n",
       "\n",
       "    .dataframe tbody tr th {\n",
       "        vertical-align: top;\n",
       "    }\n",
       "\n",
       "    .dataframe thead th {\n",
       "        text-align: right;\n",
       "    }\n",
       "</style>\n",
       "<table border=\"1\" class=\"dataframe\">\n",
       "  <thead>\n",
       "    <tr style=\"text-align: right;\">\n",
       "      <th></th>\n",
       "      <th>working_months</th>\n",
       "      <th>ID</th>\n",
       "      <th>customer_id</th>\n",
       "      <th>_r_</th>\n",
       "      <th>Var9</th>\n",
       "      <th>Var10</th>\n",
       "      <th>Var1</th>\n",
       "      <th>Var4</th>\n",
       "      <th>Var5</th>\n",
       "      <th>Var6</th>\n",
       "      <th>...</th>\n",
       "      <th>Var3</th>\n",
       "      <th>Var11</th>\n",
       "      <th>Var12</th>\n",
       "      <th>Var14</th>\n",
       "      <th>target</th>\n",
       "      <th>Application_status</th>\n",
       "      <th>Var18</th>\n",
       "      <th>Var19</th>\n",
       "      <th>Var27</th>\n",
       "      <th>Var28</th>\n",
       "    </tr>\n",
       "  </thead>\n",
       "  <tbody>\n",
       "    <tr>\n",
       "      <th>0</th>\n",
       "      <td>62</td>\n",
       "      <td>11034977</td>\n",
       "      <td>32537148</td>\n",
       "      <td>0.267045</td>\n",
       "      <td>5640</td>\n",
       "      <td>NaN</td>\n",
       "      <td>1</td>\n",
       "      <td>7800</td>\n",
       "      <td>99</td>\n",
       "      <td>1</td>\n",
       "      <td>...</td>\n",
       "      <td>1</td>\n",
       "      <td>5</td>\n",
       "      <td>NaN</td>\n",
       "      <td>2</td>\n",
       "      <td>0.0</td>\n",
       "      <td>Approved</td>\n",
       "      <td>1.0</td>\n",
       "      <td>NaN</td>\n",
       "      <td>0</td>\n",
       "      <td>0</td>\n",
       "    </tr>\n",
       "    <tr>\n",
       "      <th>1</th>\n",
       "      <td>160</td>\n",
       "      <td>11034978</td>\n",
       "      <td>32761663</td>\n",
       "      <td>0.533040</td>\n",
       "      <td>3000</td>\n",
       "      <td>NaN</td>\n",
       "      <td>1</td>\n",
       "      <td>11100</td>\n",
       "      <td>78</td>\n",
       "      <td>1</td>\n",
       "      <td>...</td>\n",
       "      <td>2</td>\n",
       "      <td>2</td>\n",
       "      <td>NaN</td>\n",
       "      <td>4</td>\n",
       "      <td>0.0</td>\n",
       "      <td>Approved</td>\n",
       "      <td>NaN</td>\n",
       "      <td>1.0</td>\n",
       "      <td>0</td>\n",
       "      <td>0</td>\n",
       "    </tr>\n",
       "    <tr>\n",
       "      <th>2</th>\n",
       "      <td>248</td>\n",
       "      <td>11034979</td>\n",
       "      <td>32701063</td>\n",
       "      <td>0.861555</td>\n",
       "      <td>6240</td>\n",
       "      <td>4300.0</td>\n",
       "      <td>2</td>\n",
       "      <td>2400</td>\n",
       "      <td>15</td>\n",
       "      <td>1</td>\n",
       "      <td>...</td>\n",
       "      <td>1</td>\n",
       "      <td>5</td>\n",
       "      <td>5.0</td>\n",
       "      <td>1</td>\n",
       "      <td>0.0</td>\n",
       "      <td>Approved</td>\n",
       "      <td>NaN</td>\n",
       "      <td>NaN</td>\n",
       "      <td>0</td>\n",
       "      <td>0</td>\n",
       "    </tr>\n",
       "    <tr>\n",
       "      <th>3</th>\n",
       "      <td>265</td>\n",
       "      <td>11034980</td>\n",
       "      <td>32386786</td>\n",
       "      <td>0.506451</td>\n",
       "      <td>4560</td>\n",
       "      <td>2500.0</td>\n",
       "      <td>3</td>\n",
       "      <td>11800</td>\n",
       "      <td>30</td>\n",
       "      <td>6</td>\n",
       "      <td>...</td>\n",
       "      <td>2</td>\n",
       "      <td>6</td>\n",
       "      <td>5.0</td>\n",
       "      <td>1</td>\n",
       "      <td>0.0</td>\n",
       "      <td>Approved</td>\n",
       "      <td>NaN</td>\n",
       "      <td>0.0</td>\n",
       "      <td>0</td>\n",
       "      <td>0</td>\n",
       "    </tr>\n",
       "    <tr>\n",
       "      <th>4</th>\n",
       "      <td>248</td>\n",
       "      <td>11034981</td>\n",
       "      <td>32692110</td>\n",
       "      <td>0.210913</td>\n",
       "      <td>5160</td>\n",
       "      <td>NaN</td>\n",
       "      <td>1</td>\n",
       "      <td>10200</td>\n",
       "      <td>72</td>\n",
       "      <td>3</td>\n",
       "      <td>...</td>\n",
       "      <td>1</td>\n",
       "      <td>5</td>\n",
       "      <td>NaN</td>\n",
       "      <td>0</td>\n",
       "      <td>NaN</td>\n",
       "      <td>Rejected</td>\n",
       "      <td>1.0</td>\n",
       "      <td>NaN</td>\n",
       "      <td>0</td>\n",
       "      <td>0</td>\n",
       "    </tr>\n",
       "  </tbody>\n",
       "</table>\n",
       "<p>5 rows × 35 columns</p>\n",
       "</div>"
      ],
      "text/plain": [
       "   working_months        ID  customer_id       _r_  Var9   Var10  Var1   Var4  \\\n",
       "0              62  11034977     32537148  0.267045  5640     NaN     1   7800   \n",
       "1             160  11034978     32761663  0.533040  3000     NaN     1  11100   \n",
       "2             248  11034979     32701063  0.861555  6240  4300.0     2   2400   \n",
       "3             265  11034980     32386786  0.506451  4560  2500.0     3  11800   \n",
       "4             248  11034981     32692110  0.210913  5160     NaN     1  10200   \n",
       "\n",
       "   Var5  Var6  ...  Var3  Var11  Var12  Var14  target  Application_status  \\\n",
       "0    99     1  ...     1      5    NaN      2     0.0            Approved   \n",
       "1    78     1  ...     2      2    NaN      4     0.0            Approved   \n",
       "2    15     1  ...     1      5    5.0      1     0.0            Approved   \n",
       "3    30     6  ...     2      6    5.0      1     0.0            Approved   \n",
       "4    72     3  ...     1      5    NaN      0     NaN            Rejected   \n",
       "\n",
       "   Var18  Var19  Var27  Var28  \n",
       "0    1.0    NaN      0      0  \n",
       "1    NaN    1.0      0      0  \n",
       "2    NaN    NaN      0      0  \n",
       "3    NaN    0.0      0      0  \n",
       "4    1.0    NaN      0      0  \n",
       "\n",
       "[5 rows x 35 columns]"
      ]
     },
     "execution_count": 23,
     "metadata": {},
     "output_type": "execute_result"
    }
   ],
   "source": [
    "df.head()"
   ]
  },
  {
   "cell_type": "markdown",
   "metadata": {},
   "source": [
    "### Handle binary variables\n",
    "\n",
    "Convert the 'Application_status' column to binary variables to facilitate analysis. Applications marked as 'Approved' are changed to 1, and those marked as 'Rejected' are changed to 0. This conversion simplifies the analysis process, allowing for straightforward interpretation of application outcomes"
   ]
  },
  {
   "cell_type": "code",
   "execution_count": 24,
   "metadata": {},
   "outputs": [
    {
     "name": "stdout",
     "output_type": "stream",
     "text": [
      "Unique values for column 'target': [ 0. nan  1.]\n",
      "Unique values for column 'Application_status': ['Approved' 'Rejected']\n",
      "Unique values for column 'Var18': [ 1. nan  0.]\n",
      "Unique values for column 'Var19': [nan  1.  0.]\n",
      "Unique values for column 'Var27': [0 1]\n",
      "Unique values for column 'Var28': [0 1]\n"
     ]
    }
   ],
   "source": [
    "# Check unique values for binary columns\n",
    "for column in binary_columns:\n",
    "    print(f\"Unique values for column '{column}': {df[column].unique()}\")"
   ]
  },
  {
   "cell_type": "markdown",
   "metadata": {},
   "source": [
    "As we can observe column \"Application_status\" needs to be modified"
   ]
  },
  {
   "cell_type": "code",
   "execution_count": 25,
   "metadata": {},
   "outputs": [],
   "source": [
    "# Change value \"Approved\" to 1 and \"Rejected\" to 0 in column 'Application_status'\n",
    "df['Application_status'] = df['Application_status'].replace({'Approved': 1, 'Rejected': 0})"
   ]
  },
  {
   "cell_type": "code",
   "execution_count": 26,
   "metadata": {},
   "outputs": [
    {
     "data": {
      "text/plain": [
       "1    36718\n",
       "0    13282\n",
       "Name: Application_status, dtype: int64"
      ]
     },
     "execution_count": 26,
     "metadata": {},
     "output_type": "execute_result"
    }
   ],
   "source": [
    "# Check and count unique values for 'Application_status' to ensure that transformation was successful\n",
    "df['Application_status'].value_counts(dropna=False)"
   ]
  },
  {
   "cell_type": "markdown",
   "metadata": {},
   "source": [
    "Check the rest of binary columns"
   ]
  },
  {
   "cell_type": "code",
   "execution_count": 27,
   "metadata": {},
   "outputs": [
    {
     "data": {
      "text/plain": [
       "target                13282\n",
       "Application_status        0\n",
       "Var18                 37416\n",
       "Var19                 29173\n",
       "Var27                     0\n",
       "Var28                     0\n",
       "dtype: int64"
      ]
     },
     "execution_count": 27,
     "metadata": {},
     "output_type": "execute_result"
    }
   ],
   "source": [
    "df[binary_columns].isna().sum()"
   ]
  },
  {
   "cell_type": "code",
   "execution_count": 28,
   "metadata": {},
   "outputs": [
    {
     "name": "stdout",
     "output_type": "stream",
     "text": [
      "<class 'pandas.core.frame.DataFrame'>\n",
      "RangeIndex: 50000 entries, 0 to 49999\n",
      "Data columns (total 6 columns):\n",
      " #   Column              Non-Null Count  Dtype  \n",
      "---  ------              --------------  -----  \n",
      " 0   target              36718 non-null  float64\n",
      " 1   Application_status  50000 non-null  int64  \n",
      " 2   Var18               12584 non-null  float64\n",
      " 3   Var19               20827 non-null  float64\n",
      " 4   Var27               50000 non-null  int64  \n",
      " 5   Var28               50000 non-null  int64  \n",
      "dtypes: float64(3), int64(3)\n",
      "memory usage: 2.3 MB\n"
     ]
    }
   ],
   "source": [
    "df[binary_columns].info()"
   ]
  },
  {
   "cell_type": "markdown",
   "metadata": {},
   "source": [
    "We can observe that we have some nulls in binary variables, but we will handle them later."
   ]
  },
  {
   "cell_type": "markdown",
   "metadata": {},
   "source": [
    "### Handle categorical variables"
   ]
  },
  {
   "cell_type": "markdown",
   "metadata": {},
   "source": [
    "We have 5 categorical columns:\n",
    "\n",
    "* Var2 - Loan purpose\n",
    "* Var3 - Distribution channel\n",
    "* Var11 - profession of main applicant\n",
    "* Var12 - profession of second applicant\n",
    "* Var14 - marital status of main applicant\n",
    "\n",
    "All of them are treated as simple categorical variables(non-ordered)"
   ]
  },
  {
   "cell_type": "code",
   "execution_count": 29,
   "metadata": {},
   "outputs": [
    {
     "name": "stdout",
     "output_type": "stream",
     "text": [
      "Unique values for column 'Var2': [ 2.  1.  3. nan]\n",
      "Unique values for column 'Var3': ['1' '2' nan 'Direct' '3' 'Online']\n",
      "Unique values for column 'Var11': [5 2 6 4 3 1 7]\n",
      "Unique values for column 'Var12': [nan  5.  2.  4.  6.  7.  3.  1.]\n",
      "Unique values for column 'Var14': [2 4 1 0 3]\n"
     ]
    }
   ],
   "source": [
    "# Check unique values for binary columns\n",
    "for column in categorical_columns:\n",
    "    print(f\"Unique values for column '{column}': {df[column].unique()}\")"
   ]
  },
  {
   "cell_type": "markdown",
   "metadata": {},
   "source": [
    "According to the variables_description.xlsx file the variable Var2 should have the following values:\n",
    "\n",
    "* 1 Direct\n",
    "* 2 Broker\n",
    "* 3 Online\n",
    "\n",
    "In the dataset this variable has 5 unique values printed above. First of all we should transform 'Direct' to 1 and 'Online' to 3"
   ]
  },
  {
   "cell_type": "code",
   "execution_count": 30,
   "metadata": {},
   "outputs": [
    {
     "data": {
      "text/plain": [
       "1         24043\n",
       "2         16130\n",
       "3          8054\n",
       "NaN        1403\n",
       "Direct      325\n",
       "Online       45\n",
       "Name: Var3, dtype: int64"
      ]
     },
     "execution_count": 30,
     "metadata": {},
     "output_type": "execute_result"
    }
   ],
   "source": [
    "# Check the number of observations in Var3 for each category\n",
    "df['Var3'].value_counts(dropna=False)"
   ]
  },
  {
   "cell_type": "code",
   "execution_count": 31,
   "metadata": {},
   "outputs": [],
   "source": [
    "# Change the value \"Direct\" to 1 and \"Online\" to 3 in column \"Var3\"\n",
    "df['Var3'] = df['Var3'].replace({'Direct': 1, 'Online': 3})\n",
    "\n",
    "# Change the data type of column \"Var3\" to float (we still have NaN values)\n",
    "df['Var3'] = df['Var3'].astype(float)"
   ]
  },
  {
   "cell_type": "markdown",
   "metadata": {},
   "source": [
    "Check the unique values after transformation"
   ]
  },
  {
   "cell_type": "code",
   "execution_count": 32,
   "metadata": {},
   "outputs": [
    {
     "data": {
      "text/plain": [
       "1.0    24368\n",
       "2.0    16130\n",
       "3.0     8099\n",
       "NaN     1403\n",
       "Name: Var3, dtype: int64"
      ]
     },
     "execution_count": 32,
     "metadata": {},
     "output_type": "execute_result"
    }
   ],
   "source": [
    "# Check again the number of observations in Var3 for each category\n",
    "df['Var3'].value_counts(dropna=False)"
   ]
  },
  {
   "cell_type": "markdown",
   "metadata": {},
   "source": [
    "It looks that the transformation was successfull"
   ]
  },
  {
   "cell_type": "code",
   "execution_count": 33,
   "metadata": {},
   "outputs": [
    {
     "data": {
      "text/plain": [
       "Var2      1403\n",
       "Var3      1403\n",
       "Var11        0\n",
       "Var12    37538\n",
       "Var14        0\n",
       "dtype: int64"
      ]
     },
     "execution_count": 33,
     "metadata": {},
     "output_type": "execute_result"
    }
   ],
   "source": [
    "# Count NA values for categorical columns\n",
    "df[categorical_columns].isna().sum()"
   ]
  },
  {
   "cell_type": "markdown",
   "metadata": {},
   "source": [
    "All categorical variables are ready for the further processing (filling NA values and one hot encoding)."
   ]
  },
  {
   "cell_type": "markdown",
   "metadata": {},
   "source": [
    "### Handle NaN in target variable\n",
    "\n",
    "As we can observe below we have 13282 NaN values in our target variable.\n",
    "\n",
    "We found out that all of them are for \"Application status\" == rejected (1).\n",
    "\n",
    "We analyze the approach to fill target variable of all rejected application to 1 (default). However this way would bring in a high conlusion that all of rejected people would default in the future and it would impact negatively on our model. Additionally we assume that we want to model the approved applications only.\n",
    "\n",
    "After a long discussion we decided to delete all of rows with Application_status == 0."
   ]
  },
  {
   "cell_type": "code",
   "execution_count": 34,
   "metadata": {},
   "outputs": [
    {
     "data": {
      "text/plain": [
       "13282"
      ]
     },
     "execution_count": 34,
     "metadata": {},
     "output_type": "execute_result"
    }
   ],
   "source": [
    "# Check the number of NAa for target variable\n",
    "df['target'].isna().sum()"
   ]
  },
  {
   "cell_type": "code",
   "execution_count": 35,
   "metadata": {},
   "outputs": [
    {
     "data": {
      "text/plain": [
       "13282"
      ]
     },
     "execution_count": 35,
     "metadata": {},
     "output_type": "execute_result"
    }
   ],
   "source": [
    "df.loc[df[\"Application_status\"] == 0, \"target\"].isna().sum()"
   ]
  },
  {
   "cell_type": "code",
   "execution_count": 36,
   "metadata": {},
   "outputs": [],
   "source": [
    "# Drop rows where 'Application_status' == 0\n",
    "df = df[df['Application_status'] != 0]"
   ]
  },
  {
   "cell_type": "markdown",
   "metadata": {},
   "source": [
    "Now as we know that there are only rows with application_status == 0 we can delete this column from df"
   ]
  },
  {
   "cell_type": "code",
   "execution_count": 37,
   "metadata": {},
   "outputs": [],
   "source": [
    "# Drop column 'Application_status'\n",
    "df.drop(['Application_status'], axis=1, inplace=True)"
   ]
  },
  {
   "cell_type": "code",
   "execution_count": 38,
   "metadata": {},
   "outputs": [],
   "source": [
    "# Delete \"application_stauts\" from binary_columns\n",
    "binary_columns.remove('Application_status')"
   ]
  },
  {
   "cell_type": "markdown",
   "metadata": {},
   "source": [
    "### Handle numeric data"
   ]
  },
  {
   "cell_type": "code",
   "execution_count": 39,
   "metadata": {},
   "outputs": [
    {
     "data": {
      "text/plain": [
       "ID                    0\n",
       "customer_id           0\n",
       "_r_                   0\n",
       "Var9                  0\n",
       "Var10             28043\n",
       "Var1                  0\n",
       "Var4                  0\n",
       "Var5                  0\n",
       "Var6                  0\n",
       "Var7                  0\n",
       "Var8              20538\n",
       "Var15                 0\n",
       "Var16                 0\n",
       "Var17                32\n",
       "Var20                 0\n",
       "Var21                 0\n",
       "Var22                 0\n",
       "Var23                 0\n",
       "Var24                 0\n",
       "Var25              7401\n",
       "Var26             14649\n",
       "Var29                 0\n",
       "Var30                 0\n",
       "working_months        0\n",
       "dtype: int64"
      ]
     },
     "execution_count": 39,
     "metadata": {},
     "output_type": "execute_result"
    }
   ],
   "source": [
    "df[numeric_columns].isna().sum()"
   ]
  },
  {
   "cell_type": "markdown",
   "metadata": {},
   "source": [
    "#### Dependence of numeric variables with categorical variables"
   ]
  },
  {
   "cell_type": "markdown",
   "metadata": {},
   "source": [
    "Var10 and Var8 are strictly related to Var1 and Var2 respectively, so we wanted to check the NAs in dependent variables.\n",
    "However Var1 related to Var10 does not have any missings we moved to Var8 and Var2.\n",
    "\n",
    "We wanted to check if there are any NA observations of Var2 (Loan purpose) having Var8 (Value of goods(car)) set to some value. If yes we assume that the value is entered correctly and we are missing Var2 for some unknown reason.\n",
    "\n",
    "We decided to fill these rows with value 1 (meaning Car Loan).\n",
    "\n",
    "As we can observe below we have 1018 NAs before filling the data."
   ]
  },
  {
   "cell_type": "code",
   "execution_count": 40,
   "metadata": {},
   "outputs": [
    {
     "data": {
      "text/plain": [
       "1.0    15744\n",
       "3.0    10641\n",
       "2.0     9315\n",
       "NaN     1018\n",
       "Name: Var2, dtype: int64"
      ]
     },
     "execution_count": 40,
     "metadata": {},
     "output_type": "execute_result"
    }
   ],
   "source": [
    "# Count values inside Var8 group by value\n",
    "df['Var2'].value_counts(dropna=False)"
   ]
  },
  {
   "cell_type": "code",
   "execution_count": 41,
   "metadata": {},
   "outputs": [],
   "source": [
    "# Put value 1 to the column Var2 if Var8 is not NaN\n",
    "df.loc[~df['Var8'].isna(), 'Var2'] = 1"
   ]
  },
  {
   "cell_type": "markdown",
   "metadata": {},
   "source": [
    "After transformation the number of NaN in Var8 dropped by almost half"
   ]
  },
  {
   "cell_type": "code",
   "execution_count": 42,
   "metadata": {},
   "outputs": [
    {
     "data": {
      "text/plain": [
       "1.0    16180\n",
       "3.0    10641\n",
       "2.0     9315\n",
       "NaN      582\n",
       "Name: Var2, dtype: int64"
      ]
     },
     "execution_count": 42,
     "metadata": {},
     "output_type": "execute_result"
    }
   ],
   "source": [
    "# count values inside Var8 group by value\n",
    "df['Var2'].value_counts(dropna=False)"
   ]
  },
  {
   "cell_type": "markdown",
   "metadata": {},
   "source": [
    "#### Analyze Var9 and Var10\n",
    "\n",
    "We have 28043 null values in Var10 (income of second applicant). We would like to check how many of these NAs is because of the fact that there is just one applicant.\n",
    "\n",
    "As we can see below all of NAs are inside this group. We decided to sum these columns into one and name it \"income\"."
   ]
  },
  {
   "cell_type": "code",
   "execution_count": 43,
   "metadata": {},
   "outputs": [
    {
     "data": {
      "text/plain": [
       "28043"
      ]
     },
     "execution_count": 43,
     "metadata": {},
     "output_type": "execute_result"
    }
   ],
   "source": [
    "# Count the number of nulls where Var1 = 1\n",
    "df.loc[df[\"Var1\"] == 1, \"Var10\"].isna().sum()"
   ]
  },
  {
   "cell_type": "code",
   "execution_count": 44,
   "metadata": {},
   "outputs": [],
   "source": [
    "# Create a new colum income\n",
    "df[\"income\"] = df[\"Var9\"] + df[\"Var10\"].fillna(0).astype(int) # Var9 was as integer, Var10 was as float, but we do not have NAs"
   ]
  },
  {
   "cell_type": "code",
   "execution_count": 45,
   "metadata": {},
   "outputs": [],
   "source": [
    "# Drop columns Var9 and Var10\n",
    "df.drop([\"Var9\", \"Var10\"], axis=1, inplace=True)"
   ]
  },
  {
   "cell_type": "code",
   "execution_count": 46,
   "metadata": {},
   "outputs": [],
   "source": [
    "# update the list of numeric columns\n",
    "numeric_columns.remove(\"Var9\")\n",
    "numeric_columns.remove(\"Var10\")\n",
    "numeric_columns.append(\"income\")"
   ]
  },
  {
   "cell_type": "markdown",
   "metadata": {},
   "source": [
    "Check again the number of null values"
   ]
  },
  {
   "cell_type": "code",
   "execution_count": 47,
   "metadata": {},
   "outputs": [
    {
     "data": {
      "text/plain": [
       "ID                    0\n",
       "customer_id           0\n",
       "_r_                   0\n",
       "Var1                  0\n",
       "Var4                  0\n",
       "Var5                  0\n",
       "Var6                  0\n",
       "Var7                  0\n",
       "Var8              20538\n",
       "Var15                 0\n",
       "Var16                 0\n",
       "Var17                32\n",
       "Var20                 0\n",
       "Var21                 0\n",
       "Var22                 0\n",
       "Var23                 0\n",
       "Var24                 0\n",
       "Var25              7401\n",
       "Var26             14649\n",
       "Var29                 0\n",
       "Var30                 0\n",
       "working_months        0\n",
       "income                0\n",
       "dtype: int64"
      ]
     },
     "execution_count": 47,
     "metadata": {},
     "output_type": "execute_result"
    }
   ],
   "source": [
    "df[numeric_columns].isna().sum()"
   ]
  },
  {
   "cell_type": "markdown",
   "metadata": {},
   "source": [
    "We still have a few variables with nulls:\n",
    "\n",
    "* Var8 - Value of the goods (car) - We decided to delete this variables from the dataset. The number of NAs is relatively huge (almost 56%), the variables refers only to the loans for car purposes and filling this with 0, mode, median or using KNN would not hane any sense.\n",
    "* Var17 - Spendings estimation - the number of NAs is low, there is a sense in filling this, we decided to use KNN to fill these variables.\n",
    "* Var25 - Amount on current account \n",
    "* Var26 - Amount on savings account\n",
    "\n",
    "When it comes to Var25 and Var26 we decidec to fill NAa with 0. NAs means probably that the client does not have account in our bank and we cannot reach that value or does not have any money on either current or saving account. In both cases there is an element of uncertainty which we decided to minimize.\n",
    "\n",
    "Because of this our model should be more conservative and penalize clients about whom we are not sure."
   ]
  },
  {
   "cell_type": "code",
   "execution_count": 48,
   "metadata": {},
   "outputs": [
    {
     "data": {
      "text/plain": [
       "55.93"
      ]
     },
     "execution_count": 48,
     "metadata": {},
     "output_type": "execute_result"
    }
   ],
   "source": [
    "# Check the percentage number of NAs in Var8 related to whole df\n",
    "round(df['Var8'].isna().sum() / df.shape[0] * 100, 2)"
   ]
  },
  {
   "cell_type": "code",
   "execution_count": 49,
   "metadata": {},
   "outputs": [],
   "source": [
    "# Drop Var8 column\n",
    "df.drop('Var8', axis=1, inplace=True)"
   ]
  },
  {
   "cell_type": "code",
   "execution_count": 50,
   "metadata": {},
   "outputs": [],
   "source": [
    "# Drop Var8 from the list of numeric columns\n",
    "numeric_columns.remove('Var8')"
   ]
  },
  {
   "cell_type": "code",
   "execution_count": 51,
   "metadata": {},
   "outputs": [],
   "source": [
    "# Put a value 0 to the NaN in Var25 and Var26 columns\n",
    "df['Var25'] = df['Var25'].fillna(0)\n",
    "df['Var26'] = df['Var26'].fillna(0)"
   ]
  },
  {
   "cell_type": "code",
   "execution_count": 52,
   "metadata": {},
   "outputs": [
    {
     "data": {
      "text/plain": [
       "ID                 0\n",
       "customer_id        0\n",
       "_r_                0\n",
       "Var1               0\n",
       "Var4               0\n",
       "Var5               0\n",
       "Var6               0\n",
       "Var7               0\n",
       "Var15              0\n",
       "Var16              0\n",
       "Var17             32\n",
       "Var20              0\n",
       "Var21              0\n",
       "Var22              0\n",
       "Var23              0\n",
       "Var24              0\n",
       "Var25              0\n",
       "Var26              0\n",
       "Var29              0\n",
       "Var30              0\n",
       "working_months     0\n",
       "income             0\n",
       "dtype: int64"
      ]
     },
     "execution_count": 52,
     "metadata": {},
     "output_type": "execute_result"
    }
   ],
   "source": [
    "df[numeric_columns].isna().sum()"
   ]
  },
  {
   "cell_type": "markdown",
   "metadata": {},
   "source": [
    "### Handle remaining NULL values"
   ]
  },
  {
   "cell_type": "code",
   "execution_count": 53,
   "metadata": {},
   "outputs": [
    {
     "data": {
      "text/plain": [
       "working_months        0\n",
       "ID                    0\n",
       "customer_id           0\n",
       "_r_                   0\n",
       "Var1                  0\n",
       "Var4                  0\n",
       "Var5                  0\n",
       "Var6                  0\n",
       "Var7                  0\n",
       "Var15                 0\n",
       "Var16                 0\n",
       "Var17                32\n",
       "Var20                 0\n",
       "Var21                 0\n",
       "Var22                 0\n",
       "Var23                 0\n",
       "Var24                 0\n",
       "Var25                 0\n",
       "Var26                 0\n",
       "Var29                 0\n",
       "Var30                 0\n",
       "Var2                582\n",
       "Var3               1018\n",
       "Var11                 0\n",
       "Var12             28043\n",
       "Var14                 0\n",
       "target                0\n",
       "Var18             27125\n",
       "Var19             20538\n",
       "Var27                 0\n",
       "Var28                 0\n",
       "income                0\n",
       "dtype: int64"
      ]
     },
     "execution_count": 53,
     "metadata": {},
     "output_type": "execute_result"
    }
   ],
   "source": [
    "df.isnull().sum()"
   ]
  },
  {
   "cell_type": "markdown",
   "metadata": {},
   "source": [
    "* Var17 - spedning estimation - as we wrote before, we will fill with KNN\n",
    "* Var2 - loan purpose [categorical] - drop NA rows\n",
    "* Var3 - Distribution channel [categorical] - drop NA rows\n",
    "* Var12 - profession of second applicant [categorical] - add new category\n",
    "* Var18 - Property ownership for property renovation\n",
    "* Var19 - Clasification of the vehicle (Car, Motorbike)\n",
    "\n",
    "When it comes to the Var18 and Var19 we analyze combining them with Var2 (loan purpose) and have 1 categorical variable with values:\n",
    "\n",
    "1. Car loan motorbike\n",
    "2. Car loan car\n",
    "3. House renovation your property\n",
    "4. House renovation not your property\n",
    "5. Short cash\n",
    "\n",
    "We finally decided not to use this approach, however we provide you with the short analysis why. "
   ]
  },
  {
   "cell_type": "markdown",
   "metadata": {},
   "source": [
    "#### Var12"
   ]
  },
  {
   "cell_type": "markdown",
   "metadata": {},
   "source": [
    "Check if all NAs in Var12 (profession of second applicant)are if Var1 == 1, so if there is just one applicant.\n",
    "\n",
    "The number of NAs in this category is the same as the number of NAs when Var1 == 1, so we fill it with a new category."
   ]
  },
  {
   "cell_type": "code",
   "execution_count": 54,
   "metadata": {},
   "outputs": [
    {
     "data": {
      "text/plain": [
       "28043"
      ]
     },
     "execution_count": 54,
     "metadata": {},
     "output_type": "execute_result"
    }
   ],
   "source": [
    "df.loc[df[\"Var1\"] == 1, \"Var12\"].isna().sum()"
   ]
  },
  {
   "cell_type": "markdown",
   "metadata": {},
   "source": [
    "Fill NA in Var12 (profession of second applicant) with new category: 8 - just one applicant"
   ]
  },
  {
   "cell_type": "code",
   "execution_count": 55,
   "metadata": {},
   "outputs": [],
   "source": [
    "df[\"Var12\"] = df[\"Var12\"].fillna(8)"
   ]
  },
  {
   "cell_type": "markdown",
   "metadata": {},
   "source": [
    "#### Var18 and Var19 - check\n",
    "\n",
    "Check if we can combine Var2 with Var18 and Var19 and having one categorical variable instead of one vategorical and 2 binary with huge amount of nulls. The new variable would consists of 5 values:\n",
    "\n",
    "1. Car loan motorbike\n",
    "2. Car loan car\n",
    "3. House renovation your property\n",
    "4. House renovation not your property\n",
    "5. Short cash\n",
    "\n",
    "First of all we need to check the values - if combining them would reduce the nulls to 0 and nulls are related only to the variable specificity or we really have some missing data.\n",
    "\n",
    "Var2 == 1 is related to Var 19 and Var2 == 2 is related to Var 18."
   ]
  },
  {
   "cell_type": "code",
   "execution_count": 56,
   "metadata": {},
   "outputs": [
    {
     "data": {
      "text/plain": [
       "36718"
      ]
     },
     "execution_count": 56,
     "metadata": {},
     "output_type": "execute_result"
    }
   ],
   "source": [
    "df.shape[0]"
   ]
  },
  {
   "cell_type": "code",
   "execution_count": 57,
   "metadata": {},
   "outputs": [
    {
     "name": "stdout",
     "output_type": "stream",
     "text": [
      "9315\n",
      "16180\n",
      "10641\n",
      "36136\n"
     ]
    }
   ],
   "source": [
    "# Check if the number of \"conditional\" values is the same as the number of rows in df\n",
    "\n",
    "# Count rows where Var2 == 1 and Var19 is not NaN\n",
    "var2_19 = df[(df['Var2'] == 1) & (~df['Var19'].isna())].shape[0]\n",
    "\n",
    "# Count rows where Var2 == 2 and Var 18 is not NaN\n",
    "var2_18 = df[(df['Var2'] == 2) & (~df['Var18'].isna())].shape[0]\n",
    "\n",
    "# Count rows where Var2 == 3\n",
    "var2_3 = df.loc[df[\"Var2\"] == 3].shape[0]\n",
    "\n",
    "# Calculate of sum\n",
    "sum = var2_19 + var2_18 + var2_3\n",
    "\n",
    "print(var2_18)\n",
    "print(var2_19)\n",
    "print(var2_3)\n",
    "print(sum)"
   ]
  },
  {
   "cell_type": "markdown",
   "metadata": {},
   "source": [
    "The number of rows in df is 36718 while the \"conditional\" sum is 36136, meaning that there would be a new category or we would need to add original values from Var2 and the number of categories would increase.\n",
    "\n",
    "Lets try to create this categorical column and see the distribution."
   ]
  },
  {
   "cell_type": "code",
   "execution_count": 58,
   "metadata": {},
   "outputs": [],
   "source": [
    "# Add new column loan_desc\n",
    "df['loan_desc'] = 0\n",
    "\n",
    "# Check conditions\n",
    "df.loc[(df['Var2'] == 1) & (df['Var19'] == 1), 'loan_desc'] = 1\n",
    "df.loc[(df['Var2'] == 1) & (df['Var19'] == 0), 'loan_desc'] = 2\n",
    "df.loc[(df['Var2'] == 2) & (df['Var18'] == 1), 'loan_desc'] = 3\n",
    "df.loc[(df['Var2'] == 2) & (df['Var18'] == 0), 'loan_desc'] = 4\n",
    "df.loc[df['Var2'] == 3, 'loan_desc'] = 5"
   ]
  },
  {
   "cell_type": "code",
   "execution_count": 59,
   "metadata": {},
   "outputs": [
    {
     "data": {
      "text/plain": [
       "1    11823\n",
       "5    10641\n",
       "3     7840\n",
       "2     4357\n",
       "4     1475\n",
       "0      582\n",
       "Name: loan_desc, dtype: int64"
      ]
     },
     "execution_count": 59,
     "metadata": {},
     "output_type": "execute_result"
    }
   ],
   "source": [
    "df['loan_desc'].value_counts(dropna=False)"
   ]
  },
  {
   "cell_type": "markdown",
   "metadata": {},
   "source": [
    "As we can observe above introducing new variables diveded the df into smaller, not very numerous groups. Vast majority of data are concentrated around 1, 5 and 3 group so probably (there was no precise description of variable Var18 and Var19) for:\n",
    "\n",
    " * Car loan for car\n",
    " * House renovation for client's property\n",
    " * Short cash\n",
    "\n",
    "These new two groups (2, 4) and additional 0 constitute a small percentage of all df.\n",
    "\n",
    "Summarizing we decide to go with variable Var2 and delete Var18 and Var19."
   ]
  },
  {
   "cell_type": "code",
   "execution_count": 60,
   "metadata": {},
   "outputs": [
    {
     "data": {
      "text/plain": [
       "(36718, 33)"
      ]
     },
     "execution_count": 60,
     "metadata": {},
     "output_type": "execute_result"
    }
   ],
   "source": [
    "df.shape"
   ]
  },
  {
   "cell_type": "markdown",
   "metadata": {},
   "source": [
    "#### Drop Var18 i Var19"
   ]
  },
  {
   "cell_type": "code",
   "execution_count": 61,
   "metadata": {},
   "outputs": [],
   "source": [
    "# Drop Var18 and Var19 columns\n",
    "df.drop('Var18', axis=1, inplace=True)\n",
    "df.drop('Var19', axis=1, inplace=True)"
   ]
  },
  {
   "cell_type": "code",
   "execution_count": 62,
   "metadata": {},
   "outputs": [],
   "source": [
    "# Update the list of binary columns\n",
    "binary_columns.remove('Var18')\n",
    "binary_columns.remove('Var19')"
   ]
  },
  {
   "cell_type": "markdown",
   "metadata": {},
   "source": [
    "#### Var2 and Var3 - drop NAs"
   ]
  },
  {
   "cell_type": "code",
   "execution_count": 63,
   "metadata": {},
   "outputs": [],
   "source": [
    "# Drop NA rows fof Var2\n",
    "df = df[~df['Var2'].isna()]\n",
    "df = df[~df['Var3'].isna()]"
   ]
  },
  {
   "cell_type": "code",
   "execution_count": 64,
   "metadata": {},
   "outputs": [
    {
     "data": {
      "text/plain": [
       "1.0    18354\n",
       "2.0    12066\n",
       "3.0     5280\n",
       "Name: Var3, dtype: int64"
      ]
     },
     "execution_count": 64,
     "metadata": {},
     "output_type": "execute_result"
    }
   ],
   "source": [
    "# sum number of observations for each category in Var3\n",
    "df['Var3'].value_counts(dropna=False)"
   ]
  },
  {
   "cell_type": "code",
   "execution_count": 65,
   "metadata": {},
   "outputs": [
    {
     "data": {
      "text/plain": [
       "working_months     0\n",
       "ID                 0\n",
       "customer_id        0\n",
       "_r_                0\n",
       "Var1               0\n",
       "Var4               0\n",
       "Var5               0\n",
       "Var6               0\n",
       "Var7               0\n",
       "Var15              0\n",
       "Var16              0\n",
       "Var17             31\n",
       "Var20              0\n",
       "Var21              0\n",
       "Var22              0\n",
       "Var23              0\n",
       "Var24              0\n",
       "Var25              0\n",
       "Var26              0\n",
       "Var29              0\n",
       "Var30              0\n",
       "Var2               0\n",
       "Var3               0\n",
       "Var11              0\n",
       "Var12              0\n",
       "Var14              0\n",
       "target             0\n",
       "Var27              0\n",
       "Var28              0\n",
       "income             0\n",
       "loan_desc          0\n",
       "dtype: int64"
      ]
     },
     "execution_count": 65,
     "metadata": {},
     "output_type": "execute_result"
    }
   ],
   "source": [
    "df.isna().sum()"
   ]
  },
  {
   "cell_type": "markdown",
   "metadata": {},
   "source": [
    "Summarizing we still have 31 NAs in Var17 which will be filled using KNN"
   ]
  },
  {
   "cell_type": "markdown",
   "metadata": {},
   "source": [
    "### One hot encoding to categorical columns\n",
    "\n",
    "Apply one-hot encoding to the specified categorical nominal variables in the 'sorted_data' DataFrame.\n",
    "The variables identified for this encoding are: Var2, Var3, Var11, Var12, and Var14.\n",
    "One-hot encoding converts these categorical variables into a form that could be provided to ML algorithms\n",
    "to do a better job in prediction. It creates binary columns for each category/value in the original columns\n",
    "and assigns a 1 or 0 (presence or absence) in those newly created binary columns.\n",
    "\n",
    "The 'pd.get_dummies()' function is used here to perform one-hot encoding on the specified columns.\n",
    "It automatically generates new columns for each unique value in the specified categorical columns,\n",
    "effectively transforming them into a format that's suitable for modeling."
   ]
  },
  {
   "cell_type": "code",
   "execution_count": 66,
   "metadata": {},
   "outputs": [
    {
     "data": {
      "text/html": [
       "<div>\n",
       "<style scoped>\n",
       "    .dataframe tbody tr th:only-of-type {\n",
       "        vertical-align: middle;\n",
       "    }\n",
       "\n",
       "    .dataframe tbody tr th {\n",
       "        vertical-align: top;\n",
       "    }\n",
       "\n",
       "    .dataframe thead th {\n",
       "        text-align: right;\n",
       "    }\n",
       "</style>\n",
       "<table border=\"1\" class=\"dataframe\">\n",
       "  <thead>\n",
       "    <tr style=\"text-align: right;\">\n",
       "      <th></th>\n",
       "      <th>working_months</th>\n",
       "      <th>ID</th>\n",
       "      <th>customer_id</th>\n",
       "      <th>_r_</th>\n",
       "      <th>Var1</th>\n",
       "      <th>Var4</th>\n",
       "      <th>Var5</th>\n",
       "      <th>Var6</th>\n",
       "      <th>Var7</th>\n",
       "      <th>Var15</th>\n",
       "      <th>...</th>\n",
       "      <th>Var2</th>\n",
       "      <th>Var3</th>\n",
       "      <th>Var11</th>\n",
       "      <th>Var12</th>\n",
       "      <th>Var14</th>\n",
       "      <th>target</th>\n",
       "      <th>Var27</th>\n",
       "      <th>Var28</th>\n",
       "      <th>income</th>\n",
       "      <th>loan_desc</th>\n",
       "    </tr>\n",
       "  </thead>\n",
       "  <tbody>\n",
       "    <tr>\n",
       "      <th>0</th>\n",
       "      <td>62</td>\n",
       "      <td>11034977</td>\n",
       "      <td>32537148</td>\n",
       "      <td>0.267045</td>\n",
       "      <td>1</td>\n",
       "      <td>7800</td>\n",
       "      <td>99</td>\n",
       "      <td>1</td>\n",
       "      <td>108.73</td>\n",
       "      <td>0</td>\n",
       "      <td>...</td>\n",
       "      <td>2.0</td>\n",
       "      <td>1.0</td>\n",
       "      <td>5</td>\n",
       "      <td>8.0</td>\n",
       "      <td>2</td>\n",
       "      <td>0.0</td>\n",
       "      <td>0</td>\n",
       "      <td>0</td>\n",
       "      <td>5640</td>\n",
       "      <td>3</td>\n",
       "    </tr>\n",
       "    <tr>\n",
       "      <th>1</th>\n",
       "      <td>160</td>\n",
       "      <td>11034978</td>\n",
       "      <td>32761663</td>\n",
       "      <td>0.533040</td>\n",
       "      <td>1</td>\n",
       "      <td>11100</td>\n",
       "      <td>78</td>\n",
       "      <td>1</td>\n",
       "      <td>195.99</td>\n",
       "      <td>4</td>\n",
       "      <td>...</td>\n",
       "      <td>1.0</td>\n",
       "      <td>2.0</td>\n",
       "      <td>2</td>\n",
       "      <td>8.0</td>\n",
       "      <td>4</td>\n",
       "      <td>0.0</td>\n",
       "      <td>0</td>\n",
       "      <td>0</td>\n",
       "      <td>3000</td>\n",
       "      <td>1</td>\n",
       "    </tr>\n",
       "    <tr>\n",
       "      <th>2</th>\n",
       "      <td>248</td>\n",
       "      <td>11034979</td>\n",
       "      <td>32701063</td>\n",
       "      <td>0.861555</td>\n",
       "      <td>2</td>\n",
       "      <td>2400</td>\n",
       "      <td>15</td>\n",
       "      <td>1</td>\n",
       "      <td>248.34</td>\n",
       "      <td>0</td>\n",
       "      <td>...</td>\n",
       "      <td>3.0</td>\n",
       "      <td>1.0</td>\n",
       "      <td>5</td>\n",
       "      <td>5.0</td>\n",
       "      <td>1</td>\n",
       "      <td>0.0</td>\n",
       "      <td>0</td>\n",
       "      <td>0</td>\n",
       "      <td>10540</td>\n",
       "      <td>5</td>\n",
       "    </tr>\n",
       "    <tr>\n",
       "      <th>3</th>\n",
       "      <td>265</td>\n",
       "      <td>11034980</td>\n",
       "      <td>32386786</td>\n",
       "      <td>0.506451</td>\n",
       "      <td>3</td>\n",
       "      <td>11800</td>\n",
       "      <td>30</td>\n",
       "      <td>6</td>\n",
       "      <td>3538.68</td>\n",
       "      <td>0</td>\n",
       "      <td>...</td>\n",
       "      <td>1.0</td>\n",
       "      <td>2.0</td>\n",
       "      <td>6</td>\n",
       "      <td>5.0</td>\n",
       "      <td>1</td>\n",
       "      <td>0.0</td>\n",
       "      <td>0</td>\n",
       "      <td>0</td>\n",
       "      <td>7060</td>\n",
       "      <td>2</td>\n",
       "    </tr>\n",
       "    <tr>\n",
       "      <th>5</th>\n",
       "      <td>0</td>\n",
       "      <td>11034982</td>\n",
       "      <td>32861919</td>\n",
       "      <td>0.003446</td>\n",
       "      <td>1</td>\n",
       "      <td>7200</td>\n",
       "      <td>36</td>\n",
       "      <td>1</td>\n",
       "      <td>267.19</td>\n",
       "      <td>1</td>\n",
       "      <td>...</td>\n",
       "      <td>2.0</td>\n",
       "      <td>1.0</td>\n",
       "      <td>5</td>\n",
       "      <td>8.0</td>\n",
       "      <td>0</td>\n",
       "      <td>0.0</td>\n",
       "      <td>0</td>\n",
       "      <td>0</td>\n",
       "      <td>3960</td>\n",
       "      <td>4</td>\n",
       "    </tr>\n",
       "  </tbody>\n",
       "</table>\n",
       "<p>5 rows × 31 columns</p>\n",
       "</div>"
      ],
      "text/plain": [
       "   working_months        ID  customer_id       _r_  Var1   Var4  Var5  Var6  \\\n",
       "0              62  11034977     32537148  0.267045     1   7800    99     1   \n",
       "1             160  11034978     32761663  0.533040     1  11100    78     1   \n",
       "2             248  11034979     32701063  0.861555     2   2400    15     1   \n",
       "3             265  11034980     32386786  0.506451     3  11800    30     6   \n",
       "5               0  11034982     32861919  0.003446     1   7200    36     1   \n",
       "\n",
       "      Var7  Var15  ...  Var2  Var3  Var11  Var12  Var14  target  Var27  Var28  \\\n",
       "0   108.73      0  ...   2.0   1.0      5    8.0      2     0.0      0      0   \n",
       "1   195.99      4  ...   1.0   2.0      2    8.0      4     0.0      0      0   \n",
       "2   248.34      0  ...   3.0   1.0      5    5.0      1     0.0      0      0   \n",
       "3  3538.68      0  ...   1.0   2.0      6    5.0      1     0.0      0      0   \n",
       "5   267.19      1  ...   2.0   1.0      5    8.0      0     0.0      0      0   \n",
       "\n",
       "   income  loan_desc  \n",
       "0    5640          3  \n",
       "1    3000          1  \n",
       "2   10540          5  \n",
       "3    7060          2  \n",
       "5    3960          4  \n",
       "\n",
       "[5 rows x 31 columns]"
      ]
     },
     "execution_count": 66,
     "metadata": {},
     "output_type": "execute_result"
    }
   ],
   "source": [
    "df.head()"
   ]
  },
  {
   "cell_type": "code",
   "execution_count": 67,
   "metadata": {},
   "outputs": [
    {
     "data": {
      "text/plain": [
       "['Var2', 'Var3', 'Var11', 'Var12', 'Var14']"
      ]
     },
     "execution_count": 67,
     "metadata": {},
     "output_type": "execute_result"
    }
   ],
   "source": [
    "categorical_columns"
   ]
  },
  {
   "cell_type": "code",
   "execution_count": 68,
   "metadata": {},
   "outputs": [
    {
     "data": {
      "text/html": [
       "<div>\n",
       "<style scoped>\n",
       "    .dataframe tbody tr th:only-of-type {\n",
       "        vertical-align: middle;\n",
       "    }\n",
       "\n",
       "    .dataframe tbody tr th {\n",
       "        vertical-align: top;\n",
       "    }\n",
       "\n",
       "    .dataframe thead th {\n",
       "        text-align: right;\n",
       "    }\n",
       "</style>\n",
       "<table border=\"1\" class=\"dataframe\">\n",
       "  <thead>\n",
       "    <tr style=\"text-align: right;\">\n",
       "      <th></th>\n",
       "      <th>working_months</th>\n",
       "      <th>ID</th>\n",
       "      <th>customer_id</th>\n",
       "      <th>_r_</th>\n",
       "      <th>Var1</th>\n",
       "      <th>Var4</th>\n",
       "      <th>Var5</th>\n",
       "      <th>Var6</th>\n",
       "      <th>Var7</th>\n",
       "      <th>Var15</th>\n",
       "      <th>...</th>\n",
       "      <th>Var12_3.0</th>\n",
       "      <th>Var12_4.0</th>\n",
       "      <th>Var12_5.0</th>\n",
       "      <th>Var12_6.0</th>\n",
       "      <th>Var12_7.0</th>\n",
       "      <th>Var12_8.0</th>\n",
       "      <th>Var14_1</th>\n",
       "      <th>Var14_2</th>\n",
       "      <th>Var14_3</th>\n",
       "      <th>Var14_4</th>\n",
       "    </tr>\n",
       "  </thead>\n",
       "  <tbody>\n",
       "    <tr>\n",
       "      <th>0</th>\n",
       "      <td>62</td>\n",
       "      <td>11034977</td>\n",
       "      <td>32537148</td>\n",
       "      <td>0.267045</td>\n",
       "      <td>1</td>\n",
       "      <td>7800</td>\n",
       "      <td>99</td>\n",
       "      <td>1</td>\n",
       "      <td>108.73</td>\n",
       "      <td>0</td>\n",
       "      <td>...</td>\n",
       "      <td>0</td>\n",
       "      <td>0</td>\n",
       "      <td>0</td>\n",
       "      <td>0</td>\n",
       "      <td>0</td>\n",
       "      <td>1</td>\n",
       "      <td>0</td>\n",
       "      <td>1</td>\n",
       "      <td>0</td>\n",
       "      <td>0</td>\n",
       "    </tr>\n",
       "    <tr>\n",
       "      <th>1</th>\n",
       "      <td>160</td>\n",
       "      <td>11034978</td>\n",
       "      <td>32761663</td>\n",
       "      <td>0.533040</td>\n",
       "      <td>1</td>\n",
       "      <td>11100</td>\n",
       "      <td>78</td>\n",
       "      <td>1</td>\n",
       "      <td>195.99</td>\n",
       "      <td>4</td>\n",
       "      <td>...</td>\n",
       "      <td>0</td>\n",
       "      <td>0</td>\n",
       "      <td>0</td>\n",
       "      <td>0</td>\n",
       "      <td>0</td>\n",
       "      <td>1</td>\n",
       "      <td>0</td>\n",
       "      <td>0</td>\n",
       "      <td>0</td>\n",
       "      <td>1</td>\n",
       "    </tr>\n",
       "    <tr>\n",
       "      <th>2</th>\n",
       "      <td>248</td>\n",
       "      <td>11034979</td>\n",
       "      <td>32701063</td>\n",
       "      <td>0.861555</td>\n",
       "      <td>2</td>\n",
       "      <td>2400</td>\n",
       "      <td>15</td>\n",
       "      <td>1</td>\n",
       "      <td>248.34</td>\n",
       "      <td>0</td>\n",
       "      <td>...</td>\n",
       "      <td>0</td>\n",
       "      <td>0</td>\n",
       "      <td>1</td>\n",
       "      <td>0</td>\n",
       "      <td>0</td>\n",
       "      <td>0</td>\n",
       "      <td>1</td>\n",
       "      <td>0</td>\n",
       "      <td>0</td>\n",
       "      <td>0</td>\n",
       "    </tr>\n",
       "    <tr>\n",
       "      <th>3</th>\n",
       "      <td>265</td>\n",
       "      <td>11034980</td>\n",
       "      <td>32386786</td>\n",
       "      <td>0.506451</td>\n",
       "      <td>3</td>\n",
       "      <td>11800</td>\n",
       "      <td>30</td>\n",
       "      <td>6</td>\n",
       "      <td>3538.68</td>\n",
       "      <td>0</td>\n",
       "      <td>...</td>\n",
       "      <td>0</td>\n",
       "      <td>0</td>\n",
       "      <td>1</td>\n",
       "      <td>0</td>\n",
       "      <td>0</td>\n",
       "      <td>0</td>\n",
       "      <td>1</td>\n",
       "      <td>0</td>\n",
       "      <td>0</td>\n",
       "      <td>0</td>\n",
       "    </tr>\n",
       "    <tr>\n",
       "      <th>5</th>\n",
       "      <td>0</td>\n",
       "      <td>11034982</td>\n",
       "      <td>32861919</td>\n",
       "      <td>0.003446</td>\n",
       "      <td>1</td>\n",
       "      <td>7200</td>\n",
       "      <td>36</td>\n",
       "      <td>1</td>\n",
       "      <td>267.19</td>\n",
       "      <td>1</td>\n",
       "      <td>...</td>\n",
       "      <td>0</td>\n",
       "      <td>0</td>\n",
       "      <td>0</td>\n",
       "      <td>0</td>\n",
       "      <td>0</td>\n",
       "      <td>1</td>\n",
       "      <td>0</td>\n",
       "      <td>0</td>\n",
       "      <td>0</td>\n",
       "      <td>0</td>\n",
       "    </tr>\n",
       "  </tbody>\n",
       "</table>\n",
       "<p>5 rows × 47 columns</p>\n",
       "</div>"
      ],
      "text/plain": [
       "   working_months        ID  customer_id       _r_  Var1   Var4  Var5  Var6  \\\n",
       "0              62  11034977     32537148  0.267045     1   7800    99     1   \n",
       "1             160  11034978     32761663  0.533040     1  11100    78     1   \n",
       "2             248  11034979     32701063  0.861555     2   2400    15     1   \n",
       "3             265  11034980     32386786  0.506451     3  11800    30     6   \n",
       "5               0  11034982     32861919  0.003446     1   7200    36     1   \n",
       "\n",
       "      Var7  Var15  ...  Var12_3.0  Var12_4.0  Var12_5.0  Var12_6.0  Var12_7.0  \\\n",
       "0   108.73      0  ...          0          0          0          0          0   \n",
       "1   195.99      4  ...          0          0          0          0          0   \n",
       "2   248.34      0  ...          0          0          1          0          0   \n",
       "3  3538.68      0  ...          0          0          1          0          0   \n",
       "5   267.19      1  ...          0          0          0          0          0   \n",
       "\n",
       "   Var12_8.0  Var14_1  Var14_2  Var14_3  Var14_4  \n",
       "0          1        0        1        0        0  \n",
       "1          1        0        0        0        1  \n",
       "2          0        1        0        0        0  \n",
       "3          0        1        0        0        0  \n",
       "5          1        0        0        0        0  \n",
       "\n",
       "[5 rows x 47 columns]"
      ]
     },
     "execution_count": 68,
     "metadata": {},
     "output_type": "execute_result"
    }
   ],
   "source": [
    "df = pd.get_dummies(df, columns=['Var2', 'Var3', 'Var11', 'Var12', 'Var14'], drop_first=True)\n",
    "\n",
    "# Display the first few rows of the DataFrame to check the results of the encoding.\n",
    "# This step allows us to verify that the one-hot encoding process has successfully transformed the specified\n",
    "# categorical variables into a set of binary variables, each representing a unique category within the original variables.\n",
    "df.head()"
   ]
  },
  {
   "cell_type": "markdown",
   "metadata": {},
   "source": [
    "### Filling NAs with KNN"
   ]
  },
  {
   "cell_type": "code",
   "execution_count": 69,
   "metadata": {},
   "outputs": [
    {
     "name": "stdout",
     "output_type": "stream",
     "text": [
      "<class 'pandas.core.frame.DataFrame'>\n",
      "Int64Index: 35700 entries, 0 to 49999\n",
      "Data columns (total 47 columns):\n",
      " #   Column          Non-Null Count  Dtype  \n",
      "---  ------          --------------  -----  \n",
      " 0   working_months  35700 non-null  int32  \n",
      " 1   ID              35700 non-null  int64  \n",
      " 2   customer_id     35700 non-null  int64  \n",
      " 3   _r_             35700 non-null  float64\n",
      " 4   Var1            35700 non-null  int64  \n",
      " 5   Var4            35700 non-null  int64  \n",
      " 6   Var5            35700 non-null  int64  \n",
      " 7   Var6            35700 non-null  int64  \n",
      " 8   Var7            35700 non-null  float64\n",
      " 9   Var15           35700 non-null  int64  \n",
      " 10  Var16           35700 non-null  int64  \n",
      " 11  Var17           35669 non-null  float64\n",
      " 12  Var20           35700 non-null  int64  \n",
      " 13  Var21           35700 non-null  int64  \n",
      " 14  Var22           35700 non-null  int64  \n",
      " 15  Var23           35700 non-null  int64  \n",
      " 16  Var24           35700 non-null  int64  \n",
      " 17  Var25           35700 non-null  float64\n",
      " 18  Var26           35700 non-null  float64\n",
      " 19  Var29           35700 non-null  int64  \n",
      " 20  Var30           35700 non-null  int64  \n",
      " 21  target          35700 non-null  float64\n",
      " 22  Var27           35700 non-null  int64  \n",
      " 23  Var28           35700 non-null  int64  \n",
      " 24  income          35700 non-null  int64  \n",
      " 25  loan_desc       35700 non-null  int64  \n",
      " 26  Var2_2.0        35700 non-null  uint8  \n",
      " 27  Var2_3.0        35700 non-null  uint8  \n",
      " 28  Var3_2.0        35700 non-null  uint8  \n",
      " 29  Var3_3.0        35700 non-null  uint8  \n",
      " 30  Var11_2         35700 non-null  uint8  \n",
      " 31  Var11_3         35700 non-null  uint8  \n",
      " 32  Var11_4         35700 non-null  uint8  \n",
      " 33  Var11_5         35700 non-null  uint8  \n",
      " 34  Var11_6         35700 non-null  uint8  \n",
      " 35  Var11_7         35700 non-null  uint8  \n",
      " 36  Var12_2.0       35700 non-null  uint8  \n",
      " 37  Var12_3.0       35700 non-null  uint8  \n",
      " 38  Var12_4.0       35700 non-null  uint8  \n",
      " 39  Var12_5.0       35700 non-null  uint8  \n",
      " 40  Var12_6.0       35700 non-null  uint8  \n",
      " 41  Var12_7.0       35700 non-null  uint8  \n",
      " 42  Var12_8.0       35700 non-null  uint8  \n",
      " 43  Var14_1         35700 non-null  uint8  \n",
      " 44  Var14_2         35700 non-null  uint8  \n",
      " 45  Var14_3         35700 non-null  uint8  \n",
      " 46  Var14_4         35700 non-null  uint8  \n",
      "dtypes: float64(6), int32(1), int64(19), uint8(21)\n",
      "memory usage: 7.9 MB\n"
     ]
    }
   ],
   "source": [
    "df.info()"
   ]
  },
  {
   "cell_type": "code",
   "execution_count": 70,
   "metadata": {},
   "outputs": [],
   "source": [
    "# change working_months to int32\n",
    "df['working_months'] = df['working_months'].astype('int32')"
   ]
  },
  {
   "cell_type": "code",
   "execution_count": 71,
   "metadata": {},
   "outputs": [
    {
     "name": "stdout",
     "output_type": "stream",
     "text": [
      "<class 'pandas.core.frame.DataFrame'>\n",
      "Int64Index: 35700 entries, 0 to 49999\n",
      "Data columns (total 47 columns):\n",
      " #   Column          Non-Null Count  Dtype  \n",
      "---  ------          --------------  -----  \n",
      " 0   working_months  35700 non-null  float64\n",
      " 1   ID              35700 non-null  int64  \n",
      " 2   customer_id     35700 non-null  int64  \n",
      " 3   _r_             35700 non-null  float64\n",
      " 4   Var1            35700 non-null  int64  \n",
      " 5   Var4            35700 non-null  int64  \n",
      " 6   Var5            35700 non-null  int64  \n",
      " 7   Var6            35700 non-null  int64  \n",
      " 8   Var7            35700 non-null  float64\n",
      " 9   Var15           35700 non-null  int64  \n",
      " 10  Var16           35700 non-null  int64  \n",
      " 11  Var17           35700 non-null  float64\n",
      " 12  Var20           35700 non-null  int64  \n",
      " 13  Var21           35700 non-null  int64  \n",
      " 14  Var22           35700 non-null  int64  \n",
      " 15  Var23           35700 non-null  int64  \n",
      " 16  Var24           35700 non-null  int64  \n",
      " 17  Var25           35700 non-null  float64\n",
      " 18  Var26           35700 non-null  float64\n",
      " 19  Var29           35700 non-null  int64  \n",
      " 20  Var30           35700 non-null  int64  \n",
      " 21  target          35700 non-null  float64\n",
      " 22  Var27           35700 non-null  int64  \n",
      " 23  Var28           35700 non-null  int64  \n",
      " 24  income          35700 non-null  int64  \n",
      " 25  loan_desc       35700 non-null  int64  \n",
      " 26  Var2_2.0        35700 non-null  uint8  \n",
      " 27  Var2_3.0        35700 non-null  uint8  \n",
      " 28  Var3_2.0        35700 non-null  uint8  \n",
      " 29  Var3_3.0        35700 non-null  uint8  \n",
      " 30  Var11_2         35700 non-null  uint8  \n",
      " 31  Var11_3         35700 non-null  uint8  \n",
      " 32  Var11_4         35700 non-null  uint8  \n",
      " 33  Var11_5         35700 non-null  uint8  \n",
      " 34  Var11_6         35700 non-null  uint8  \n",
      " 35  Var11_7         35700 non-null  uint8  \n",
      " 36  Var12_2.0       35700 non-null  uint8  \n",
      " 37  Var12_3.0       35700 non-null  uint8  \n",
      " 38  Var12_4.0       35700 non-null  uint8  \n",
      " 39  Var12_5.0       35700 non-null  uint8  \n",
      " 40  Var12_6.0       35700 non-null  uint8  \n",
      " 41  Var12_7.0       35700 non-null  uint8  \n",
      " 42  Var12_8.0       35700 non-null  uint8  \n",
      " 43  Var14_1         35700 non-null  uint8  \n",
      " 44  Var14_2         35700 non-null  uint8  \n",
      " 45  Var14_3         35700 non-null  uint8  \n",
      " 46  Var14_4         35700 non-null  uint8  \n",
      "dtypes: float64(7), int64(19), uint8(21)\n",
      "memory usage: 8.1 MB\n"
     ]
    }
   ],
   "source": [
    "# Set the seed for reproducibility\n",
    "np.random.seed(123456)\n",
    "\n",
    "# Save the original data types of the DataFrame. This is crucial for restoring the DataFrame's data types\n",
    "# after imputation since KNNImputer will convert the imputed data to float64 by default.\n",
    "original_dtypes = df.dtypes\n",
    "\n",
    "# Initialize the KNNImputer. The default setting uses 5 nearest neighbors to impute missing values,\n",
    "# which is a balance between accuracy and computational efficiency.\n",
    "knn_imputer = KNNImputer()\n",
    "\n",
    "# Replace 0s with NaNs in the 'working_months' column if necessary. This step is preparatory for imputation,\n",
    "# ensuring that 0s, which may signify missing or unrecorded data, are correctly treated as missing values.\n",
    "df['working_months'] = df['working_months'].replace(0, np.nan)\n",
    "\n",
    "# Select only numerical columns from the DataFrame for imputation. KNNImputer works with numerical data,\n",
    "# so identifying these columns is a prerequisite for the imputation process.\n",
    "numerical_cols = df.select_dtypes(include=['int64', 'float64', 'int32']).columns\n",
    "\n",
    "# Perform the imputation using KNN. This process fills in missing values based on the mean of the\n",
    "# nearest neighbors found in the multidimensional space, providing a reasonable estimate for missing data.\n",
    "imputed_data = knn_imputer.fit_transform(df[numerical_cols])\n",
    "\n",
    "# Convert the imputed array back into a DataFrame, preserving the original index. This step ensures that\n",
    "# the imputed data retains the structure and index of the original DataFrame for consistency and ease of analysis.\n",
    "imputed_df = pd.DataFrame(imputed_data, columns=numerical_cols, index=df.index)\n",
    "\n",
    "# Restore the original data types. After imputation, it's important to convert the data back to its\n",
    "# original types for accurate analysis and consistency with the rest of the dataset.\n",
    "for col in numerical_cols:\n",
    "    if original_dtypes[col].kind in 'iu':  # Check if the data type is integer\n",
    "        imputed_df[col] = imputed_df[col].round().astype(original_dtypes[col])\n",
    "    else:  # For floating-point types, retain as is\n",
    "        imputed_df[col] = imputed_df[col].astype(original_dtypes[col])\n",
    "\n",
    "# Update the original 'sorted_data_encoded' DataFrame with the imputed data. This final step integrates\n",
    "# the imputed numerical data back into the main DataFrame, completing the imputation process.\n",
    "df.update(imputed_df)\n",
    "\n",
    "# Display the DataFrame information to check the results of the imputation and data type restoration.\n",
    "# This overview allows for a quick verification that the dataset is now complete with imputed values\n",
    "# and that all columns are of their appropriate data types.\n",
    "df.info()"
   ]
  },
  {
   "cell_type": "markdown",
   "metadata": {},
   "source": [
    "### Final check of df"
   ]
  },
  {
   "cell_type": "code",
   "execution_count": 72,
   "metadata": {},
   "outputs": [
    {
     "data": {
      "text/html": [
       "<div>\n",
       "<style scoped>\n",
       "    .dataframe tbody tr th:only-of-type {\n",
       "        vertical-align: middle;\n",
       "    }\n",
       "\n",
       "    .dataframe tbody tr th {\n",
       "        vertical-align: top;\n",
       "    }\n",
       "\n",
       "    .dataframe thead th {\n",
       "        text-align: right;\n",
       "    }\n",
       "</style>\n",
       "<table border=\"1\" class=\"dataframe\">\n",
       "  <thead>\n",
       "    <tr style=\"text-align: right;\">\n",
       "      <th></th>\n",
       "      <th>working_months</th>\n",
       "      <th>ID</th>\n",
       "      <th>customer_id</th>\n",
       "      <th>_r_</th>\n",
       "      <th>Var1</th>\n",
       "      <th>Var4</th>\n",
       "      <th>Var5</th>\n",
       "      <th>Var6</th>\n",
       "      <th>Var7</th>\n",
       "      <th>Var15</th>\n",
       "      <th>...</th>\n",
       "      <th>Var12_3.0</th>\n",
       "      <th>Var12_4.0</th>\n",
       "      <th>Var12_5.0</th>\n",
       "      <th>Var12_6.0</th>\n",
       "      <th>Var12_7.0</th>\n",
       "      <th>Var12_8.0</th>\n",
       "      <th>Var14_1</th>\n",
       "      <th>Var14_2</th>\n",
       "      <th>Var14_3</th>\n",
       "      <th>Var14_4</th>\n",
       "    </tr>\n",
       "  </thead>\n",
       "  <tbody>\n",
       "    <tr>\n",
       "      <th>0</th>\n",
       "      <td>62.0</td>\n",
       "      <td>11034977</td>\n",
       "      <td>32537148</td>\n",
       "      <td>0.267045</td>\n",
       "      <td>1</td>\n",
       "      <td>7800</td>\n",
       "      <td>99</td>\n",
       "      <td>1</td>\n",
       "      <td>108.73</td>\n",
       "      <td>0</td>\n",
       "      <td>...</td>\n",
       "      <td>0</td>\n",
       "      <td>0</td>\n",
       "      <td>0</td>\n",
       "      <td>0</td>\n",
       "      <td>0</td>\n",
       "      <td>1</td>\n",
       "      <td>0</td>\n",
       "      <td>1</td>\n",
       "      <td>0</td>\n",
       "      <td>0</td>\n",
       "    </tr>\n",
       "    <tr>\n",
       "      <th>1</th>\n",
       "      <td>160.0</td>\n",
       "      <td>11034978</td>\n",
       "      <td>32761663</td>\n",
       "      <td>0.533040</td>\n",
       "      <td>1</td>\n",
       "      <td>11100</td>\n",
       "      <td>78</td>\n",
       "      <td>1</td>\n",
       "      <td>195.99</td>\n",
       "      <td>4</td>\n",
       "      <td>...</td>\n",
       "      <td>0</td>\n",
       "      <td>0</td>\n",
       "      <td>0</td>\n",
       "      <td>0</td>\n",
       "      <td>0</td>\n",
       "      <td>1</td>\n",
       "      <td>0</td>\n",
       "      <td>0</td>\n",
       "      <td>0</td>\n",
       "      <td>1</td>\n",
       "    </tr>\n",
       "    <tr>\n",
       "      <th>2</th>\n",
       "      <td>248.0</td>\n",
       "      <td>11034979</td>\n",
       "      <td>32701063</td>\n",
       "      <td>0.861555</td>\n",
       "      <td>2</td>\n",
       "      <td>2400</td>\n",
       "      <td>15</td>\n",
       "      <td>1</td>\n",
       "      <td>248.34</td>\n",
       "      <td>0</td>\n",
       "      <td>...</td>\n",
       "      <td>0</td>\n",
       "      <td>0</td>\n",
       "      <td>1</td>\n",
       "      <td>0</td>\n",
       "      <td>0</td>\n",
       "      <td>0</td>\n",
       "      <td>1</td>\n",
       "      <td>0</td>\n",
       "      <td>0</td>\n",
       "      <td>0</td>\n",
       "    </tr>\n",
       "    <tr>\n",
       "      <th>3</th>\n",
       "      <td>265.0</td>\n",
       "      <td>11034980</td>\n",
       "      <td>32386786</td>\n",
       "      <td>0.506451</td>\n",
       "      <td>3</td>\n",
       "      <td>11800</td>\n",
       "      <td>30</td>\n",
       "      <td>6</td>\n",
       "      <td>3538.68</td>\n",
       "      <td>0</td>\n",
       "      <td>...</td>\n",
       "      <td>0</td>\n",
       "      <td>0</td>\n",
       "      <td>1</td>\n",
       "      <td>0</td>\n",
       "      <td>0</td>\n",
       "      <td>0</td>\n",
       "      <td>1</td>\n",
       "      <td>0</td>\n",
       "      <td>0</td>\n",
       "      <td>0</td>\n",
       "    </tr>\n",
       "    <tr>\n",
       "      <th>5</th>\n",
       "      <td>104.0</td>\n",
       "      <td>11034982</td>\n",
       "      <td>32861919</td>\n",
       "      <td>0.003446</td>\n",
       "      <td>1</td>\n",
       "      <td>7200</td>\n",
       "      <td>36</td>\n",
       "      <td>1</td>\n",
       "      <td>267.19</td>\n",
       "      <td>1</td>\n",
       "      <td>...</td>\n",
       "      <td>0</td>\n",
       "      <td>0</td>\n",
       "      <td>0</td>\n",
       "      <td>0</td>\n",
       "      <td>0</td>\n",
       "      <td>1</td>\n",
       "      <td>0</td>\n",
       "      <td>0</td>\n",
       "      <td>0</td>\n",
       "      <td>0</td>\n",
       "    </tr>\n",
       "  </tbody>\n",
       "</table>\n",
       "<p>5 rows × 47 columns</p>\n",
       "</div>"
      ],
      "text/plain": [
       "   working_months        ID  customer_id       _r_  Var1   Var4  Var5  Var6  \\\n",
       "0            62.0  11034977     32537148  0.267045     1   7800    99     1   \n",
       "1           160.0  11034978     32761663  0.533040     1  11100    78     1   \n",
       "2           248.0  11034979     32701063  0.861555     2   2400    15     1   \n",
       "3           265.0  11034980     32386786  0.506451     3  11800    30     6   \n",
       "5           104.0  11034982     32861919  0.003446     1   7200    36     1   \n",
       "\n",
       "      Var7  Var15  ...  Var12_3.0  Var12_4.0  Var12_5.0  Var12_6.0  Var12_7.0  \\\n",
       "0   108.73      0  ...          0          0          0          0          0   \n",
       "1   195.99      4  ...          0          0          0          0          0   \n",
       "2   248.34      0  ...          0          0          1          0          0   \n",
       "3  3538.68      0  ...          0          0          1          0          0   \n",
       "5   267.19      1  ...          0          0          0          0          0   \n",
       "\n",
       "   Var12_8.0  Var14_1  Var14_2  Var14_3  Var14_4  \n",
       "0          1        0        1        0        0  \n",
       "1          1        0        0        0        1  \n",
       "2          0        1        0        0        0  \n",
       "3          0        1        0        0        0  \n",
       "5          1        0        0        0        0  \n",
       "\n",
       "[5 rows x 47 columns]"
      ]
     },
     "execution_count": 72,
     "metadata": {},
     "output_type": "execute_result"
    }
   ],
   "source": [
    "df.head()"
   ]
  },
  {
   "cell_type": "code",
   "execution_count": 73,
   "metadata": {},
   "outputs": [
    {
     "data": {
      "text/plain": [
       "working_months    0\n",
       "ID                0\n",
       "customer_id       0\n",
       "_r_               0\n",
       "Var1              0\n",
       "Var4              0\n",
       "Var5              0\n",
       "Var6              0\n",
       "Var7              0\n",
       "Var15             0\n",
       "Var16             0\n",
       "Var17             0\n",
       "Var20             0\n",
       "Var21             0\n",
       "Var22             0\n",
       "Var23             0\n",
       "Var24             0\n",
       "Var25             0\n",
       "Var26             0\n",
       "Var29             0\n",
       "Var30             0\n",
       "target            0\n",
       "Var27             0\n",
       "Var28             0\n",
       "income            0\n",
       "loan_desc         0\n",
       "Var2_2.0          0\n",
       "Var2_3.0          0\n",
       "Var3_2.0          0\n",
       "Var3_3.0          0\n",
       "Var11_2           0\n",
       "Var11_3           0\n",
       "Var11_4           0\n",
       "Var11_5           0\n",
       "Var11_6           0\n",
       "Var11_7           0\n",
       "Var12_2.0         0\n",
       "Var12_3.0         0\n",
       "Var12_4.0         0\n",
       "Var12_5.0         0\n",
       "Var12_6.0         0\n",
       "Var12_7.0         0\n",
       "Var12_8.0         0\n",
       "Var14_1           0\n",
       "Var14_2           0\n",
       "Var14_3           0\n",
       "Var14_4           0\n",
       "dtype: int64"
      ]
     },
     "execution_count": 73,
     "metadata": {},
     "output_type": "execute_result"
    }
   ],
   "source": [
    "df.isna().sum()"
   ]
  },
  {
   "cell_type": "code",
   "execution_count": 74,
   "metadata": {},
   "outputs": [
    {
     "name": "stdout",
     "output_type": "stream",
     "text": [
      "<class 'pandas.core.frame.DataFrame'>\n",
      "Int64Index: 35700 entries, 0 to 49999\n",
      "Data columns (total 47 columns):\n",
      " #   Column          Non-Null Count  Dtype  \n",
      "---  ------          --------------  -----  \n",
      " 0   working_months  35700 non-null  float64\n",
      " 1   ID              35700 non-null  int64  \n",
      " 2   customer_id     35700 non-null  int64  \n",
      " 3   _r_             35700 non-null  float64\n",
      " 4   Var1            35700 non-null  int64  \n",
      " 5   Var4            35700 non-null  int64  \n",
      " 6   Var5            35700 non-null  int64  \n",
      " 7   Var6            35700 non-null  int64  \n",
      " 8   Var7            35700 non-null  float64\n",
      " 9   Var15           35700 non-null  int64  \n",
      " 10  Var16           35700 non-null  int64  \n",
      " 11  Var17           35700 non-null  float64\n",
      " 12  Var20           35700 non-null  int64  \n",
      " 13  Var21           35700 non-null  int64  \n",
      " 14  Var22           35700 non-null  int64  \n",
      " 15  Var23           35700 non-null  int64  \n",
      " 16  Var24           35700 non-null  int64  \n",
      " 17  Var25           35700 non-null  float64\n",
      " 18  Var26           35700 non-null  float64\n",
      " 19  Var29           35700 non-null  int64  \n",
      " 20  Var30           35700 non-null  int64  \n",
      " 21  target          35700 non-null  float64\n",
      " 22  Var27           35700 non-null  int64  \n",
      " 23  Var28           35700 non-null  int64  \n",
      " 24  income          35700 non-null  int64  \n",
      " 25  loan_desc       35700 non-null  int64  \n",
      " 26  Var2_2.0        35700 non-null  uint8  \n",
      " 27  Var2_3.0        35700 non-null  uint8  \n",
      " 28  Var3_2.0        35700 non-null  uint8  \n",
      " 29  Var3_3.0        35700 non-null  uint8  \n",
      " 30  Var11_2         35700 non-null  uint8  \n",
      " 31  Var11_3         35700 non-null  uint8  \n",
      " 32  Var11_4         35700 non-null  uint8  \n",
      " 33  Var11_5         35700 non-null  uint8  \n",
      " 34  Var11_6         35700 non-null  uint8  \n",
      " 35  Var11_7         35700 non-null  uint8  \n",
      " 36  Var12_2.0       35700 non-null  uint8  \n",
      " 37  Var12_3.0       35700 non-null  uint8  \n",
      " 38  Var12_4.0       35700 non-null  uint8  \n",
      " 39  Var12_5.0       35700 non-null  uint8  \n",
      " 40  Var12_6.0       35700 non-null  uint8  \n",
      " 41  Var12_7.0       35700 non-null  uint8  \n",
      " 42  Var12_8.0       35700 non-null  uint8  \n",
      " 43  Var14_1         35700 non-null  uint8  \n",
      " 44  Var14_2         35700 non-null  uint8  \n",
      " 45  Var14_3         35700 non-null  uint8  \n",
      " 46  Var14_4         35700 non-null  uint8  \n",
      "dtypes: float64(7), int64(19), uint8(21)\n",
      "memory usage: 8.1 MB\n"
     ]
    }
   ],
   "source": [
    "df.info()"
   ]
  },
  {
   "cell_type": "markdown",
   "metadata": {},
   "source": [
    "#### Write df as csv"
   ]
  },
  {
   "cell_type": "code",
   "execution_count": 75,
   "metadata": {},
   "outputs": [],
   "source": [
    "df = df.drop('loan_desc', axis=1)\n"
   ]
  },
  {
   "cell_type": "code",
   "execution_count": 76,
   "metadata": {},
   "outputs": [],
   "source": [
    "# Załóżmy, że mamy DataFrame df z kolumnami, w tym 'income' i 'target'\n",
    "\n",
    "# Pobierz listę kolumn, wyjąwszy 'income', którą będziemy przesuwać\n",
    "cols = [col for col in df.columns if col != 'income']\n",
    "\n",
    "# Znajdź indeks kolumny 'target'\n",
    "target_index = cols.index('target')\n",
    "\n",
    "# Wstaw 'income' bezpośrednio przed 'target'\n",
    "cols.insert(target_index, 'income')\n",
    "\n",
    "# Zastosuj nową kolejność kolumn\n",
    "df = df[cols]\n"
   ]
  },
  {
   "cell_type": "code",
   "execution_count": 77,
   "metadata": {},
   "outputs": [],
   "source": [
    "df.to_csv('../data/output/development_sample_cleaned_1.csv', index = False)  # Save the cleaned data to a new CSV file"
   ]
  },
  {
   "cell_type": "markdown",
   "metadata": {},
   "source": [
    "# BACKUP - CHYBA DO USUNIĘCIA"
   ]
  },
  {
   "cell_type": "markdown",
   "metadata": {},
   "source": [
    "### Null analysis per ID \n",
    "\n",
    "przesunąć gdzieś wyej ewentualnie"
   ]
  },
  {
   "cell_type": "code",
   "execution_count": 78,
   "metadata": {},
   "outputs": [
    {
     "data": {
      "text/html": [
       "<div>\n",
       "<style scoped>\n",
       "    .dataframe tbody tr th:only-of-type {\n",
       "        vertical-align: middle;\n",
       "    }\n",
       "\n",
       "    .dataframe tbody tr th {\n",
       "        vertical-align: top;\n",
       "    }\n",
       "\n",
       "    .dataframe thead th {\n",
       "        text-align: right;\n",
       "    }\n",
       "</style>\n",
       "<table border=\"1\" class=\"dataframe\">\n",
       "  <thead>\n",
       "    <tr style=\"text-align: right;\">\n",
       "      <th></th>\n",
       "      <th>Null_Count</th>\n",
       "      <th>Null_Columns</th>\n",
       "    </tr>\n",
       "    <tr>\n",
       "      <th>ID</th>\n",
       "      <th></th>\n",
       "      <th></th>\n",
       "    </tr>\n",
       "  </thead>\n",
       "  <tbody>\n",
       "    <tr>\n",
       "      <th>11034977</th>\n",
       "      <td>4</td>\n",
       "      <td>[Var8, Var10, Var12, Var19]</td>\n",
       "    </tr>\n",
       "    <tr>\n",
       "      <th>11034978</th>\n",
       "      <td>3</td>\n",
       "      <td>[Var10, Var12, Var18]</td>\n",
       "    </tr>\n",
       "    <tr>\n",
       "      <th>11034979</th>\n",
       "      <td>3</td>\n",
       "      <td>[Var8, Var18, Var19]</td>\n",
       "    </tr>\n",
       "    <tr>\n",
       "      <th>11034980</th>\n",
       "      <td>1</td>\n",
       "      <td>[Var18]</td>\n",
       "    </tr>\n",
       "    <tr>\n",
       "      <th>11034981</th>\n",
       "      <td>5</td>\n",
       "      <td>[target, Var8, Var10, Var12, Var19]</td>\n",
       "    </tr>\n",
       "    <tr>\n",
       "      <th>...</th>\n",
       "      <td>...</td>\n",
       "      <td>...</td>\n",
       "    </tr>\n",
       "    <tr>\n",
       "      <th>11084972</th>\n",
       "      <td>3</td>\n",
       "      <td>[Var18, Var25, Var26]</td>\n",
       "    </tr>\n",
       "    <tr>\n",
       "      <th>11084973</th>\n",
       "      <td>7</td>\n",
       "      <td>[target, Var8, Var10, Var12, Var19, Var25, Var26]</td>\n",
       "    </tr>\n",
       "    <tr>\n",
       "      <th>11084974</th>\n",
       "      <td>3</td>\n",
       "      <td>[Var10, Var12, Var18]</td>\n",
       "    </tr>\n",
       "    <tr>\n",
       "      <th>11084975</th>\n",
       "      <td>6</td>\n",
       "      <td>[target, Var10, Var12, Var18, Var25, Var26]</td>\n",
       "    </tr>\n",
       "    <tr>\n",
       "      <th>11084976</th>\n",
       "      <td>7</td>\n",
       "      <td>[Var8, Var10, Var12, Var18, Var19, Var25, Var26]</td>\n",
       "    </tr>\n",
       "  </tbody>\n",
       "</table>\n",
       "<p>50000 rows × 2 columns</p>\n",
       "</div>"
      ],
      "text/plain": [
       "          Null_Count                                       Null_Columns\n",
       "ID                                                                     \n",
       "11034977           4                        [Var8, Var10, Var12, Var19]\n",
       "11034978           3                              [Var10, Var12, Var18]\n",
       "11034979           3                               [Var8, Var18, Var19]\n",
       "11034980           1                                            [Var18]\n",
       "11034981           5                [target, Var8, Var10, Var12, Var19]\n",
       "...              ...                                                ...\n",
       "11084972           3                              [Var18, Var25, Var26]\n",
       "11084973           7  [target, Var8, Var10, Var12, Var19, Var25, Var26]\n",
       "11084974           3                              [Var10, Var12, Var18]\n",
       "11084975           6        [target, Var10, Var12, Var18, Var25, Var26]\n",
       "11084976           7   [Var8, Var10, Var12, Var18, Var19, Var25, Var26]\n",
       "\n",
       "[50000 rows x 2 columns]"
      ]
     },
     "execution_count": 78,
     "metadata": {},
     "output_type": "execute_result"
    }
   ],
   "source": [
    "# First, we create a copy of our DataFrame and set the 'ID' column as the index. This step makes it easier to perform operations\n",
    "# that are specific to each record based on its unique identifier.\n",
    "data_l = data.copy()\n",
    "data_l.set_index('ID', inplace=True)\n",
    "\n",
    "# Next, we calculate the number of null values in each row. We also list the columns that contain these nulls.\n",
    "# This is done by applying a lambda function across each row (axis=1), which sums up the nulls (`x.sum()`)\n",
    "# and identifies which columns they are in (`list(data_l.columns[x])`). The results are stored in a Series\n",
    "# with two indices: 'Null_Count' for the number of nulls, and 'Null_Columns' for the specific columns with null values.\n",
    "null_analysis_per_id = data_l.isnull().apply(lambda x: pd.Series([x.sum(), list(data_l.columns[x])], index=['Null_Count', 'Null_Columns']), axis=1)\n",
    "\n",
    "# Display the analysis results. This provides insight into how null values are distributed across the dataset,\n",
    "# including which records are affected and how.\n",
    "null_analysis_per_id\n",
    "\n",
    "# A potential issue arises when dealing with one-hot encoding of nominal categorical variables that had no missing values.\n",
    "# During one-hot encoding, these variables are transformed such that each category becomes a separate column,\n",
    "# with rows marked as 0 to indicate the absence of that category. This automatic conversion to 0 for all categories\n",
    "# in a one-hot encoded scheme can lead to misinterpretation when assessing null values.\n",
    "# Moreover, it's noted that every record in the dataset has at least one null value, which complicates the analysis\n",
    "# of data completeness and requires careful consideration when preparing the data for modeling or analysis.\n",
    "\n",
    "# This highlights the importance of understanding how different data preprocessing steps, like one-hot encoding,\n",
    "# can affect the interpretation of null values in the dataset. It's crucial to distinguish between genuinely missing values\n",
    "# and the artificial zeros introduced by one-hot encoding, as they represent different aspects of the data."
   ]
  },
  {
   "cell_type": "markdown",
   "metadata": {},
   "source": [
    "### Data cleaning for binary data types (not for one hot encoding nominal categorical variables, after decomposition)"
   ]
  },
  {
   "cell_type": "code",
   "execution_count": 79,
   "metadata": {},
   "outputs": [
    {
     "data": {
      "text/plain": [
       "['target', 'Var27', 'Var28']"
      ]
     },
     "execution_count": 79,
     "metadata": {},
     "output_type": "execute_result"
    }
   ],
   "source": [
    "binary_columns"
   ]
  },
  {
   "cell_type": "code",
   "execution_count": 80,
   "metadata": {},
   "outputs": [
    {
     "ename": "NameError",
     "evalue": "name 'sorted_data_encoded' is not defined",
     "output_type": "error",
     "traceback": [
      "\u001b[1;31m---------------------------------------------------------------------------\u001b[0m",
      "\u001b[1;31mNameError\u001b[0m                                 Traceback (most recent call last)",
      "Cell \u001b[1;32mIn[80], line 12\u001b[0m\n\u001b[0;32m      1\u001b[0m \u001b[38;5;66;03m# Handling missing values in binary columns\u001b[39;00m\n\u001b[0;32m      2\u001b[0m \u001b[38;5;66;03m# This section focuses on imputing missing values in binary variables using the mode.\u001b[39;00m\n\u001b[0;32m      3\u001b[0m \u001b[38;5;66;03m# The mode is the most common value in a distribution, making it a suitable choice for imputing\u001b[39;00m\n\u001b[1;32m   (...)\u001b[0m\n\u001b[0;32m      6\u001b[0m \n\u001b[0;32m      7\u001b[0m \u001b[38;5;66;03m# Loop through each binary column to perform mode imputation.\u001b[39;00m\n\u001b[0;32m      8\u001b[0m \u001b[38;5;28;01mfor\u001b[39;00m col \u001b[38;5;129;01min\u001b[39;00m binary_columns:\n\u001b[0;32m      9\u001b[0m     \u001b[38;5;66;03m# Calculate the mode for each binary column. The 'dropna=True' parameter ensures that missing values\u001b[39;00m\n\u001b[0;32m     10\u001b[0m     \u001b[38;5;66;03m# are not considered when determining the mode. '[0]' is used to select the first mode in2 case there\u001b[39;00m\n\u001b[0;32m     11\u001b[0m     \u001b[38;5;66;03m# are multiple modes with the same frequency.\u001b[39;00m\n\u001b[1;32m---> 12\u001b[0m     mode_value \u001b[38;5;241m=\u001b[39m \u001b[43msorted_data_encoded\u001b[49m[col]\u001b[38;5;241m.\u001b[39mmode(dropna\u001b[38;5;241m=\u001b[39m\u001b[38;5;28;01mTrue\u001b[39;00m)[\u001b[38;5;241m0\u001b[39m]\n\u001b[0;32m     14\u001b[0m     \u001b[38;5;66;03m# Impute missing values with the mode. The 'fillna()' function replaces all NaNs in the column with\u001b[39;00m\n\u001b[0;32m     15\u001b[0m     \u001b[38;5;66;03m# the mode value calculated previously. 'inplace=True' modifies the original DataFrame directly,\u001b[39;00m\n\u001b[0;32m     16\u001b[0m     \u001b[38;5;66;03m# saving the need to create a copy or reassign the DataFrame.\u001b[39;00m\n\u001b[0;32m     17\u001b[0m     sorted_data_encoded[col]\u001b[38;5;241m.\u001b[39mfillna(mode_value, inplace\u001b[38;5;241m=\u001b[39m\u001b[38;5;28;01mTrue\u001b[39;00m)\n",
      "\u001b[1;31mNameError\u001b[0m: name 'sorted_data_encoded' is not defined"
     ]
    }
   ],
   "source": [
    "# Handling missing values in binary columns\n",
    "# This section focuses on imputing missing values in binary variables using the mode.\n",
    "# The mode is the most common value in a distribution, making it a suitable choice for imputing\n",
    "# binary variables as it reflects the predominant category.\n",
    "\n",
    "\n",
    "# Loop through each binary column to perform mode imputation.\n",
    "for col in binary_columns:\n",
    "    # Calculate the mode for each binary column. The 'dropna=True' parameter ensures that missing values\n",
    "    # are not considered when determining the mode. '[0]' is used to select the first mode in2 case there\n",
    "    # are multiple modes with the same frequency.\n",
    "    mode_value = sorted_data_encoded[col].mode(dropna=True)[0]\n",
    "    \n",
    "    # Impute missing values with the mode. The 'fillna()' function replaces all NaNs in the column with\n",
    "    # the mode value calculated previously. 'inplace=True' modifies the original DataFrame directly,\n",
    "    # saving the need to create a copy or reassign the DataFrame.\n",
    "    sorted_data_encoded[col].fillna(mode_value, inplace=True)\n",
    "\n",
    "# After imputing missing values in the binary columns, it's a good practice to verify the changes.\n",
    "# Checking that there are no more missing values in these columns can be done through the 'info()' method\n",
    "# or specifically checking for nulls using 'isnull().sum()' on the binary columns."
   ]
  },
  {
   "cell_type": "code",
   "execution_count": null,
   "metadata": {},
   "outputs": [
    {
     "data": {
      "text/html": [
       "<div>\n",
       "<style scoped>\n",
       "    .dataframe tbody tr th:only-of-type {\n",
       "        vertical-align: middle;\n",
       "    }\n",
       "\n",
       "    .dataframe tbody tr th {\n",
       "        vertical-align: top;\n",
       "    }\n",
       "\n",
       "    .dataframe thead th {\n",
       "        text-align: right;\n",
       "    }\n",
       "</style>\n",
       "<table border=\"1\" class=\"dataframe\">\n",
       "  <thead>\n",
       "    <tr style=\"text-align: right;\">\n",
       "      <th></th>\n",
       "      <th>working_months</th>\n",
       "      <th>ID</th>\n",
       "      <th>customer_id</th>\n",
       "      <th>_r_</th>\n",
       "      <th>Var9</th>\n",
       "      <th>Var10</th>\n",
       "      <th>Var1</th>\n",
       "      <th>Var4</th>\n",
       "      <th>Var5</th>\n",
       "      <th>Var6</th>\n",
       "      <th>...</th>\n",
       "      <th>Var12_3.0</th>\n",
       "      <th>Var12_4.0</th>\n",
       "      <th>Var12_5.0</th>\n",
       "      <th>Var12_6.0</th>\n",
       "      <th>Var12_7.0</th>\n",
       "      <th>Var14_0</th>\n",
       "      <th>Var14_1</th>\n",
       "      <th>Var14_2</th>\n",
       "      <th>Var14_3</th>\n",
       "      <th>Var14_4</th>\n",
       "    </tr>\n",
       "  </thead>\n",
       "  <tbody>\n",
       "    <tr>\n",
       "      <th>0</th>\n",
       "      <td>62.0</td>\n",
       "      <td>11034977</td>\n",
       "      <td>32537148</td>\n",
       "      <td>0.267045</td>\n",
       "      <td>5640</td>\n",
       "      <td>3180.0</td>\n",
       "      <td>1</td>\n",
       "      <td>7800</td>\n",
       "      <td>99</td>\n",
       "      <td>1</td>\n",
       "      <td>...</td>\n",
       "      <td>0</td>\n",
       "      <td>0</td>\n",
       "      <td>0</td>\n",
       "      <td>0</td>\n",
       "      <td>0</td>\n",
       "      <td>0</td>\n",
       "      <td>0</td>\n",
       "      <td>1</td>\n",
       "      <td>0</td>\n",
       "      <td>0</td>\n",
       "    </tr>\n",
       "    <tr>\n",
       "      <th>1</th>\n",
       "      <td>160.0</td>\n",
       "      <td>11034978</td>\n",
       "      <td>32761663</td>\n",
       "      <td>0.533040</td>\n",
       "      <td>3000</td>\n",
       "      <td>3360.0</td>\n",
       "      <td>1</td>\n",
       "      <td>11100</td>\n",
       "      <td>78</td>\n",
       "      <td>1</td>\n",
       "      <td>...</td>\n",
       "      <td>0</td>\n",
       "      <td>0</td>\n",
       "      <td>0</td>\n",
       "      <td>0</td>\n",
       "      <td>0</td>\n",
       "      <td>0</td>\n",
       "      <td>0</td>\n",
       "      <td>0</td>\n",
       "      <td>0</td>\n",
       "      <td>1</td>\n",
       "    </tr>\n",
       "    <tr>\n",
       "      <th>2</th>\n",
       "      <td>248.0</td>\n",
       "      <td>11034979</td>\n",
       "      <td>32701063</td>\n",
       "      <td>0.861555</td>\n",
       "      <td>6240</td>\n",
       "      <td>4300.0</td>\n",
       "      <td>2</td>\n",
       "      <td>2400</td>\n",
       "      <td>15</td>\n",
       "      <td>1</td>\n",
       "      <td>...</td>\n",
       "      <td>0</td>\n",
       "      <td>0</td>\n",
       "      <td>1</td>\n",
       "      <td>0</td>\n",
       "      <td>0</td>\n",
       "      <td>0</td>\n",
       "      <td>1</td>\n",
       "      <td>0</td>\n",
       "      <td>0</td>\n",
       "      <td>0</td>\n",
       "    </tr>\n",
       "    <tr>\n",
       "      <th>3</th>\n",
       "      <td>265.0</td>\n",
       "      <td>11034980</td>\n",
       "      <td>32386786</td>\n",
       "      <td>0.506451</td>\n",
       "      <td>4560</td>\n",
       "      <td>2500.0</td>\n",
       "      <td>3</td>\n",
       "      <td>11800</td>\n",
       "      <td>30</td>\n",
       "      <td>6</td>\n",
       "      <td>...</td>\n",
       "      <td>0</td>\n",
       "      <td>0</td>\n",
       "      <td>1</td>\n",
       "      <td>0</td>\n",
       "      <td>0</td>\n",
       "      <td>0</td>\n",
       "      <td>1</td>\n",
       "      <td>0</td>\n",
       "      <td>0</td>\n",
       "      <td>0</td>\n",
       "    </tr>\n",
       "    <tr>\n",
       "      <th>4</th>\n",
       "      <td>248.0</td>\n",
       "      <td>11034981</td>\n",
       "      <td>32692110</td>\n",
       "      <td>0.210913</td>\n",
       "      <td>5160</td>\n",
       "      <td>3880.0</td>\n",
       "      <td>1</td>\n",
       "      <td>10200</td>\n",
       "      <td>72</td>\n",
       "      <td>3</td>\n",
       "      <td>...</td>\n",
       "      <td>0</td>\n",
       "      <td>0</td>\n",
       "      <td>0</td>\n",
       "      <td>0</td>\n",
       "      <td>0</td>\n",
       "      <td>1</td>\n",
       "      <td>0</td>\n",
       "      <td>0</td>\n",
       "      <td>0</td>\n",
       "      <td>0</td>\n",
       "    </tr>\n",
       "    <tr>\n",
       "      <th>...</th>\n",
       "      <td>...</td>\n",
       "      <td>...</td>\n",
       "      <td>...</td>\n",
       "      <td>...</td>\n",
       "      <td>...</td>\n",
       "      <td>...</td>\n",
       "      <td>...</td>\n",
       "      <td>...</td>\n",
       "      <td>...</td>\n",
       "      <td>...</td>\n",
       "      <td>...</td>\n",
       "      <td>...</td>\n",
       "      <td>...</td>\n",
       "      <td>...</td>\n",
       "      <td>...</td>\n",
       "      <td>...</td>\n",
       "      <td>...</td>\n",
       "      <td>...</td>\n",
       "      <td>...</td>\n",
       "      <td>...</td>\n",
       "      <td>...</td>\n",
       "    </tr>\n",
       "    <tr>\n",
       "      <th>49995</th>\n",
       "      <td>153.0</td>\n",
       "      <td>11084972</td>\n",
       "      <td>32554904</td>\n",
       "      <td>0.783954</td>\n",
       "      <td>6240</td>\n",
       "      <td>11900.0</td>\n",
       "      <td>2</td>\n",
       "      <td>49200</td>\n",
       "      <td>111</td>\n",
       "      <td>1</td>\n",
       "      <td>...</td>\n",
       "      <td>0</td>\n",
       "      <td>0</td>\n",
       "      <td>1</td>\n",
       "      <td>0</td>\n",
       "      <td>0</td>\n",
       "      <td>1</td>\n",
       "      <td>0</td>\n",
       "      <td>0</td>\n",
       "      <td>0</td>\n",
       "      <td>0</td>\n",
       "    </tr>\n",
       "    <tr>\n",
       "      <th>49996</th>\n",
       "      <td>265.0</td>\n",
       "      <td>11084973</td>\n",
       "      <td>32884069</td>\n",
       "      <td>0.172590</td>\n",
       "      <td>23640</td>\n",
       "      <td>6840.0</td>\n",
       "      <td>1</td>\n",
       "      <td>25600</td>\n",
       "      <td>30</td>\n",
       "      <td>1</td>\n",
       "      <td>...</td>\n",
       "      <td>0</td>\n",
       "      <td>0</td>\n",
       "      <td>0</td>\n",
       "      <td>0</td>\n",
       "      <td>0</td>\n",
       "      <td>1</td>\n",
       "      <td>0</td>\n",
       "      <td>0</td>\n",
       "      <td>0</td>\n",
       "      <td>0</td>\n",
       "    </tr>\n",
       "    <tr>\n",
       "      <th>49997</th>\n",
       "      <td>170.0</td>\n",
       "      <td>11084974</td>\n",
       "      <td>32433438</td>\n",
       "      <td>0.060722</td>\n",
       "      <td>24840</td>\n",
       "      <td>12140.0</td>\n",
       "      <td>1</td>\n",
       "      <td>46700</td>\n",
       "      <td>18</td>\n",
       "      <td>1</td>\n",
       "      <td>...</td>\n",
       "      <td>0</td>\n",
       "      <td>0</td>\n",
       "      <td>0</td>\n",
       "      <td>0</td>\n",
       "      <td>0</td>\n",
       "      <td>1</td>\n",
       "      <td>0</td>\n",
       "      <td>0</td>\n",
       "      <td>0</td>\n",
       "      <td>0</td>\n",
       "    </tr>\n",
       "    <tr>\n",
       "      <th>49998</th>\n",
       "      <td>50.0</td>\n",
       "      <td>11084975</td>\n",
       "      <td>32877592</td>\n",
       "      <td>0.845866</td>\n",
       "      <td>20400</td>\n",
       "      <td>9700.0</td>\n",
       "      <td>1</td>\n",
       "      <td>44300</td>\n",
       "      <td>162</td>\n",
       "      <td>3</td>\n",
       "      <td>...</td>\n",
       "      <td>0</td>\n",
       "      <td>0</td>\n",
       "      <td>0</td>\n",
       "      <td>0</td>\n",
       "      <td>0</td>\n",
       "      <td>1</td>\n",
       "      <td>0</td>\n",
       "      <td>0</td>\n",
       "      <td>0</td>\n",
       "      <td>0</td>\n",
       "    </tr>\n",
       "    <tr>\n",
       "      <th>49999</th>\n",
       "      <td>200.0</td>\n",
       "      <td>11084976</td>\n",
       "      <td>32834539</td>\n",
       "      <td>0.733623</td>\n",
       "      <td>11880</td>\n",
       "      <td>12440.0</td>\n",
       "      <td>1</td>\n",
       "      <td>6400</td>\n",
       "      <td>9</td>\n",
       "      <td>1</td>\n",
       "      <td>...</td>\n",
       "      <td>0</td>\n",
       "      <td>0</td>\n",
       "      <td>0</td>\n",
       "      <td>0</td>\n",
       "      <td>0</td>\n",
       "      <td>0</td>\n",
       "      <td>0</td>\n",
       "      <td>0</td>\n",
       "      <td>0</td>\n",
       "      <td>1</td>\n",
       "    </tr>\n",
       "  </tbody>\n",
       "</table>\n",
       "<p>50000 rows × 57 columns</p>\n",
       "</div>"
      ],
      "text/plain": [
       "       working_months        ID  customer_id       _r_   Var9    Var10  Var1  \\\n",
       "0                62.0  11034977     32537148  0.267045   5640   3180.0     1   \n",
       "1               160.0  11034978     32761663  0.533040   3000   3360.0     1   \n",
       "2               248.0  11034979     32701063  0.861555   6240   4300.0     2   \n",
       "3               265.0  11034980     32386786  0.506451   4560   2500.0     3   \n",
       "4               248.0  11034981     32692110  0.210913   5160   3880.0     1   \n",
       "...               ...       ...          ...       ...    ...      ...   ...   \n",
       "49995           153.0  11084972     32554904  0.783954   6240  11900.0     2   \n",
       "49996           265.0  11084973     32884069  0.172590  23640   6840.0     1   \n",
       "49997           170.0  11084974     32433438  0.060722  24840  12140.0     1   \n",
       "49998            50.0  11084975     32877592  0.845866  20400   9700.0     1   \n",
       "49999           200.0  11084976     32834539  0.733623  11880  12440.0     1   \n",
       "\n",
       "        Var4  Var5  Var6  ...  Var12_3.0  Var12_4.0  Var12_5.0  Var12_6.0  \\\n",
       "0       7800    99     1  ...          0          0          0          0   \n",
       "1      11100    78     1  ...          0          0          0          0   \n",
       "2       2400    15     1  ...          0          0          1          0   \n",
       "3      11800    30     6  ...          0          0          1          0   \n",
       "4      10200    72     3  ...          0          0          0          0   \n",
       "...      ...   ...   ...  ...        ...        ...        ...        ...   \n",
       "49995  49200   111     1  ...          0          0          1          0   \n",
       "49996  25600    30     1  ...          0          0          0          0   \n",
       "49997  46700    18     1  ...          0          0          0          0   \n",
       "49998  44300   162     3  ...          0          0          0          0   \n",
       "49999   6400     9     1  ...          0          0          0          0   \n",
       "\n",
       "       Var12_7.0  Var14_0  Var14_1  Var14_2  Var14_3  Var14_4  \n",
       "0              0        0        0        1        0        0  \n",
       "1              0        0        0        0        0        1  \n",
       "2              0        0        1        0        0        0  \n",
       "3              0        0        1        0        0        0  \n",
       "4              0        1        0        0        0        0  \n",
       "...          ...      ...      ...      ...      ...      ...  \n",
       "49995          0        1        0        0        0        0  \n",
       "49996          0        1        0        0        0        0  \n",
       "49997          0        1        0        0        0        0  \n",
       "49998          0        1        0        0        0        0  \n",
       "49999          0        0        0        0        0        1  \n",
       "\n",
       "[50000 rows x 57 columns]"
      ]
     },
     "execution_count": 100,
     "metadata": {},
     "output_type": "execute_result"
    }
   ],
   "source": [
    "sorted_data_encoded"
   ]
  },
  {
   "cell_type": "markdown",
   "metadata": {},
   "source": [
    "### Data cleaning for nominal categorical variables, after one-hot encoding decomposition "
   ]
  },
  {
   "cell_type": "code",
   "execution_count": null,
   "metadata": {},
   "outputs": [],
   "source": [
    "# Pomysl taki wsrod tych zmiennych kategorycznych ktore maja malo nulli około ledwie pare % \n",
    "# To usuwamy, zas te co maja duza liczbe nulli , to nulle traktujemy jako osobna kategorie \n",
    "# Brak wartosci tez jest w koncu wartoscia \n",
    "\n",
    "\n",
    "# Problem natury programistycznej, te zmienne ktore maja nulle po one hot encoding\n",
    "# To jest tak jakby sekwencja zer we wszystkich zmiennych binarnych tej kategorii \n",
    "# Problem ten wynika z tego prostego faktu, ze w Pythonie do zmiennych binarnych\n",
    "# nie da sie przypisac nulli \n",
    "\n",
    "# sorted_data_encoded poki co zostaje \n"
   ]
  },
  {
   "cell_type": "code",
   "execution_count": null,
   "metadata": {},
   "outputs": [
    {
     "name": "stdout",
     "output_type": "stream",
     "text": [
      "Kolumny dla prefixu 'Var2': ['Var2_1.0', 'Var2_2.0', 'Var2_3.0']\n",
      "Kolumny dla prefixu 'Var3': ['Var3_1', 'Var3_2', 'Var3_3', 'Var3_Direct', 'Var3_Online']\n",
      "Kolumny dla prefixu 'Var11': ['Var11_1', 'Var11_2', 'Var11_3', 'Var11_4', 'Var11_5', 'Var11_6', 'Var11_7']\n",
      "Kolumny dla prefixu 'Var12': ['Var12_1.0', 'Var12_2.0', 'Var12_3.0', 'Var12_4.0', 'Var12_5.0', 'Var12_6.0', 'Var12_7.0']\n",
      "Kolumny dla prefixu 'Var14': ['Var14_0', 'Var14_1', 'Var14_2', 'Var14_3', 'Var14_4']\n"
     ]
    }
   ],
   "source": [
    "# Zacznijmy od szukania prefixow \n",
    "import re\n",
    "\n",
    "# Lista prefixów zmiennych kategorycznych, które zostały przetworzone na one hot encoding\n",
    "prefixes = ['Var2', 'Var3', 'Var11', 'Var12', 'Var14']\n",
    "\n",
    "# Inicjalizacja słownika do przechowywania nazw kolumn dla każdego prefixu\n",
    "columns_by_prefix = {}\n",
    "\n",
    "# Przechodzimy przez każdy prefix i szukamy odpowiadających mu kolumn w DataFrame\n",
    "for prefix in prefixes:\n",
    "    # Znajdź kolumny, które dokładnie pasują do wzorca 'prefix_' z dodatkiem końcówki identyfikującej one hot encoding\n",
    "    # Używamy wyrażeń regularnych do dopasowania odpowiednich kolumn\n",
    "    pattern = re.compile(r'^' + prefix + r'(_\\d+\\.?\\d*|\\_[a-zA-Z]+)?$')\n",
    "    cols = [col for col in sorted_data_encoded.columns if pattern.match(col)]\n",
    "    \n",
    "    # Przypisz znalezione kolumny do słownika pod kluczem odpowiadającym prefixowi\n",
    "    columns_by_prefix[prefix] = cols\n",
    "\n",
    "# Wydrukuj znalezione kolumny dla weryfikacji\n",
    "for prefix, cols in columns_by_prefix.items():\n",
    "    print(f\"Kolumny dla prefixu '{prefix}': {cols}\")\n"
   ]
  },
  {
   "cell_type": "code",
   "execution_count": null,
   "metadata": {},
   "outputs": [
    {
     "name": "stdout",
     "output_type": "stream",
     "text": [
      "Procent 'nulli' dla Var2: 2.81%\n",
      "Procent 'nulli' dla Var3: 2.81%\n",
      "Procent 'nulli' dla Var11: 0.00%\n",
      "Procent 'nulli' dla Var12: 75.08%\n",
      "Procent 'nulli' dla Var14: 0.00%\n"
     ]
    }
   ],
   "source": [
    "# Lista prefixów zmiennych kategorycznych, które zostały przetworzone na one hot encoding\n",
    "prefixes = ['Var2', 'Var3', 'Var11', 'Var12', 'Var14']\n",
    "\n",
    "# Inicjalizacja słownika do przechowywania procentowych udziałów nulli dla każdego prefixu\n",
    "null_percentage_by_prefix = {}\n",
    "\n",
    "# Przechodzenie przez każdy prefix i obliczanie procentowej liczby nulli\n",
    "for prefix in prefixes:\n",
    "    # Znajdowanie kolumn odpowiadających bieżącemu prefixowi po one hot encoding\n",
    "    one_hot_cols = [col for col in sorted_data_encoded.columns if col.startswith(prefix + '_')]\n",
    "    # Obliczanie liczby rekordów, dla których wszystkie kolumny one hot są zerami (co oznacza null w oryginalnej zmiennej)\n",
    "    null_count = (sorted_data_encoded[one_hot_cols].sum(axis=1) == 0).sum()\n",
    "    # Obliczanie procentowej liczby nulli względem liczby obserwacji ogółem\n",
    "    total_count = sorted_data_encoded.shape[0]\n",
    "    null_percentage = (null_count / total_count) * 100\n",
    "    # Zapisywanie wyniku dla bieżącego prefixu\n",
    "    null_percentage_by_prefix[prefix] = null_percentage\n",
    "\n",
    "# Wyświetlenie wyników\n",
    "for prefix, percentage in null_percentage_by_prefix.items():\n",
    "    print(f\"Procent 'nulli' dla {prefix}: {percentage:.2f}%\")\n"
   ]
  },
  {
   "cell_type": "code",
   "execution_count": null,
   "metadata": {},
   "outputs": [
    {
     "name": "stdout",
     "output_type": "stream",
     "text": [
      "<class 'pandas.core.frame.DataFrame'>\n",
      "RangeIndex: 48597 entries, 0 to 48596\n",
      "Data columns (total 57 columns):\n",
      " #   Column              Non-Null Count  Dtype  \n",
      "---  ------              --------------  -----  \n",
      " 0   working_months      48597 non-null  float64\n",
      " 1   ID                  48597 non-null  int64  \n",
      " 2   customer_id         48597 non-null  int64  \n",
      " 3   _r_                 48597 non-null  float64\n",
      " 4   Var9                48597 non-null  int64  \n",
      " 5   Var10               48597 non-null  float64\n",
      " 6   Var1                48597 non-null  int64  \n",
      " 7   Var4                48597 non-null  int64  \n",
      " 8   Var5                48597 non-null  int64  \n",
      " 9   Var6                48597 non-null  int64  \n",
      " 10  Var7                48597 non-null  float64\n",
      " 11  Var8                48597 non-null  float64\n",
      " 12  Var15               48597 non-null  int64  \n",
      " 13  Var16               48597 non-null  int64  \n",
      " 14  Var17               48597 non-null  float64\n",
      " 15  Var20               48597 non-null  int64  \n",
      " 16  Var21               48597 non-null  int64  \n",
      " 17  Var22               48597 non-null  int64  \n",
      " 18  Var23               48597 non-null  int64  \n",
      " 19  Var24               48597 non-null  int64  \n",
      " 20  Var25               48597 non-null  float64\n",
      " 21  Var26               48597 non-null  float64\n",
      " 22  Var29               48597 non-null  int64  \n",
      " 23  Var30               48597 non-null  int64  \n",
      " 24  target              48597 non-null  Int8   \n",
      " 25  Application_status  48597 non-null  Int8   \n",
      " 26  Var18               48597 non-null  Int8   \n",
      " 27  Var19               48597 non-null  Int8   \n",
      " 28  Var27               48597 non-null  Int8   \n",
      " 29  Var28               48597 non-null  Int8   \n",
      " 30  Var2_1.0            48597 non-null  uint8  \n",
      " 31  Var2_2.0            48597 non-null  uint8  \n",
      " 32  Var2_3.0            48597 non-null  uint8  \n",
      " 33  Var3_1              48597 non-null  uint8  \n",
      " 34  Var3_2              48597 non-null  uint8  \n",
      " 35  Var3_3              48597 non-null  uint8  \n",
      " 36  Var3_Direct         48597 non-null  uint8  \n",
      " 37  Var3_Online         48597 non-null  uint8  \n",
      " 38  Var11_1             48597 non-null  uint8  \n",
      " 39  Var11_2             48597 non-null  uint8  \n",
      " 40  Var11_3             48597 non-null  uint8  \n",
      " 41  Var11_4             48597 non-null  uint8  \n",
      " 42  Var11_5             48597 non-null  uint8  \n",
      " 43  Var11_6             48597 non-null  uint8  \n",
      " 44  Var11_7             48597 non-null  uint8  \n",
      " 45  Var12_1.0           48597 non-null  uint8  \n",
      " 46  Var12_2.0           48597 non-null  uint8  \n",
      " 47  Var12_3.0           48597 non-null  uint8  \n",
      " 48  Var12_4.0           48597 non-null  uint8  \n",
      " 49  Var12_5.0           48597 non-null  uint8  \n",
      " 50  Var12_6.0           48597 non-null  uint8  \n",
      " 51  Var12_7.0           48597 non-null  uint8  \n",
      " 52  Var14_0             48597 non-null  uint8  \n",
      " 53  Var14_1             48597 non-null  uint8  \n",
      " 54  Var14_2             48597 non-null  uint8  \n",
      " 55  Var14_3             48597 non-null  uint8  \n",
      " 56  Var14_4             48597 non-null  uint8  \n",
      "dtypes: Int8(6), float64(8), int64(16), uint8(27)\n",
      "memory usage: 10.7 MB\n"
     ]
    }
   ],
   "source": [
    "# Usuwanie rekordów z nullami dla Var2 i Var3 bezpośrednio w sorted_data_encoded\n",
    "\n",
    "# Znajdowanie kolumn odpowiadających Var2 i Var3 po one hot encoding\n",
    "one_hot_cols_var2 = [col for col in sorted_data_encoded.columns if col.startswith('Var2_')]\n",
    "one_hot_cols_var3 = [col for col in sorted_data_encoded.columns if col.startswith('Var3_')]\n",
    "\n",
    "# Obliczanie maski wierszy, gdzie wszystkie kolumny one hot są zerami dla Var2 lub Var3\n",
    "mask_var2_nulls = (sorted_data_encoded[one_hot_cols_var2].sum(axis=1) == 0)\n",
    "mask_var3_nulls = (sorted_data_encoded[one_hot_cols_var3].sum(axis=1) == 0)\n",
    "\n",
    "# Łączenie masek, aby znaleźć wiersze do usunięcia\n",
    "rows_to_remove = mask_var2_nulls | mask_var3_nulls\n",
    "\n",
    "# Usuwanie wierszy, które mają nulli dla Var2 lub Var3 bezpośrednio w sorted_data_encoded\n",
    "sorted_data_encoded = sorted_data_encoded[~rows_to_remove].reset_index(drop=True)\n",
    "\n",
    "# Wyświetlenie informacji o zaktualizowanym DataFrame\n",
    "sorted_data_encoded.info()\n"
   ]
  },
  {
   "cell_type": "code",
   "execution_count": null,
   "metadata": {},
   "outputs": [
    {
     "name": "stdout",
     "output_type": "stream",
     "text": [
      "<class 'pandas.core.frame.DataFrame'>\n",
      "RangeIndex: 48597 entries, 0 to 48596\n",
      "Data columns (total 58 columns):\n",
      " #   Column              Non-Null Count  Dtype  \n",
      "---  ------              --------------  -----  \n",
      " 0   working_months      48597 non-null  float64\n",
      " 1   ID                  48597 non-null  int64  \n",
      " 2   customer_id         48597 non-null  int64  \n",
      " 3   _r_                 48597 non-null  float64\n",
      " 4   Var9                48597 non-null  int64  \n",
      " 5   Var10               48597 non-null  float64\n",
      " 6   Var1                48597 non-null  int64  \n",
      " 7   Var4                48597 non-null  int64  \n",
      " 8   Var5                48597 non-null  int64  \n",
      " 9   Var6                48597 non-null  int64  \n",
      " 10  Var7                48597 non-null  float64\n",
      " 11  Var8                48597 non-null  float64\n",
      " 12  Var15               48597 non-null  int64  \n",
      " 13  Var16               48597 non-null  int64  \n",
      " 14  Var17               48597 non-null  float64\n",
      " 15  Var20               48597 non-null  int64  \n",
      " 16  Var21               48597 non-null  int64  \n",
      " 17  Var22               48597 non-null  int64  \n",
      " 18  Var23               48597 non-null  int64  \n",
      " 19  Var24               48597 non-null  int64  \n",
      " 20  Var25               48597 non-null  float64\n",
      " 21  Var26               48597 non-null  float64\n",
      " 22  Var29               48597 non-null  int64  \n",
      " 23  Var30               48597 non-null  int64  \n",
      " 24  target              48597 non-null  Int8   \n",
      " 25  Application_status  48597 non-null  Int8   \n",
      " 26  Var18               48597 non-null  Int8   \n",
      " 27  Var19               48597 non-null  Int8   \n",
      " 28  Var27               48597 non-null  Int8   \n",
      " 29  Var28               48597 non-null  Int8   \n",
      " 30  Var2_1.0            48597 non-null  uint8  \n",
      " 31  Var2_2.0            48597 non-null  uint8  \n",
      " 32  Var2_3.0            48597 non-null  uint8  \n",
      " 33  Var3_1              48597 non-null  uint8  \n",
      " 34  Var3_2              48597 non-null  uint8  \n",
      " 35  Var3_3              48597 non-null  uint8  \n",
      " 36  Var3_Direct         48597 non-null  uint8  \n",
      " 37  Var3_Online         48597 non-null  uint8  \n",
      " 38  Var11_1             48597 non-null  uint8  \n",
      " 39  Var11_2             48597 non-null  uint8  \n",
      " 40  Var11_3             48597 non-null  uint8  \n",
      " 41  Var11_4             48597 non-null  uint8  \n",
      " 42  Var11_5             48597 non-null  uint8  \n",
      " 43  Var11_6             48597 non-null  uint8  \n",
      " 44  Var11_7             48597 non-null  uint8  \n",
      " 45  Var12_1.0           48597 non-null  uint8  \n",
      " 46  Var12_2.0           48597 non-null  uint8  \n",
      " 47  Var12_3.0           48597 non-null  uint8  \n",
      " 48  Var12_4.0           48597 non-null  uint8  \n",
      " 49  Var12_5.0           48597 non-null  uint8  \n",
      " 50  Var12_6.0           48597 non-null  uint8  \n",
      " 51  Var12_7.0           48597 non-null  uint8  \n",
      " 52  Var12_missing       48597 non-null  uint8  \n",
      " 53  Var14_0             48597 non-null  uint8  \n",
      " 54  Var14_1             48597 non-null  uint8  \n",
      " 55  Var14_2             48597 non-null  uint8  \n",
      " 56  Var14_3             48597 non-null  uint8  \n",
      " 57  Var14_4             48597 non-null  uint8  \n",
      "dtypes: Int8(6), float64(8), int64(16), uint8(28)\n",
      "memory usage: 10.8 MB\n"
     ]
    }
   ],
   "source": [
    "# Znajdowanie kolumn odpowiadających Var12 po one hot encoding\n",
    "one_hot_cols_var12 = [col for col in sorted_data_encoded.columns if col.startswith('Var12_')]\n",
    "\n",
    "# Obliczanie maski wierszy, gdzie wszystkie kolumny one hot są zerami dla Var12\n",
    "mask_var12_nulls = (sorted_data_encoded[one_hot_cols_var12].sum(axis=1) == 0)\n",
    "\n",
    "# Dodawanie nowej kolumny binarnej wskazującej na brak danych dla Var12, konwersja na typ uint8\n",
    "sorted_data_encoded['Var12_missing'] = mask_var12_nulls.astype('uint8')\n",
    "\n",
    "# Znalezienie indeksu, po którym należy wstawić nową kolumnę 'Var12_missing'\n",
    "# (będzie to indeks ostatniej kolumny z prefixem Var12 + 1)\n",
    "insertion_index = sorted_data_encoded.columns.tolist().index(one_hot_cols_var12[-1]) + 1\n",
    "\n",
    "# Utworzenie nowej kolejności kolumn tak, aby 'Var12_missing' znalazła się zaraz po ostatniej kolumnie Var12\n",
    "new_columns_order = sorted_data_encoded.columns.tolist()[:insertion_index] + ['Var12_missing'] + sorted_data_encoded.columns.tolist()[insertion_index:-1]\n",
    "\n",
    "# Zastosowanie nowej kolejności kolumn\n",
    "sorted_data_encoded = sorted_data_encoded[new_columns_order]\n",
    "\n",
    "# Wyświetlenie informacji o zaktualizowanym DataFrame, aby upewnić się, że kolumna została dodana na odpowiednim miejscu\n",
    "sorted_data_encoded.info()\n",
    "\n"
   ]
  },
  {
   "cell_type": "code",
   "execution_count": null,
   "metadata": {},
   "outputs": [
    {
     "data": {
      "text/plain": [
       "working_months        0\n",
       "ID                    0\n",
       "customer_id           0\n",
       "_r_                   0\n",
       "Var9                  0\n",
       "Var10                 0\n",
       "Var1                  0\n",
       "Var4                  0\n",
       "Var5                  0\n",
       "Var6                  0\n",
       "Var7                  0\n",
       "Var8                  0\n",
       "Var15                 0\n",
       "Var16                 0\n",
       "Var17                 0\n",
       "Var20                 0\n",
       "Var21                 0\n",
       "Var22                 0\n",
       "Var23                 0\n",
       "Var24                 0\n",
       "Var25                 0\n",
       "Var26                 0\n",
       "Var29                 0\n",
       "Var30                 0\n",
       "target                0\n",
       "Application_status    0\n",
       "Var18                 0\n",
       "Var19                 0\n",
       "Var27                 0\n",
       "Var28                 0\n",
       "Var2_1.0              0\n",
       "Var2_2.0              0\n",
       "Var2_3.0              0\n",
       "Var3_1                0\n",
       "Var3_2                0\n",
       "Var3_3                0\n",
       "Var3_Direct           0\n",
       "Var3_Online           0\n",
       "Var11_1               0\n",
       "Var11_2               0\n",
       "Var11_3               0\n",
       "Var11_4               0\n",
       "Var11_5               0\n",
       "Var11_6               0\n",
       "Var11_7               0\n",
       "Var12_1.0             0\n",
       "Var12_2.0             0\n",
       "Var12_3.0             0\n",
       "Var12_4.0             0\n",
       "Var12_5.0             0\n",
       "Var12_6.0             0\n",
       "Var12_7.0             0\n",
       "Var12_missing         0\n",
       "Var14_0               0\n",
       "Var14_1               0\n",
       "Var14_2               0\n",
       "Var14_3               0\n",
       "Var14_4               0\n",
       "dtype: int64"
      ]
     },
     "execution_count": 106,
     "metadata": {},
     "output_type": "execute_result"
    }
   ],
   "source": [
    "sorted_data_encoded.isnull().sum()"
   ]
  },
  {
   "cell_type": "code",
   "execution_count": null,
   "metadata": {},
   "outputs": [],
   "source": []
  }
 ],
 "metadata": {
  "kernelspec": {
   "display_name": "Python 3",
   "language": "python",
   "name": "python3"
  },
  "language_info": {
   "codemirror_mode": {
    "name": "ipython",
    "version": 3
   },
   "file_extension": ".py",
   "mimetype": "text/x-python",
   "name": "python",
   "nbconvert_exporter": "python",
   "pygments_lexer": "ipython3",
   "version": "3.10.9"
  }
 },
 "nbformat": 4,
 "nbformat_minor": 2
}
