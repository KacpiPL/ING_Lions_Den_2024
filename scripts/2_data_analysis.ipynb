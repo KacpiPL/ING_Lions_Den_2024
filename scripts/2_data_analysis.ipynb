{
 "cells": [
  {
   "cell_type": "code",
   "execution_count": 36,
   "metadata": {},
   "outputs": [],
   "source": [
    "import pandas as pd\n",
    "import numpy as np\n",
    "import matplotlib.pyplot as plt\n",
    "import seaborn as sns"
   ]
  },
  {
   "cell_type": "code",
   "execution_count": 37,
   "metadata": {},
   "outputs": [],
   "source": [
    "df = pd.read_csv('../data/output/development_sample_cleaned.csv')"
   ]
  },
  {
   "cell_type": "code",
   "execution_count": 40,
   "metadata": {},
   "outputs": [
    {
     "name": "stdout",
     "output_type": "stream",
     "text": [
      "<class 'pandas.core.frame.DataFrame'>\n",
      "RangeIndex: 35700 entries, 0 to 35699\n",
      "Data columns (total 48 columns):\n",
      " #   Column              Non-Null Count  Dtype  \n",
      "---  ------              --------------  -----  \n",
      " 0   working_months      35700 non-null  int64  \n",
      " 1   ID                  35700 non-null  int64  \n",
      " 2   customer_id         35700 non-null  int64  \n",
      " 3   _r_                 35700 non-null  float64\n",
      " 4   Var1                35700 non-null  int64  \n",
      " 5   Var4                35700 non-null  int64  \n",
      " 6   Var5                35700 non-null  int64  \n",
      " 7   Var6                35700 non-null  int64  \n",
      " 8   Var7                35700 non-null  float64\n",
      " 9   Var15               35700 non-null  int64  \n",
      " 10  Var16               35700 non-null  int64  \n",
      " 11  Var17               35700 non-null  float64\n",
      " 12  Var20               35700 non-null  int64  \n",
      " 13  Var21               35700 non-null  int64  \n",
      " 14  Var22               35700 non-null  int64  \n",
      " 15  Var23               35700 non-null  int64  \n",
      " 16  Var24               35700 non-null  int64  \n",
      " 17  Var25               35700 non-null  float64\n",
      " 18  Var26               35700 non-null  float64\n",
      " 19  Var29               35700 non-null  int64  \n",
      " 20  Var30               35700 non-null  int64  \n",
      " 21  target              35700 non-null  float64\n",
      " 22  Application_status  35700 non-null  int64  \n",
      " 23  Var27               35700 non-null  int64  \n",
      " 24  Var28               35700 non-null  int64  \n",
      " 25  income              35700 non-null  int64  \n",
      " 26  loan_desc           35700 non-null  int64  \n",
      " 27  Var2_2.0            35700 non-null  int64  \n",
      " 28  Var2_3.0            35700 non-null  int64  \n",
      " 29  Var3_2.0            35700 non-null  int64  \n",
      " 30  Var3_3.0            35700 non-null  int64  \n",
      " 31  Var11_2             35700 non-null  int64  \n",
      " 32  Var11_3             35700 non-null  int64  \n",
      " 33  Var11_4             35700 non-null  int64  \n",
      " 34  Var11_5             35700 non-null  int64  \n",
      " 35  Var11_6             35700 non-null  int64  \n",
      " 36  Var11_7             35700 non-null  int64  \n",
      " 37  Var12_2.0           35700 non-null  int64  \n",
      " 38  Var12_3.0           35700 non-null  int64  \n",
      " 39  Var12_4.0           35700 non-null  int64  \n",
      " 40  Var12_5.0           35700 non-null  int64  \n",
      " 41  Var12_6.0           35700 non-null  int64  \n",
      " 42  Var12_7.0           35700 non-null  int64  \n",
      " 43  Var12_8.0           35700 non-null  int64  \n",
      " 44  Var14_1             35700 non-null  int64  \n",
      " 45  Var14_2             35700 non-null  int64  \n",
      " 46  Var14_3             35700 non-null  int64  \n",
      " 47  Var14_4             35700 non-null  int64  \n",
      "dtypes: float64(6), int64(42)\n",
      "memory usage: 13.1 MB\n"
     ]
    }
   ],
   "source": [
    "df.info()"
   ]
  },
  {
   "cell_type": "code",
   "execution_count": 39,
   "metadata": {},
   "outputs": [
    {
     "name": "stdout",
     "output_type": "stream",
     "text": [
      "Numeric columns: ['working_months', '_r_', 'Var1', 'Var4', 'Var5', 'Var6', 'Var7', 'Var15', 'Var16', 'Var17', 'Var20', 'Var21', 'Var22', 'Var23', 'Var24', 'Var25', 'Var26', 'Var29', 'Var30']\n",
      "Binary columns: ['target', 'Var27', 'Var28', 'Var2_2.0', 'Var2_3.0', 'Var3_2.0', 'Var3_3.0', 'Var11_2', 'Var11_3', 'Var11_4', 'Var11_5', 'Var11_6', 'Var11_7', 'Var12_2.0', 'Var12_3.0', 'Var12_4.0', 'Var12_5.0', 'Var12_6.0', 'Var12_7.0', 'Var12_8.0', 'Var14_1', 'Var14_2', 'Var14_3', 'Var14_4']\n"
     ]
    }
   ],
   "source": [
    "# Oryginalne definicje kategorii zmiennych\n",
    "date_columns_orig = ['application_date', 'Var13']\n",
    "numeric_columns_orig = ['ID', 'customer_id', '_r_', 'Var9', 'Var10', 'Var1', 'Var4', 'Var5', 'Var6', 'Var7', 'Var8', 'Var15', 'Var16', 'Var17', 'Var20', 'Var21', 'Var22', 'Var23', 'Var24', 'Var25', 'Var26', 'Var29', 'Var30']\n",
    "categorical_columns_orig = ['Var2', 'Var3', 'Var11', 'Var12', 'Var14']\n",
    "binary_columns_orig = ['target', 'Application_status', 'Var18', 'Var19', 'Var27', 'Var28']\n",
    "\n",
    "# Nowe kolumny w DataFrame\n",
    "new_columns = ['working_months', '_r_', 'Var1', 'Var4', 'Var5', 'Var6', 'Var7', 'Var15', 'Var16', 'Var17', 'Var20', 'Var21', 'Var22', 'Var23', 'Var24', 'Var25', 'Var26', 'Var29', 'Var30', 'target', 'Var27', 'Var28', 'income', 'loan_desc', 'Var2_2.0', 'Var2_3.0', 'Var3_2.0', 'Var3_3.0', 'Var11_2', 'Var11_3', 'Var11_4', 'Var11_5', 'Var11_6', 'Var11_7', 'Var12_2.0', 'Var12_3.0', 'Var12_4.0', 'Var12_5.0', 'Var12_6.0', 'Var12_7.0', 'Var12_8.0', 'Var14_1', 'Var14_2', 'Var14_3', 'Var14_4']\n",
    "\n",
    "# Zaktualizowane definicje kategorii zmiennych, 'working_months' jest teraz klasyfikowane jako numeryczne\n",
    "date_columns_updated = ['application_date']  # Usunięto 'Var13' i 'working_months' nie jest już tutaj\n",
    "numeric_columns_updated = [col for col in new_columns if col in numeric_columns_orig or col == 'working_months']  # Dodano 'working_months'\n",
    "\n",
    "# Teraz traktujemy zmienne po one hot encoding jako binarne oraz dodajemy 'income' i 'loan_desc' do odpowiednich kategorii\n",
    "binary_columns_updated = [col for col in new_columns if col in binary_columns_orig or 'Var2_' in col or 'Var3_' in col or 'Var11_' in col or 'Var12_' in col or 'Var14_' in col]\n",
    "# Wyświetlanie zaktualizowanych kategorii\n",
    "\n",
    "print(\"Numeric columns:\", numeric_columns_updated)\n",
    "print(\"Binary columns:\", binary_columns_updated)\n",
    "\n"
   ]
  },
  {
   "cell_type": "code",
   "execution_count": null,
   "metadata": {},
   "outputs": [],
   "source": []
  }
 ],
 "metadata": {
  "kernelspec": {
   "display_name": "Python 3",
   "language": "python",
   "name": "python3"
  },
  "language_info": {
   "codemirror_mode": {
    "name": "ipython",
    "version": 3
   },
   "file_extension": ".py",
   "mimetype": "text/x-python",
   "name": "python",
   "nbconvert_exporter": "python",
   "pygments_lexer": "ipython3",
   "version": "3.10.9"
  }
 },
 "nbformat": 4,
 "nbformat_minor": 2
}
