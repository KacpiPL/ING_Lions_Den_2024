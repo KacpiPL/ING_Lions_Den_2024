{
 "cells": [
  {
   "cell_type": "markdown",
   "metadata": {},
   "source": [
    "# ING Lion's Den 2024\n",
    "\n",
    "## Team: RiskBusters\n",
    "\n",
    "Michał Bryzik, Michał Niegierewicz, Kacper Gruca, Jan Ślusarek\n",
    "\n",
    "In this file we clean the testing dataframe for continuous variables.\n",
    "\n",
    "Due to the fact that there might be some anomalies in testing dataset we decided to have additional jupyter file to notice, analyze and report them."
   ]
  },
  {
   "cell_type": "code",
   "execution_count": 85,
   "metadata": {},
   "outputs": [],
   "source": [
    "# Import necessary libraries\n",
    "import pandas as pd\n",
    "import numpy as np\n",
    "import matplotlib.pyplot as plt\n",
    "import seaborn as sns\n",
    "from sklearn.impute import KNNImputer\n",
    "from datetime import date"
   ]
  },
  {
   "cell_type": "code",
   "execution_count": 86,
   "metadata": {},
   "outputs": [
    {
     "data": {
      "text/html": [
       "<div>\n",
       "<style scoped>\n",
       "    .dataframe tbody tr th:only-of-type {\n",
       "        vertical-align: middle;\n",
       "    }\n",
       "\n",
       "    .dataframe tbody tr th {\n",
       "        vertical-align: top;\n",
       "    }\n",
       "\n",
       "    .dataframe thead th {\n",
       "        text-align: right;\n",
       "    }\n",
       "</style>\n",
       "<table border=\"1\" class=\"dataframe\">\n",
       "  <thead>\n",
       "    <tr style=\"text-align: right;\">\n",
       "      <th></th>\n",
       "      <th>ID</th>\n",
       "      <th>customer_id</th>\n",
       "      <th>application_date</th>\n",
       "      <th>target</th>\n",
       "      <th>Application_status</th>\n",
       "      <th>Var1</th>\n",
       "      <th>Var2</th>\n",
       "      <th>Var3</th>\n",
       "      <th>Var4</th>\n",
       "      <th>Var5</th>\n",
       "      <th>...</th>\n",
       "      <th>Var22</th>\n",
       "      <th>Var23</th>\n",
       "      <th>Var24</th>\n",
       "      <th>Var25</th>\n",
       "      <th>Var26</th>\n",
       "      <th>Var27</th>\n",
       "      <th>Var28</th>\n",
       "      <th>Var29</th>\n",
       "      <th>Var30</th>\n",
       "      <th>_r_</th>\n",
       "    </tr>\n",
       "  </thead>\n",
       "  <tbody>\n",
       "    <tr>\n",
       "      <th>0</th>\n",
       "      <td>36034977</td>\n",
       "      <td>32653719</td>\n",
       "      <td>03Feb2010 0:00:00</td>\n",
       "      <td>0.0</td>\n",
       "      <td>Approved</td>\n",
       "      <td>1</td>\n",
       "      <td>3.0</td>\n",
       "      <td>1.0</td>\n",
       "      <td>4800</td>\n",
       "      <td>15</td>\n",
       "      <td>...</td>\n",
       "      <td>8</td>\n",
       "      <td>8</td>\n",
       "      <td>0</td>\n",
       "      <td>4977.87</td>\n",
       "      <td>14880.28</td>\n",
       "      <td>0</td>\n",
       "      <td>0</td>\n",
       "      <td>70</td>\n",
       "      <td>3899</td>\n",
       "      <td>0.485674</td>\n",
       "    </tr>\n",
       "    <tr>\n",
       "      <th>1</th>\n",
       "      <td>36034978</td>\n",
       "      <td>32832365</td>\n",
       "      <td>04Feb2010 0:00:00</td>\n",
       "      <td>0.0</td>\n",
       "      <td>Approved</td>\n",
       "      <td>2</td>\n",
       "      <td>2.0</td>\n",
       "      <td>1.0</td>\n",
       "      <td>6800</td>\n",
       "      <td>18</td>\n",
       "      <td>...</td>\n",
       "      <td>1</td>\n",
       "      <td>1</td>\n",
       "      <td>29400</td>\n",
       "      <td>7922.90</td>\n",
       "      <td>6534.84</td>\n",
       "      <td>0</td>\n",
       "      <td>0</td>\n",
       "      <td>0</td>\n",
       "      <td>3899</td>\n",
       "      <td>0.267045</td>\n",
       "    </tr>\n",
       "    <tr>\n",
       "      <th>2</th>\n",
       "      <td>36034979</td>\n",
       "      <td>32544742</td>\n",
       "      <td>07Feb2010 0:00:00</td>\n",
       "      <td>0.0</td>\n",
       "      <td>Approved</td>\n",
       "      <td>1</td>\n",
       "      <td>3.0</td>\n",
       "      <td>1.0</td>\n",
       "      <td>4600</td>\n",
       "      <td>18</td>\n",
       "      <td>...</td>\n",
       "      <td>0</td>\n",
       "      <td>0</td>\n",
       "      <td>0</td>\n",
       "      <td>3174.15</td>\n",
       "      <td>16974.69</td>\n",
       "      <td>0</td>\n",
       "      <td>0</td>\n",
       "      <td>0</td>\n",
       "      <td>3899</td>\n",
       "      <td>0.793579</td>\n",
       "    </tr>\n",
       "    <tr>\n",
       "      <th>3</th>\n",
       "      <td>36034980</td>\n",
       "      <td>32395830</td>\n",
       "      <td>09Feb2010 0:00:00</td>\n",
       "      <td>NaN</td>\n",
       "      <td>Rejected</td>\n",
       "      <td>2</td>\n",
       "      <td>2.0</td>\n",
       "      <td>2.0</td>\n",
       "      <td>7900</td>\n",
       "      <td>48</td>\n",
       "      <td>...</td>\n",
       "      <td>2</td>\n",
       "      <td>2</td>\n",
       "      <td>0</td>\n",
       "      <td>4972.82</td>\n",
       "      <td>3484.36</td>\n",
       "      <td>0</td>\n",
       "      <td>0</td>\n",
       "      <td>10</td>\n",
       "      <td>3899</td>\n",
       "      <td>0.533040</td>\n",
       "    </tr>\n",
       "    <tr>\n",
       "      <th>4</th>\n",
       "      <td>36034981</td>\n",
       "      <td>32592943</td>\n",
       "      <td>13Feb2010 0:00:00</td>\n",
       "      <td>0.0</td>\n",
       "      <td>Approved</td>\n",
       "      <td>2</td>\n",
       "      <td>1.0</td>\n",
       "      <td>1.0</td>\n",
       "      <td>9900</td>\n",
       "      <td>63</td>\n",
       "      <td>...</td>\n",
       "      <td>3</td>\n",
       "      <td>3</td>\n",
       "      <td>0</td>\n",
       "      <td>2278.22</td>\n",
       "      <td>9630.53</td>\n",
       "      <td>0</td>\n",
       "      <td>0</td>\n",
       "      <td>10</td>\n",
       "      <td>3899</td>\n",
       "      <td>0.781269</td>\n",
       "    </tr>\n",
       "  </tbody>\n",
       "</table>\n",
       "<p>5 rows × 36 columns</p>\n",
       "</div>"
      ],
      "text/plain": [
       "         ID  customer_id   application_date  target Application_status  Var1  \\\n",
       "0  36034977     32653719  03Feb2010 0:00:00     0.0           Approved     1   \n",
       "1  36034978     32832365  04Feb2010 0:00:00     0.0           Approved     2   \n",
       "2  36034979     32544742  07Feb2010 0:00:00     0.0           Approved     1   \n",
       "3  36034980     32395830  09Feb2010 0:00:00     NaN           Rejected     2   \n",
       "4  36034981     32592943  13Feb2010 0:00:00     0.0           Approved     2   \n",
       "\n",
       "   Var2  Var3  Var4  Var5  ...  Var22  Var23  Var24    Var25     Var26  Var27  \\\n",
       "0   3.0   1.0  4800    15  ...      8      8      0  4977.87  14880.28      0   \n",
       "1   2.0   1.0  6800    18  ...      1      1  29400  7922.90   6534.84      0   \n",
       "2   3.0   1.0  4600    18  ...      0      0      0  3174.15  16974.69      0   \n",
       "3   2.0   2.0  7900    48  ...      2      2      0  4972.82   3484.36      0   \n",
       "4   1.0   1.0  9900    63  ...      3      3      0  2278.22   9630.53      0   \n",
       "\n",
       "   Var28 Var29  Var30       _r_  \n",
       "0      0    70   3899  0.485674  \n",
       "1      0     0   3899  0.267045  \n",
       "2      0     0   3899  0.793579  \n",
       "3      0    10   3899  0.533040  \n",
       "4      0    10   3899  0.781269  \n",
       "\n",
       "[5 rows x 36 columns]"
      ]
     },
     "execution_count": 86,
     "metadata": {},
     "output_type": "execute_result"
    }
   ],
   "source": [
    "data=pd.read_csv('../data/input/testing_sample.csv') \n",
    "data.head() "
   ]
  },
  {
   "cell_type": "code",
   "execution_count": 87,
   "metadata": {},
   "outputs": [
    {
     "data": {
      "text/plain": [
       "(5000, 36)"
      ]
     },
     "execution_count": 87,
     "metadata": {},
     "output_type": "execute_result"
    }
   ],
   "source": [
    "data.shape "
   ]
  },
  {
   "cell_type": "code",
   "execution_count": 88,
   "metadata": {},
   "outputs": [
    {
     "data": {
      "text/plain": [
       "ID                       0\n",
       "customer_id              0\n",
       "application_date         0\n",
       "target                1353\n",
       "Application_status       0\n",
       "Var1                     0\n",
       "Var2                   139\n",
       "Var3                   139\n",
       "Var4                     0\n",
       "Var5                     0\n",
       "Var6                     0\n",
       "Var7                     0\n",
       "Var8                  2905\n",
       "Var9                     0\n",
       "Var10                 3719\n",
       "Var11                    0\n",
       "Var12                 3719\n",
       "Var13                    0\n",
       "Var14                    0\n",
       "Var15                    0\n",
       "Var16                    0\n",
       "Var17                    0\n",
       "Var18                 3721\n",
       "Var19                 2905\n",
       "Var20                    0\n",
       "Var21                    0\n",
       "Var22                    0\n",
       "Var23                    0\n",
       "Var24                    0\n",
       "Var25                 1023\n",
       "Var26                 1961\n",
       "Var27                    0\n",
       "Var28                    0\n",
       "Var29                    0\n",
       "Var30                    0\n",
       "_r_                      0\n",
       "dtype: int64"
      ]
     },
     "execution_count": 88,
     "metadata": {},
     "output_type": "execute_result"
    }
   ],
   "source": [
    "data.isnull().sum() "
   ]
  },
  {
   "cell_type": "code",
   "execution_count": 89,
   "metadata": {},
   "outputs": [
    {
     "name": "stdout",
     "output_type": "stream",
     "text": [
      "<class 'pandas.core.frame.DataFrame'>\n",
      "RangeIndex: 5000 entries, 0 to 4999\n",
      "Data columns (total 36 columns):\n",
      " #   Column              Non-Null Count  Dtype  \n",
      "---  ------              --------------  -----  \n",
      " 0   ID                  5000 non-null   int64  \n",
      " 1   customer_id         5000 non-null   int64  \n",
      " 2   application_date    5000 non-null   object \n",
      " 3   target              3647 non-null   float64\n",
      " 4   Application_status  5000 non-null   object \n",
      " 5   Var1                5000 non-null   int64  \n",
      " 6   Var2                4861 non-null   float64\n",
      " 7   Var3                4861 non-null   float64\n",
      " 8   Var4                5000 non-null   int64  \n",
      " 9   Var5                5000 non-null   int64  \n",
      " 10  Var6                5000 non-null   int64  \n",
      " 11  Var7                5000 non-null   float64\n",
      " 12  Var8                2095 non-null   float64\n",
      " 13  Var9                5000 non-null   int64  \n",
      " 14  Var10               1281 non-null   float64\n",
      " 15  Var11               5000 non-null   int64  \n",
      " 16  Var12               1281 non-null   float64\n",
      " 17  Var13               5000 non-null   object \n",
      " 18  Var14               5000 non-null   int64  \n",
      " 19  Var15               5000 non-null   int64  \n",
      " 20  Var16               5000 non-null   int64  \n",
      " 21  Var17               5000 non-null   float64\n",
      " 22  Var18               1279 non-null   float64\n",
      " 23  Var19               2095 non-null   float64\n",
      " 24  Var20               5000 non-null   int64  \n",
      " 25  Var21               5000 non-null   int64  \n",
      " 26  Var22               5000 non-null   int64  \n",
      " 27  Var23               5000 non-null   int64  \n",
      " 28  Var24               5000 non-null   int64  \n",
      " 29  Var25               3977 non-null   float64\n",
      " 30  Var26               3039 non-null   float64\n",
      " 31  Var27               5000 non-null   int64  \n",
      " 32  Var28               5000 non-null   int64  \n",
      " 33  Var29               5000 non-null   int64  \n",
      " 34  Var30               5000 non-null   int64  \n",
      " 35  _r_                 5000 non-null   float64\n",
      "dtypes: float64(13), int64(20), object(3)\n",
      "memory usage: 1.4+ MB\n"
     ]
    }
   ],
   "source": [
    "data.info()  "
   ]
  },
  {
   "cell_type": "markdown",
   "metadata": {},
   "source": [
    "## Clean dataset"
   ]
  },
  {
   "cell_type": "markdown",
   "metadata": {},
   "source": [
    "### Define columns by datetypes and sort df\n",
    "\n",
    "We define the target type of the column basing on the description file and exploring data"
   ]
  },
  {
   "cell_type": "code",
   "execution_count": 90,
   "metadata": {},
   "outputs": [],
   "source": [
    "# Define columns\n",
    "date_columns = ['application_date', 'Var13'] \n",
    "numeric_columns = ['ID', 'customer_id', '_r_', 'Var9', 'Var10']  \n",
    "categorical_columns = []\n",
    "binary_columns = ['target', 'Application_status'] "
   ]
  },
  {
   "cell_type": "code",
   "execution_count": 91,
   "metadata": {},
   "outputs": [],
   "source": [
    "# Checking the data type for the rest of columns \n",
    "for column in data.columns:\n",
    "    if column in date_columns + numeric_columns + binary_columns:\n",
    "        continue  \n",
    "    elif column in ['Var1', 'Var4', 'Var5', 'Var6', 'Var7', 'Var8', 'Var15', 'Var16', 'Var17', 'Var20', 'Var21', 'Var22', 'Var23', 'Var24', 'Var25', 'Var26', 'Var29', 'Var30']:\n",
    "        numeric_columns.append(column)\n",
    "    elif column in ['Var2', 'Var3', 'Var11', 'Var12', 'Var14']:\n",
    "        categorical_columns.append(column)\n",
    "    elif column in ['Var18', 'Var19', 'Var27', 'Var28']:\n",
    "        binary_columns.append(column)"
   ]
  },
  {
   "cell_type": "code",
   "execution_count": 92,
   "metadata": {},
   "outputs": [
    {
     "name": "stdout",
     "output_type": "stream",
     "text": [
      "['application_date', 'Var13']\n",
      "['ID', 'customer_id', '_r_', 'Var9', 'Var10', 'Var1', 'Var4', 'Var5', 'Var6', 'Var7', 'Var8', 'Var15', 'Var16', 'Var17', 'Var20', 'Var21', 'Var22', 'Var23', 'Var24', 'Var25', 'Var26', 'Var29', 'Var30']\n",
      "['Var2', 'Var3', 'Var11', 'Var12', 'Var14']\n",
      "['target', 'Application_status', 'Var18', 'Var19', 'Var27', 'Var28']\n"
     ]
    }
   ],
   "source": [
    "print(date_columns)\n",
    "print(numeric_columns)\n",
    "print(categorical_columns)\n",
    "print(binary_columns)"
   ]
  },
  {
   "cell_type": "code",
   "execution_count": 93,
   "metadata": {},
   "outputs": [],
   "source": [
    "# Make a copy of main data, from this moment we will work on this dataset\n",
    "df = data.copy()"
   ]
  },
  {
   "cell_type": "code",
   "execution_count": 94,
   "metadata": {},
   "outputs": [],
   "source": [
    "# Assumed sequence for columns sorting \n",
    "sorted_columns = date_columns + numeric_columns + categorical_columns + binary_columns\n",
    "\n",
    "# Choose of the sorted value by defined categories\n",
    "df = data[sorted_columns]"
   ]
  },
  {
   "cell_type": "code",
   "execution_count": 95,
   "metadata": {},
   "outputs": [
    {
     "data": {
      "text/html": [
       "<div>\n",
       "<style scoped>\n",
       "    .dataframe tbody tr th:only-of-type {\n",
       "        vertical-align: middle;\n",
       "    }\n",
       "\n",
       "    .dataframe tbody tr th {\n",
       "        vertical-align: top;\n",
       "    }\n",
       "\n",
       "    .dataframe thead th {\n",
       "        text-align: right;\n",
       "    }\n",
       "</style>\n",
       "<table border=\"1\" class=\"dataframe\">\n",
       "  <thead>\n",
       "    <tr style=\"text-align: right;\">\n",
       "      <th></th>\n",
       "      <th>application_date</th>\n",
       "      <th>Var13</th>\n",
       "      <th>ID</th>\n",
       "      <th>customer_id</th>\n",
       "      <th>_r_</th>\n",
       "      <th>Var9</th>\n",
       "      <th>Var10</th>\n",
       "      <th>Var1</th>\n",
       "      <th>Var4</th>\n",
       "      <th>Var5</th>\n",
       "      <th>...</th>\n",
       "      <th>Var3</th>\n",
       "      <th>Var11</th>\n",
       "      <th>Var12</th>\n",
       "      <th>Var14</th>\n",
       "      <th>target</th>\n",
       "      <th>Application_status</th>\n",
       "      <th>Var18</th>\n",
       "      <th>Var19</th>\n",
       "      <th>Var27</th>\n",
       "      <th>Var28</th>\n",
       "    </tr>\n",
       "  </thead>\n",
       "  <tbody>\n",
       "    <tr>\n",
       "      <th>0</th>\n",
       "      <td>03Feb2010 0:00:00</td>\n",
       "      <td>28Nov2004</td>\n",
       "      <td>36034977</td>\n",
       "      <td>32653719</td>\n",
       "      <td>0.485674</td>\n",
       "      <td>4200</td>\n",
       "      <td>NaN</td>\n",
       "      <td>1</td>\n",
       "      <td>4800</td>\n",
       "      <td>15</td>\n",
       "      <td>...</td>\n",
       "      <td>1.0</td>\n",
       "      <td>2</td>\n",
       "      <td>NaN</td>\n",
       "      <td>0</td>\n",
       "      <td>0.0</td>\n",
       "      <td>Approved</td>\n",
       "      <td>NaN</td>\n",
       "      <td>NaN</td>\n",
       "      <td>0</td>\n",
       "      <td>0</td>\n",
       "    </tr>\n",
       "    <tr>\n",
       "      <th>1</th>\n",
       "      <td>04Feb2010 0:00:00</td>\n",
       "      <td>19Sep1996</td>\n",
       "      <td>36034978</td>\n",
       "      <td>32832365</td>\n",
       "      <td>0.267045</td>\n",
       "      <td>5880</td>\n",
       "      <td>3700.0</td>\n",
       "      <td>2</td>\n",
       "      <td>6800</td>\n",
       "      <td>18</td>\n",
       "      <td>...</td>\n",
       "      <td>1.0</td>\n",
       "      <td>5</td>\n",
       "      <td>6.0</td>\n",
       "      <td>3</td>\n",
       "      <td>0.0</td>\n",
       "      <td>Approved</td>\n",
       "      <td>1.0</td>\n",
       "      <td>NaN</td>\n",
       "      <td>0</td>\n",
       "      <td>0</td>\n",
       "    </tr>\n",
       "    <tr>\n",
       "      <th>2</th>\n",
       "      <td>07Feb2010 0:00:00</td>\n",
       "      <td>23Nov1998</td>\n",
       "      <td>36034979</td>\n",
       "      <td>32544742</td>\n",
       "      <td>0.793579</td>\n",
       "      <td>4200</td>\n",
       "      <td>NaN</td>\n",
       "      <td>1</td>\n",
       "      <td>4600</td>\n",
       "      <td>18</td>\n",
       "      <td>...</td>\n",
       "      <td>1.0</td>\n",
       "      <td>5</td>\n",
       "      <td>NaN</td>\n",
       "      <td>0</td>\n",
       "      <td>0.0</td>\n",
       "      <td>Approved</td>\n",
       "      <td>NaN</td>\n",
       "      <td>NaN</td>\n",
       "      <td>0</td>\n",
       "      <td>0</td>\n",
       "    </tr>\n",
       "    <tr>\n",
       "      <th>3</th>\n",
       "      <td>09Feb2010 0:00:00</td>\n",
       "      <td>13Nov2005</td>\n",
       "      <td>36034980</td>\n",
       "      <td>32395830</td>\n",
       "      <td>0.533040</td>\n",
       "      <td>4200</td>\n",
       "      <td>5400.0</td>\n",
       "      <td>2</td>\n",
       "      <td>7900</td>\n",
       "      <td>48</td>\n",
       "      <td>...</td>\n",
       "      <td>2.0</td>\n",
       "      <td>5</td>\n",
       "      <td>5.0</td>\n",
       "      <td>2</td>\n",
       "      <td>NaN</td>\n",
       "      <td>Rejected</td>\n",
       "      <td>0.0</td>\n",
       "      <td>NaN</td>\n",
       "      <td>0</td>\n",
       "      <td>0</td>\n",
       "    </tr>\n",
       "    <tr>\n",
       "      <th>4</th>\n",
       "      <td>13Feb2010 0:00:00</td>\n",
       "      <td>06Aug1995</td>\n",
       "      <td>36034981</td>\n",
       "      <td>32592943</td>\n",
       "      <td>0.781269</td>\n",
       "      <td>3120</td>\n",
       "      <td>3300.0</td>\n",
       "      <td>2</td>\n",
       "      <td>9900</td>\n",
       "      <td>63</td>\n",
       "      <td>...</td>\n",
       "      <td>1.0</td>\n",
       "      <td>4</td>\n",
       "      <td>5.0</td>\n",
       "      <td>1</td>\n",
       "      <td>0.0</td>\n",
       "      <td>Approved</td>\n",
       "      <td>NaN</td>\n",
       "      <td>0.0</td>\n",
       "      <td>0</td>\n",
       "      <td>0</td>\n",
       "    </tr>\n",
       "  </tbody>\n",
       "</table>\n",
       "<p>5 rows × 36 columns</p>\n",
       "</div>"
      ],
      "text/plain": [
       "    application_date      Var13        ID  customer_id       _r_  Var9  \\\n",
       "0  03Feb2010 0:00:00  28Nov2004  36034977     32653719  0.485674  4200   \n",
       "1  04Feb2010 0:00:00  19Sep1996  36034978     32832365  0.267045  5880   \n",
       "2  07Feb2010 0:00:00  23Nov1998  36034979     32544742  0.793579  4200   \n",
       "3  09Feb2010 0:00:00  13Nov2005  36034980     32395830  0.533040  4200   \n",
       "4  13Feb2010 0:00:00  06Aug1995  36034981     32592943  0.781269  3120   \n",
       "\n",
       "    Var10  Var1  Var4  Var5  ...  Var3  Var11  Var12  Var14  target  \\\n",
       "0     NaN     1  4800    15  ...   1.0      2    NaN      0     0.0   \n",
       "1  3700.0     2  6800    18  ...   1.0      5    6.0      3     0.0   \n",
       "2     NaN     1  4600    18  ...   1.0      5    NaN      0     0.0   \n",
       "3  5400.0     2  7900    48  ...   2.0      5    5.0      2     NaN   \n",
       "4  3300.0     2  9900    63  ...   1.0      4    5.0      1     0.0   \n",
       "\n",
       "   Application_status  Var18  Var19  Var27  Var28  \n",
       "0            Approved    NaN    NaN      0      0  \n",
       "1            Approved    1.0    NaN      0      0  \n",
       "2            Approved    NaN    NaN      0      0  \n",
       "3            Rejected    0.0    NaN      0      0  \n",
       "4            Approved    NaN    0.0      0      0  \n",
       "\n",
       "[5 rows x 36 columns]"
      ]
     },
     "execution_count": 95,
     "metadata": {},
     "output_type": "execute_result"
    }
   ],
   "source": [
    "df.head()\n",
    "# Some of the records for Var14 are Nulls, it requires analysis"
   ]
  },
  {
   "cell_type": "markdown",
   "metadata": {},
   "source": [
    "### Handle date variables"
   ]
  },
  {
   "cell_type": "code",
   "execution_count": 96,
   "metadata": {},
   "outputs": [
    {
     "data": {
      "text/plain": [
       "['application_date', 'Var13']"
      ]
     },
     "execution_count": 96,
     "metadata": {},
     "output_type": "execute_result"
    }
   ],
   "source": [
    "# Print date columns\n",
    "date_columns"
   ]
  },
  {
   "cell_type": "markdown",
   "metadata": {},
   "source": [
    "#### Change the type of columns"
   ]
  },
  {
   "cell_type": "code",
   "execution_count": 97,
   "metadata": {},
   "outputs": [],
   "source": [
    "# Change date columns to datetime type\n",
    "df['application_date'] = pd.to_datetime(df['application_date'], errors='coerce')\n",
    "df['Var13'] = pd.to_datetime(df['Var13'], format='%d%b%Y', errors='coerce')         # Var13 - irregular date format"
   ]
  },
  {
   "cell_type": "code",
   "execution_count": 98,
   "metadata": {},
   "outputs": [
    {
     "name": "stdout",
     "output_type": "stream",
     "text": [
      "49\n",
      "0\n"
     ]
    }
   ],
   "source": [
    "# Check naN values after transformation\n",
    "print(df['Var13'].isnull().sum(0))\n",
    "print(df['application_date'].isnull().sum(0))"
   ]
  },
  {
   "cell_type": "markdown",
   "metadata": {},
   "source": [
    "After transformation some records for Var13 are empty, we need to analyze it"
   ]
  },
  {
   "cell_type": "code",
   "execution_count": 99,
   "metadata": {},
   "outputs": [
    {
     "data": {
      "text/html": [
       "<div>\n",
       "<style scoped>\n",
       "    .dataframe tbody tr th:only-of-type {\n",
       "        vertical-align: middle;\n",
       "    }\n",
       "\n",
       "    .dataframe tbody tr th {\n",
       "        vertical-align: top;\n",
       "    }\n",
       "\n",
       "    .dataframe thead th {\n",
       "        text-align: right;\n",
       "    }\n",
       "</style>\n",
       "<table border=\"1\" class=\"dataframe\">\n",
       "  <thead>\n",
       "    <tr style=\"text-align: right;\">\n",
       "      <th></th>\n",
       "      <th>application_date</th>\n",
       "      <th>Var13</th>\n",
       "      <th>ID</th>\n",
       "      <th>customer_id</th>\n",
       "      <th>_r_</th>\n",
       "      <th>Var9</th>\n",
       "      <th>Var10</th>\n",
       "      <th>Var1</th>\n",
       "      <th>Var4</th>\n",
       "      <th>Var5</th>\n",
       "      <th>...</th>\n",
       "      <th>Var3</th>\n",
       "      <th>Var11</th>\n",
       "      <th>Var12</th>\n",
       "      <th>Var14</th>\n",
       "      <th>target</th>\n",
       "      <th>Application_status</th>\n",
       "      <th>Var18</th>\n",
       "      <th>Var19</th>\n",
       "      <th>Var27</th>\n",
       "      <th>Var28</th>\n",
       "    </tr>\n",
       "  </thead>\n",
       "  <tbody>\n",
       "    <tr>\n",
       "      <th>0</th>\n",
       "      <td>2010-02-03</td>\n",
       "      <td>2004-11-28</td>\n",
       "      <td>36034977</td>\n",
       "      <td>32653719</td>\n",
       "      <td>0.485674</td>\n",
       "      <td>4200</td>\n",
       "      <td>NaN</td>\n",
       "      <td>1</td>\n",
       "      <td>4800</td>\n",
       "      <td>15</td>\n",
       "      <td>...</td>\n",
       "      <td>1.0</td>\n",
       "      <td>2</td>\n",
       "      <td>NaN</td>\n",
       "      <td>0</td>\n",
       "      <td>0.0</td>\n",
       "      <td>Approved</td>\n",
       "      <td>NaN</td>\n",
       "      <td>NaN</td>\n",
       "      <td>0</td>\n",
       "      <td>0</td>\n",
       "    </tr>\n",
       "    <tr>\n",
       "      <th>1</th>\n",
       "      <td>2010-02-04</td>\n",
       "      <td>1996-09-19</td>\n",
       "      <td>36034978</td>\n",
       "      <td>32832365</td>\n",
       "      <td>0.267045</td>\n",
       "      <td>5880</td>\n",
       "      <td>3700.0</td>\n",
       "      <td>2</td>\n",
       "      <td>6800</td>\n",
       "      <td>18</td>\n",
       "      <td>...</td>\n",
       "      <td>1.0</td>\n",
       "      <td>5</td>\n",
       "      <td>6.0</td>\n",
       "      <td>3</td>\n",
       "      <td>0.0</td>\n",
       "      <td>Approved</td>\n",
       "      <td>1.0</td>\n",
       "      <td>NaN</td>\n",
       "      <td>0</td>\n",
       "      <td>0</td>\n",
       "    </tr>\n",
       "    <tr>\n",
       "      <th>2</th>\n",
       "      <td>2010-02-07</td>\n",
       "      <td>1998-11-23</td>\n",
       "      <td>36034979</td>\n",
       "      <td>32544742</td>\n",
       "      <td>0.793579</td>\n",
       "      <td>4200</td>\n",
       "      <td>NaN</td>\n",
       "      <td>1</td>\n",
       "      <td>4600</td>\n",
       "      <td>18</td>\n",
       "      <td>...</td>\n",
       "      <td>1.0</td>\n",
       "      <td>5</td>\n",
       "      <td>NaN</td>\n",
       "      <td>0</td>\n",
       "      <td>0.0</td>\n",
       "      <td>Approved</td>\n",
       "      <td>NaN</td>\n",
       "      <td>NaN</td>\n",
       "      <td>0</td>\n",
       "      <td>0</td>\n",
       "    </tr>\n",
       "    <tr>\n",
       "      <th>3</th>\n",
       "      <td>2010-02-09</td>\n",
       "      <td>2005-11-13</td>\n",
       "      <td>36034980</td>\n",
       "      <td>32395830</td>\n",
       "      <td>0.533040</td>\n",
       "      <td>4200</td>\n",
       "      <td>5400.0</td>\n",
       "      <td>2</td>\n",
       "      <td>7900</td>\n",
       "      <td>48</td>\n",
       "      <td>...</td>\n",
       "      <td>2.0</td>\n",
       "      <td>5</td>\n",
       "      <td>5.0</td>\n",
       "      <td>2</td>\n",
       "      <td>NaN</td>\n",
       "      <td>Rejected</td>\n",
       "      <td>0.0</td>\n",
       "      <td>NaN</td>\n",
       "      <td>0</td>\n",
       "      <td>0</td>\n",
       "    </tr>\n",
       "    <tr>\n",
       "      <th>4</th>\n",
       "      <td>2010-02-13</td>\n",
       "      <td>1995-08-06</td>\n",
       "      <td>36034981</td>\n",
       "      <td>32592943</td>\n",
       "      <td>0.781269</td>\n",
       "      <td>3120</td>\n",
       "      <td>3300.0</td>\n",
       "      <td>2</td>\n",
       "      <td>9900</td>\n",
       "      <td>63</td>\n",
       "      <td>...</td>\n",
       "      <td>1.0</td>\n",
       "      <td>4</td>\n",
       "      <td>5.0</td>\n",
       "      <td>1</td>\n",
       "      <td>0.0</td>\n",
       "      <td>Approved</td>\n",
       "      <td>NaN</td>\n",
       "      <td>0.0</td>\n",
       "      <td>0</td>\n",
       "      <td>0</td>\n",
       "    </tr>\n",
       "  </tbody>\n",
       "</table>\n",
       "<p>5 rows × 36 columns</p>\n",
       "</div>"
      ],
      "text/plain": [
       "  application_date      Var13        ID  customer_id       _r_  Var9   Var10  \\\n",
       "0       2010-02-03 2004-11-28  36034977     32653719  0.485674  4200     NaN   \n",
       "1       2010-02-04 1996-09-19  36034978     32832365  0.267045  5880  3700.0   \n",
       "2       2010-02-07 1998-11-23  36034979     32544742  0.793579  4200     NaN   \n",
       "3       2010-02-09 2005-11-13  36034980     32395830  0.533040  4200  5400.0   \n",
       "4       2010-02-13 1995-08-06  36034981     32592943  0.781269  3120  3300.0   \n",
       "\n",
       "   Var1  Var4  Var5  ...  Var3  Var11  Var12  Var14  target  \\\n",
       "0     1  4800    15  ...   1.0      2    NaN      0     0.0   \n",
       "1     2  6800    18  ...   1.0      5    6.0      3     0.0   \n",
       "2     1  4600    18  ...   1.0      5    NaN      0     0.0   \n",
       "3     2  7900    48  ...   2.0      5    5.0      2     NaN   \n",
       "4     2  9900    63  ...   1.0      4    5.0      1     0.0   \n",
       "\n",
       "   Application_status  Var18  Var19  Var27  Var28  \n",
       "0            Approved    NaN    NaN      0      0  \n",
       "1            Approved    1.0    NaN      0      0  \n",
       "2            Approved    NaN    NaN      0      0  \n",
       "3            Rejected    0.0    NaN      0      0  \n",
       "4            Approved    NaN    0.0      0      0  \n",
       "\n",
       "[5 rows x 36 columns]"
      ]
     },
     "execution_count": 99,
     "metadata": {},
     "output_type": "execute_result"
    }
   ],
   "source": [
    "df.head()"
   ]
  },
  {
   "cell_type": "markdown",
   "metadata": {},
   "source": [
    "#### Analyze Var13"
   ]
  },
  {
   "cell_type": "code",
   "execution_count": 100,
   "metadata": {},
   "outputs": [
    {
     "data": {
      "text/plain": [
       "19      31Dec9999\n",
       "78      31Dec9999\n",
       "154     31Dec9999\n",
       "284     31Dec9999\n",
       "350     31Dec9999\n",
       "375     31Dec9999\n",
       "380     31Dec9999\n",
       "548     31Dec9999\n",
       "820     31Dec9999\n",
       "833     31Dec9999\n",
       "999     31Dec9999\n",
       "1143    31Dec9999\n",
       "1166    31Dec9999\n",
       "1208    31Dec9999\n",
       "1346    31Dec9999\n",
       "1447    31Dec9999\n",
       "1487    31Dec9999\n",
       "1514    31Dec9999\n",
       "1687    31Dec9999\n",
       "2142    31Dec9999\n",
       "2338    31Dec9999\n",
       "2361    31Dec9999\n",
       "2374    31Dec9999\n",
       "2415    31Dec9999\n",
       "2527    31Dec9999\n",
       "2555    31Dec9999\n",
       "2754    31Dec9999\n",
       "2854    31Dec9999\n",
       "3080    31Dec9999\n",
       "3212    31Dec9999\n",
       "3289    31Dec9999\n",
       "3343    31Dec9999\n",
       "3355    31Dec9999\n",
       "3569    31Dec9999\n",
       "3575    31Dec9999\n",
       "3608    31Dec9999\n",
       "3706    31Dec9999\n",
       "3965    31Dec9999\n",
       "4056    31Dec9999\n",
       "4096    31Dec9999\n",
       "4225    31Dec9999\n",
       "4267    31Dec9999\n",
       "4348    31Dec9999\n",
       "4485    31Dec9999\n",
       "4584    31Dec9999\n",
       "4641    31Dec9999\n",
       "4677    31Dec9999\n",
       "4753    31Dec9999\n",
       "4988    31Dec9999\n",
       "Name: Var13, dtype: object"
      ]
     },
     "execution_count": 100,
     "metadata": {},
     "output_type": "execute_result"
    }
   ],
   "source": [
    "# Check indexes where conversion caused 'NaT' values\n",
    "nan_indices = df['Var13'].isna()\n",
    "\n",
    "# Compare original values of 'Var13' which after conversion became 'NaT'\n",
    "original_values_with_nan = data.loc[nan_indices, 'Var13']\n",
    "\n",
    "original_values_with_nan"
   ]
  },
  {
   "cell_type": "code",
   "execution_count": 101,
   "metadata": {},
   "outputs": [
    {
     "data": {
      "text/plain": [
       "array(['31Dec9999'], dtype=object)"
      ]
     },
     "execution_count": 101,
     "metadata": {},
     "output_type": "execute_result"
    }
   ],
   "source": [
    "# Check unique values of 'Var13' which after conversion became 'NaT'\n",
    "original_values_with_nan.unique()"
   ]
  },
  {
   "cell_type": "markdown",
   "metadata": {},
   "source": [
    "Summarizing we have 784 cases in Var13 with value '31Dec9999'\n",
    "\n",
    "We treat them as data error and for this moment leave with NAs"
   ]
  },
  {
   "cell_type": "markdown",
   "metadata": {},
   "source": [
    "#### Create working_months and NMOB column\n",
    "\n",
    "Var13 = employment date\n",
    "\n",
    "working_moths = Var13 - application_date\n",
    "\n",
    "\n",
    "We would like to calculate the number of working months before applying for credit, which will indicate the employee's duration at the given position from employment to loan application.\n",
    "\n",
    "NAs from Var13 are replaced with 0\n",
    "\n",
    "We also want to have this column first"
   ]
  },
  {
   "cell_type": "code",
   "execution_count": 102,
   "metadata": {},
   "outputs": [
    {
     "data": {
      "text/plain": [
       "application_date         0\n",
       "Var13                   49\n",
       "ID                       0\n",
       "customer_id              0\n",
       "_r_                      0\n",
       "Var9                     0\n",
       "Var10                 3719\n",
       "Var1                     0\n",
       "Var4                     0\n",
       "Var5                     0\n",
       "Var6                     0\n",
       "Var7                     0\n",
       "Var8                  2905\n",
       "Var15                    0\n",
       "Var16                    0\n",
       "Var17                    0\n",
       "Var20                    0\n",
       "Var21                    0\n",
       "Var22                    0\n",
       "Var23                    0\n",
       "Var24                    0\n",
       "Var25                 1023\n",
       "Var26                 1961\n",
       "Var29                    0\n",
       "Var30                    0\n",
       "Var2                   139\n",
       "Var3                   139\n",
       "Var11                    0\n",
       "Var12                 3719\n",
       "Var14                    0\n",
       "target                1353\n",
       "Application_status       0\n",
       "Var18                 3721\n",
       "Var19                 2905\n",
       "Var27                    0\n",
       "Var28                    0\n",
       "dtype: int64"
      ]
     },
     "execution_count": 102,
     "metadata": {},
     "output_type": "execute_result"
    }
   ],
   "source": [
    "df.isna().sum()"
   ]
  },
  {
   "cell_type": "code",
   "execution_count": 103,
   "metadata": {},
   "outputs": [],
   "source": [
    "# Create a new colum working_months\n",
    "df['working_months'] = ((df['application_date'] - df['Var13']) / np.timedelta64(1, 'M')).fillna(0).astype(int)"
   ]
  },
  {
   "cell_type": "code",
   "execution_count": 104,
   "metadata": {},
   "outputs": [],
   "source": [
    "# Write current date to the variable\n",
    "today = pd.Timestamp(date.today())\n",
    "\n",
    "# Create MOB column\n",
    "df['MOB'] = ((today - df['application_date']) / np.timedelta64(1, 'M')).astype(int)"
   ]
  },
  {
   "cell_type": "code",
   "execution_count": 105,
   "metadata": {},
   "outputs": [],
   "source": [
    "# Delete columns 'Var13' and 'application_date'\n",
    "df.drop(['Var13'], axis=1, inplace=True)\n",
    "df.drop(['application_date'], axis=1, inplace=True)"
   ]
  },
  {
   "cell_type": "code",
   "execution_count": 106,
   "metadata": {},
   "outputs": [
    {
     "data": {
      "text/html": [
       "<div>\n",
       "<style scoped>\n",
       "    .dataframe tbody tr th:only-of-type {\n",
       "        vertical-align: middle;\n",
       "    }\n",
       "\n",
       "    .dataframe tbody tr th {\n",
       "        vertical-align: top;\n",
       "    }\n",
       "\n",
       "    .dataframe thead th {\n",
       "        text-align: right;\n",
       "    }\n",
       "</style>\n",
       "<table border=\"1\" class=\"dataframe\">\n",
       "  <thead>\n",
       "    <tr style=\"text-align: right;\">\n",
       "      <th></th>\n",
       "      <th>ID</th>\n",
       "      <th>customer_id</th>\n",
       "      <th>_r_</th>\n",
       "      <th>Var9</th>\n",
       "      <th>Var10</th>\n",
       "      <th>Var1</th>\n",
       "      <th>Var4</th>\n",
       "      <th>Var5</th>\n",
       "      <th>Var6</th>\n",
       "      <th>Var7</th>\n",
       "      <th>...</th>\n",
       "      <th>Var12</th>\n",
       "      <th>Var14</th>\n",
       "      <th>target</th>\n",
       "      <th>Application_status</th>\n",
       "      <th>Var18</th>\n",
       "      <th>Var19</th>\n",
       "      <th>Var27</th>\n",
       "      <th>Var28</th>\n",
       "      <th>working_months</th>\n",
       "      <th>MOB</th>\n",
       "    </tr>\n",
       "  </thead>\n",
       "  <tbody>\n",
       "    <tr>\n",
       "      <th>0</th>\n",
       "      <td>36034977</td>\n",
       "      <td>32653719</td>\n",
       "      <td>0.485674</td>\n",
       "      <td>4200</td>\n",
       "      <td>NaN</td>\n",
       "      <td>1</td>\n",
       "      <td>4800</td>\n",
       "      <td>15</td>\n",
       "      <td>1</td>\n",
       "      <td>463.31</td>\n",
       "      <td>...</td>\n",
       "      <td>NaN</td>\n",
       "      <td>0</td>\n",
       "      <td>0.0</td>\n",
       "      <td>Approved</td>\n",
       "      <td>NaN</td>\n",
       "      <td>NaN</td>\n",
       "      <td>0</td>\n",
       "      <td>0</td>\n",
       "      <td>62</td>\n",
       "      <td>169</td>\n",
       "    </tr>\n",
       "    <tr>\n",
       "      <th>1</th>\n",
       "      <td>36034978</td>\n",
       "      <td>32832365</td>\n",
       "      <td>0.267045</td>\n",
       "      <td>5880</td>\n",
       "      <td>3700.0</td>\n",
       "      <td>2</td>\n",
       "      <td>6800</td>\n",
       "      <td>18</td>\n",
       "      <td>6</td>\n",
       "      <td>3170.40</td>\n",
       "      <td>...</td>\n",
       "      <td>6.0</td>\n",
       "      <td>3</td>\n",
       "      <td>0.0</td>\n",
       "      <td>Approved</td>\n",
       "      <td>1.0</td>\n",
       "      <td>NaN</td>\n",
       "      <td>0</td>\n",
       "      <td>0</td>\n",
       "      <td>160</td>\n",
       "      <td>169</td>\n",
       "    </tr>\n",
       "    <tr>\n",
       "      <th>2</th>\n",
       "      <td>36034979</td>\n",
       "      <td>32544742</td>\n",
       "      <td>0.793579</td>\n",
       "      <td>4200</td>\n",
       "      <td>NaN</td>\n",
       "      <td>1</td>\n",
       "      <td>4600</td>\n",
       "      <td>18</td>\n",
       "      <td>1</td>\n",
       "      <td>355.36</td>\n",
       "      <td>...</td>\n",
       "      <td>NaN</td>\n",
       "      <td>0</td>\n",
       "      <td>0.0</td>\n",
       "      <td>Approved</td>\n",
       "      <td>NaN</td>\n",
       "      <td>NaN</td>\n",
       "      <td>0</td>\n",
       "      <td>0</td>\n",
       "      <td>134</td>\n",
       "      <td>169</td>\n",
       "    </tr>\n",
       "    <tr>\n",
       "      <th>3</th>\n",
       "      <td>36034980</td>\n",
       "      <td>32395830</td>\n",
       "      <td>0.533040</td>\n",
       "      <td>4200</td>\n",
       "      <td>5400.0</td>\n",
       "      <td>2</td>\n",
       "      <td>7900</td>\n",
       "      <td>48</td>\n",
       "      <td>1</td>\n",
       "      <td>231.34</td>\n",
       "      <td>...</td>\n",
       "      <td>5.0</td>\n",
       "      <td>2</td>\n",
       "      <td>NaN</td>\n",
       "      <td>Rejected</td>\n",
       "      <td>0.0</td>\n",
       "      <td>NaN</td>\n",
       "      <td>0</td>\n",
       "      <td>0</td>\n",
       "      <td>50</td>\n",
       "      <td>169</td>\n",
       "    </tr>\n",
       "    <tr>\n",
       "      <th>4</th>\n",
       "      <td>36034981</td>\n",
       "      <td>32592943</td>\n",
       "      <td>0.781269</td>\n",
       "      <td>3120</td>\n",
       "      <td>3300.0</td>\n",
       "      <td>2</td>\n",
       "      <td>9900</td>\n",
       "      <td>63</td>\n",
       "      <td>3</td>\n",
       "      <td>639.45</td>\n",
       "      <td>...</td>\n",
       "      <td>5.0</td>\n",
       "      <td>1</td>\n",
       "      <td>0.0</td>\n",
       "      <td>Approved</td>\n",
       "      <td>NaN</td>\n",
       "      <td>0.0</td>\n",
       "      <td>0</td>\n",
       "      <td>0</td>\n",
       "      <td>174</td>\n",
       "      <td>168</td>\n",
       "    </tr>\n",
       "  </tbody>\n",
       "</table>\n",
       "<p>5 rows × 36 columns</p>\n",
       "</div>"
      ],
      "text/plain": [
       "         ID  customer_id       _r_  Var9   Var10  Var1  Var4  Var5  Var6  \\\n",
       "0  36034977     32653719  0.485674  4200     NaN     1  4800    15     1   \n",
       "1  36034978     32832365  0.267045  5880  3700.0     2  6800    18     6   \n",
       "2  36034979     32544742  0.793579  4200     NaN     1  4600    18     1   \n",
       "3  36034980     32395830  0.533040  4200  5400.0     2  7900    48     1   \n",
       "4  36034981     32592943  0.781269  3120  3300.0     2  9900    63     3   \n",
       "\n",
       "      Var7  ...  Var12  Var14  target  Application_status  Var18  Var19  \\\n",
       "0   463.31  ...    NaN      0     0.0            Approved    NaN    NaN   \n",
       "1  3170.40  ...    6.0      3     0.0            Approved    1.0    NaN   \n",
       "2   355.36  ...    NaN      0     0.0            Approved    NaN    NaN   \n",
       "3   231.34  ...    5.0      2     NaN            Rejected    0.0    NaN   \n",
       "4   639.45  ...    5.0      1     0.0            Approved    NaN    0.0   \n",
       "\n",
       "   Var27  Var28  working_months  MOB  \n",
       "0      0      0              62  169  \n",
       "1      0      0             160  169  \n",
       "2      0      0             134  169  \n",
       "3      0      0              50  169  \n",
       "4      0      0             174  168  \n",
       "\n",
       "[5 rows x 36 columns]"
      ]
     },
     "execution_count": 106,
     "metadata": {},
     "output_type": "execute_result"
    }
   ],
   "source": [
    "df.head()"
   ]
  },
  {
   "cell_type": "markdown",
   "metadata": {},
   "source": [
    "Move 'working_months' and MOB to the first column"
   ]
  },
  {
   "cell_type": "code",
   "execution_count": 107,
   "metadata": {},
   "outputs": [],
   "source": [
    "# Create a list of columns without 'working_months'\n",
    "df_sorted_columns = df.columns.tolist()\n",
    "\n",
    "# Remove 'working_months' and 'MOB' from the list\n",
    "columns_to_remove = ['working_months', 'MOB']\n",
    "df_sorted_columns = [col for col in df_sorted_columns if col not in columns_to_remove]\n",
    "\n",
    "# Add 'working_months' to the first position\n",
    "df_sorted_columns.insert(0, 'working_months')\n",
    "df_sorted_columns.insert(1, 'MOB')  # Insert 'MOB' after 'working_months'\n",
    "\n",
    "# Reindex columns\n",
    "df = df[df_sorted_columns]"
   ]
  },
  {
   "cell_type": "code",
   "execution_count": 108,
   "metadata": {},
   "outputs": [],
   "source": [
    "# Update the list of date and numeric columns\n",
    "date_columns = []\n",
    "numeric_columns = numeric_columns + ['working_months', 'MOB']"
   ]
  },
  {
   "cell_type": "code",
   "execution_count": 109,
   "metadata": {},
   "outputs": [
    {
     "data": {
      "text/html": [
       "<div>\n",
       "<style scoped>\n",
       "    .dataframe tbody tr th:only-of-type {\n",
       "        vertical-align: middle;\n",
       "    }\n",
       "\n",
       "    .dataframe tbody tr th {\n",
       "        vertical-align: top;\n",
       "    }\n",
       "\n",
       "    .dataframe thead th {\n",
       "        text-align: right;\n",
       "    }\n",
       "</style>\n",
       "<table border=\"1\" class=\"dataframe\">\n",
       "  <thead>\n",
       "    <tr style=\"text-align: right;\">\n",
       "      <th></th>\n",
       "      <th>working_months</th>\n",
       "      <th>MOB</th>\n",
       "      <th>ID</th>\n",
       "      <th>customer_id</th>\n",
       "      <th>_r_</th>\n",
       "      <th>Var9</th>\n",
       "      <th>Var10</th>\n",
       "      <th>Var1</th>\n",
       "      <th>Var4</th>\n",
       "      <th>Var5</th>\n",
       "      <th>...</th>\n",
       "      <th>Var3</th>\n",
       "      <th>Var11</th>\n",
       "      <th>Var12</th>\n",
       "      <th>Var14</th>\n",
       "      <th>target</th>\n",
       "      <th>Application_status</th>\n",
       "      <th>Var18</th>\n",
       "      <th>Var19</th>\n",
       "      <th>Var27</th>\n",
       "      <th>Var28</th>\n",
       "    </tr>\n",
       "  </thead>\n",
       "  <tbody>\n",
       "    <tr>\n",
       "      <th>0</th>\n",
       "      <td>62</td>\n",
       "      <td>169</td>\n",
       "      <td>36034977</td>\n",
       "      <td>32653719</td>\n",
       "      <td>0.485674</td>\n",
       "      <td>4200</td>\n",
       "      <td>NaN</td>\n",
       "      <td>1</td>\n",
       "      <td>4800</td>\n",
       "      <td>15</td>\n",
       "      <td>...</td>\n",
       "      <td>1.0</td>\n",
       "      <td>2</td>\n",
       "      <td>NaN</td>\n",
       "      <td>0</td>\n",
       "      <td>0.0</td>\n",
       "      <td>Approved</td>\n",
       "      <td>NaN</td>\n",
       "      <td>NaN</td>\n",
       "      <td>0</td>\n",
       "      <td>0</td>\n",
       "    </tr>\n",
       "    <tr>\n",
       "      <th>1</th>\n",
       "      <td>160</td>\n",
       "      <td>169</td>\n",
       "      <td>36034978</td>\n",
       "      <td>32832365</td>\n",
       "      <td>0.267045</td>\n",
       "      <td>5880</td>\n",
       "      <td>3700.0</td>\n",
       "      <td>2</td>\n",
       "      <td>6800</td>\n",
       "      <td>18</td>\n",
       "      <td>...</td>\n",
       "      <td>1.0</td>\n",
       "      <td>5</td>\n",
       "      <td>6.0</td>\n",
       "      <td>3</td>\n",
       "      <td>0.0</td>\n",
       "      <td>Approved</td>\n",
       "      <td>1.0</td>\n",
       "      <td>NaN</td>\n",
       "      <td>0</td>\n",
       "      <td>0</td>\n",
       "    </tr>\n",
       "    <tr>\n",
       "      <th>2</th>\n",
       "      <td>134</td>\n",
       "      <td>169</td>\n",
       "      <td>36034979</td>\n",
       "      <td>32544742</td>\n",
       "      <td>0.793579</td>\n",
       "      <td>4200</td>\n",
       "      <td>NaN</td>\n",
       "      <td>1</td>\n",
       "      <td>4600</td>\n",
       "      <td>18</td>\n",
       "      <td>...</td>\n",
       "      <td>1.0</td>\n",
       "      <td>5</td>\n",
       "      <td>NaN</td>\n",
       "      <td>0</td>\n",
       "      <td>0.0</td>\n",
       "      <td>Approved</td>\n",
       "      <td>NaN</td>\n",
       "      <td>NaN</td>\n",
       "      <td>0</td>\n",
       "      <td>0</td>\n",
       "    </tr>\n",
       "    <tr>\n",
       "      <th>3</th>\n",
       "      <td>50</td>\n",
       "      <td>169</td>\n",
       "      <td>36034980</td>\n",
       "      <td>32395830</td>\n",
       "      <td>0.533040</td>\n",
       "      <td>4200</td>\n",
       "      <td>5400.0</td>\n",
       "      <td>2</td>\n",
       "      <td>7900</td>\n",
       "      <td>48</td>\n",
       "      <td>...</td>\n",
       "      <td>2.0</td>\n",
       "      <td>5</td>\n",
       "      <td>5.0</td>\n",
       "      <td>2</td>\n",
       "      <td>NaN</td>\n",
       "      <td>Rejected</td>\n",
       "      <td>0.0</td>\n",
       "      <td>NaN</td>\n",
       "      <td>0</td>\n",
       "      <td>0</td>\n",
       "    </tr>\n",
       "    <tr>\n",
       "      <th>4</th>\n",
       "      <td>174</td>\n",
       "      <td>168</td>\n",
       "      <td>36034981</td>\n",
       "      <td>32592943</td>\n",
       "      <td>0.781269</td>\n",
       "      <td>3120</td>\n",
       "      <td>3300.0</td>\n",
       "      <td>2</td>\n",
       "      <td>9900</td>\n",
       "      <td>63</td>\n",
       "      <td>...</td>\n",
       "      <td>1.0</td>\n",
       "      <td>4</td>\n",
       "      <td>5.0</td>\n",
       "      <td>1</td>\n",
       "      <td>0.0</td>\n",
       "      <td>Approved</td>\n",
       "      <td>NaN</td>\n",
       "      <td>0.0</td>\n",
       "      <td>0</td>\n",
       "      <td>0</td>\n",
       "    </tr>\n",
       "  </tbody>\n",
       "</table>\n",
       "<p>5 rows × 36 columns</p>\n",
       "</div>"
      ],
      "text/plain": [
       "   working_months  MOB        ID  customer_id       _r_  Var9   Var10  Var1  \\\n",
       "0              62  169  36034977     32653719  0.485674  4200     NaN     1   \n",
       "1             160  169  36034978     32832365  0.267045  5880  3700.0     2   \n",
       "2             134  169  36034979     32544742  0.793579  4200     NaN     1   \n",
       "3              50  169  36034980     32395830  0.533040  4200  5400.0     2   \n",
       "4             174  168  36034981     32592943  0.781269  3120  3300.0     2   \n",
       "\n",
       "   Var4  Var5  ...  Var3  Var11  Var12  Var14  target  Application_status  \\\n",
       "0  4800    15  ...   1.0      2    NaN      0     0.0            Approved   \n",
       "1  6800    18  ...   1.0      5    6.0      3     0.0            Approved   \n",
       "2  4600    18  ...   1.0      5    NaN      0     0.0            Approved   \n",
       "3  7900    48  ...   2.0      5    5.0      2     NaN            Rejected   \n",
       "4  9900    63  ...   1.0      4    5.0      1     0.0            Approved   \n",
       "\n",
       "   Var18  Var19  Var27  Var28  \n",
       "0    NaN    NaN      0      0  \n",
       "1    1.0    NaN      0      0  \n",
       "2    NaN    NaN      0      0  \n",
       "3    0.0    NaN      0      0  \n",
       "4    NaN    0.0      0      0  \n",
       "\n",
       "[5 rows x 36 columns]"
      ]
     },
     "execution_count": 109,
     "metadata": {},
     "output_type": "execute_result"
    }
   ],
   "source": [
    "df.head()"
   ]
  },
  {
   "cell_type": "markdown",
   "metadata": {},
   "source": [
    "### Handle binary variables\n",
    "\n",
    "Convert the 'Application_status' column to binary variables to facilitate analysis. Applications marked as 'Approved' are changed to 1, and those marked as 'Rejected' are changed to 0. This conversion simplifies the analysis process, allowing for straightforward interpretation of application outcomes"
   ]
  },
  {
   "cell_type": "code",
   "execution_count": 110,
   "metadata": {},
   "outputs": [
    {
     "name": "stdout",
     "output_type": "stream",
     "text": [
      "Unique values for column 'target': [ 0. nan  1.]\n",
      "Unique values for column 'Application_status': ['Approved' 'Rejected']\n",
      "Unique values for column 'Var18': [nan  1.  0.]\n",
      "Unique values for column 'Var19': [nan  0.  1.]\n",
      "Unique values for column 'Var27': [0 1]\n",
      "Unique values for column 'Var28': [0 1]\n"
     ]
    }
   ],
   "source": [
    "# Check unique values for binary columns\n",
    "for column in binary_columns:\n",
    "    print(f\"Unique values for column '{column}': {df[column].unique()}\")"
   ]
  },
  {
   "cell_type": "markdown",
   "metadata": {},
   "source": [
    "As we can observe column \"Application_status\" needs to be modified"
   ]
  },
  {
   "cell_type": "code",
   "execution_count": 111,
   "metadata": {},
   "outputs": [],
   "source": [
    "# Change value \"Approved\" to 1 and \"Rejected\" to 0 in column 'Application_status'\n",
    "df['Application_status'] = df['Application_status'].replace({'Approved': 1, 'Rejected': 0})"
   ]
  },
  {
   "cell_type": "code",
   "execution_count": 112,
   "metadata": {},
   "outputs": [
    {
     "data": {
      "text/plain": [
       "1    3647\n",
       "0    1353\n",
       "Name: Application_status, dtype: int64"
      ]
     },
     "execution_count": 112,
     "metadata": {},
     "output_type": "execute_result"
    }
   ],
   "source": [
    "# Check and count unique values for 'Application_status' to ensure that transformation was successful\n",
    "df['Application_status'].value_counts(dropna=False)"
   ]
  },
  {
   "cell_type": "markdown",
   "metadata": {},
   "source": [
    "Check the rest of binary columns"
   ]
  },
  {
   "cell_type": "code",
   "execution_count": 113,
   "metadata": {},
   "outputs": [
    {
     "data": {
      "text/plain": [
       "target                1353\n",
       "Application_status       0\n",
       "Var18                 3721\n",
       "Var19                 2905\n",
       "Var27                    0\n",
       "Var28                    0\n",
       "dtype: int64"
      ]
     },
     "execution_count": 113,
     "metadata": {},
     "output_type": "execute_result"
    }
   ],
   "source": [
    "df[binary_columns].isna().sum()"
   ]
  },
  {
   "cell_type": "code",
   "execution_count": 114,
   "metadata": {},
   "outputs": [
    {
     "name": "stdout",
     "output_type": "stream",
     "text": [
      "<class 'pandas.core.frame.DataFrame'>\n",
      "RangeIndex: 5000 entries, 0 to 4999\n",
      "Data columns (total 6 columns):\n",
      " #   Column              Non-Null Count  Dtype  \n",
      "---  ------              --------------  -----  \n",
      " 0   target              3647 non-null   float64\n",
      " 1   Application_status  5000 non-null   int64  \n",
      " 2   Var18               1279 non-null   float64\n",
      " 3   Var19               2095 non-null   float64\n",
      " 4   Var27               5000 non-null   int64  \n",
      " 5   Var28               5000 non-null   int64  \n",
      "dtypes: float64(3), int64(3)\n",
      "memory usage: 234.5 KB\n"
     ]
    }
   ],
   "source": [
    "df[binary_columns].info()"
   ]
  },
  {
   "cell_type": "markdown",
   "metadata": {},
   "source": [
    "We can observe that we have some nulls in binary variables, but we will handle them later."
   ]
  },
  {
   "cell_type": "markdown",
   "metadata": {},
   "source": [
    "### Handle categorical variables"
   ]
  },
  {
   "cell_type": "markdown",
   "metadata": {},
   "source": [
    "We have 5 categorical columns:\n",
    "\n",
    "* Var2 - Loan purpose\n",
    "* Var3 - Distribution channel\n",
    "* Var11 - profession of main applicant\n",
    "* Var12 - profession of second applicant\n",
    "* Var14 - marital status of main applicant\n",
    "\n",
    "All of them are treated as simple categorical variables(non-ordered)"
   ]
  },
  {
   "cell_type": "code",
   "execution_count": 115,
   "metadata": {},
   "outputs": [
    {
     "name": "stdout",
     "output_type": "stream",
     "text": [
      "Unique values for column 'Var2': [ 3.  2.  1. nan]\n",
      "Unique values for column 'Var3': [ 1.  2. nan  3.]\n",
      "Unique values for column 'Var11': [2 5 4 6 3 7 1]\n",
      "Unique values for column 'Var12': [nan  6.  5.  3.  4.  2.  1.  7.]\n",
      "Unique values for column 'Var14': [0 3 2 1 4]\n"
     ]
    }
   ],
   "source": [
    "# Check unique values for binary columns\n",
    "for column in categorical_columns:\n",
    "    print(f\"Unique values for column '{column}': {df[column].unique()}\")"
   ]
  },
  {
   "cell_type": "markdown",
   "metadata": {},
   "source": [
    "According to the variables_description.xlsx file the variable Var2 should have the following values:\n",
    "\n",
    "* 1 Direct\n",
    "* 2 Broker\n",
    "* 3 Online\n",
    "\n",
    "In the dataset this variable has 5 unique values printed above. First of all we should transform 'Direct' to 1 and 'Online' to 3"
   ]
  },
  {
   "cell_type": "code",
   "execution_count": 116,
   "metadata": {},
   "outputs": [
    {
     "data": {
      "text/plain": [
       "1.0    2454\n",
       "2.0    1645\n",
       "3.0     762\n",
       "NaN     139\n",
       "Name: Var3, dtype: int64"
      ]
     },
     "execution_count": 116,
     "metadata": {},
     "output_type": "execute_result"
    }
   ],
   "source": [
    "# Check the number of observations in Var3 for each category\n",
    "df['Var3'].value_counts(dropna=False)"
   ]
  },
  {
   "cell_type": "code",
   "execution_count": 117,
   "metadata": {},
   "outputs": [],
   "source": [
    "# Change the value \"Direct\" to 1 and \"Online\" to 3 in column \"Var3\"\n",
    "df['Var3'] = df['Var3'].replace({'Direct': 1, 'Online': 3})\n",
    "\n",
    "# Change the data type of column \"Var3\" to float (we still have NaN values)\n",
    "df['Var3'] = df['Var3'].astype(float)"
   ]
  },
  {
   "cell_type": "markdown",
   "metadata": {},
   "source": [
    "Check the unique values after transformation"
   ]
  },
  {
   "cell_type": "code",
   "execution_count": 118,
   "metadata": {},
   "outputs": [
    {
     "data": {
      "text/plain": [
       "1.0    2454\n",
       "2.0    1645\n",
       "3.0     762\n",
       "NaN     139\n",
       "Name: Var3, dtype: int64"
      ]
     },
     "execution_count": 118,
     "metadata": {},
     "output_type": "execute_result"
    }
   ],
   "source": [
    "# Check again the number of observations in Var3 for each category\n",
    "df['Var3'].value_counts(dropna=False)"
   ]
  },
  {
   "cell_type": "markdown",
   "metadata": {},
   "source": [
    "It looks that the transformation was successfull"
   ]
  },
  {
   "cell_type": "code",
   "execution_count": 119,
   "metadata": {},
   "outputs": [
    {
     "data": {
      "text/plain": [
       "Var2      139\n",
       "Var3      139\n",
       "Var11       0\n",
       "Var12    3719\n",
       "Var14       0\n",
       "dtype: int64"
      ]
     },
     "execution_count": 119,
     "metadata": {},
     "output_type": "execute_result"
    }
   ],
   "source": [
    "# Count NA values for categorical columns\n",
    "df[categorical_columns].isna().sum()"
   ]
  },
  {
   "cell_type": "markdown",
   "metadata": {},
   "source": [
    "All categorical variables are ready for the further processing (filling NA values and one hot encoding)."
   ]
  },
  {
   "cell_type": "markdown",
   "metadata": {},
   "source": [
    "### Handle NaN in target variable\n",
    "\n",
    "As we can observe below we have 13282 NaN values in our target variable.\n",
    "\n",
    "We found out that all of them are for \"Application status\" == rejected (1).\n",
    "\n",
    "We analyze the approach to fill target variable of all rejected application to 1 (default). However this way would bring in a high conlusion that all of rejected people would default in the future and it would impact negatively on our model. Additionally we assume that we want to model the approved applications only.\n",
    "\n",
    "After a long discussion we decided to delete all of rows with Application_status == 0."
   ]
  },
  {
   "cell_type": "code",
   "execution_count": 120,
   "metadata": {},
   "outputs": [
    {
     "data": {
      "text/plain": [
       "1353"
      ]
     },
     "execution_count": 120,
     "metadata": {},
     "output_type": "execute_result"
    }
   ],
   "source": [
    "# Check the number of NAa for target variable\n",
    "df['target'].isna().sum()"
   ]
  },
  {
   "cell_type": "code",
   "execution_count": 121,
   "metadata": {},
   "outputs": [
    {
     "data": {
      "text/plain": [
       "1353"
      ]
     },
     "execution_count": 121,
     "metadata": {},
     "output_type": "execute_result"
    }
   ],
   "source": [
    "df.loc[df[\"Application_status\"] == 0, \"target\"].isna().sum()"
   ]
  },
  {
   "cell_type": "code",
   "execution_count": 122,
   "metadata": {},
   "outputs": [],
   "source": [
    "# Drop rows where 'Application_status' == 0\n",
    "df = df[df['Application_status'] != 0]"
   ]
  },
  {
   "cell_type": "markdown",
   "metadata": {},
   "source": [
    "Now as we know that there are only rows with application_status == 0 we can delete this column from df"
   ]
  },
  {
   "cell_type": "code",
   "execution_count": 123,
   "metadata": {},
   "outputs": [],
   "source": [
    "# Drop column 'Application_status'\n",
    "df.drop(['Application_status'], axis=1, inplace=True)"
   ]
  },
  {
   "cell_type": "code",
   "execution_count": 124,
   "metadata": {},
   "outputs": [],
   "source": [
    "# Delete \"application_stauts\" from binary_columns\n",
    "binary_columns.remove('Application_status')"
   ]
  },
  {
   "cell_type": "markdown",
   "metadata": {},
   "source": [
    "### Handle numeric data"
   ]
  },
  {
   "cell_type": "code",
   "execution_count": 125,
   "metadata": {},
   "outputs": [
    {
     "data": {
      "text/plain": [
       "ID                   0\n",
       "customer_id          0\n",
       "_r_                  0\n",
       "Var9                 0\n",
       "Var10             2757\n",
       "Var1                 0\n",
       "Var4                 0\n",
       "Var5                 0\n",
       "Var6                 0\n",
       "Var7                 0\n",
       "Var8              2030\n",
       "Var15                0\n",
       "Var16                0\n",
       "Var17                0\n",
       "Var20                0\n",
       "Var21                0\n",
       "Var22                0\n",
       "Var23                0\n",
       "Var24                0\n",
       "Var25              722\n",
       "Var26             1415\n",
       "Var29                0\n",
       "Var30                0\n",
       "working_months       0\n",
       "MOB                  0\n",
       "dtype: int64"
      ]
     },
     "execution_count": 125,
     "metadata": {},
     "output_type": "execute_result"
    }
   ],
   "source": [
    "df[numeric_columns].isna().sum()"
   ]
  },
  {
   "cell_type": "markdown",
   "metadata": {},
   "source": [
    "#### Dependence of numeric variables with categorical variables"
   ]
  },
  {
   "cell_type": "markdown",
   "metadata": {},
   "source": [
    "Var10 and Var8 are strictly related to Var1 and Var2 respectively, so we wanted to check the NAs in dependent variables.\n",
    "However Var1 related to Var10 does not have any missings we moved to Var8 and Var2.\n",
    "\n",
    "We wanted to check if there are any NA observations of Var2 (Loan purpose) having Var8 (Value of goods(car)) set to some value. If yes we assume that the value is entered correctly and we are missing Var2 for some unknown reason.\n",
    "\n",
    "We decided to fill these rows with value 1 (meaning Car Loan).\n",
    "\n",
    "As we can observe below we have 1018 NAs before filling the data.\n",
    "\n",
    "Var18 and Var 19 are also strictly related to Var2 and we apply similiar approach."
   ]
  },
  {
   "cell_type": "code",
   "execution_count": 126,
   "metadata": {},
   "outputs": [
    {
     "data": {
      "text/plain": [
       "1.0    1575\n",
       "3.0    1011\n",
       "2.0     960\n",
       "NaN     101\n",
       "Name: Var2, dtype: int64"
      ]
     },
     "execution_count": 126,
     "metadata": {},
     "output_type": "execute_result"
    }
   ],
   "source": [
    "# Count values inside Var8 group by value\n",
    "df['Var2'].value_counts(dropna=False)"
   ]
  },
  {
   "cell_type": "code",
   "execution_count": 127,
   "metadata": {},
   "outputs": [],
   "source": [
    "# Put value 1 to the column Var2 if Var8 is not NaN\n",
    "df.loc[~df['Var8'].isna(), 'Var2'] = 1\n",
    "\n",
    "# Put value 1 to the column Var2 if Var19 is not NaN\n",
    "df.loc[~df['Var19'].isna(), 'Var2'] = 1"
   ]
  },
  {
   "cell_type": "code",
   "execution_count": 128,
   "metadata": {},
   "outputs": [
    {
     "data": {
      "text/plain": [
       "1.0    1617\n",
       "3.0    1011\n",
       "2.0     960\n",
       "NaN      59\n",
       "Name: Var2, dtype: int64"
      ]
     },
     "execution_count": 128,
     "metadata": {},
     "output_type": "execute_result"
    }
   ],
   "source": [
    "df['Var2'].value_counts(dropna=False)"
   ]
  },
  {
   "cell_type": "code",
   "execution_count": 129,
   "metadata": {},
   "outputs": [],
   "source": [
    "# Put value 2 to the column Var2 if Var18 is not NaN\n",
    "df.loc[~df['Var18'].isna(), 'Var2'] = 2"
   ]
  },
  {
   "cell_type": "markdown",
   "metadata": {},
   "source": [
    "After transformation the number of NaN in Var8 dropped by almost half"
   ]
  },
  {
   "cell_type": "code",
   "execution_count": 130,
   "metadata": {},
   "outputs": [
    {
     "data": {
      "text/plain": [
       "1.0    1617\n",
       "3.0    1011\n",
       "2.0     991\n",
       "NaN      28\n",
       "Name: Var2, dtype: int64"
      ]
     },
     "execution_count": 130,
     "metadata": {},
     "output_type": "execute_result"
    }
   ],
   "source": [
    "# count values inside Var8 group by value\n",
    "df['Var2'].value_counts(dropna=False)"
   ]
  },
  {
   "cell_type": "markdown",
   "metadata": {},
   "source": [
    "#### Analyze Var9 and Var10\n",
    "\n",
    "We have 28043 null values in Var10 (income of second applicant). We would like to check how many of these NAs is because of the fact that there is just one applicant.\n",
    "\n",
    "As we can see below all of NAs are inside this group. We decided to sum these columns into one and name it \"income\"."
   ]
  },
  {
   "cell_type": "code",
   "execution_count": 131,
   "metadata": {},
   "outputs": [
    {
     "data": {
      "text/plain": [
       "2757"
      ]
     },
     "execution_count": 131,
     "metadata": {},
     "output_type": "execute_result"
    }
   ],
   "source": [
    "# Count the number of nulls where Var1 = 1\n",
    "df.loc[df[\"Var1\"] == 1, \"Var10\"].isna().sum()"
   ]
  },
  {
   "cell_type": "code",
   "execution_count": 132,
   "metadata": {},
   "outputs": [],
   "source": [
    "# Create a new colum income\n",
    "df[\"income\"] = df[\"Var9\"] + df[\"Var10\"].fillna(0).astype(int) # Var9 was as integer, Var10 was as float, but we do not have NAs\n",
    "\n",
    "numeric_columns.append(\"income\")"
   ]
  },
  {
   "cell_type": "code",
   "execution_count": 133,
   "metadata": {},
   "outputs": [],
   "source": [
    "# Drop columns Var10\n",
    "df.drop(['Var10'], axis=1, inplace=True)\n",
    "\n",
    "# Update the list of numeric columns\n",
    "numeric_columns.remove('Var10')"
   ]
  },
  {
   "cell_type": "markdown",
   "metadata": {},
   "source": [
    "Check again the number of null values"
   ]
  },
  {
   "cell_type": "code",
   "execution_count": 134,
   "metadata": {},
   "outputs": [
    {
     "data": {
      "text/plain": [
       "ID                   0\n",
       "customer_id          0\n",
       "_r_                  0\n",
       "Var9                 0\n",
       "Var1                 0\n",
       "Var4                 0\n",
       "Var5                 0\n",
       "Var6                 0\n",
       "Var7                 0\n",
       "Var8              2030\n",
       "Var15                0\n",
       "Var16                0\n",
       "Var17                0\n",
       "Var20                0\n",
       "Var21                0\n",
       "Var22                0\n",
       "Var23                0\n",
       "Var24                0\n",
       "Var25              722\n",
       "Var26             1415\n",
       "Var29                0\n",
       "Var30                0\n",
       "working_months       0\n",
       "MOB                  0\n",
       "income               0\n",
       "dtype: int64"
      ]
     },
     "execution_count": 134,
     "metadata": {},
     "output_type": "execute_result"
    }
   ],
   "source": [
    "df[numeric_columns].isna().sum()"
   ]
  },
  {
   "cell_type": "markdown",
   "metadata": {},
   "source": [
    "### From here the code for continuous variables will differ"
   ]
  },
  {
   "cell_type": "markdown",
   "metadata": {},
   "source": [
    "# Zmiana - kategoryczne ciągłe\n",
    "\n",
    "Var8, Var25, Var26 - variables which are changed to categorical but have NAs"
   ]
  },
  {
   "cell_type": "markdown",
   "metadata": {},
   "source": [
    "We still have a few variables with nulls:\n",
    "\n",
    "* Var8 - Value of the goods (car) \n",
    "* Var17 - Spendings estimation - the number of NAs is low, there is a sense in filling this, we decided to use KNN to fill these variables.\n",
    "* Var25 - Amount on current account \n",
    "* Var26 - Amount on savings account\n",
    "\n",
    "When it comes to Var25 and Var26 we decidec to fill NAa with 0. NAs means probably that the client does not have account in our bank and we cannot reach that value or does not have any money on either current or saving account. In both cases there is an element of uncertainty which we decided to minimize.\n",
    "\n",
    "Because of this our model should be more conservative and penalize clients about whom we are not sure."
   ]
  },
  {
   "cell_type": "code",
   "execution_count": 135,
   "metadata": {},
   "outputs": [
    {
     "data": {
      "text/plain": [
       "55.66"
      ]
     },
     "execution_count": 135,
     "metadata": {},
     "output_type": "execute_result"
    }
   ],
   "source": [
    "# Check the percentage number of NAs in Var8 related to whole df\n",
    "round(df['Var8'].isna().sum() / df.shape[0] * 100, 2)"
   ]
  },
  {
   "cell_type": "code",
   "execution_count": 136,
   "metadata": {},
   "outputs": [
    {
     "data": {
      "text/plain": [
       "ID                   0\n",
       "customer_id          0\n",
       "_r_                  0\n",
       "Var9                 0\n",
       "Var1                 0\n",
       "Var4                 0\n",
       "Var5                 0\n",
       "Var6                 0\n",
       "Var7                 0\n",
       "Var8              2030\n",
       "Var15                0\n",
       "Var16                0\n",
       "Var17                0\n",
       "Var20                0\n",
       "Var21                0\n",
       "Var22                0\n",
       "Var23                0\n",
       "Var24                0\n",
       "Var25              722\n",
       "Var26             1415\n",
       "Var29                0\n",
       "Var30                0\n",
       "working_months       0\n",
       "MOB                  0\n",
       "income               0\n",
       "dtype: int64"
      ]
     },
     "execution_count": 136,
     "metadata": {},
     "output_type": "execute_result"
    }
   ],
   "source": [
    "df[numeric_columns].isna().sum()"
   ]
  },
  {
   "cell_type": "markdown",
   "metadata": {},
   "source": [
    "### Handle remaining NULL values"
   ]
  },
  {
   "cell_type": "code",
   "execution_count": 137,
   "metadata": {},
   "outputs": [
    {
     "data": {
      "text/plain": [
       "working_months       0\n",
       "MOB                  0\n",
       "ID                   0\n",
       "customer_id          0\n",
       "_r_                  0\n",
       "Var9                 0\n",
       "Var1                 0\n",
       "Var4                 0\n",
       "Var5                 0\n",
       "Var6                 0\n",
       "Var7                 0\n",
       "Var8              2030\n",
       "Var15                0\n",
       "Var16                0\n",
       "Var17                0\n",
       "Var20                0\n",
       "Var21                0\n",
       "Var22                0\n",
       "Var23                0\n",
       "Var24                0\n",
       "Var25              722\n",
       "Var26             1415\n",
       "Var29                0\n",
       "Var30                0\n",
       "Var2                28\n",
       "Var3               101\n",
       "Var11                0\n",
       "Var12             2757\n",
       "Var14                0\n",
       "target               0\n",
       "Var18             2656\n",
       "Var19             2030\n",
       "Var27                0\n",
       "Var28                0\n",
       "income               0\n",
       "dtype: int64"
      ]
     },
     "execution_count": 137,
     "metadata": {},
     "output_type": "execute_result"
    }
   ],
   "source": [
    "df.isnull().sum()"
   ]
  },
  {
   "cell_type": "markdown",
   "metadata": {},
   "source": [
    "* Var17 - spedning estimation - as we wrote before, we will fill with KNN\n",
    "* Var2 - loan purpose [categorical] - drop NA rows\n",
    "* Var3 - Distribution channel [categorical] - drop NA rows\n",
    "* Var12 - profession of second applicant [categorical] - add new category\n",
    "* Var18 - Property ownership for property renovation\n",
    "* Var19 - Clasification of the vehicle (Car, Motorbike)\n",
    "\n",
    "When it comes to the Var18 and Var19 we analyze combining them with Var2 (loan purpose) and have 1 categorical variable with values:\n",
    "\n",
    "1. Car loan motorbike\n",
    "2. Car loan car\n",
    "3. House renovation your property\n",
    "4. House renovation not your property\n",
    "5. Short cash\n",
    "\n",
    "We finally decided not to use this approach, however we provide you with the short analysis why.\n",
    "\n",
    "Var18, Var19 - dodać kolejną kategorię"
   ]
  },
  {
   "cell_type": "markdown",
   "metadata": {},
   "source": [
    "#### Var12"
   ]
  },
  {
   "cell_type": "markdown",
   "metadata": {},
   "source": [
    "Check if all NAs in Var12 (profession of second applicant)are if Var1 == 1, so if there is just one applicant.\n",
    "\n",
    "The number of NAs in this category is the same as the number of NAs when Var1 == 1, so we fill it with a new category."
   ]
  },
  {
   "cell_type": "code",
   "execution_count": 138,
   "metadata": {},
   "outputs": [
    {
     "data": {
      "text/plain": [
       "2757"
      ]
     },
     "execution_count": 138,
     "metadata": {},
     "output_type": "execute_result"
    }
   ],
   "source": [
    "df.loc[df[\"Var1\"] == 1, \"Var12\"].isna().sum()"
   ]
  },
  {
   "cell_type": "markdown",
   "metadata": {},
   "source": [
    "Fill NA in Var12 (profession of second applicant) with new category: 8 - just one applicant"
   ]
  },
  {
   "cell_type": "code",
   "execution_count": 139,
   "metadata": {},
   "outputs": [],
   "source": [
    "df[\"Var12\"] = df[\"Var12\"].fillna(8)"
   ]
  },
  {
   "cell_type": "markdown",
   "metadata": {},
   "source": [
    "#### Var18 and Var19 - check\n",
    "\n",
    "Check if we can combine Var2 with Var18 and Var19 and having one categorical variable instead of one vategorical and 2 binary with huge amount of nulls. The new variable would consists of 5 values:\n",
    "\n",
    "1. Car loan motorbike\n",
    "2. Car loan car\n",
    "3. House renovation your property\n",
    "4. House renovation not your property\n",
    "5. Short cash\n",
    "\n",
    "First of all we need to check the values - if combining them would reduce the nulls to 0 and nulls are related only to the variable specificity or we really have some missing data.\n",
    "\n",
    "Var2 == 1 is related to Var 19 and Var2 == 2 is related to Var 18."
   ]
  },
  {
   "cell_type": "code",
   "execution_count": 140,
   "metadata": {},
   "outputs": [
    {
     "data": {
      "text/plain": [
       "3647"
      ]
     },
     "execution_count": 140,
     "metadata": {},
     "output_type": "execute_result"
    }
   ],
   "source": [
    "df.shape[0]"
   ]
  },
  {
   "cell_type": "code",
   "execution_count": 141,
   "metadata": {},
   "outputs": [
    {
     "name": "stdout",
     "output_type": "stream",
     "text": [
      "991\n",
      "1617\n",
      "1011\n",
      "3619\n"
     ]
    }
   ],
   "source": [
    "# Check if the number of \"conditional\" values is the same as the number of rows in df\n",
    "\n",
    "# Count rows where Var2 == 1 and Var19 is not NaN\n",
    "var2_19 = df[(df['Var2'] == 1) & (~df['Var19'].isna())].shape[0]\n",
    "\n",
    "# Count rows where Var2 == 2 and Var 18 is not NaN\n",
    "var2_18 = df[(df['Var2'] == 2) & (~df['Var18'].isna())].shape[0]\n",
    "\n",
    "# Count rows where Var2 == 3\n",
    "var2_3 = df.loc[df[\"Var2\"] == 3].shape[0]\n",
    "\n",
    "# Calculate of sum\n",
    "sum = var2_19 + var2_18 + var2_3\n",
    "\n",
    "print(var2_18)\n",
    "print(var2_19)\n",
    "print(var2_3)\n",
    "print(sum)"
   ]
  },
  {
   "cell_type": "markdown",
   "metadata": {},
   "source": [
    "The number of rows in df is 36718 while the \"conditional\" sum is 36136, meaning that there would be a new category or we would need to add original values from Var2 and the number of categories would increase.\n",
    "\n",
    "Lets try to create this categorical column and see the distribution."
   ]
  },
  {
   "cell_type": "code",
   "execution_count": 142,
   "metadata": {},
   "outputs": [],
   "source": [
    "# Add new column loan_desc\n",
    "df['loan_desc'] = 0\n",
    "\n",
    "# Check conditions\n",
    "df.loc[(df['Var2'] == 1) & (df['Var19'] == 1), 'loan_desc'] = 1\n",
    "df.loc[(df['Var2'] == 1) & (df['Var19'] == 0), 'loan_desc'] = 2\n",
    "df.loc[(df['Var2'] == 2) & (df['Var18'] == 1), 'loan_desc'] = 3\n",
    "df.loc[(df['Var2'] == 2) & (df['Var18'] == 0), 'loan_desc'] = 4\n",
    "df.loc[df['Var2'] == 3, 'loan_desc'] = 5\n",
    "\n",
    "# Add 'loan_desc' to the list of categorical columns\n",
    "categorical_columns.append('loan_desc')"
   ]
  },
  {
   "cell_type": "code",
   "execution_count": 143,
   "metadata": {},
   "outputs": [
    {
     "data": {
      "text/plain": [
       "1    1183\n",
       "5    1011\n",
       "3     826\n",
       "2     434\n",
       "4     165\n",
       "0      28\n",
       "Name: loan_desc, dtype: int64"
      ]
     },
     "execution_count": 143,
     "metadata": {},
     "output_type": "execute_result"
    }
   ],
   "source": [
    "df['loan_desc'].value_counts(dropna=False)"
   ]
  },
  {
   "cell_type": "markdown",
   "metadata": {},
   "source": [
    "As we can observe above introducing new variables diveded the df into smaller, not very numerous groups. Vast majority of data are concentrated around 1, 5 and 3 group so probably (there was no precise description of variable Var18 and Var19) for:\n",
    "\n",
    " * Car loan for car\n",
    " * House renovation for client's property\n",
    " * Short cash\n",
    "\n",
    "These new two groups (2, 4) and additional 0 constitute a small percentage of all df.\n",
    "\n",
    "Summarizing we decide to go with variable loan_desc"
   ]
  },
  {
   "cell_type": "code",
   "execution_count": 144,
   "metadata": {},
   "outputs": [
    {
     "data": {
      "text/plain": [
       "(3647, 36)"
      ]
     },
     "execution_count": 144,
     "metadata": {},
     "output_type": "execute_result"
    }
   ],
   "source": [
    "df.shape"
   ]
  },
  {
   "cell_type": "markdown",
   "metadata": {},
   "source": [
    "#### Drop Var18 i Var19 and Var2"
   ]
  },
  {
   "cell_type": "code",
   "execution_count": 145,
   "metadata": {},
   "outputs": [],
   "source": [
    "# Drop Var18 and Var19 columns\n",
    "df.drop('Var2', axis=1, inplace=True)\n",
    "df.drop('Var18', axis=1, inplace=True)\n",
    "df.drop('Var19', axis=1, inplace=True)"
   ]
  },
  {
   "cell_type": "code",
   "execution_count": 146,
   "metadata": {},
   "outputs": [],
   "source": [
    "# Update the list of binary columns\n",
    "categorical_columns.remove('Var2')\n",
    "binary_columns.remove('Var18')\n",
    "binary_columns.remove('Var19')"
   ]
  },
  {
   "cell_type": "code",
   "execution_count": 147,
   "metadata": {},
   "outputs": [],
   "source": [
    "# Drop NA rows fof Var3\n",
    "df = df[~df['Var3'].isna()]"
   ]
  },
  {
   "cell_type": "code",
   "execution_count": 148,
   "metadata": {},
   "outputs": [
    {
     "data": {
      "text/plain": [
       "1.0    1817\n",
       "2.0    1240\n",
       "3.0     489\n",
       "Name: Var3, dtype: int64"
      ]
     },
     "execution_count": 148,
     "metadata": {},
     "output_type": "execute_result"
    }
   ],
   "source": [
    "# sum number of observations for each category in Var3\n",
    "df['Var3'].value_counts(dropna=False)"
   ]
  },
  {
   "cell_type": "code",
   "execution_count": 149,
   "metadata": {},
   "outputs": [
    {
     "data": {
      "text/plain": [
       "working_months       0\n",
       "MOB                  0\n",
       "ID                   0\n",
       "customer_id          0\n",
       "_r_                  0\n",
       "Var9                 0\n",
       "Var1                 0\n",
       "Var4                 0\n",
       "Var5                 0\n",
       "Var6                 0\n",
       "Var7                 0\n",
       "Var8              1971\n",
       "Var15                0\n",
       "Var16                0\n",
       "Var17                0\n",
       "Var20                0\n",
       "Var21                0\n",
       "Var22                0\n",
       "Var23                0\n",
       "Var24                0\n",
       "Var25              708\n",
       "Var26             1382\n",
       "Var29                0\n",
       "Var30                0\n",
       "Var3                 0\n",
       "Var11                0\n",
       "Var12                0\n",
       "Var14                0\n",
       "target               0\n",
       "Var27                0\n",
       "Var28                0\n",
       "income               0\n",
       "loan_desc            0\n",
       "dtype: int64"
      ]
     },
     "execution_count": 149,
     "metadata": {},
     "output_type": "execute_result"
    }
   ],
   "source": [
    "df.isna().sum()"
   ]
  },
  {
   "cell_type": "markdown",
   "metadata": {},
   "source": [
    "Summarizing we still have 31 NAs in Var17 which will be filled using KNN"
   ]
  },
  {
   "cell_type": "markdown",
   "metadata": {},
   "source": [
    "### Handling numeric/categorical NAs\n",
    "\n",
    "Var8, Var25, Var26 - ciągła którą zamieniamy na kategoryczną + osobna kategoria na NA"
   ]
  },
  {
   "cell_type": "code",
   "execution_count": 150,
   "metadata": {},
   "outputs": [],
   "source": [
    "# Create a copy of df to further analysis\n",
    "df_copy = df.copy()"
   ]
  },
  {
   "cell_type": "markdown",
   "metadata": {},
   "source": [
    "#### Var8"
   ]
  },
  {
   "cell_type": "code",
   "execution_count": 151,
   "metadata": {},
   "outputs": [],
   "source": [
    "def quantile_cut_and_merge(df, column_name):\n",
    "    # Filter out NaN values from the specified column\n",
    "    df_filtered = df.dropna(subset=[column_name])\n",
    "    \n",
    "    # Perform quantile cut on filtered DataFrame\n",
    "    df_filtered[column_name + '_q'] = pd.qcut(df_filtered[column_name], 10, labels=False, duplicates='drop')\n",
    "    \n",
    "    # Merge the results back into the original DataFrame\n",
    "    df = df.merge(df_filtered[['ID', column_name + '_q']], how='left', on='ID')\n",
    "    \n",
    "    # Fill NaN values in the new quantile column with 10\n",
    "    df[column_name + '_q'] = df[column_name + '_q'].fillna(10)\n",
    "    \n",
    "    # Drop the original column\n",
    "    df.drop(column_name, axis=1, inplace=True)\n",
    "    \n",
    "    return df"
   ]
  },
  {
   "cell_type": "code",
   "execution_count": 152,
   "metadata": {},
   "outputs": [
    {
     "name": "stderr",
     "output_type": "stream",
     "text": [
      "/var/folders/rh/w6cl6rd95vj2g4s03scz_4fc0000gn/T/ipykernel_8621/3854490666.py:6: SettingWithCopyWarning: \n",
      "A value is trying to be set on a copy of a slice from a DataFrame.\n",
      "Try using .loc[row_indexer,col_indexer] = value instead\n",
      "\n",
      "See the caveats in the documentation: https://pandas.pydata.org/pandas-docs/stable/user_guide/indexing.html#returning-a-view-versus-a-copy\n",
      "  df_filtered[column_name + '_q'] = pd.qcut(df_filtered[column_name], 10, labels=False, duplicates='drop')\n",
      "/var/folders/rh/w6cl6rd95vj2g4s03scz_4fc0000gn/T/ipykernel_8621/3854490666.py:6: SettingWithCopyWarning: \n",
      "A value is trying to be set on a copy of a slice from a DataFrame.\n",
      "Try using .loc[row_indexer,col_indexer] = value instead\n",
      "\n",
      "See the caveats in the documentation: https://pandas.pydata.org/pandas-docs/stable/user_guide/indexing.html#returning-a-view-versus-a-copy\n",
      "  df_filtered[column_name + '_q'] = pd.qcut(df_filtered[column_name], 10, labels=False, duplicates='drop')\n",
      "/var/folders/rh/w6cl6rd95vj2g4s03scz_4fc0000gn/T/ipykernel_8621/3854490666.py:6: SettingWithCopyWarning: \n",
      "A value is trying to be set on a copy of a slice from a DataFrame.\n",
      "Try using .loc[row_indexer,col_indexer] = value instead\n",
      "\n",
      "See the caveats in the documentation: https://pandas.pydata.org/pandas-docs/stable/user_guide/indexing.html#returning-a-view-versus-a-copy\n",
      "  df_filtered[column_name + '_q'] = pd.qcut(df_filtered[column_name], 10, labels=False, duplicates='drop')\n"
     ]
    }
   ],
   "source": [
    "for col in ['Var8', 'Var25', 'Var26']:\n",
    "    df = quantile_cut_and_merge(df, col)"
   ]
  },
  {
   "cell_type": "markdown",
   "metadata": {},
   "source": [
    "#### Handle categorical variables without NAs"
   ]
  },
  {
   "cell_type": "code",
   "execution_count": 153,
   "metadata": {},
   "outputs": [],
   "source": [
    "# Continuous columns to be changed to categorical\n",
    "columns = ['Var4', 'Var5', 'Var7', 'income', 'Var24', 'Var29', 'Var30']\n",
    "\n",
    "for col in columns:\n",
    "    # Perform quantile cut on filtered DataFrame\n",
    "    df[col] = pd.qcut(df[col], 10, labels=False, duplicates='drop')"
   ]
  },
  {
   "cell_type": "markdown",
   "metadata": {},
   "source": [
    "#### _r_ - drop"
   ]
  },
  {
   "cell_type": "code",
   "execution_count": 154,
   "metadata": {},
   "outputs": [],
   "source": [
    "# Drop _r_ column\n",
    "df.drop('_r_', axis=1, inplace=True)"
   ]
  },
  {
   "cell_type": "code",
   "execution_count": 155,
   "metadata": {},
   "outputs": [
    {
     "data": {
      "text/html": [
       "<div>\n",
       "<style scoped>\n",
       "    .dataframe tbody tr th:only-of-type {\n",
       "        vertical-align: middle;\n",
       "    }\n",
       "\n",
       "    .dataframe tbody tr th {\n",
       "        vertical-align: top;\n",
       "    }\n",
       "\n",
       "    .dataframe thead th {\n",
       "        text-align: right;\n",
       "    }\n",
       "</style>\n",
       "<table border=\"1\" class=\"dataframe\">\n",
       "  <thead>\n",
       "    <tr style=\"text-align: right;\">\n",
       "      <th></th>\n",
       "      <th>working_months</th>\n",
       "      <th>MOB</th>\n",
       "      <th>ID</th>\n",
       "      <th>customer_id</th>\n",
       "      <th>Var9</th>\n",
       "      <th>Var1</th>\n",
       "      <th>Var4</th>\n",
       "      <th>Var5</th>\n",
       "      <th>Var6</th>\n",
       "      <th>Var7</th>\n",
       "      <th>...</th>\n",
       "      <th>Var12</th>\n",
       "      <th>Var14</th>\n",
       "      <th>target</th>\n",
       "      <th>Var27</th>\n",
       "      <th>Var28</th>\n",
       "      <th>income</th>\n",
       "      <th>loan_desc</th>\n",
       "      <th>Var8_q</th>\n",
       "      <th>Var25_q</th>\n",
       "      <th>Var26_q</th>\n",
       "    </tr>\n",
       "  </thead>\n",
       "  <tbody>\n",
       "    <tr>\n",
       "      <th>0</th>\n",
       "      <td>62</td>\n",
       "      <td>169</td>\n",
       "      <td>36034977</td>\n",
       "      <td>32653719</td>\n",
       "      <td>4200</td>\n",
       "      <td>1</td>\n",
       "      <td>1</td>\n",
       "      <td>1</td>\n",
       "      <td>1</td>\n",
       "      <td>1</td>\n",
       "      <td>...</td>\n",
       "      <td>8.0</td>\n",
       "      <td>0</td>\n",
       "      <td>0.0</td>\n",
       "      <td>0</td>\n",
       "      <td>0</td>\n",
       "      <td>0</td>\n",
       "      <td>5</td>\n",
       "      <td>10.0</td>\n",
       "      <td>2.0</td>\n",
       "      <td>3.0</td>\n",
       "    </tr>\n",
       "    <tr>\n",
       "      <th>1</th>\n",
       "      <td>160</td>\n",
       "      <td>169</td>\n",
       "      <td>36034978</td>\n",
       "      <td>32832365</td>\n",
       "      <td>5880</td>\n",
       "      <td>2</td>\n",
       "      <td>1</td>\n",
       "      <td>2</td>\n",
       "      <td>6</td>\n",
       "      <td>8</td>\n",
       "      <td>...</td>\n",
       "      <td>6.0</td>\n",
       "      <td>3</td>\n",
       "      <td>0.0</td>\n",
       "      <td>0</td>\n",
       "      <td>0</td>\n",
       "      <td>4</td>\n",
       "      <td>3</td>\n",
       "      <td>10.0</td>\n",
       "      <td>4.0</td>\n",
       "      <td>1.0</td>\n",
       "    </tr>\n",
       "    <tr>\n",
       "      <th>2</th>\n",
       "      <td>134</td>\n",
       "      <td>169</td>\n",
       "      <td>36034979</td>\n",
       "      <td>32544742</td>\n",
       "      <td>4200</td>\n",
       "      <td>1</td>\n",
       "      <td>0</td>\n",
       "      <td>2</td>\n",
       "      <td>1</td>\n",
       "      <td>0</td>\n",
       "      <td>...</td>\n",
       "      <td>8.0</td>\n",
       "      <td>0</td>\n",
       "      <td>0.0</td>\n",
       "      <td>0</td>\n",
       "      <td>0</td>\n",
       "      <td>0</td>\n",
       "      <td>5</td>\n",
       "      <td>10.0</td>\n",
       "      <td>1.0</td>\n",
       "      <td>3.0</td>\n",
       "    </tr>\n",
       "    <tr>\n",
       "      <th>3</th>\n",
       "      <td>174</td>\n",
       "      <td>168</td>\n",
       "      <td>36034981</td>\n",
       "      <td>32592943</td>\n",
       "      <td>3120</td>\n",
       "      <td>2</td>\n",
       "      <td>2</td>\n",
       "      <td>8</td>\n",
       "      <td>3</td>\n",
       "      <td>2</td>\n",
       "      <td>...</td>\n",
       "      <td>5.0</td>\n",
       "      <td>1</td>\n",
       "      <td>0.0</td>\n",
       "      <td>0</td>\n",
       "      <td>0</td>\n",
       "      <td>2</td>\n",
       "      <td>2</td>\n",
       "      <td>0.0</td>\n",
       "      <td>0.0</td>\n",
       "      <td>2.0</td>\n",
       "    </tr>\n",
       "    <tr>\n",
       "      <th>4</th>\n",
       "      <td>196</td>\n",
       "      <td>168</td>\n",
       "      <td>36034982</td>\n",
       "      <td>32601182</td>\n",
       "      <td>4440</td>\n",
       "      <td>2</td>\n",
       "      <td>4</td>\n",
       "      <td>6</td>\n",
       "      <td>1</td>\n",
       "      <td>2</td>\n",
       "      <td>...</td>\n",
       "      <td>5.0</td>\n",
       "      <td>0</td>\n",
       "      <td>0.0</td>\n",
       "      <td>0</td>\n",
       "      <td>0</td>\n",
       "      <td>2</td>\n",
       "      <td>2</td>\n",
       "      <td>0.0</td>\n",
       "      <td>1.0</td>\n",
       "      <td>10.0</td>\n",
       "    </tr>\n",
       "    <tr>\n",
       "      <th>...</th>\n",
       "      <td>...</td>\n",
       "      <td>...</td>\n",
       "      <td>...</td>\n",
       "      <td>...</td>\n",
       "      <td>...</td>\n",
       "      <td>...</td>\n",
       "      <td>...</td>\n",
       "      <td>...</td>\n",
       "      <td>...</td>\n",
       "      <td>...</td>\n",
       "      <td>...</td>\n",
       "      <td>...</td>\n",
       "      <td>...</td>\n",
       "      <td>...</td>\n",
       "      <td>...</td>\n",
       "      <td>...</td>\n",
       "      <td>...</td>\n",
       "      <td>...</td>\n",
       "      <td>...</td>\n",
       "      <td>...</td>\n",
       "      <td>...</td>\n",
       "    </tr>\n",
       "    <tr>\n",
       "      <th>3541</th>\n",
       "      <td>184</td>\n",
       "      <td>38</td>\n",
       "      <td>36039969</td>\n",
       "      <td>32399390</td>\n",
       "      <td>19800</td>\n",
       "      <td>1</td>\n",
       "      <td>8</td>\n",
       "      <td>1</td>\n",
       "      <td>1</td>\n",
       "      <td>8</td>\n",
       "      <td>...</td>\n",
       "      <td>8.0</td>\n",
       "      <td>3</td>\n",
       "      <td>0.0</td>\n",
       "      <td>0</td>\n",
       "      <td>0</td>\n",
       "      <td>8</td>\n",
       "      <td>1</td>\n",
       "      <td>7.0</td>\n",
       "      <td>2.0</td>\n",
       "      <td>9.0</td>\n",
       "    </tr>\n",
       "    <tr>\n",
       "      <th>3542</th>\n",
       "      <td>207</td>\n",
       "      <td>38</td>\n",
       "      <td>36039970</td>\n",
       "      <td>32880524</td>\n",
       "      <td>18360</td>\n",
       "      <td>1</td>\n",
       "      <td>7</td>\n",
       "      <td>3</td>\n",
       "      <td>1</td>\n",
       "      <td>7</td>\n",
       "      <td>...</td>\n",
       "      <td>8.0</td>\n",
       "      <td>3</td>\n",
       "      <td>0.0</td>\n",
       "      <td>0</td>\n",
       "      <td>0</td>\n",
       "      <td>8</td>\n",
       "      <td>3</td>\n",
       "      <td>10.0</td>\n",
       "      <td>10.0</td>\n",
       "      <td>10.0</td>\n",
       "    </tr>\n",
       "    <tr>\n",
       "      <th>3543</th>\n",
       "      <td>4</td>\n",
       "      <td>38</td>\n",
       "      <td>36039972</td>\n",
       "      <td>32807051</td>\n",
       "      <td>9240</td>\n",
       "      <td>1</td>\n",
       "      <td>8</td>\n",
       "      <td>5</td>\n",
       "      <td>1</td>\n",
       "      <td>6</td>\n",
       "      <td>...</td>\n",
       "      <td>8.0</td>\n",
       "      <td>0</td>\n",
       "      <td>0.0</td>\n",
       "      <td>0</td>\n",
       "      <td>0</td>\n",
       "      <td>4</td>\n",
       "      <td>3</td>\n",
       "      <td>10.0</td>\n",
       "      <td>9.0</td>\n",
       "      <td>8.0</td>\n",
       "    </tr>\n",
       "    <tr>\n",
       "      <th>3544</th>\n",
       "      <td>86</td>\n",
       "      <td>38</td>\n",
       "      <td>36039973</td>\n",
       "      <td>32826431</td>\n",
       "      <td>18000</td>\n",
       "      <td>2</td>\n",
       "      <td>9</td>\n",
       "      <td>6</td>\n",
       "      <td>1</td>\n",
       "      <td>7</td>\n",
       "      <td>...</td>\n",
       "      <td>5.0</td>\n",
       "      <td>0</td>\n",
       "      <td>0.0</td>\n",
       "      <td>0</td>\n",
       "      <td>0</td>\n",
       "      <td>9</td>\n",
       "      <td>1</td>\n",
       "      <td>7.0</td>\n",
       "      <td>4.0</td>\n",
       "      <td>8.0</td>\n",
       "    </tr>\n",
       "    <tr>\n",
       "      <th>3545</th>\n",
       "      <td>191</td>\n",
       "      <td>38</td>\n",
       "      <td>36039976</td>\n",
       "      <td>32393774</td>\n",
       "      <td>12360</td>\n",
       "      <td>1</td>\n",
       "      <td>2</td>\n",
       "      <td>0</td>\n",
       "      <td>1</td>\n",
       "      <td>6</td>\n",
       "      <td>...</td>\n",
       "      <td>8.0</td>\n",
       "      <td>0</td>\n",
       "      <td>0.0</td>\n",
       "      <td>0</td>\n",
       "      <td>0</td>\n",
       "      <td>6</td>\n",
       "      <td>5</td>\n",
       "      <td>10.0</td>\n",
       "      <td>6.0</td>\n",
       "      <td>10.0</td>\n",
       "    </tr>\n",
       "  </tbody>\n",
       "</table>\n",
       "<p>3546 rows × 32 columns</p>\n",
       "</div>"
      ],
      "text/plain": [
       "      working_months  MOB        ID  customer_id   Var9  Var1  Var4  Var5  \\\n",
       "0                 62  169  36034977     32653719   4200     1     1     1   \n",
       "1                160  169  36034978     32832365   5880     2     1     2   \n",
       "2                134  169  36034979     32544742   4200     1     0     2   \n",
       "3                174  168  36034981     32592943   3120     2     2     8   \n",
       "4                196  168  36034982     32601182   4440     2     4     6   \n",
       "...              ...  ...       ...          ...    ...   ...   ...   ...   \n",
       "3541             184   38  36039969     32399390  19800     1     8     1   \n",
       "3542             207   38  36039970     32880524  18360     1     7     3   \n",
       "3543               4   38  36039972     32807051   9240     1     8     5   \n",
       "3544              86   38  36039973     32826431  18000     2     9     6   \n",
       "3545             191   38  36039976     32393774  12360     1     2     0   \n",
       "\n",
       "      Var6  Var7  ...  Var12  Var14  target  Var27  Var28  income  loan_desc  \\\n",
       "0        1     1  ...    8.0      0     0.0      0      0       0          5   \n",
       "1        6     8  ...    6.0      3     0.0      0      0       4          3   \n",
       "2        1     0  ...    8.0      0     0.0      0      0       0          5   \n",
       "3        3     2  ...    5.0      1     0.0      0      0       2          2   \n",
       "4        1     2  ...    5.0      0     0.0      0      0       2          2   \n",
       "...    ...   ...  ...    ...    ...     ...    ...    ...     ...        ...   \n",
       "3541     1     8  ...    8.0      3     0.0      0      0       8          1   \n",
       "3542     1     7  ...    8.0      3     0.0      0      0       8          3   \n",
       "3543     1     6  ...    8.0      0     0.0      0      0       4          3   \n",
       "3544     1     7  ...    5.0      0     0.0      0      0       9          1   \n",
       "3545     1     6  ...    8.0      0     0.0      0      0       6          5   \n",
       "\n",
       "      Var8_q  Var25_q  Var26_q  \n",
       "0       10.0      2.0      3.0  \n",
       "1       10.0      4.0      1.0  \n",
       "2       10.0      1.0      3.0  \n",
       "3        0.0      0.0      2.0  \n",
       "4        0.0      1.0     10.0  \n",
       "...      ...      ...      ...  \n",
       "3541     7.0      2.0      9.0  \n",
       "3542    10.0     10.0     10.0  \n",
       "3543    10.0      9.0      8.0  \n",
       "3544     7.0      4.0      8.0  \n",
       "3545    10.0      6.0     10.0  \n",
       "\n",
       "[3546 rows x 32 columns]"
      ]
     },
     "execution_count": 155,
     "metadata": {},
     "output_type": "execute_result"
    }
   ],
   "source": [
    "df"
   ]
  },
  {
   "cell_type": "markdown",
   "metadata": {},
   "source": [
    "#### Zmienne problematyczne:\n",
    "\n",
    "* Var20\n",
    "* Var21\n",
    "* Var22\n",
    "* Var30"
   ]
  },
  {
   "cell_type": "markdown",
   "metadata": {},
   "source": [
    "#### Var20"
   ]
  },
  {
   "cell_type": "code",
   "execution_count": 156,
   "metadata": {},
   "outputs": [
    {
     "data": {
      "text/plain": [
       "0     2298\n",
       "1      841\n",
       "2      241\n",
       "3       91\n",
       "4       39\n",
       "5       15\n",
       "6       12\n",
       "7        3\n",
       "9        2\n",
       "8        2\n",
       "20       1\n",
       "10       1\n",
       "Name: Var20, dtype: int64"
      ]
     },
     "execution_count": 156,
     "metadata": {},
     "output_type": "execute_result"
    }
   ],
   "source": [
    "df['Var20'].value_counts(dropna=False)"
   ]
  },
  {
   "cell_type": "code",
   "execution_count": 157,
   "metadata": {},
   "outputs": [],
   "source": [
    "# create a new column Var20_1 filled basing on Var20\n",
    "def process_var(var, df):\n",
    "    df[var + '_1'] = 0\n",
    "    df.loc[df[var].isin([1, 2]), var + '_1'] = 1\n",
    "    df.loc[df[var].isin([3, 4, 5]), var + '_1'] = 2\n",
    "    df.loc[df[var] > 5, var + '_1'] = 3\n",
    "    return df"
   ]
  },
  {
   "cell_type": "code",
   "execution_count": 158,
   "metadata": {},
   "outputs": [],
   "source": [
    "df = process_var('Var20', df)"
   ]
  },
  {
   "cell_type": "code",
   "execution_count": 159,
   "metadata": {},
   "outputs": [
    {
     "data": {
      "text/plain": [
       "0    2298\n",
       "1    1082\n",
       "2     145\n",
       "3      21\n",
       "Name: Var20_1, dtype: int64"
      ]
     },
     "execution_count": 159,
     "metadata": {},
     "output_type": "execute_result"
    }
   ],
   "source": [
    "df['Var20_1'].value_counts(dropna=False)"
   ]
  },
  {
   "cell_type": "code",
   "execution_count": 160,
   "metadata": {},
   "outputs": [],
   "source": [
    "df.drop('Var20', axis=1, inplace=True)"
   ]
  },
  {
   "cell_type": "markdown",
   "metadata": {},
   "source": [
    "#### Var 21"
   ]
  },
  {
   "cell_type": "code",
   "execution_count": 161,
   "metadata": {},
   "outputs": [
    {
     "data": {
      "text/plain": [
       "0     1690\n",
       "1      989\n",
       "2      459\n",
       "3      202\n",
       "4      117\n",
       "5       41\n",
       "6       28\n",
       "8        8\n",
       "7        5\n",
       "10       3\n",
       "9        2\n",
       "22       1\n",
       "12       1\n",
       "Name: Var21, dtype: int64"
      ]
     },
     "execution_count": 161,
     "metadata": {},
     "output_type": "execute_result"
    }
   ],
   "source": [
    "df['Var21'].value_counts(dropna=False)"
   ]
  },
  {
   "cell_type": "code",
   "execution_count": 162,
   "metadata": {},
   "outputs": [],
   "source": [
    "df = process_var('Var21', df)"
   ]
  },
  {
   "cell_type": "code",
   "execution_count": 163,
   "metadata": {},
   "outputs": [
    {
     "data": {
      "text/plain": [
       "0    1690\n",
       "1    1448\n",
       "2     360\n",
       "3      48\n",
       "Name: Var21_1, dtype: int64"
      ]
     },
     "execution_count": 163,
     "metadata": {},
     "output_type": "execute_result"
    }
   ],
   "source": [
    "df['Var21_1'].value_counts(dropna=False)"
   ]
  },
  {
   "cell_type": "code",
   "execution_count": 164,
   "metadata": {},
   "outputs": [],
   "source": [
    "df.drop('Var21', axis=1, inplace=True)"
   ]
  },
  {
   "cell_type": "markdown",
   "metadata": {},
   "source": [
    "#### Var22"
   ]
  },
  {
   "cell_type": "code",
   "execution_count": 165,
   "metadata": {},
   "outputs": [
    {
     "data": {
      "text/plain": [
       "0     1303\n",
       "1      987\n",
       "2      615\n",
       "3      296\n",
       "4      169\n",
       "5       81\n",
       "6       46\n",
       "7       21\n",
       "8       13\n",
       "10       6\n",
       "9        4\n",
       "22       1\n",
       "13       1\n",
       "11       1\n",
       "12       1\n",
       "14       1\n",
       "Name: Var22, dtype: int64"
      ]
     },
     "execution_count": 165,
     "metadata": {},
     "output_type": "execute_result"
    }
   ],
   "source": [
    "df['Var22'].value_counts(dropna=False)"
   ]
  },
  {
   "cell_type": "code",
   "execution_count": 166,
   "metadata": {},
   "outputs": [],
   "source": [
    "df = process_var('Var22', df)"
   ]
  },
  {
   "cell_type": "code",
   "execution_count": 167,
   "metadata": {},
   "outputs": [
    {
     "data": {
      "text/plain": [
       "1    1602\n",
       "0    1303\n",
       "2     546\n",
       "3      95\n",
       "Name: Var22_1, dtype: int64"
      ]
     },
     "execution_count": 167,
     "metadata": {},
     "output_type": "execute_result"
    }
   ],
   "source": [
    "df['Var22_1'].value_counts(dropna=False)"
   ]
  },
  {
   "cell_type": "code",
   "execution_count": 168,
   "metadata": {},
   "outputs": [],
   "source": [
    "df.drop('Var22', axis=1, inplace=True)"
   ]
  },
  {
   "cell_type": "markdown",
   "metadata": {},
   "source": [
    "#### Var23"
   ]
  },
  {
   "cell_type": "code",
   "execution_count": 169,
   "metadata": {},
   "outputs": [
    {
     "data": {
      "text/plain": [
       "0     1007\n",
       "1      958\n",
       "2      658\n",
       "3      372\n",
       "4      249\n",
       "5      135\n",
       "6       75\n",
       "7       40\n",
       "8       18\n",
       "10      12\n",
       "9       10\n",
       "12       4\n",
       "13       2\n",
       "11       2\n",
       "14       2\n",
       "20       1\n",
       "22       1\n",
       "Name: Var23, dtype: int64"
      ]
     },
     "execution_count": 169,
     "metadata": {},
     "output_type": "execute_result"
    }
   ],
   "source": [
    "df['Var23'].value_counts(dropna=False)"
   ]
  },
  {
   "cell_type": "code",
   "execution_count": 170,
   "metadata": {},
   "outputs": [],
   "source": [
    "df = process_var('Var23', df)"
   ]
  },
  {
   "cell_type": "code",
   "execution_count": 171,
   "metadata": {},
   "outputs": [
    {
     "data": {
      "text/plain": [
       "1    1616\n",
       "0    1007\n",
       "2     756\n",
       "3     167\n",
       "Name: Var23_1, dtype: int64"
      ]
     },
     "execution_count": 171,
     "metadata": {},
     "output_type": "execute_result"
    }
   ],
   "source": [
    "df['Var23_1'].value_counts(dropna=False)"
   ]
  },
  {
   "cell_type": "code",
   "execution_count": 172,
   "metadata": {},
   "outputs": [],
   "source": [
    "df.drop('Var23', axis=1, inplace=True)"
   ]
  },
  {
   "cell_type": "markdown",
   "metadata": {},
   "source": [
    "#### Var30\n",
    "\n",
    "Leave as is"
   ]
  },
  {
   "cell_type": "code",
   "execution_count": 173,
   "metadata": {},
   "outputs": [
    {
     "data": {
      "text/plain": [
       "6    785\n",
       "1    593\n",
       "7    430\n",
       "0    389\n",
       "4    370\n",
       "3    331\n",
       "5    329\n",
       "2    319\n",
       "Name: Var30, dtype: int64"
      ]
     },
     "execution_count": 173,
     "metadata": {},
     "output_type": "execute_result"
    }
   ],
   "source": [
    "df['Var30'].value_counts(dropna=False)"
   ]
  },
  {
   "cell_type": "code",
   "execution_count": 174,
   "metadata": {},
   "outputs": [
    {
     "data": {
      "text/plain": [
       "working_months    0\n",
       "MOB               0\n",
       "ID                0\n",
       "customer_id       0\n",
       "Var9              0\n",
       "Var1              0\n",
       "Var4              0\n",
       "Var5              0\n",
       "Var6              0\n",
       "Var7              0\n",
       "Var15             0\n",
       "Var16             0\n",
       "Var17             0\n",
       "Var24             0\n",
       "Var29             0\n",
       "Var30             0\n",
       "Var3              0\n",
       "Var11             0\n",
       "Var12             0\n",
       "Var14             0\n",
       "target            0\n",
       "Var27             0\n",
       "Var28             0\n",
       "income            0\n",
       "loan_desc         0\n",
       "Var8_q            0\n",
       "Var25_q           0\n",
       "Var26_q           0\n",
       "Var20_1           0\n",
       "Var21_1           0\n",
       "Var22_1           0\n",
       "Var23_1           0\n",
       "dtype: int64"
      ]
     },
     "execution_count": 174,
     "metadata": {},
     "output_type": "execute_result"
    }
   ],
   "source": [
    "df.isna().sum()"
   ]
  },
  {
   "cell_type": "markdown",
   "metadata": {},
   "source": [
    "### Fill Var17\n",
    "\n",
    "Fill values Var17 with values from first df (development_sample_cleaned_continuous)"
   ]
  },
  {
   "cell_type": "code",
   "execution_count": 175,
   "metadata": {},
   "outputs": [],
   "source": [
    "df_cont = pd.read_csv('../data/output/countinuous_dfs/testing_sample_cleaned_continuous.csv')"
   ]
  },
  {
   "cell_type": "code",
   "execution_count": 176,
   "metadata": {},
   "outputs": [],
   "source": [
    "# fill NAs in Var17 from df_nont by left join\n",
    "df = df.merge(df_cont[['ID', 'Var17']], how='left', on='ID')"
   ]
  },
  {
   "cell_type": "code",
   "execution_count": 177,
   "metadata": {},
   "outputs": [],
   "source": [
    "# Drop Var 17 from df\n",
    "df.drop('Var17_x', axis=1, inplace=True)"
   ]
  },
  {
   "cell_type": "code",
   "execution_count": 178,
   "metadata": {},
   "outputs": [],
   "source": [
    "# Rename Var17_y to Var17\n",
    "df.rename(columns={'Var17_y': 'Var17'}, inplace=True)"
   ]
  },
  {
   "cell_type": "markdown",
   "metadata": {},
   "source": [
    "### Change Var 17 to categorical"
   ]
  },
  {
   "cell_type": "code",
   "execution_count": 179,
   "metadata": {},
   "outputs": [
    {
     "data": {
      "text/html": [
       "<div>\n",
       "<style scoped>\n",
       "    .dataframe tbody tr th:only-of-type {\n",
       "        vertical-align: middle;\n",
       "    }\n",
       "\n",
       "    .dataframe tbody tr th {\n",
       "        vertical-align: top;\n",
       "    }\n",
       "\n",
       "    .dataframe thead th {\n",
       "        text-align: right;\n",
       "    }\n",
       "</style>\n",
       "<table border=\"1\" class=\"dataframe\">\n",
       "  <thead>\n",
       "    <tr style=\"text-align: right;\">\n",
       "      <th></th>\n",
       "      <th>working_months</th>\n",
       "      <th>MOB</th>\n",
       "      <th>ID</th>\n",
       "      <th>customer_id</th>\n",
       "      <th>Var9</th>\n",
       "      <th>Var1</th>\n",
       "      <th>Var4</th>\n",
       "      <th>Var5</th>\n",
       "      <th>Var6</th>\n",
       "      <th>Var7</th>\n",
       "      <th>...</th>\n",
       "      <th>income</th>\n",
       "      <th>loan_desc</th>\n",
       "      <th>Var8_q</th>\n",
       "      <th>Var25_q</th>\n",
       "      <th>Var26_q</th>\n",
       "      <th>Var20_1</th>\n",
       "      <th>Var21_1</th>\n",
       "      <th>Var22_1</th>\n",
       "      <th>Var23_1</th>\n",
       "      <th>Var17</th>\n",
       "    </tr>\n",
       "  </thead>\n",
       "  <tbody>\n",
       "    <tr>\n",
       "      <th>0</th>\n",
       "      <td>62</td>\n",
       "      <td>169</td>\n",
       "      <td>36034977</td>\n",
       "      <td>32653719</td>\n",
       "      <td>4200</td>\n",
       "      <td>1</td>\n",
       "      <td>1</td>\n",
       "      <td>1</td>\n",
       "      <td>1</td>\n",
       "      <td>1</td>\n",
       "      <td>...</td>\n",
       "      <td>0</td>\n",
       "      <td>5</td>\n",
       "      <td>10.0</td>\n",
       "      <td>2.0</td>\n",
       "      <td>3.0</td>\n",
       "      <td>1</td>\n",
       "      <td>3</td>\n",
       "      <td>3</td>\n",
       "      <td>3</td>\n",
       "      <td>2436.83</td>\n",
       "    </tr>\n",
       "    <tr>\n",
       "      <th>1</th>\n",
       "      <td>160</td>\n",
       "      <td>169</td>\n",
       "      <td>36034978</td>\n",
       "      <td>32832365</td>\n",
       "      <td>5880</td>\n",
       "      <td>2</td>\n",
       "      <td>1</td>\n",
       "      <td>2</td>\n",
       "      <td>6</td>\n",
       "      <td>8</td>\n",
       "      <td>...</td>\n",
       "      <td>4</td>\n",
       "      <td>3</td>\n",
       "      <td>10.0</td>\n",
       "      <td>4.0</td>\n",
       "      <td>1.0</td>\n",
       "      <td>1</td>\n",
       "      <td>1</td>\n",
       "      <td>1</td>\n",
       "      <td>1</td>\n",
       "      <td>4430.26</td>\n",
       "    </tr>\n",
       "    <tr>\n",
       "      <th>2</th>\n",
       "      <td>134</td>\n",
       "      <td>169</td>\n",
       "      <td>36034979</td>\n",
       "      <td>32544742</td>\n",
       "      <td>4200</td>\n",
       "      <td>1</td>\n",
       "      <td>0</td>\n",
       "      <td>2</td>\n",
       "      <td>1</td>\n",
       "      <td>0</td>\n",
       "      <td>...</td>\n",
       "      <td>0</td>\n",
       "      <td>5</td>\n",
       "      <td>10.0</td>\n",
       "      <td>1.0</td>\n",
       "      <td>3.0</td>\n",
       "      <td>0</td>\n",
       "      <td>0</td>\n",
       "      <td>0</td>\n",
       "      <td>0</td>\n",
       "      <td>1695.92</td>\n",
       "    </tr>\n",
       "    <tr>\n",
       "      <th>3</th>\n",
       "      <td>174</td>\n",
       "      <td>168</td>\n",
       "      <td>36034981</td>\n",
       "      <td>32592943</td>\n",
       "      <td>3120</td>\n",
       "      <td>2</td>\n",
       "      <td>2</td>\n",
       "      <td>8</td>\n",
       "      <td>3</td>\n",
       "      <td>2</td>\n",
       "      <td>...</td>\n",
       "      <td>2</td>\n",
       "      <td>2</td>\n",
       "      <td>0.0</td>\n",
       "      <td>0.0</td>\n",
       "      <td>2.0</td>\n",
       "      <td>2</td>\n",
       "      <td>2</td>\n",
       "      <td>2</td>\n",
       "      <td>2</td>\n",
       "      <td>3785.22</td>\n",
       "    </tr>\n",
       "    <tr>\n",
       "      <th>4</th>\n",
       "      <td>196</td>\n",
       "      <td>168</td>\n",
       "      <td>36034982</td>\n",
       "      <td>32601182</td>\n",
       "      <td>4440</td>\n",
       "      <td>2</td>\n",
       "      <td>4</td>\n",
       "      <td>6</td>\n",
       "      <td>1</td>\n",
       "      <td>2</td>\n",
       "      <td>...</td>\n",
       "      <td>2</td>\n",
       "      <td>2</td>\n",
       "      <td>0.0</td>\n",
       "      <td>1.0</td>\n",
       "      <td>10.0</td>\n",
       "      <td>0</td>\n",
       "      <td>0</td>\n",
       "      <td>0</td>\n",
       "      <td>0</td>\n",
       "      <td>2720.52</td>\n",
       "    </tr>\n",
       "    <tr>\n",
       "      <th>...</th>\n",
       "      <td>...</td>\n",
       "      <td>...</td>\n",
       "      <td>...</td>\n",
       "      <td>...</td>\n",
       "      <td>...</td>\n",
       "      <td>...</td>\n",
       "      <td>...</td>\n",
       "      <td>...</td>\n",
       "      <td>...</td>\n",
       "      <td>...</td>\n",
       "      <td>...</td>\n",
       "      <td>...</td>\n",
       "      <td>...</td>\n",
       "      <td>...</td>\n",
       "      <td>...</td>\n",
       "      <td>...</td>\n",
       "      <td>...</td>\n",
       "      <td>...</td>\n",
       "      <td>...</td>\n",
       "      <td>...</td>\n",
       "      <td>...</td>\n",
       "    </tr>\n",
       "    <tr>\n",
       "      <th>3541</th>\n",
       "      <td>184</td>\n",
       "      <td>38</td>\n",
       "      <td>36039969</td>\n",
       "      <td>32399390</td>\n",
       "      <td>19800</td>\n",
       "      <td>1</td>\n",
       "      <td>8</td>\n",
       "      <td>1</td>\n",
       "      <td>1</td>\n",
       "      <td>8</td>\n",
       "      <td>...</td>\n",
       "      <td>8</td>\n",
       "      <td>1</td>\n",
       "      <td>7.0</td>\n",
       "      <td>2.0</td>\n",
       "      <td>9.0</td>\n",
       "      <td>0</td>\n",
       "      <td>0</td>\n",
       "      <td>0</td>\n",
       "      <td>0</td>\n",
       "      <td>10295.46</td>\n",
       "    </tr>\n",
       "    <tr>\n",
       "      <th>3542</th>\n",
       "      <td>207</td>\n",
       "      <td>38</td>\n",
       "      <td>36039970</td>\n",
       "      <td>32880524</td>\n",
       "      <td>18360</td>\n",
       "      <td>1</td>\n",
       "      <td>7</td>\n",
       "      <td>3</td>\n",
       "      <td>1</td>\n",
       "      <td>7</td>\n",
       "      <td>...</td>\n",
       "      <td>8</td>\n",
       "      <td>3</td>\n",
       "      <td>10.0</td>\n",
       "      <td>10.0</td>\n",
       "      <td>10.0</td>\n",
       "      <td>0</td>\n",
       "      <td>2</td>\n",
       "      <td>2</td>\n",
       "      <td>2</td>\n",
       "      <td>8253.75</td>\n",
       "    </tr>\n",
       "    <tr>\n",
       "      <th>3543</th>\n",
       "      <td>4</td>\n",
       "      <td>38</td>\n",
       "      <td>36039972</td>\n",
       "      <td>32807051</td>\n",
       "      <td>9240</td>\n",
       "      <td>1</td>\n",
       "      <td>8</td>\n",
       "      <td>5</td>\n",
       "      <td>1</td>\n",
       "      <td>6</td>\n",
       "      <td>...</td>\n",
       "      <td>4</td>\n",
       "      <td>3</td>\n",
       "      <td>10.0</td>\n",
       "      <td>9.0</td>\n",
       "      <td>8.0</td>\n",
       "      <td>1</td>\n",
       "      <td>1</td>\n",
       "      <td>1</td>\n",
       "      <td>1</td>\n",
       "      <td>4263.92</td>\n",
       "    </tr>\n",
       "    <tr>\n",
       "      <th>3544</th>\n",
       "      <td>86</td>\n",
       "      <td>38</td>\n",
       "      <td>36039973</td>\n",
       "      <td>32826431</td>\n",
       "      <td>18000</td>\n",
       "      <td>2</td>\n",
       "      <td>9</td>\n",
       "      <td>6</td>\n",
       "      <td>1</td>\n",
       "      <td>7</td>\n",
       "      <td>...</td>\n",
       "      <td>9</td>\n",
       "      <td>1</td>\n",
       "      <td>7.0</td>\n",
       "      <td>4.0</td>\n",
       "      <td>8.0</td>\n",
       "      <td>0</td>\n",
       "      <td>0</td>\n",
       "      <td>0</td>\n",
       "      <td>0</td>\n",
       "      <td>12414.93</td>\n",
       "    </tr>\n",
       "    <tr>\n",
       "      <th>3545</th>\n",
       "      <td>191</td>\n",
       "      <td>38</td>\n",
       "      <td>36039976</td>\n",
       "      <td>32393774</td>\n",
       "      <td>12360</td>\n",
       "      <td>1</td>\n",
       "      <td>2</td>\n",
       "      <td>0</td>\n",
       "      <td>1</td>\n",
       "      <td>6</td>\n",
       "      <td>...</td>\n",
       "      <td>6</td>\n",
       "      <td>5</td>\n",
       "      <td>10.0</td>\n",
       "      <td>6.0</td>\n",
       "      <td>10.0</td>\n",
       "      <td>1</td>\n",
       "      <td>1</td>\n",
       "      <td>2</td>\n",
       "      <td>2</td>\n",
       "      <td>4420.93</td>\n",
       "    </tr>\n",
       "  </tbody>\n",
       "</table>\n",
       "<p>3546 rows × 32 columns</p>\n",
       "</div>"
      ],
      "text/plain": [
       "      working_months  MOB        ID  customer_id   Var9  Var1  Var4  Var5  \\\n",
       "0                 62  169  36034977     32653719   4200     1     1     1   \n",
       "1                160  169  36034978     32832365   5880     2     1     2   \n",
       "2                134  169  36034979     32544742   4200     1     0     2   \n",
       "3                174  168  36034981     32592943   3120     2     2     8   \n",
       "4                196  168  36034982     32601182   4440     2     4     6   \n",
       "...              ...  ...       ...          ...    ...   ...   ...   ...   \n",
       "3541             184   38  36039969     32399390  19800     1     8     1   \n",
       "3542             207   38  36039970     32880524  18360     1     7     3   \n",
       "3543               4   38  36039972     32807051   9240     1     8     5   \n",
       "3544              86   38  36039973     32826431  18000     2     9     6   \n",
       "3545             191   38  36039976     32393774  12360     1     2     0   \n",
       "\n",
       "      Var6  Var7  ...  income  loan_desc  Var8_q  Var25_q  Var26_q  Var20_1  \\\n",
       "0        1     1  ...       0          5    10.0      2.0      3.0        1   \n",
       "1        6     8  ...       4          3    10.0      4.0      1.0        1   \n",
       "2        1     0  ...       0          5    10.0      1.0      3.0        0   \n",
       "3        3     2  ...       2          2     0.0      0.0      2.0        2   \n",
       "4        1     2  ...       2          2     0.0      1.0     10.0        0   \n",
       "...    ...   ...  ...     ...        ...     ...      ...      ...      ...   \n",
       "3541     1     8  ...       8          1     7.0      2.0      9.0        0   \n",
       "3542     1     7  ...       8          3    10.0     10.0     10.0        0   \n",
       "3543     1     6  ...       4          3    10.0      9.0      8.0        1   \n",
       "3544     1     7  ...       9          1     7.0      4.0      8.0        0   \n",
       "3545     1     6  ...       6          5    10.0      6.0     10.0        1   \n",
       "\n",
       "      Var21_1  Var22_1  Var23_1     Var17  \n",
       "0           3        3        3   2436.83  \n",
       "1           1        1        1   4430.26  \n",
       "2           0        0        0   1695.92  \n",
       "3           2        2        2   3785.22  \n",
       "4           0        0        0   2720.52  \n",
       "...       ...      ...      ...       ...  \n",
       "3541        0        0        0  10295.46  \n",
       "3542        2        2        2   8253.75  \n",
       "3543        1        1        1   4263.92  \n",
       "3544        0        0        0  12414.93  \n",
       "3545        1        2        2   4420.93  \n",
       "\n",
       "[3546 rows x 32 columns]"
      ]
     },
     "execution_count": 179,
     "metadata": {},
     "output_type": "execute_result"
    }
   ],
   "source": [
    "df"
   ]
  },
  {
   "cell_type": "code",
   "execution_count": 180,
   "metadata": {},
   "outputs": [],
   "source": [
    "col = 'Var17'\n",
    "df['Var17_1'] = pd.qcut(df[col], 10, labels=False, duplicates='drop')"
   ]
  },
  {
   "cell_type": "code",
   "execution_count": 181,
   "metadata": {},
   "outputs": [
    {
     "data": {
      "text/plain": [
       "1    355\n",
       "0    355\n",
       "3    355\n",
       "5    355\n",
       "7    355\n",
       "9    355\n",
       "4    354\n",
       "2    354\n",
       "6    354\n",
       "8    354\n",
       "Name: Var17_1, dtype: int64"
      ]
     },
     "execution_count": 181,
     "metadata": {},
     "output_type": "execute_result"
    }
   ],
   "source": [
    "df['Var17_1'].value_counts(dropna=False)"
   ]
  },
  {
   "cell_type": "code",
   "execution_count": 182,
   "metadata": {},
   "outputs": [],
   "source": [
    "df.drop('Var17', axis=1, inplace=True)"
   ]
  },
  {
   "cell_type": "code",
   "execution_count": 183,
   "metadata": {},
   "outputs": [],
   "source": [
    "col = 'working_months'\n",
    "df['working_months_1'] = pd.qcut(df[col], 10, labels=False, duplicates='drop')"
   ]
  },
  {
   "cell_type": "code",
   "execution_count": 184,
   "metadata": {},
   "outputs": [
    {
     "data": {
      "text/plain": [
       "0    361\n",
       "5    360\n",
       "4    359\n",
       "8    357\n",
       "1    357\n",
       "7    355\n",
       "3    355\n",
       "6    349\n",
       "2    347\n",
       "9    346\n",
       "Name: working_months_1, dtype: int64"
      ]
     },
     "execution_count": 184,
     "metadata": {},
     "output_type": "execute_result"
    }
   ],
   "source": [
    "df['working_months_1'].value_counts(dropna=False)"
   ]
  },
  {
   "cell_type": "code",
   "execution_count": 185,
   "metadata": {},
   "outputs": [],
   "source": [
    "df.drop('working_months', axis=1, inplace=True)"
   ]
  },
  {
   "cell_type": "markdown",
   "metadata": {},
   "source": [
    "### Add columns ii_ratio and idi_ratio from previous df"
   ]
  },
  {
   "cell_type": "code",
   "execution_count": 186,
   "metadata": {},
   "outputs": [],
   "source": [
    "# Add columns by left join\n",
    "df = df.merge(df_cont[['ID', 'ii_ratio', 'idi_ratio']], how='left', on='ID')"
   ]
  },
  {
   "cell_type": "markdown",
   "metadata": {},
   "source": [
    "### Change columns ii_ratio and idi_ratio to categorical\n",
    "\n",
    "There are no NAs"
   ]
  },
  {
   "cell_type": "code",
   "execution_count": 187,
   "metadata": {},
   "outputs": [
    {
     "name": "stderr",
     "output_type": "stream",
     "text": [
      "/Library/Frameworks/Python.framework/Versions/3.11/lib/python3.11/site-packages/numpy/lib/function_base.py:4573: RuntimeWarning: invalid value encountered in subtract\n",
      "  diff_b_a = subtract(b, a)\n"
     ]
    }
   ],
   "source": [
    "# Continuous columns to be changed to categorical\n",
    "columns = ['ii_ratio', 'idi_ratio', 'MOB']\n",
    "\n",
    "for col in columns:\n",
    "    # Perform quantile cut on filtered DataFrame\n",
    "    df[col] = pd.qcut(df[col], 10, labels=False, duplicates='drop')"
   ]
  },
  {
   "cell_type": "markdown",
   "metadata": {},
   "source": [
    "### Final check of df"
   ]
  },
  {
   "cell_type": "code",
   "execution_count": 188,
   "metadata": {},
   "outputs": [
    {
     "data": {
      "text/html": [
       "<div>\n",
       "<style scoped>\n",
       "    .dataframe tbody tr th:only-of-type {\n",
       "        vertical-align: middle;\n",
       "    }\n",
       "\n",
       "    .dataframe tbody tr th {\n",
       "        vertical-align: top;\n",
       "    }\n",
       "\n",
       "    .dataframe thead th {\n",
       "        text-align: right;\n",
       "    }\n",
       "</style>\n",
       "<table border=\"1\" class=\"dataframe\">\n",
       "  <thead>\n",
       "    <tr style=\"text-align: right;\">\n",
       "      <th></th>\n",
       "      <th>MOB</th>\n",
       "      <th>ID</th>\n",
       "      <th>customer_id</th>\n",
       "      <th>Var9</th>\n",
       "      <th>Var1</th>\n",
       "      <th>Var4</th>\n",
       "      <th>Var5</th>\n",
       "      <th>Var6</th>\n",
       "      <th>Var7</th>\n",
       "      <th>Var15</th>\n",
       "      <th>...</th>\n",
       "      <th>Var25_q</th>\n",
       "      <th>Var26_q</th>\n",
       "      <th>Var20_1</th>\n",
       "      <th>Var21_1</th>\n",
       "      <th>Var22_1</th>\n",
       "      <th>Var23_1</th>\n",
       "      <th>Var17_1</th>\n",
       "      <th>working_months_1</th>\n",
       "      <th>ii_ratio</th>\n",
       "      <th>idi_ratio</th>\n",
       "    </tr>\n",
       "  </thead>\n",
       "  <tbody>\n",
       "    <tr>\n",
       "      <th>0</th>\n",
       "      <td>9</td>\n",
       "      <td>36034977</td>\n",
       "      <td>32653719</td>\n",
       "      <td>4200</td>\n",
       "      <td>1</td>\n",
       "      <td>1</td>\n",
       "      <td>1</td>\n",
       "      <td>1</td>\n",
       "      <td>1</td>\n",
       "      <td>1</td>\n",
       "      <td>...</td>\n",
       "      <td>2.0</td>\n",
       "      <td>3.0</td>\n",
       "      <td>1</td>\n",
       "      <td>3</td>\n",
       "      <td>3</td>\n",
       "      <td>3</td>\n",
       "      <td>1</td>\n",
       "      <td>2</td>\n",
       "      <td>5</td>\n",
       "      <td>6</td>\n",
       "    </tr>\n",
       "    <tr>\n",
       "      <th>1</th>\n",
       "      <td>9</td>\n",
       "      <td>36034978</td>\n",
       "      <td>32832365</td>\n",
       "      <td>5880</td>\n",
       "      <td>2</td>\n",
       "      <td>1</td>\n",
       "      <td>2</td>\n",
       "      <td>6</td>\n",
       "      <td>8</td>\n",
       "      <td>0</td>\n",
       "      <td>...</td>\n",
       "      <td>4.0</td>\n",
       "      <td>1.0</td>\n",
       "      <td>1</td>\n",
       "      <td>1</td>\n",
       "      <td>1</td>\n",
       "      <td>1</td>\n",
       "      <td>4</td>\n",
       "      <td>5</td>\n",
       "      <td>9</td>\n",
       "      <td>9</td>\n",
       "    </tr>\n",
       "    <tr>\n",
       "      <th>2</th>\n",
       "      <td>9</td>\n",
       "      <td>36034979</td>\n",
       "      <td>32544742</td>\n",
       "      <td>4200</td>\n",
       "      <td>1</td>\n",
       "      <td>0</td>\n",
       "      <td>2</td>\n",
       "      <td>1</td>\n",
       "      <td>0</td>\n",
       "      <td>0</td>\n",
       "      <td>...</td>\n",
       "      <td>1.0</td>\n",
       "      <td>3.0</td>\n",
       "      <td>0</td>\n",
       "      <td>0</td>\n",
       "      <td>0</td>\n",
       "      <td>0</td>\n",
       "      <td>0</td>\n",
       "      <td>4</td>\n",
       "      <td>4</td>\n",
       "      <td>2</td>\n",
       "    </tr>\n",
       "    <tr>\n",
       "      <th>3</th>\n",
       "      <td>9</td>\n",
       "      <td>36034981</td>\n",
       "      <td>32592943</td>\n",
       "      <td>3120</td>\n",
       "      <td>2</td>\n",
       "      <td>2</td>\n",
       "      <td>8</td>\n",
       "      <td>3</td>\n",
       "      <td>2</td>\n",
       "      <td>0</td>\n",
       "      <td>...</td>\n",
       "      <td>0.0</td>\n",
       "      <td>2.0</td>\n",
       "      <td>2</td>\n",
       "      <td>2</td>\n",
       "      <td>2</td>\n",
       "      <td>2</td>\n",
       "      <td>3</td>\n",
       "      <td>6</td>\n",
       "      <td>4</td>\n",
       "      <td>0</td>\n",
       "    </tr>\n",
       "    <tr>\n",
       "      <th>4</th>\n",
       "      <td>9</td>\n",
       "      <td>36034982</td>\n",
       "      <td>32601182</td>\n",
       "      <td>4440</td>\n",
       "      <td>2</td>\n",
       "      <td>4</td>\n",
       "      <td>6</td>\n",
       "      <td>1</td>\n",
       "      <td>2</td>\n",
       "      <td>0</td>\n",
       "      <td>...</td>\n",
       "      <td>1.0</td>\n",
       "      <td>10.0</td>\n",
       "      <td>0</td>\n",
       "      <td>0</td>\n",
       "      <td>0</td>\n",
       "      <td>0</td>\n",
       "      <td>2</td>\n",
       "      <td>7</td>\n",
       "      <td>3</td>\n",
       "      <td>7</td>\n",
       "    </tr>\n",
       "  </tbody>\n",
       "</table>\n",
       "<p>5 rows × 34 columns</p>\n",
       "</div>"
      ],
      "text/plain": [
       "   MOB        ID  customer_id  Var9  Var1  Var4  Var5  Var6  Var7  Var15  ...  \\\n",
       "0    9  36034977     32653719  4200     1     1     1     1     1      1  ...   \n",
       "1    9  36034978     32832365  5880     2     1     2     6     8      0  ...   \n",
       "2    9  36034979     32544742  4200     1     0     2     1     0      0  ...   \n",
       "3    9  36034981     32592943  3120     2     2     8     3     2      0  ...   \n",
       "4    9  36034982     32601182  4440     2     4     6     1     2      0  ...   \n",
       "\n",
       "   Var25_q  Var26_q  Var20_1  Var21_1  Var22_1  Var23_1  Var17_1  \\\n",
       "0      2.0      3.0        1        3        3        3        1   \n",
       "1      4.0      1.0        1        1        1        1        4   \n",
       "2      1.0      3.0        0        0        0        0        0   \n",
       "3      0.0      2.0        2        2        2        2        3   \n",
       "4      1.0     10.0        0        0        0        0        2   \n",
       "\n",
       "   working_months_1  ii_ratio  idi_ratio  \n",
       "0                 2         5          6  \n",
       "1                 5         9          9  \n",
       "2                 4         4          2  \n",
       "3                 6         4          0  \n",
       "4                 7         3          7  \n",
       "\n",
       "[5 rows x 34 columns]"
      ]
     },
     "execution_count": 188,
     "metadata": {},
     "output_type": "execute_result"
    }
   ],
   "source": [
    "df.head()"
   ]
  },
  {
   "cell_type": "code",
   "execution_count": 189,
   "metadata": {},
   "outputs": [
    {
     "data": {
      "text/plain": [
       "MOB                 0\n",
       "ID                  0\n",
       "customer_id         0\n",
       "Var9                0\n",
       "Var1                0\n",
       "Var4                0\n",
       "Var5                0\n",
       "Var6                0\n",
       "Var7                0\n",
       "Var15               0\n",
       "Var16               0\n",
       "Var24               0\n",
       "Var29               0\n",
       "Var30               0\n",
       "Var3                0\n",
       "Var11               0\n",
       "Var12               0\n",
       "Var14               0\n",
       "target              0\n",
       "Var27               0\n",
       "Var28               0\n",
       "income              0\n",
       "loan_desc           0\n",
       "Var8_q              0\n",
       "Var25_q             0\n",
       "Var26_q             0\n",
       "Var20_1             0\n",
       "Var21_1             0\n",
       "Var22_1             0\n",
       "Var23_1             0\n",
       "Var17_1             0\n",
       "working_months_1    0\n",
       "ii_ratio            0\n",
       "idi_ratio           0\n",
       "dtype: int64"
      ]
     },
     "execution_count": 189,
     "metadata": {},
     "output_type": "execute_result"
    }
   ],
   "source": [
    "df.isna().sum()"
   ]
  },
  {
   "cell_type": "code",
   "execution_count": 190,
   "metadata": {},
   "outputs": [
    {
     "name": "stdout",
     "output_type": "stream",
     "text": [
      "<class 'pandas.core.frame.DataFrame'>\n",
      "Int64Index: 3546 entries, 0 to 3545\n",
      "Data columns (total 34 columns):\n",
      " #   Column            Non-Null Count  Dtype  \n",
      "---  ------            --------------  -----  \n",
      " 0   MOB               3546 non-null   int64  \n",
      " 1   ID                3546 non-null   int64  \n",
      " 2   customer_id       3546 non-null   int64  \n",
      " 3   Var9              3546 non-null   int64  \n",
      " 4   Var1              3546 non-null   int64  \n",
      " 5   Var4              3546 non-null   int64  \n",
      " 6   Var5              3546 non-null   int64  \n",
      " 7   Var6              3546 non-null   int64  \n",
      " 8   Var7              3546 non-null   int64  \n",
      " 9   Var15             3546 non-null   int64  \n",
      " 10  Var16             3546 non-null   int64  \n",
      " 11  Var24             3546 non-null   int64  \n",
      " 12  Var29             3546 non-null   int64  \n",
      " 13  Var30             3546 non-null   int64  \n",
      " 14  Var3              3546 non-null   float64\n",
      " 15  Var11             3546 non-null   int64  \n",
      " 16  Var12             3546 non-null   float64\n",
      " 17  Var14             3546 non-null   int64  \n",
      " 18  target            3546 non-null   float64\n",
      " 19  Var27             3546 non-null   int64  \n",
      " 20  Var28             3546 non-null   int64  \n",
      " 21  income            3546 non-null   int64  \n",
      " 22  loan_desc         3546 non-null   int64  \n",
      " 23  Var8_q            3546 non-null   float64\n",
      " 24  Var25_q           3546 non-null   float64\n",
      " 25  Var26_q           3546 non-null   float64\n",
      " 26  Var20_1           3546 non-null   int64  \n",
      " 27  Var21_1           3546 non-null   int64  \n",
      " 28  Var22_1           3546 non-null   int64  \n",
      " 29  Var23_1           3546 non-null   int64  \n",
      " 30  Var17_1           3546 non-null   int64  \n",
      " 31  working_months_1  3546 non-null   int64  \n",
      " 32  ii_ratio          3546 non-null   int64  \n",
      " 33  idi_ratio         3546 non-null   int64  \n",
      "dtypes: float64(6), int64(28)\n",
      "memory usage: 969.6 KB\n"
     ]
    }
   ],
   "source": [
    "df.info()"
   ]
  },
  {
   "cell_type": "code",
   "execution_count": 191,
   "metadata": {},
   "outputs": [],
   "source": [
    "# drop var9\n",
    "df.drop('Var9', axis=1, inplace=True)"
   ]
  },
  {
   "cell_type": "markdown",
   "metadata": {},
   "source": [
    "#### Write df as csv"
   ]
  },
  {
   "cell_type": "code",
   "execution_count": 192,
   "metadata": {},
   "outputs": [],
   "source": [
    "df.to_csv('../data/output/categorical_dfs/testing_sample_cleaned_categorical.csv', index = False)  # Save the cleaned data to a new CSV file"
   ]
  }
 ],
 "metadata": {
  "kernelspec": {
   "display_name": "Python 3",
   "language": "python",
   "name": "python3"
  },
  "language_info": {
   "codemirror_mode": {
    "name": "ipython",
    "version": 3
   },
   "file_extension": ".py",
   "mimetype": "text/x-python",
   "name": "python",
   "nbconvert_exporter": "python",
   "pygments_lexer": "ipython3",
   "version": "3.11.2"
  }
 },
 "nbformat": 4,
 "nbformat_minor": 2
}
