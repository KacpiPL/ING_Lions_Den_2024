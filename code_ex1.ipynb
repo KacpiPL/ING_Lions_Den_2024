{
 "cells": [
  {
   "cell_type": "code",
   "execution_count": 3,
   "metadata": {},
   "outputs": [],
   "source": [
    "# !!!!!!!!!!!!!!!!!!!!!!!!!!!!!!!!!!!!!!! ING Lion's den 2024!!!!!!!!!!!!!!!!!!!!!!!!!!!!!!!!!!!!!!!\n",
    "#### Michal Bryzik(*)\n",
    "#### Kacper Gruca($)\n",
    "#### Michal Niegierewicz(&)\n",
    "#### Jan Slusarek(^)\n",
    "\n",
    "# Zadanie 1 \n",
    "\n",
    "# Jesli robicie to na VScode ogarnijcie jadro!!!!!\n",
    "\n",
    "\"\"\"\"\"\n",
    "Plan dzialania: (Jbc to kazdy podaje tu swoje propozycje, jak sie kto z czym np. niezgadza niech napisze w nawiasie)\n",
    "1. Wczytac dane i szybko je opisac liczebnosc nulle itd. \n",
    "2. Ja bym tutaj posortowal zmienne w macierzy tzn. kolumna 1-16 numeryczne a od 17-do konca binarne\n",
    "3. Wlasciwe czyszczenie danych, elminacja, aproksymacja, asocjacja itd.\n",
    "4. Statystyki opisowe, wykresy (rozklady, heatmapy, boxploty itd. )\n",
    "5. Transformacja danych MinMax, standaryzacja itd. (ogolnie manipulacja tak zeby w razie czego logit byl jak najbardziej dojebany)\n",
    "6. Trenowanie Logita\n",
    "7. Wybor najlepszego i sprawdzenie z zalozeniami \n",
    "\n",
    "\n",
    "\n",
    "\n",
    "\"\"\"\"\"\n",
    "\n",
    "import pandas as pd\n",
    "import numpy as np\n",
    "import matplotlib.pyplot as plt\n",
    "import seaborn as sns"
   ]
  },
  {
   "cell_type": "code",
   "execution_count": 8,
   "metadata": {},
   "outputs": [
    {
     "data": {
      "text/plain": [
       "<bound method NDFrame.head of              ID  customer_id   application_date  target Application_status  \\\n",
       "0      11034977     32537148  01Feb2010 0:00:00     0.0           Approved   \n",
       "1      11034978     32761663  01Feb2010 0:00:00     0.0           Approved   \n",
       "2      11034979     32701063  01Feb2010 0:00:00     0.0           Approved   \n",
       "3      11034980     32386786  01Feb2010 0:00:00     0.0           Approved   \n",
       "4      11034981     32692110  02Feb2010 0:00:00     NaN           Rejected   \n",
       "...         ...          ...                ...     ...                ...   \n",
       "49995  11084972     32554904  31Dec2020 0:00:00     1.0           Approved   \n",
       "49996  11084973     32884069  31Dec2020 0:00:00     NaN           Rejected   \n",
       "49997  11084974     32433438  31Dec2020 0:00:00     0.0           Approved   \n",
       "49998  11084975     32877592  31Dec2020 0:00:00     NaN           Rejected   \n",
       "49999  11084976     32834539  31Dec2020 0:00:00     0.0           Approved   \n",
       "\n",
       "       Var1  Var2    Var3   Var4  Var5  ...  Var22  Var23   Var24    Var25  \\\n",
       "0         1   2.0       1   7800    99  ...      1      1       0  6768.42   \n",
       "1         1   1.0       2  11100    78  ...      0      0   15000  5937.66   \n",
       "2         2   3.0       1   2400    15  ...      2      2       0  5647.77   \n",
       "3         3   1.0       2  11800    30  ...      0      0       0  3594.90   \n",
       "4         1   2.0       1  10200    72  ...      2      2       0  9908.45   \n",
       "...     ...   ...     ...    ...   ...  ...    ...    ...     ...      ...   \n",
       "49995     2   1.0       1  49200   111  ...      2      2       0      NaN   \n",
       "49996     1   2.0       1  25600    30  ...      3      4       0      NaN   \n",
       "49997     1   1.0       1  46700    18  ...      0      0       0  9288.87   \n",
       "49998     1   1.0  Direct  44300   162  ...      3      3  102000      NaN   \n",
       "49999     1   3.0       3   6400     9  ...      0      0       0      NaN   \n",
       "\n",
       "           Var26  Var27  Var28 Var29  Var30       _r_  \n",
       "0           0.00      0      0     0   3899  0.267045  \n",
       "1        3870.60      0      0     0   3899  0.533040  \n",
       "2        1463.08      0      0    10   3899  0.861555  \n",
       "3       21563.78      0      0    10   3899  0.506451  \n",
       "4           0.00      0      0    20   3899  0.210913  \n",
       "...          ...    ...    ...   ...    ...       ...  \n",
       "49995        NaN      0      0     0  12832  0.783954  \n",
       "49996        NaN      0      0     0  12832  0.172590  \n",
       "49997  255018.31      0      0     0  12832  0.060722  \n",
       "49998        NaN      0      0    10  12832  0.845866  \n",
       "49999        NaN      0      0     0  12832  0.733623  \n",
       "\n",
       "[50000 rows x 36 columns]>"
      ]
     },
     "execution_count": 8,
     "metadata": {},
     "output_type": "execute_result"
    }
   ],
   "source": [
    "data=pd.read_csv('ID,customer_id,application_date,tar.csv') # Wczytujemy^\n",
    "data.head # Pierwsze 5 rekordow^"
   ]
  },
  {
   "cell_type": "code",
   "execution_count": 5,
   "metadata": {},
   "outputs": [
    {
     "data": {
      "text/plain": [
       "(50000, 36)"
      ]
     },
     "execution_count": 5,
     "metadata": {},
     "output_type": "execute_result"
    }
   ],
   "source": [
    "data.shape # Wymiar macierzy danych treningowych^"
   ]
  },
  {
   "cell_type": "code",
   "execution_count": 6,
   "metadata": {},
   "outputs": [
    {
     "data": {
      "text/plain": [
       "ID                        0\n",
       "customer_id               0\n",
       "application_date          0\n",
       "target                13282\n",
       "Application_status        0\n",
       "Var1                      0\n",
       "Var2                   1403\n",
       "Var3                   1403\n",
       "Var4                      0\n",
       "Var5                      0\n",
       "Var6                      0\n",
       "Var7                      0\n",
       "Var8                  29173\n",
       "Var9                      0\n",
       "Var10                 37538\n",
       "Var11                     0\n",
       "Var12                 37538\n",
       "Var13                     0\n",
       "Var14                     0\n",
       "Var15                     0\n",
       "Var16                     0\n",
       "Var17                    40\n",
       "Var18                 37416\n",
       "Var19                 29173\n",
       "Var20                     0\n",
       "Var21                     0\n",
       "Var22                     0\n",
       "Var23                     0\n",
       "Var24                     0\n",
       "Var25                 10088\n",
       "Var26                 19883\n",
       "Var27                     0\n",
       "Var28                     0\n",
       "Var29                     0\n",
       "Var30                     0\n",
       "_r_                       0\n",
       "dtype: int64"
      ]
     },
     "execution_count": 6,
     "metadata": {},
     "output_type": "execute_result"
    }
   ],
   "source": [
    "data.isnull().sum() # Zliczamy liczbe nulli dla kazdej kolumny^"
   ]
  },
  {
   "cell_type": "code",
   "execution_count": 11,
   "metadata": {},
   "outputs": [
    {
     "name": "stdout",
     "output_type": "stream",
     "text": [
      "<class 'pandas.core.frame.DataFrame'>\n",
      "RangeIndex: 50000 entries, 0 to 49999\n",
      "Data columns (total 36 columns):\n",
      " #   Column              Non-Null Count  Dtype  \n",
      "---  ------              --------------  -----  \n",
      " 0   ID                  50000 non-null  int64  \n",
      " 1   customer_id         50000 non-null  int64  \n",
      " 2   application_date    50000 non-null  object \n",
      " 3   target              36718 non-null  float64\n",
      " 4   Application_status  50000 non-null  object \n",
      " 5   Var1                50000 non-null  int64  \n",
      " 6   Var2                48597 non-null  float64\n",
      " 7   Var3                48597 non-null  object \n",
      " 8   Var4                50000 non-null  int64  \n",
      " 9   Var5                50000 non-null  int64  \n",
      " 10  Var6                50000 non-null  int64  \n",
      " 11  Var7                50000 non-null  float64\n",
      " 12  Var8                20827 non-null  float64\n",
      " 13  Var9                50000 non-null  int64  \n",
      " 14  Var10               12462 non-null  float64\n",
      " 15  Var11               50000 non-null  int64  \n",
      " 16  Var12               12462 non-null  float64\n",
      " 17  Var13               50000 non-null  object \n",
      " 18  Var14               50000 non-null  int64  \n",
      " 19  Var15               50000 non-null  int64  \n",
      " 20  Var16               50000 non-null  int64  \n",
      " 21  Var17               49960 non-null  float64\n",
      " 22  Var18               12584 non-null  float64\n",
      " 23  Var19               20827 non-null  float64\n",
      " 24  Var20               50000 non-null  int64  \n",
      " 25  Var21               50000 non-null  int64  \n",
      " 26  Var22               50000 non-null  int64  \n",
      " 27  Var23               50000 non-null  int64  \n",
      " 28  Var24               50000 non-null  int64  \n",
      " 29  Var25               39912 non-null  float64\n",
      " 30  Var26               30117 non-null  float64\n",
      " 31  Var27               50000 non-null  int64  \n",
      " 32  Var28               50000 non-null  int64  \n",
      " 33  Var29               50000 non-null  int64  \n",
      " 34  Var30               50000 non-null  int64  \n",
      " 35  _r_                 50000 non-null  float64\n",
      "dtypes: float64(12), int64(20), object(4)\n",
      "memory usage: 13.7+ MB\n"
     ]
    }
   ],
   "source": [
    "data.info() # Analityka z typami danych dla kazdej kolumny ^ \n",
    "# Hmmm pasuje je posortowac kolumnami tzn. najpierw numeryczne potem kategoryczne porzadkowe i na koncu binarne^ "
   ]
  },
  {
   "cell_type": "code",
   "execution_count": 26,
   "metadata": {},
   "outputs": [
    {
     "name": "stdout",
     "output_type": "stream",
     "text": [
      "  application_date      Var13        ID  customer_id       _r_  Var9   Var10  \\\n",
      "0       2010-02-01 2004-11-26  11034977     32537148  0.267045  5640     NaN   \n",
      "1       2010-02-01 1996-09-16  11034978     32761663  0.533040  3000     NaN   \n",
      "2       2010-02-01 1989-05-06  11034979     32701063  0.861555  6240  4300.0   \n",
      "3       2010-02-01 1987-12-06  11034980     32386786  0.506451  4560  2500.0   \n",
      "4       2010-02-02 1989-05-18  11034981     32692110  0.210913  5160     NaN   \n",
      "\n",
      "   Var1   Var4  Var5  ...  Var3  Var11  Var12  Var14  target  \\\n",
      "0     1   7800    99  ...     1      5    NaN      2     0.0   \n",
      "1     1  11100    78  ...     2      2    NaN      4     0.0   \n",
      "2     2   2400    15  ...     1      5    5.0      1     0.0   \n",
      "3     3  11800    30  ...     2      6    5.0      1     0.0   \n",
      "4     1  10200    72  ...     1      5    NaN      0     NaN   \n",
      "\n",
      "   Application_status  Var18  Var19  Var27  Var28  \n",
      "0            Approved    1.0    NaN      0      0  \n",
      "1            Approved    NaN    1.0      0      0  \n",
      "2            Approved    NaN    NaN      0      0  \n",
      "3            Approved    NaN    0.0      0      0  \n",
      "4            Rejected    1.0    NaN      0      0  \n",
      "\n",
      "[5 rows x 36 columns]\n"
     ]
    }
   ],
   "source": [
    "# Sortowanie kolum po typach danych \n",
    "\n",
    "date_columns = ['application_date', 'Var13'] \n",
    "numeric_columns = ['ID', 'customer_id', '_r_', 'Var9', 'Var10']  \n",
    "categorical_columns = []\n",
    "binary_columns = ['target', 'Application_status'] \n",
    "\n",
    "\n",
    "data['application_date'] = pd.to_datetime(data['application_date'], errors='coerce')# Zmiana tych dat na wlasiwy typ\n",
    "data['Var13'] = pd.to_datetime(data['Var13'], format='%d%b%Y', errors='coerce') # Var13 te daty co maja nieregularne nazwy\n",
    "\n",
    "# Sprawdzenie jaka cala resztta ma typ danych \n",
    "for column in data.columns:\n",
    "    if column in date_columns + numeric_columns + binary_columns:\n",
    "        continue  \n",
    "    elif column in ['Var1', 'Var4', 'Var5', 'Var6', 'Var7', 'Var8', 'Var15', 'Var16', 'Var17', 'Var20', 'Var21', 'Var22', 'Var23', 'Var24', 'Var25', 'Var26', 'Var29', 'Var30']:\n",
    "        numeric_columns.append(column)\n",
    "    elif column in ['Var2', 'Var3', 'Var11', 'Var12', 'Var14']:\n",
    "        categorical_columns.append(column)\n",
    "    elif column in ['Var18', 'Var19', 'Var27', 'Var28']:\n",
    "        binary_columns.append(column)\n",
    "\n",
    "# kolejnosc sortowania wg ktorych ulozone sa kolumny \n",
    "sorted_columns = date_columns + numeric_columns + categorical_columns + binary_columns\n",
    "\n",
    "# wybór wartosci posortowanych wg. zdefiniowanej przez nas kategorii \n",
    "sorted_data = data[sorted_columns]\n",
    "\n",
    "\n",
    "print(sorted_data.head())\n",
    "\n",
    "\n",
    "\n",
    "\n",
    "\n",
    "\n"
   ]
  },
  {
   "cell_type": "code",
   "execution_count": 23,
   "metadata": {},
   "outputs": [
    {
     "name": "stdout",
     "output_type": "stream",
     "text": [
      "Kolumny obecne w 'data', ale brakujące w 'sorted_data': {'_r_', 'Var9', 'Var10'}\n",
      "Kolumny dodatkowe w 'sorted_data', których nie ma w 'data': set()\n"
     ]
    }
   ],
   "source": [
    "\n"
   ]
  },
  {
   "cell_type": "code",
   "execution_count": 16,
   "metadata": {},
   "outputs": [
    {
     "data": {
      "text/plain": [
       "0        26Nov2004\n",
       "1        16Sep1996\n",
       "2        06May1989\n",
       "3        06Dec1987\n",
       "4        18May1989\n",
       "           ...    \n",
       "49995    28Mar2008\n",
       "49996    10Nov1998\n",
       "49997    28Oct2006\n",
       "49998    31Oct2016\n",
       "49999    03Apr2004\n",
       "Name: Var13, Length: 50000, dtype: object"
      ]
     },
     "execution_count": 16,
     "metadata": {},
     "output_type": "execute_result"
    }
   ],
   "source": []
  },
  {
   "cell_type": "code",
   "execution_count": null,
   "metadata": {},
   "outputs": [],
   "source": []
  }
 ],
 "metadata": {
  "kernelspec": {
   "display_name": "Python 3",
   "language": "python",
   "name": "python3"
  },
  "language_info": {
   "codemirror_mode": {
    "name": "ipython",
    "version": 3
   },
   "file_extension": ".py",
   "mimetype": "text/x-python",
   "name": "python",
   "nbconvert_exporter": "python",
   "pygments_lexer": "ipython3",
   "version": "3.10.9"
  }
 },
 "nbformat": 4,
 "nbformat_minor": 2
}
