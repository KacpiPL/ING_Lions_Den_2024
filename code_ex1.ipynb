{
 "cells": [
  {
   "cell_type": "code",
   "execution_count": 1,
   "metadata": {},
   "outputs": [],
   "source": [
    "import pandas as pd\n",
    "import numpy as np"
   ]
  },
  {
   "cell_type": "code",
   "execution_count": 4,
   "metadata": {},
   "outputs": [
    {
     "data": {
      "text/plain": [
       "<bound method NDFrame.head of              ID  customer_id   application_date  target Application_status  \\\n",
       "0      11034977     32537148  01Feb2010 0:00:00     0.0           Approved   \n",
       "1      11034978     32761663  01Feb2010 0:00:00     0.0           Approved   \n",
       "2      11034979     32701063  01Feb2010 0:00:00     0.0           Approved   \n",
       "3      11034980     32386786  01Feb2010 0:00:00     0.0           Approved   \n",
       "4      11034981     32692110  02Feb2010 0:00:00     NaN           Rejected   \n",
       "...         ...          ...                ...     ...                ...   \n",
       "49995  11084972     32554904  31Dec2020 0:00:00     1.0           Approved   \n",
       "49996  11084973     32884069  31Dec2020 0:00:00     NaN           Rejected   \n",
       "49997  11084974     32433438  31Dec2020 0:00:00     0.0           Approved   \n",
       "49998  11084975     32877592  31Dec2020 0:00:00     NaN           Rejected   \n",
       "49999  11084976     32834539  31Dec2020 0:00:00     0.0           Approved   \n",
       "\n",
       "       Var1  Var2    Var3   Var4  Var5  ...  Var22  Var23   Var24    Var25  \\\n",
       "0         1   2.0       1   7800    99  ...      1      1       0  6768.42   \n",
       "1         1   1.0       2  11100    78  ...      0      0   15000  5937.66   \n",
       "2         2   3.0       1   2400    15  ...      2      2       0  5647.77   \n",
       "3         3   1.0       2  11800    30  ...      0      0       0  3594.90   \n",
       "4         1   2.0       1  10200    72  ...      2      2       0  9908.45   \n",
       "...     ...   ...     ...    ...   ...  ...    ...    ...     ...      ...   \n",
       "49995     2   1.0       1  49200   111  ...      2      2       0      NaN   \n",
       "49996     1   2.0       1  25600    30  ...      3      4       0      NaN   \n",
       "49997     1   1.0       1  46700    18  ...      0      0       0  9288.87   \n",
       "49998     1   1.0  Direct  44300   162  ...      3      3  102000      NaN   \n",
       "49999     1   3.0       3   6400     9  ...      0      0       0      NaN   \n",
       "\n",
       "           Var26  Var27  Var28 Var29  Var30       _r_  \n",
       "0           0.00      0      0     0   3899  0.267045  \n",
       "1        3870.60      0      0     0   3899  0.533040  \n",
       "2        1463.08      0      0    10   3899  0.861555  \n",
       "3       21563.78      0      0    10   3899  0.506451  \n",
       "4           0.00      0      0    20   3899  0.210913  \n",
       "...          ...    ...    ...   ...    ...       ...  \n",
       "49995        NaN      0      0     0  12832  0.783954  \n",
       "49996        NaN      0      0     0  12832  0.172590  \n",
       "49997  255018.31      0      0     0  12832  0.060722  \n",
       "49998        NaN      0      0    10  12832  0.845866  \n",
       "49999        NaN      0      0     0  12832  0.733623  \n",
       "\n",
       "[50000 rows x 36 columns]>"
      ]
     },
     "execution_count": 4,
     "metadata": {},
     "output_type": "execute_result"
    }
   ],
   "source": [
    "data=pd.read_csv('ID,customer_id,application_date,tar.csv')\n",
    "data.head"
   ]
  },
  {
   "cell_type": "code",
   "execution_count": null,
   "metadata": {},
   "outputs": [],
   "source": []
  }
 ],
 "metadata": {
  "kernelspec": {
   "display_name": "Python 3",
   "language": "python",
   "name": "python3"
  },
  "language_info": {
   "codemirror_mode": {
    "name": "ipython",
    "version": 3
   },
   "file_extension": ".py",
   "mimetype": "text/x-python",
   "name": "python",
   "nbconvert_exporter": "python",
   "pygments_lexer": "ipython3",
   "version": "3.10.9"
  }
 },
 "nbformat": 4,
 "nbformat_minor": 2
}
